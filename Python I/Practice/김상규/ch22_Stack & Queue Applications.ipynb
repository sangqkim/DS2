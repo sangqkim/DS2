{
 "cells": [
  {
   "cell_type": "markdown",
   "metadata": {},
   "source": [
    "# (Ch  22) Stack & Queue Applications"
   ]
  },
  {
   "cell_type": "markdown",
   "metadata": {},
   "source": [
    "## p2, Parenthesis Matching - 꼭 풀기"
   ]
  },
  {
   "cell_type": "code",
   "execution_count": 11,
   "metadata": {},
   "outputs": [
    {
     "name": "stdout",
     "output_type": "stream",
     "text": [
      "(3,7)\n",
      "(0,10)\n"
     ]
    }
   ],
   "source": [
    "# Parenthesis Matching\n",
    "import queue\n",
    "\n",
    "# def parenthesisMatching(lst):\n",
    "lst = \"(a*(b+c)+d)\"\n",
    "s = queue.LifoQueue(len(lst))\n",
    "\n",
    "for i in range(len(lst)):\n",
    "    if lst[i] == \"(\":        \n",
    "        s.put(i)\n",
    "    elif lst[i] == \")\":\n",
    "        idx = s.get()\n",
    "        print('(%d,%d)' %(idx, i))\n"
   ]
  },
  {
   "cell_type": "code",
   "execution_count": 9,
   "metadata": {},
   "outputs": [
    {
     "name": "stdout",
     "output_type": "stream",
     "text": [
      "(3,7)\n",
      "(0,10)\n"
     ]
    }
   ],
   "source": [
    "# Parenthesis Matching\n",
    "class Stack:\n",
    "    \n",
    "    # the stack class\n",
    "    def __init__(self):\n",
    "        self.items = []\n",
    "    \n",
    "    def push(self, item):\n",
    "        self.items.append(item)\n",
    "    \n",
    "    def pop(self):\n",
    "        return self.items.pop()\n",
    "    \n",
    "    def isEmpty(self):\n",
    "        if self.items == []:\n",
    "            return True\n",
    "        else:\n",
    "            return False\n",
    "    \n",
    "    def peek(self):\n",
    "#         return self.items[len(self.items)-1] # top element를 return\n",
    "        return self.items[-1] # top element를 return\n",
    "\n",
    "lst = \"(a*(b+c)+d)\"\n",
    "q = Stack()\n",
    "for i in range(len(lst)):\n",
    "    if lst[i] == \"(\":\n",
    "        q.push(i)\n",
    "    elif lst[i] == \")\":\n",
    "        idx = q.pop()\n",
    "        print('(%d,%d)' %(idx, i))"
   ]
  },
  {
   "cell_type": "markdown",
   "metadata": {},
   "source": [
    "## p15, Towers of Hanoi"
   ]
  },
  {
   "cell_type": "code",
   "execution_count": 1,
   "metadata": {},
   "outputs": [
    {
     "name": "stdout",
     "output_type": "stream",
     "text": [
      "Move the top disk from tower x to top of tower y\n",
      "Move the top disk from tower x to top of tower z\n",
      "Move the top disk from tower y to top of tower z\n",
      "Move the top disk from tower x to top of tower y\n",
      "Move the top disk from tower z to top of tower x\n",
      "Move the top disk from tower z to top of tower y\n",
      "Move the top disk from tower x to top of tower y\n"
     ]
    }
   ],
   "source": [
    "def towerOfHanoi(n, x, y, z):\n",
    "    if n > 0:\n",
    "        towerOfHanoi(n-1, x, z, y)\n",
    "        print(\"Move the top disk from tower \" + x + \" to top of tower \" + y)\n",
    "        towerOfHanoi(n-1, z, y, x)\n",
    "\n",
    "towerOfHanoi(3, \"x\", \"y\", \"z\")"
   ]
  },
  {
   "cell_type": "markdown",
   "metadata": {},
   "source": [
    "## 30, Priority queue using Heap"
   ]
  },
  {
   "cell_type": "code",
   "execution_count": 6,
   "metadata": {},
   "outputs": [],
   "source": [
    "# max tree: each node is greater than or equal to those in its childer\n",
    "# max heap: is also a complete binary tree"
   ]
  },
  {
   "cell_type": "markdown",
   "metadata": {},
   "source": [
    "### heap is a complete binary tree: has height [log2(n+1)]"
   ]
  },
  {
   "cell_type": "markdown",
   "metadata": {},
   "source": [
    "### p43, heap 알고리즘 알기 - 왠지 시험에 나올 듯"
   ]
  },
  {
   "cell_type": "markdown",
   "metadata": {},
   "source": [
    "### Heap Initialization에 Comparison의 횟수가 N보다 작다!!"
   ]
  },
  {
   "cell_type": "markdown",
   "metadata": {},
   "source": [
    "### p56, 테이블에서 MaxHeap tree initialization: O(n) not O(log n)"
   ]
  },
  {
   "cell_type": "markdown",
   "metadata": {},
   "source": [
    "### p58, Heap sort"
   ]
  },
  {
   "cell_type": "markdown",
   "metadata": {},
   "source": [
    "### heap 만드는 과정 필요하므로 sorting 할 때는 사용하지는 않음. "
   ]
  },
  {
   "cell_type": "code",
   "execution_count": null,
   "metadata": {},
   "outputs": [],
   "source": []
  }
 ],
 "metadata": {
  "kernelspec": {
   "display_name": "Python 3",
   "language": "python",
   "name": "python3"
  },
  "language_info": {
   "codemirror_mode": {
    "name": "ipython",
    "version": 3
   },
   "file_extension": ".py",
   "mimetype": "text/x-python",
   "name": "python",
   "nbconvert_exporter": "python",
   "pygments_lexer": "ipython3",
   "version": "3.7.3"
  }
 },
 "nbformat": 4,
 "nbformat_minor": 2
}
