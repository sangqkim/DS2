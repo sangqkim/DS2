{
 "cells": [
  {
   "cell_type": "markdown",
   "metadata": {},
   "source": [
    "# (Ch 24) Modules for Data Structure"
   ]
  },
  {
   "cell_type": "markdown",
   "metadata": {},
   "source": [
    "### \"Collection\" Module - Counter Class"
   ]
  },
  {
   "cell_type": "code",
   "execution_count": null,
   "metadata": {},
   "outputs": [],
   "source": [
    "# p3\n",
    "import collections\n",
    "c = collections.Counter(['eggs', 'ham', 'ham', 'soy', 'olleh'])\n",
    "print(c['egg'])\n",
    "print(c['ham'])\n",
    "print(c)"
   ]
  },
  {
   "cell_type": "code",
   "execution_count": null,
   "metadata": {},
   "outputs": [],
   "source": [
    "# 변경\n",
    "import collections\n",
    "c = collections.Counter(\"olleh\")\n",
    "print(c)"
   ]
  },
  {
   "cell_type": "code",
   "execution_count": null,
   "metadata": {},
   "outputs": [],
   "source": [
    "# p4\n",
    "# a new, empty counter\n",
    "import collections\n",
    "c = collections.Counter()\n",
    "print(c)\n",
    "\n",
    "# a new counter from an iterable\n",
    "c = collections.Counter('gallahad')\n",
    "print(c)\n",
    "\n",
    "# a new counter from a mapping\n",
    "c = collections.Counter({'red': 4, 'blue': 2})\n",
    "print(c)\n",
    "\n",
    "# a new counter from keyword args\n",
    "c = collections.Counter(cats=4, dogs=8)\n",
    "print(c)\n",
    "\n"
   ]
  },
  {
   "cell_type": "code",
   "execution_count": null,
   "metadata": {},
   "outputs": [],
   "source": [
    "# p5, deque(): double ended queue\n",
    "# 양쪽끝에서 element insert or delete 가능, 중간에서도 remove 가능!\n",
    "import collections\n",
    "d = collections.deque('abcdedfg')\n",
    "print('Deque: ', d)\n",
    "print('Length: ', len(d))\n",
    "\n",
    "d.remove('c')\n",
    "print('remove(c): ', d)\n",
    "\n",
    "d.append('h')\n",
    "print('append(h): ', d)\n",
    "\n",
    "d.appendleft('X')\n",
    "print('appendleft (X): ', d) # 왼쪽에 추가됨"
   ]
  },
  {
   "cell_type": "code",
   "execution_count": null,
   "metadata": {},
   "outputs": [],
   "source": [
    "# p6\n",
    "import collections\n",
    "d = collections.deque('abcdedfg')\n",
    "print('Deque: ', d)\n",
    "print('Length: ', len(d))\n",
    "\n",
    "print(d.pop())\n",
    "print(d)\n",
    "\n",
    "print(d.popleft())\n",
    "print(d)"
   ]
  },
  {
   "cell_type": "code",
   "execution_count": null,
   "metadata": {},
   "outputs": [],
   "source": [
    "# p7\n",
    "import collections\n",
    "d = collections.deque('abcdedfg')\n",
    "print('Deque: ', d)\n",
    "print('Length: ', len(d))\n",
    "\n",
    "d.rotate(2)\n",
    "print(d)\n",
    "\n",
    "d.rotate(-2)\n",
    "print(d)"
   ]
  },
  {
   "cell_type": "code",
   "execution_count": null,
   "metadata": {},
   "outputs": [],
   "source": [
    "# p8, OrderedDict Class\n",
    "from collections import OrderedDict\n",
    "d = {'abc': 3, 'a': 4, 'b':1, 'cd':2}\n",
    "print(d) # regular dictionary\n",
    "\n",
    "print(d.items())\n",
    "print(OrderedDict(d))\n",
    "print(OrderedDict(d.items()))\n",
    "## 내용 더 있음\n"
   ]
  },
  {
   "cell_type": "markdown",
   "metadata": {},
   "source": [
    "### p11, \"Array\" Module"
   ]
  },
  {
   "cell_type": "code",
   "execution_count": null,
   "metadata": {},
   "outputs": [],
   "source": [
    "# array는 같은 date type만 사용할 수 있음\n",
    "# more compact memory than list"
   ]
  },
  {
   "cell_type": "code",
   "execution_count": null,
   "metadata": {},
   "outputs": [],
   "source": [
    "import array\n",
    "s  = 'This is the array.'\n",
    "a = array.array('u', s) # 'u': unicode char, 'i': integer\n",
    "print('As string:', s)\n",
    "print('As array:', a)\n",
    "\n",
    "from array import array # 앞에 array. 없이 array.array() 사용 가능\n",
    "a = array('i', [10, 20, 30])\n",
    "\n",
    "for value in a:\n",
    "    print(value)"
   ]
  },
  {
   "cell_type": "code",
   "execution_count": null,
   "metadata": {},
   "outputs": [],
   "source": [
    "# p15\n",
    "import array\n",
    "s1 = \"This is the array.\"\n",
    "s2 = \"Hello world\"\n",
    "\n",
    "a = array.array('u', s1)\n",
    "b = array.array('u', s2)\n",
    "\n",
    "print(a)\n",
    "print(b)\n",
    "\n",
    "a.extend(b)\n",
    "print('extend:', a)\n"
   ]
  },
  {
   "cell_type": "code",
   "execution_count": null,
   "metadata": {},
   "outputs": [],
   "source": [
    "# p17\n",
    "import array\n",
    "s1 = \"This is the array.\"\n",
    "a = array.array('u', s1)\n",
    "print('Original array: ', a)\n",
    "a.remove('h')\n",
    "print('New array : ', a)"
   ]
  },
  {
   "cell_type": "code",
   "execution_count": null,
   "metadata": {},
   "outputs": [],
   "source": [
    "# p18\n",
    "import array\n",
    "s1 = \"This is the array.\"\n",
    "print('Array : ', a)\n",
    "print(a.index('h'))\n",
    "print(a.index('a'))"
   ]
  },
  {
   "cell_type": "code",
   "execution_count": null,
   "metadata": {},
   "outputs": [],
   "source": [
    "# p19\n",
    "import array\n",
    "s1 = \"This is the array.\"\n",
    "a = array.array('u', s1)\n",
    "print('Array : ', a)\n",
    "\n",
    "a.insert(0, 'W')\n",
    "print(a)\n",
    "\n",
    "a.insert(-1, 'X')\n",
    "print(a)"
   ]
  },
  {
   "cell_type": "markdown",
   "metadata": {},
   "source": [
    "## queue module: queue class for queue"
   ]
  },
  {
   "cell_type": "code",
   "execution_count": 4,
   "metadata": {},
   "outputs": [
    {
     "name": "stdout",
     "output_type": "stream",
     "text": [
      "1\n",
      "python\n",
      "3\n"
     ]
    }
   ],
   "source": [
    "import queue\n",
    "a = queue.Queue(5)\n",
    "b = queue.Queue(3)\n",
    "a.put(1)\n",
    "a.put(\"python\")\n",
    "a.put(b)\n",
    "\n",
    "b.put(3)\n",
    "print(a.get())\n",
    "print(a.get())\n",
    "print(a.get().get())"
   ]
  },
  {
   "cell_type": "markdown",
   "metadata": {},
   "source": [
    "## p28, heapq module"
   ]
  },
  {
   "cell_type": "code",
   "execution_count": 2,
   "metadata": {},
   "outputs": [
    {
     "data": {
      "text/plain": [
       "[1, 3, 5, 7]"
      ]
     },
     "execution_count": 2,
     "metadata": {},
     "output_type": "execute_result"
    }
   ],
   "source": [
    "# p30\n",
    "from heapq import *\n",
    "qdata = [5,7,1,3]\n",
    "heapify(qdata)\n",
    "# heapq.heapify(qdata) # error\n",
    "qdata"
   ]
  },
  {
   "cell_type": "code",
   "execution_count": 5,
   "metadata": {},
   "outputs": [
    {
     "data": {
      "text/plain": [
       "[1, 3, 5, 7]"
      ]
     },
     "execution_count": 5,
     "metadata": {},
     "output_type": "execute_result"
    }
   ],
   "source": [
    "import heapq\n",
    "qdata = [5,7,1,3]\n",
    "heapq.heapify(qdata)\n",
    "qdata"
   ]
  },
  {
   "cell_type": "markdown",
   "metadata": {},
   "source": [
    "## p36, bisect moduel"
   ]
  },
  {
   "cell_type": "code",
   "execution_count": 16,
   "metadata": {},
   "outputs": [
    {
     "name": "stdout",
     "output_type": "stream",
     "text": [
      "C\n"
     ]
    },
    {
     "data": {
      "text/plain": [
       "['E', 'A', 'B', 'D', 'F', 'A']"
      ]
     },
     "execution_count": 16,
     "metadata": {},
     "output_type": "execute_result"
    }
   ],
   "source": [
    "# p37\n",
    "from bisect import bisect\n",
    "grades = 'FEDCBA'\n",
    "breakpoints = [30, 44, 66, 75, 85]\n",
    "def grade(total):\n",
    "               return grades[bisect(breakpoints, total)]\n",
    "print(grade(66))\n",
    "\n",
    "grade_map = map(grade, [33, 99, 77, 44, 12, 88])\n",
    "list(grade_map)"
   ]
  },
  {
   "cell_type": "code",
   "execution_count": 19,
   "metadata": {},
   "outputs": [
    {
     "name": "stdout",
     "output_type": "stream",
     "text": [
      " 4 0 [4]\n",
      " 6 1 [4, 6]\n",
      " 6 2 [4, 6, 6]\n",
      "24 3 [4, 6, 6, 24]\n",
      "11 3 [4, 6, 6, 11, 24]\n"
     ]
    }
   ],
   "source": [
    "# p39\n",
    "import bisect\n",
    "import random\n",
    "random.seed(2)\n",
    "l = []\n",
    "for i in range(5):\n",
    "    r = random.randint(1, 50)\n",
    "    pos = bisect.bisect(l, r)\n",
    "    bisect.insort(l, r)\n",
    "    print('%2d %d' %(r, pos), l)"
   ]
  },
  {
   "cell_type": "code",
   "execution_count": 20,
   "metadata": {},
   "outputs": [
    {
     "name": "stdout",
     "output_type": "stream",
     "text": [
      " 4 0 [4]\n",
      " 6 1 [4, 6]\n",
      " 6 1 [4, 6, 6]\n",
      "24 3 [4, 6, 6, 24]\n",
      "11 3 [4, 6, 6, 11, 24]\n"
     ]
    }
   ],
   "source": [
    "# p40\n",
    "import bisect\n",
    "import random\n",
    "random.seed(2)\n",
    "l = []\n",
    "for i in range(5):\n",
    "    r = random.randint(1, 50)\n",
    "    pos = bisect.bisect_left(l, r)\n",
    "    bisect.insort_left(l, r)\n",
    "    print('%2d %d' %(r, pos), l)"
   ]
  },
  {
   "cell_type": "code",
   "execution_count": null,
   "metadata": {},
   "outputs": [],
   "source": []
  }
 ],
 "metadata": {
  "kernelspec": {
   "display_name": "Python 3",
   "language": "python",
   "name": "python3"
  },
  "language_info": {
   "codemirror_mode": {
    "name": "ipython",
    "version": 3
   },
   "file_extension": ".py",
   "mimetype": "text/x-python",
   "name": "python",
   "nbconvert_exporter": "python",
   "pygments_lexer": "ipython3",
   "version": "3.7.3"
  }
 },
 "nbformat": 4,
 "nbformat_minor": 2
}
