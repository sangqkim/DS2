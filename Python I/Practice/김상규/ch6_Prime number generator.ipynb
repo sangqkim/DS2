{
 "cells": [
  {
   "cell_type": "markdown",
   "metadata": {},
   "source": [
    "# Ch 6:    Prime Number Generator with Python "
   ]
  },
  {
   "cell_type": "code",
   "execution_count": 4,
   "metadata": {},
   "outputs": [
    {
     "name": "stdout",
     "output_type": "stream",
     "text": [
      "2 3 5 7 11 13 17 19 23 29 31 37 41 43 47 53 59 61 67 71 73 79 83 89 97 "
     ]
    }
   ],
   "source": [
    "def IsPrime_dumb(n):\n",
    "    if n<2:\n",
    "        return False\n",
    "    for factor in range(2, n):\n",
    "        if(n %factor == 0):\n",
    "            return False\n",
    "    return True\n",
    "for i in range(1, 100):\n",
    "    if IsPrime_dumb(i):\n",
    "        print(i, end=' ')"
   ]
  },
  {
   "cell_type": "markdown",
   "metadata": {},
   "source": [
    "## An algorithm for sieve of Eratosthenes"
   ]
  },
  {
   "cell_type": "code",
   "execution_count": null,
   "metadata": {},
   "outputs": [],
   "source": [
    "def sift(lst, k):\n",
    "    # marks multiples of k with None\n",
    "    i = 0\n",
    "    while i < len(lst):\n",
    "        if (lst[i] != None) and (lst[i] %k == 0):\n",
    "            lst[i] = None\n",
    "        i = i+1\n",
    "    return lst\n",
    "\n",
    "def sieve(n):\n",
    "    numlist = list(range(2, n+1))\n",
    "    primes = []\n",
    "    for i in range(0, len(numlist)):\n",
    "        primes.append(numlist[i])\n",
    "        sift(numlist, numlist[i])\n",
    "    return primes\n",
    "\n",
    "result = sieve(50)\n",
    "print(result)"
   ]
  },
  {
   "cell_type": "code",
   "execution_count": null,
   "metadata": {},
   "outputs": [],
   "source": []
  }
 ],
 "metadata": {
  "kernelspec": {
   "display_name": "Python 3",
   "language": "python",
   "name": "python3"
  },
  "language_info": {
   "codemirror_mode": {
    "name": "ipython",
    "version": 3
   },
   "file_extension": ".py",
   "mimetype": "text/x-python",
   "name": "python",
   "nbconvert_exporter": "python",
   "pygments_lexer": "ipython3",
   "version": "3.7.3"
  }
 },
 "nbformat": 4,
 "nbformat_minor": 2
}
