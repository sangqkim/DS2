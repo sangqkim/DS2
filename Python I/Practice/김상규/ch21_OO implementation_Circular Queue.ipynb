{
 "cells": [
  {
   "cell_type": "code",
   "execution_count": 7,
   "metadata": {},
   "outputs": [],
   "source": [
    "class Person:\n",
    "    name = \"\"\n",
    "    age = 0\n",
    "    def __init__(self, name, age):\n",
    "        self.name = name\n",
    "        self.age = age\n",
    "        \n",
    "    def __add__(self, other):\n",
    "        return self.age + other.age\n",
    "\n",
    "    def __str__(self):\n",
    "        return self.name\n",
    "    \n",
    "    def __gt__(self, other):\n",
    "        return True if self.age > other.age else False\n",
    "    \n",
    "    def __lt__(self, other):\n",
    "        return True if self.age < other.age else False\n",
    "\n",
    "    def __repr__(self):\n",
    "        return \"Person(name: \" + self.name + \", age: \", self.age\n",
    "    \n",
    "class CircularQueue:\n",
    "    M = 0\n",
    "    front = 0\n",
    "    rear = 0\n",
    "    queue = []\n",
    "    \n",
    "    def __init__(self, maxSize):\n",
    "        self.M = maxSize\n",
    "        self.queue = [None]*maxSize\n",
    "    \n",
    "    def enqueue(self):\n",
    "        if self.is_full():\n",
    "            return \n",
    "        self.rear += 1\n",
    "        if self.rear >= self.M:\n",
    "            self.rear %= self.M\n",
    "        self.queue[self.rear] = element\n",
    "        \n",
    "    def dequeue(self):\n",
    "        if self.is_full():\n",
    "            return \n",
    "        self.front += 1\n",
    "        if self.front >= self.M:\n",
    "            self.front %= self.M\n",
    "        self.queue[self.front]\n",
    "               \n",
    "    def multi_dequeue(self, count):\n",
    "        # peek로 먼저 확인한 다음...\n",
    "    \n",
    "        \n",
    "    def peek(self):\n",
    "        tmp = self.front     \n",
    "        if self.is_full():\n",
    "            return \n",
    "        tmp += 1\n",
    "        if tmp >= self.M:\n",
    "            tmpt %= self.M\n",
    "        return tmp\n",
    "    \n",
    "    def is_empty(self):\n",
    "        return True if self.front == self.rear else False\n",
    "    \n",
    "    def is_full(self):\n",
    "        return True if front %M == (rear+1) % M else False\n",
    "        "
   ]
  },
  {
   "cell_type": "code",
   "execution_count": 8,
   "metadata": {},
   "outputs": [
    {
     "ename": "NameError",
     "evalue": "name 'CicularQueue' is not defined",
     "output_type": "error",
     "traceback": [
      "\u001b[1;31m---------------------------------------------------------------------------\u001b[0m",
      "\u001b[1;31mNameError\u001b[0m                                 Traceback (most recent call last)",
      "\u001b[1;32m<ipython-input-8-799e3fede199>\u001b[0m in \u001b[0;36m<module>\u001b[1;34m\u001b[0m\n\u001b[1;32m----> 1\u001b[1;33m \u001b[0mcg\u001b[0m \u001b[1;33m=\u001b[0m \u001b[0mCicularQueue\u001b[0m\u001b[1;33m(\u001b[0m\u001b[1;36m10\u001b[0m\u001b[1;33m)\u001b[0m\u001b[1;33m\u001b[0m\u001b[1;33m\u001b[0m\u001b[0m\n\u001b[0m\u001b[0;32m      2\u001b[0m \u001b[0mcg\u001b[0m\u001b[1;33m.\u001b[0m\u001b[0menqueue\u001b[0m\u001b[1;33m(\u001b[0m\u001b[0mPerson\u001b[0m\u001b[1;33m(\u001b[0m\u001b[1;34m\"Apple\"\u001b[0m\u001b[1;33m,\u001b[0m \u001b[1;36m24\u001b[0m\u001b[1;33m)\u001b[0m\u001b[1;33m)\u001b[0m\u001b[1;33m\u001b[0m\u001b[1;33m\u001b[0m\u001b[0m\n",
      "\u001b[1;31mNameError\u001b[0m: name 'CicularQueue' is not defined"
     ]
    }
   ],
   "source": [
    "cg = CicularQueue(10)\n",
    "cg.enqueue(Person(\"Apple\", 24))\n"
   ]
  }
 ],
 "metadata": {
  "kernelspec": {
   "display_name": "Python 3",
   "language": "python",
   "name": "python3"
  },
  "language_info": {
   "codemirror_mode": {
    "name": "ipython",
    "version": 3
   },
   "file_extension": ".py",
   "mimetype": "text/x-python",
   "name": "python",
   "nbconvert_exporter": "python",
   "pygments_lexer": "ipython3",
   "version": "3.7.3"
  }
 },
 "nbformat": 4,
 "nbformat_minor": 2
}
