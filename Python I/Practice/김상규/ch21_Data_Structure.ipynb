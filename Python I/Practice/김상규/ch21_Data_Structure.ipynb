{
 "cells": [
  {
   "cell_type": "markdown",
   "metadata": {},
   "source": [
    "# (Chapter 21) Data Structures in Python"
   ]
  },
  {
   "cell_type": "markdown",
   "metadata": {},
   "source": [
    "### p11~12, Linked Lists\n",
    "다른 데이터가 있는 주소를 가지고 있어, 유연하게 메모리를 사용할 수 있음"
   ]
  },
  {
   "cell_type": "code",
   "execution_count": 11,
   "metadata": {},
   "outputs": [
    {
     "name": "stdout",
     "output_type": "stream",
     "text": [
      "car\n",
      "bus\n",
      "lorry\n",
      "\n",
      "car\n"
     ]
    }
   ],
   "source": [
    "# OO Implementation of Linked List\n",
    "class Node:\n",
    "    def __init__(self, contents=None, next=None):\n",
    "        self.contents = contents\n",
    "        self.next = next\n",
    "    \n",
    "    def getContents(self):\n",
    "        return self.contents\n",
    "    \n",
    "    def __str__(self):\n",
    "        return str(self.contents)\n",
    "\n",
    "def print_list(node):\n",
    "    while node:\n",
    "        print(node.getContents())\n",
    "        node = node.next # 다음 노드를 가리킴\n",
    "    print()\n",
    "    \n",
    "def testList():\n",
    "    node1 = Node(\"car\")\n",
    "    node2 = Node(\"bus\")\n",
    "    node3 = Node(\"lorry\")\n",
    "    node1.next = node2 # <-- 중요한 부분. 여기를 이해해야함\n",
    "    node2.next = node3 # node2.next에 node3를 가리키는 주소가 할당됨\n",
    "    print_list(node1)\n",
    "\n",
    "testList()"
   ]
  },
  {
   "cell_type": "markdown",
   "metadata": {},
   "source": [
    "### p14~17, Stack, Last In First Out: LIFO"
   ]
  },
  {
   "cell_type": "code",
   "execution_count": 23,
   "metadata": {},
   "outputs": [
    {
     "name": "stdout",
     "output_type": "stream",
     "text": [
      "kim\n",
      "kim\n",
      "['john']\n"
     ]
    }
   ],
   "source": [
    "# OO Implementation of Stack using Python List\n",
    "class Stack:\n",
    "    \n",
    "    # the stack class\n",
    "    def __init__(self):\n",
    "        self.items = []\n",
    "    \n",
    "    def push(self, item):\n",
    "        self.items.append(item)\n",
    "    \n",
    "    def pop(self):\n",
    "        return self.items.pop()\n",
    "    \n",
    "    def isEmpty(self):\n",
    "        if self.items == []:\n",
    "            return True\n",
    "        else:\n",
    "            return False\n",
    "    \n",
    "    def peek(self):\n",
    "#         return self.items[len(self.items)-1] # top element를 return\n",
    "        return self.items[-1] # top element를 return\n",
    "    \n",
    "myStack = Stack()\n",
    "myStack.push(\"john\")\n",
    "myStack.push(\"kim\")\n",
    "print(myStack.peek())\n",
    "print(myStack.pop())\n",
    "print(myStack.items)\n",
    "\n"
   ]
  },
  {
   "cell_type": "markdown",
   "metadata": {},
   "source": [
    "### p19~28, Queue, First In First Out: FIFO"
   ]
  },
  {
   "cell_type": "code",
   "execution_count": 28,
   "metadata": {},
   "outputs": [
    {
     "name": "stdout",
     "output_type": "stream",
     "text": [
      "4\n",
      "['Bob', 'Brodie', 'Carrie', 'Tanya']\n",
      "Bob\n",
      "['Brodie', 'Carrie', 'Tanya']\n"
     ]
    }
   ],
   "source": [
    "# p23, Implementation fo Queue\n",
    "class Queue:\n",
    "    def __init__(self):\n",
    "        self.items = []\n",
    "    \n",
    "    def add(self, item):\n",
    "        self.items.append(item)\n",
    "        \n",
    "    def delete(self):\n",
    "        itemToDelete = self.items[0] # ??\n",
    "        del self.items[0]\n",
    "        return itemToDelete\n",
    "\n",
    "    def size(self):\n",
    "        return len(self.items)\n",
    "    \n",
    "    def report(self):\n",
    "        return self.items\n",
    "\n",
    "myQueue = Queue()\n",
    "myQueue.add(\"Bob\")\n",
    "myQueue.add(\"Brodie\")\n",
    "myQueue.add(\"Carrie\")\n",
    "myQueue.add(\"Tanya\")\n",
    "print(myQueue.size())\n",
    "print(myQueue.report())\n",
    "print(myQueue.delete())\n",
    "print(myQueue.report())"
   ]
  },
  {
   "cell_type": "code",
   "execution_count": 33,
   "metadata": {},
   "outputs": [
    {
     "name": "stdout",
     "output_type": "stream",
     "text": [
      "1\n",
      "python\n",
      "3\n"
     ]
    }
   ],
   "source": [
    "# p25\n",
    "import queue\n",
    "\n",
    "a = queue.Queue(5) # construct a FIFO queue of size x\n",
    "b = queue.Queue(3) # infinite size\n",
    "\n",
    "a.put(1) # queue에 값을 집어 넣음\n",
    "a.put(\"python\")\n",
    "a.put(b)\n",
    "\n",
    "b.put(3)\n",
    "\n",
    "print(a.get()) # delete and return\n",
    "print(a.get())\n",
    "print(a.get().get()) # a.get()하면 b가 return"
   ]
  },
  {
   "cell_type": "code",
   "execution_count": 35,
   "metadata": {},
   "outputs": [
    {
     "name": "stdout",
     "output_type": "stream",
     "text": [
      "qsize : \n",
      "3\n",
      "0\n",
      "Empty?\n",
      "False\n",
      "True\n",
      "\n",
      "Full?\n",
      "True\n",
      "False\n",
      "\n"
     ]
    }
   ],
   "source": [
    "# p26, \"queue\" Module: Queue Class fo Queue\n",
    "import queue\n",
    "\n",
    "a = queue.Queue(3)\n",
    "b = queue.Queue()\n",
    "\n",
    "a.put(1)\n",
    "a.put(2)\n",
    "a.put(3)\n",
    "\n",
    "print(\"qsize : \")\n",
    "print(a.qsize())\n",
    "print(b.qsize())\n",
    "\n",
    "print(\"Empty?\")\n",
    "print(a.empty())\n",
    "print(b.empty())\n",
    "print()\n",
    "\n",
    "print(\"Full?\")\n",
    "print(a.full())\n",
    "print(b.full())\n",
    "print()"
   ]
  },
  {
   "cell_type": "code",
   "execution_count": 42,
   "metadata": {},
   "outputs": [
    {
     "name": "stdout",
     "output_type": "stream",
     "text": [
      "3\n",
      "SNU\n",
      "2\n"
     ]
    }
   ],
   "source": [
    "# p27, \"queue\" Module:   LiFoQueue Class  for Stack\n",
    "import queue\n",
    "a = queue.LifoQueue(3)\n",
    "a.put(\"kim\")\n",
    "a.put(55)\n",
    "a.put(\"SNU\")\n",
    "print(a.qsize())\n",
    "print(a.get())\n",
    "print(a.qsize())"
   ]
  },
  {
   "cell_type": "code",
   "execution_count": 43,
   "metadata": {},
   "outputs": [
    {
     "name": "stdout",
     "output_type": "stream",
     "text": [
      "3\n",
      "1\n",
      "2\n"
     ]
    }
   ],
   "source": [
    "# p28, PriorityQueue Class\n",
    "import queue\n",
    "\n",
    "a = queue.PriorityQueue(3)\n",
    "a.put(20)\n",
    "a.put(1)\n",
    "a.put(9)\n",
    "print(a.qsize())\n",
    "print(a.get())\n",
    "print(a.qsize())"
   ]
  },
  {
   "cell_type": "markdown",
   "metadata": {},
   "source": [
    "## p29, Dictionary and Hashing"
   ]
  },
  {
   "cell_type": "markdown",
   "metadata": {},
   "source": [
    "### p35, hash function(파이썬 built-in): hash 함수에서 나오는 값에 해당하는 주소에 데이터를 저장 \n",
    "(장점) 특정 field에 해당하는 bucket으로 가서 찾으므로 빠름."
   ]
  },
  {
   "cell_type": "markdown",
   "metadata": {},
   "source": [
    "### "
   ]
  },
  {
   "cell_type": "markdown",
   "metadata": {},
   "source": [
    "## p38, Tree and Graph"
   ]
  },
  {
   "cell_type": "markdown",
   "metadata": {},
   "source": [
    "### p40, terminology는 알아야함."
   ]
  },
  {
   "cell_type": "markdown",
   "metadata": {},
   "source": [
    "### Height of a Tree: The number of nodes on the longest path form the root to a leaf"
   ]
  },
  {
   "cell_type": "markdown",
   "metadata": {},
   "source": [
    "### "
   ]
  },
  {
   "cell_type": "markdown",
   "metadata": {},
   "source": [
    "## p43, Graph\n",
    "Graph G = (V, E)"
   ]
  },
  {
   "cell_type": "code",
   "execution_count": 50,
   "metadata": {},
   "outputs": [],
   "source": [
    "# p43\n",
    "# finite set V (=vertices, nodes, points)\n",
    "# finite set E (=edges, arcs, lines)\n",
    "# vertices i and j are \"adjacent\" vertices iff (i, j) is and edge in the graph"
   ]
  },
  {
   "cell_type": "code",
   "execution_count": 53,
   "metadata": {},
   "outputs": [],
   "source": [
    "# p45~47\n",
    "# matrix로 graph의 adjacency를 표현\n",
    "# 하지만 코딩이 어렵다. --> linked list를 활용함 (adjacency list)"
   ]
  },
  {
   "cell_type": "markdown",
   "metadata": {},
   "source": [
    "### p48, Graph application: Spanning Trees\n",
    "A spanning tree is a tree and a subgraph of G that contains all the vertices of G "
   ]
  },
  {
   "cell_type": "markdown",
   "metadata": {},
   "source": [
    "### p49, minimum cost spanning tree"
   ]
  },
  {
   "cell_type": "code",
   "execution_count": null,
   "metadata": {},
   "outputs": [],
   "source": []
  },
  {
   "cell_type": "markdown",
   "metadata": {},
   "source": [
    "## Binary Search Tree"
   ]
  },
  {
   "cell_type": "markdown",
   "metadata": {},
   "source": [
    "### p53, BST TreeNode Class: 참고, 시험 안 나올듯 "
   ]
  },
  {
   "cell_type": "code",
   "execution_count": 55,
   "metadata": {},
   "outputs": [],
   "source": [
    "class TreeNode:\n",
    "    def __init__(self, key, val, left=None, right=None, parent=None): \n",
    "        self.key = key \n",
    "        self.payload = val \n",
    "        self.leftChild = left \n",
    "        self.rightChild = right \n",
    "        self.parent = parent\n",
    "\n",
    "    def hasLeftChild(self):\n",
    "        pass"
   ]
  },
  {
   "cell_type": "code",
   "execution_count": null,
   "metadata": {},
   "outputs": [],
   "source": []
  }
 ],
 "metadata": {
  "kernelspec": {
   "display_name": "Python 3",
   "language": "python",
   "name": "python3"
  },
  "language_info": {
   "codemirror_mode": {
    "name": "ipython",
    "version": 3
   },
   "file_extension": ".py",
   "mimetype": "text/x-python",
   "name": "python",
   "nbconvert_exporter": "python",
   "pygments_lexer": "ipython3",
   "version": "3.7.3"
  }
 },
 "nbformat": 4,
 "nbformat_minor": 2
}
