{
 "cells": [
  {
   "cell_type": "markdown",
   "metadata": {},
   "source": [
    "### Very Simple Class  and Its Instances, p31"
   ]
  },
  {
   "cell_type": "code",
   "execution_count": 1,
   "metadata": {},
   "outputs": [],
   "source": [
    "class Programmer:\n",
    "    pass"
   ]
  },
  {
   "cell_type": "code",
   "execution_count": 2,
   "metadata": {},
   "outputs": [],
   "source": [
    "kim = Programmer()\n",
    "park = Programmer()"
   ]
  },
  {
   "cell_type": "markdown",
   "metadata": {},
   "source": [
    "###  Object에속한 function들의 선언에는 “self “가 1st parameter로있어야한다. p32"
   ]
  },
  {
   "cell_type": "code",
   "execution_count": 3,
   "metadata": {},
   "outputs": [],
   "source": [
    "class Ph():\n",
    "    def printHam(self):  # 클래스 안에 속하는 함수는 parameter를 반드시 \"self\"라고 친다\n",
    "        print(\"Ham\")"
   ]
  },
  {
   "cell_type": "code",
   "execution_count": 4,
   "metadata": {},
   "outputs": [
    {
     "name": "stdout",
     "output_type": "stream",
     "text": [
      "Ham\n"
     ]
    }
   ],
   "source": [
    "x = Ph()\n",
    "x.printHam()"
   ]
  },
  {
   "cell_type": "code",
   "execution_count": 5,
   "metadata": {},
   "outputs": [],
   "source": [
    "class Ph: # object = data + operation\n",
    "    def __init__(self): # data\n",
    "        self.y = 5 # good\n",
    "        z = 5 # bad\n",
    "    def printHam(self): # operation, Object에속한 function들의선언에는\"self\"가 1st parameter로있어야한다.\n",
    "        print(\"Ham\")"
   ]
  },
  {
   "cell_type": "code",
   "execution_count": 6,
   "metadata": {},
   "outputs": [
    {
     "name": "stdout",
     "output_type": "stream",
     "text": [
      "Ham\n"
     ]
    }
   ],
   "source": [
    "x = Ph()\n",
    "x.printHam()"
   ]
  },
  {
   "cell_type": "code",
   "execution_count": 7,
   "metadata": {},
   "outputs": [
    {
     "data": {
      "text/plain": [
       "5"
      ]
     },
     "execution_count": 7,
     "metadata": {},
     "output_type": "execute_result"
    }
   ],
   "source": [
    "x.y"
   ]
  },
  {
   "cell_type": "markdown",
   "metadata": {},
   "source": [
    "### Instance Variables and Functions  inside Class, p34"
   ]
  },
  {
   "cell_type": "code",
   "execution_count": 4,
   "metadata": {},
   "outputs": [],
   "source": [
    "class Hero:\n",
    "    def __init__(self, name): # parameter에 self 이외에 추가로 넣을 수 있다.\n",
    "        self.name = name # paramter로 받은 변수를 받는다.\n",
    "        self.health = 100\n",
    "    def eat(self, food):\n",
    "        if(food == 'apple'):\n",
    "            self.health -= 100\n",
    "        elif food == \"ham\":\n",
    "            self.health += 20            "
   ]
  },
  {
   "cell_type": "code",
   "execution_count": 5,
   "metadata": {},
   "outputs": [
    {
     "name": "stdout",
     "output_type": "stream",
     "text": [
      "Bob\n",
      "100\n",
      "120\n"
     ]
    }
   ],
   "source": [
    "Bob = Hero(\"Bob\")\n",
    "print(Bob.name)\n",
    "print(Bob.health)\n",
    "Bob.eat(\"ham\")\n",
    "print(Bob.health)"
   ]
  },
  {
   "cell_type": "markdown",
   "metadata": {},
   "source": [
    "### instance variable, instance method, p37"
   ]
  },
  {
   "cell_type": "code",
   "execution_count": null,
   "metadata": {},
   "outputs": [],
   "source": [
    "class Service:\n",
    "    def __init__(self, name):\n",
    "        self.name = name # instance variable\n",
    "    def sum(self, a, b): # instance method\n",
    "        result = a + b\n",
    "        print(\"%s님 %s + %s = % s입니다.\" %(self.name, a, b, result))\n",
    "    "
   ]
  },
  {
   "cell_type": "code",
   "execution_count": null,
   "metadata": {},
   "outputs": [],
   "source": [
    "pey = Service(\"홍길동\")\n",
    "pey.sum(1,1)\n",
    "pey.name\n",
    "# Service.name # not allowed"
   ]
  },
  {
   "cell_type": "markdown",
   "metadata": {},
   "source": [
    "### Class hierachy, p39"
   ]
  },
  {
   "cell_type": "code",
   "execution_count": null,
   "metadata": {},
   "outputs": [],
   "source": [
    "#비교1\n",
    "class Foo(object): \n",
    "    def __init__(self): \n",
    "        self.health = 100\n",
    "class SubFoo(Foo): \n",
    "    pass\n",
    "\n",
    "testobj = SubFoo()\n",
    "testobj.health\n"
   ]
  },
  {
   "cell_type": "code",
   "execution_count": null,
   "metadata": {},
   "outputs": [],
   "source": [
    "#비교2\n",
    "class Foo():  # ()안에 object가 있거나 없어도 같음\n",
    "    def __init__(self): \n",
    "        self.health = 100\n",
    "class SubFoo(Foo): \n",
    "    pass\n",
    "\n",
    "testobj = SubFoo()\n",
    "testobj.health"
   ]
  },
  {
   "cell_type": "markdown",
   "metadata": {},
   "source": [
    "### class inheritance, p40"
   ]
  },
  {
   "cell_type": "code",
   "execution_count": 6,
   "metadata": {},
   "outputs": [
    {
     "data": {
      "text/plain": [
       "100"
      ]
     },
     "execution_count": 6,
     "metadata": {},
     "output_type": "execute_result"
    }
   ],
   "source": [
    "# 비교1\n",
    "class Foo: \n",
    "    def __init__(self): \n",
    "        self.health = 100\n",
    "class SubFoo(Foo): \n",
    "    pass\n",
    "\n",
    "testobj = SubFoo()\n",
    "testobj.health # SubFoo class에서는 Foo class의 instance variable 을 inherit 함 (O)"
   ]
  },
  {
   "cell_type": "code",
   "execution_count": 11,
   "metadata": {},
   "outputs": [
    {
     "data": {
      "text/plain": [
       "200"
      ]
     },
     "execution_count": 11,
     "metadata": {},
     "output_type": "execute_result"
    }
   ],
   "source": [
    "#비교2\n",
    "class Foo: \n",
    "    def __init__(self): \n",
    "        self.health = 100\n",
    "class SubFoo(Foo): \n",
    "    def __init__(self): \n",
    "        self.muscle = 200\n",
    "\n",
    "testobj = SubFoo()\n",
    "testobj.muscle\n",
    "# testobj.health # SubFoo class에서는 Foo class의 instance variable 을 inherit 안함 (X)"
   ]
  },
  {
   "cell_type": "markdown",
   "metadata": {},
   "source": [
    "###  p41"
   ]
  },
  {
   "cell_type": "code",
   "execution_count": null,
   "metadata": {},
   "outputs": [],
   "source": [
    "class Foo(object): \n",
    "    def __init__(self): \n",
    "        self.health = 100\n",
    "        \n",
    "class SubFoo(Foo): \n",
    "    def __init__(self):  \n",
    "        super().__init__() # SubFoo class에서는 Foo class의 instance variable을 inherit 받고 자체적인 instance variable도 선언 \n",
    "        self.muscle = 200\n",
    "testobj = SubFoo() \n",
    "print(testobj.health)\n",
    "print(testobj.muscle)"
   ]
  },
  {
   "cell_type": "markdown",
   "metadata": {},
   "source": [
    "### overriding, p42"
   ]
  },
  {
   "cell_type": "code",
   "execution_count": null,
   "metadata": {},
   "outputs": [],
   "source": [
    "class BaseClass(object): \n",
    "    def test(self):\n",
    "        print(\"ham\")\n",
    "        \n",
    "class InClass(BaseClass):\n",
    "    def test(self):\n",
    "        print(\"hammer time\")\n",
    "\n",
    "i = InClass()\n",
    "i.test() # Class class에 test()가 있어서 BaseClass class의 test()를 override하므로 BaseClass의 test()는 inherit 안됨"
   ]
  },
  {
   "cell_type": "markdown",
   "metadata": {},
   "source": [
    "### Understanding  Class Inheritance, p43"
   ]
  },
  {
   "cell_type": "code",
   "execution_count": null,
   "metadata": {},
   "outputs": [],
   "source": [
    "class BaseClass(object): \n",
    "    def __init__(self): \n",
    "        self.x = 100 \n",
    "class InClass(BaseClass): \n",
    "    def __init__(self): \n",
    "        super().__init__() \n",
    "        self.y = 200\n",
    "i = InClass() \n",
    "print(\"Object i’s inherited variable:\",  i.x) \n",
    "print(\"Object i’s locally defined variable:\",  i.y)\n",
    "# InClass class에 __init__()가 있어서 BaseClass class의 __init__()를 override하므로 BaseClass의 __init__()는 수행이안된다. \n",
    "# 그러나 super(InClass, self).__init__() 에 의해서 BaseClass의 instance variable을 inherit 받는다."
   ]
  },
  {
   "cell_type": "markdown",
   "metadata": {},
   "source": [
    "### Understanding  Class Inheritance , p44"
   ]
  },
  {
   "cell_type": "code",
   "execution_count": null,
   "metadata": {},
   "outputs": [],
   "source": [
    "class BaseClass(object):\n",
    "    def test(self):\n",
    "        print(\"ham\")\n",
    "class InClass(BaseClass):\n",
    "    def test(self):\n",
    "        print(\"Hammer time\")\n",
    "        \n",
    "A = InClass()\n",
    "A.test()\n",
    "BaseClass.__subclasses__()\n",
    "# InClass.__superclasses__()\n",
    "print(BaseClass.__subclasses__())\n",
    "#  InClass class에서는 BaseClass class의 test()을 inherit 받지 않고 같은 이름의 test() 를 locally  define했다\n",
    "#  __subclasses__( ) 는 subclass들을 return하는 함수\n",
    "#  __superclasses__( ) 는 존재를 안함\n",
    "            "
   ]
  },
  {
   "cell_type": "markdown",
   "metadata": {},
   "source": [
    "### p45, What will be the output of the following program"
   ]
  },
  {
   "cell_type": "code",
   "execution_count": null,
   "metadata": {},
   "outputs": [],
   "source": [
    "class A:\n",
    "    def f(self):\n",
    "        return self.g()\n",
    "    def g(self):\n",
    "        return 'A'\n",
    "    \n",
    "class B(A):\n",
    "    def g(self):\n",
    "        return 'B'\n",
    "a = A()\n",
    "b = B()\n",
    "print(a.f(), b.f())\n",
    "print(a.g(), b.g())"
   ]
  },
  {
   "cell_type": "markdown",
   "metadata": {},
   "source": [
    "### p54, 계산기 문제 -- 점프 투 파이썬 책에 있는 내용(p173)"
   ]
  },
  {
   "cell_type": "code",
   "execution_count": null,
   "metadata": {},
   "outputs": [],
   "source": [
    "# Using function only\n",
    "result = 0\n",
    "def adder(num):\n",
    "    global result\n",
    "    result += num\n",
    "    return result\n",
    "print(adder(3))\n",
    "print(adder(4))"
   ]
  },
  {
   "cell_type": "code",
   "execution_count": null,
   "metadata": {},
   "outputs": [],
   "source": [
    "# 만약 한 프로그램에서 2개의 계산기가 필요하다면 어떻게 해야 할까?\n",
    "# 각각의 계산기는 각각의 결과값을 유지해야 하므로 adder function 1개로는 결과값을 따로 유지할수 없다\n",
    "# Using function only\n",
    "result1 = 0\n",
    "result2 = 0\n",
    "def adder1(num):\n",
    "    global result1\n",
    "    result1 += num\n",
    "    return result1\n",
    "\n",
    "def adder2(num):\n",
    "    global result2\n",
    "    result2 += num\n",
    "    return result2\n",
    "\n",
    "print(adder1(3))\n",
    "print(adder1(4))\n",
    "print(adder2(3))\n",
    "print(adder2(7))"
   ]
  },
  {
   "cell_type": "code",
   "execution_count": null,
   "metadata": {},
   "outputs": [],
   "source": [
    "# Using classes and objects\n",
    "class Calculator:\n",
    "    def __init__(self):\n",
    "        self.result = 0\n",
    "        \n",
    "    def adder(self, num):\n",
    "        self.result += num\n",
    "        return self.result\n",
    "cal1 = Calculator()\n",
    "cal2 = Calculator()\n",
    "print(cal1.adder(3))\n",
    "print(cal1.adder(4))\n",
    "print(cal2.adder(3))\n",
    "print(cal2.adder(7))"
   ]
  },
  {
   "cell_type": "markdown",
   "metadata": {},
   "source": [
    "### p57, __init()__ 안 쓰고 setdata() fuction을 써도 가능! ->점프투파이썬(p188)"
   ]
  },
  {
   "cell_type": "code",
   "execution_count": null,
   "metadata": {},
   "outputs": [],
   "source": [
    "class FourCal:\n",
    "    def setdata(self, first, second):\n",
    "        self.first = first\n",
    "        self.second = second\n",
    "# 나머지는 p57 참고"
   ]
  },
  {
   "cell_type": "markdown",
   "metadata": {},
   "source": [
    "### p59~61, bank account 문제 (여러 함수를 class를 사용하여 대체??)"
   ]
  },
  {
   "cell_type": "code",
   "execution_count": null,
   "metadata": {},
   "outputs": [],
   "source": [
    "# What if functions with dictionary\n",
    "def make_account():\n",
    "    return {'balance': 0}\n",
    "def deposit(account, amount):\n",
    "    account['balance'] += amount\n",
    "    return account['balance']\n",
    "def withdraw(account, amount):\n",
    "    account['balance'] -= amount\n",
    "    return account['balance']\n",
    "\n",
    "a = make_account()\n",
    "b = make_account()\n",
    "print(deposit(a, 100))\n",
    "print(deposit(b, 50))\n",
    "print(withdraw(b, 10))\n",
    "print(withdraw(a, 10))"
   ]
  },
  {
   "cell_type": "code",
   "execution_count": null,
   "metadata": {
    "scrolled": true
   },
   "outputs": [],
   "source": [
    "# Using OOP\n",
    "# BankAccount라는user-defined data type을만들었으므로 \n",
    "# 필요할때마다 account instance를만들어서사용하면됨!\n",
    "class BankAccount:\n",
    "    def __init__(self):\n",
    "        self.balance = 0\n",
    "    def withdraw(self, amount):\n",
    "        self.balance -= amount\n",
    "        return self.balance\n",
    "    def deposit(self, amount):\n",
    "        self.balance += amount\n",
    "        return self.balance\n",
    "class MinimumBalanceAccount(BankAccount):\n",
    "    def __init__(self, minimum_balance):\n",
    "        BankAccount.__init__(self)  # super().__init__(self)\n",
    "        # Subclass에서 __init__( ) 을 자체적으로 만들면 superclass의 instance variable을 받을수 없다. \n",
    "        # Superclass의 instance variable도 받고, 자체적으로 instance variable를 추가하고자 하면 superclass의 __init__( )를 구체적으로 call 해야 한다\n",
    "        self.minimum_balance = minimum_balance\n",
    "        \n",
    "    def withdraw(self, amount):\n",
    "        if self.balance - amount < self.minimum_balance:\n",
    "            print(\"Sorry, minimum balance must be maintained.\")\n",
    "        else:\n",
    "            BankAccount.withdraw(self, amount)\n",
    "\n",
    "    a = BankAccount()\n",
    "    b = BankAccount()\n",
    "    print(a.deposit(100))\n",
    "    print(b.deposit(50))\n",
    "    print(a.withdraw(10))\n",
    "    print(a.withdraw(10))"
   ]
  },
  {
   "cell_type": "markdown",
   "metadata": {},
   "source": [
    "### 아래는 위랑 중복된 것 같음."
   ]
  },
  {
   "cell_type": "code",
   "execution_count": null,
   "metadata": {},
   "outputs": [],
   "source": [
    "# Class class에 test()가 있어서 BaseClass class의 test()를 override하므로 BaseClass의 test()는 inherit 안됨\n",
    "class BaseClass(object): \n",
    "\n",
    "    def printHam(self):\n",
    "        print(\"ham\")\n",
    "class InheritingClass(BaseClass):\n",
    "    pass"
   ]
  },
  {
   "cell_type": "code",
   "execution_count": null,
   "metadata": {},
   "outputs": [],
   "source": [
    "x = InheritingClass()\n",
    "x.printHam()"
   ]
  },
  {
   "cell_type": "code",
   "execution_count": null,
   "metadata": {},
   "outputs": [],
   "source": [
    "class Foo(object):\n",
    "    def __init__(self):\n",
    "        self.health = 100\n",
    "class SubFoo(Foo): # Foo에 있는 __init__도 같이 상속받아 덮어쓰임. 오류 생김\n",
    "    def __init__(self):\n",
    "        self.muscle = 200\n",
    "testobj = SubFoo()\n",
    "testobj.muscle # 정상 출력\n",
    "#testobj.health # 오류발생"
   ]
  },
  {
   "cell_type": "code",
   "execution_count": null,
   "metadata": {},
   "outputs": [],
   "source": [
    "class Foo(object):\n",
    "    def __init__(self):\n",
    "        self.health = 100\n",
    "class SubFoo(Foo): \n",
    "    def __init__(self):\n",
    "        super().__init__() # Foo에 있는 __init__도 같이 상속받아 함께 쓸꺼라는 의미\n",
    "        self.muscle = 200\n",
    "testobj = SubFoo()\n",
    "testobj.health\n",
    "testobj.muscle"
   ]
  },
  {
   "cell_type": "code",
   "execution_count": null,
   "metadata": {},
   "outputs": [],
   "source": [
    "class BaseClass(object):\n",
    "    def test(self):\n",
    "        print(\"Ham\")\n",
    "class InClass(BaseClass):\n",
    "    def test(self): # 함수는 상속안되고 overriding 됨\n",
    "        print(\"Ham2\")\n",
    "i = InClass()\n",
    "i.test() # InClass의 test 함수가 수행"
   ]
  },
  {
   "cell_type": "code",
   "execution_count": null,
   "metadata": {},
   "outputs": [],
   "source": []
  },
  {
   "cell_type": "markdown",
   "metadata": {},
   "source": [
    "### p62~67, 연산자 오버로딩, 점프투파이썬(p198)"
   ]
  },
  {
   "cell_type": "code",
   "execution_count": null,
   "metadata": {},
   "outputs": [],
   "source": [
    "class HousePark:\n",
    "    lastname = \"박\" # class variable\n",
    "    def __init__(self, name):  # instance variable\n",
    "        self.fullname = self. lastname + name\n",
    "    def travel(self, where):\n",
    "        print(\"%s, %s 여행을 가다.\" %(self.fullname, where))\n",
    "    def love(self, other):\n",
    "        print(\"%s, %s 사랑에 빠졌네\" %(self. fullname, other.fullname))\n",
    "    def fight(self, other):\n",
    "        print(\"%s, %s 싸우네\" % (self.fullname, other.fullname))\n",
    "    def __add__(self, other): # 연산자 overloading\n",
    "        print(\"%s, %s 결혼했네\" %(self.fullname, other.fullname))\n",
    "    def __sub__(self, other):\n",
    "        print(\"%s, %s 이혼했네\" %(self.fullname, other.fullname))\n",
    "# 연산자 오버로딩: 객체끼리 연산자(+,-,*,/ 등)를 사용할 수 있게 하는 기법"
   ]
  },
  {
   "cell_type": "code",
   "execution_count": null,
   "metadata": {},
   "outputs": [],
   "source": [
    "class HouseKim(HousePark):\n",
    "    lastname = \"김\"\n",
    "    def travel(self, where, day):\n",
    "        print(\"%s, %s여행 %d일 가네.\" %(self.fullname, where, day))"
   ]
  },
  {
   "cell_type": "code",
   "execution_count": null,
   "metadata": {},
   "outputs": [],
   "source": [
    "pey = HousePark(\"응용\")\n",
    "juliet = HouseKim(\"줄리엣\")\n",
    "pey.travel(\"부산\")\n",
    "juliet.travel(\"부산\", 3)\n",
    "pey.love(juliet)\n",
    "pey + juliet # self=pey, other=juliet\n",
    "pey.fight(juliet)\n",
    "pey - juliet"
   ]
  },
  {
   "cell_type": "markdown",
   "metadata": {},
   "source": [
    "# 8장"
   ]
  },
  {
   "cell_type": "markdown",
   "metadata": {},
   "source": [
    "### p4~5, example of Python Class, constructor vs. destructor"
   ]
  },
  {
   "cell_type": "code",
   "execution_count": null,
   "metadata": {
    "scrolled": true
   },
   "outputs": [],
   "source": [
    "# This example includes\n",
    "# class definition, constructor function, destructor function,\n",
    "# attributes and methods definition and object definition\n",
    "\n",
    "# \"self\" in Python is like the pointer \"this\" in C++\n",
    "# \"self\" in Python works as variable of function but it won't invoke data.\n",
    "class Person:\n",
    "    def __init__(self, name):\n",
    "        self.name = name\n",
    "        print(self.name)\n",
    "    def Sayhello(self):\n",
    "        print(\"Hello, my name is \", self.name)\n",
    "    \n",
    "    def __del__(self): # run with Python Garbage Collector\n",
    "        print(\"%s says bye.\" %self.name)\n",
    "\n",
    "A = Person('Yang Li')\n",
    "A.name\n",
    "del A"
   ]
  },
  {
   "cell_type": "code",
   "execution_count": null,
   "metadata": {},
   "outputs": [],
   "source": [
    "class Point:\n",
    "    def __init__(self, x=0, y=0):\n",
    "        self.x = x\n",
    "        self.y = y\n",
    "    def __del__(self): # garbage collector가 object로 할당된 메모리가 사라질 때 실행\n",
    "        class_name = self.__class__.__name__\n",
    "        print(class_name, \"destroyed\")\n",
    "pt1 = Point()\n",
    "pt2 = pt1\n",
    "pt3 = pt1\n",
    "pt4 = Point()\n",
    "print(id(pt1), id(pt2), id(pt3), id(pt4))\n",
    "del pt1\n",
    "del pt2\n",
    "del pt3\n",
    "# pt1, pt2, pt3 3개의 variable이 (0,0)을 pointing 하고,\n",
    "# (0,0)의reference count가 0이 될때에 __del__()이 call되고\n",
    "# 그전에는 variable만 없어진다.\n",
    "\n",
    "# object의 reference count가 0이 되면 garbage collector run\n",
    "# garbage collector가 run할 때, __del__()이 구현되어 있으면 수행한다."
   ]
  },
  {
   "cell_type": "markdown",
   "metadata": {},
   "source": [
    "### p11, inheriting methods from superclass"
   ]
  },
  {
   "cell_type": "code",
   "execution_count": null,
   "metadata": {},
   "outputs": [],
   "source": [
    "class Person:\n",
    "    def speak(self):\n",
    "        print('I can speak')\n",
    "class Man(Person):\n",
    "    def wear(self):\n",
    "        print('I wear shirt')\n",
    "class Woman(Person):\n",
    "    def wear(self):\n",
    "        print('I wear shirt')\n",
    "man = Man()\n",
    "man.wear()\n",
    "man.speak()"
   ]
  },
  {
   "cell_type": "markdown",
   "metadata": {},
   "source": [
    "### Overriding methods in subclass, method이름을 동일하게 다시 구현"
   ]
  },
  {
   "cell_type": "code",
   "execution_count": null,
   "metadata": {},
   "outputs": [],
   "source": [
    "class Parent:\n",
    "    def myMethod(self):\n",
    "        print('Calling parent method')\n",
    "class Child(Parent):\n",
    "    def myMethod(self):\n",
    "        print('Calling child method')\n",
    "c = Child() # instance of child\n",
    "c.myMethod() # child calls overridden method"
   ]
  },
  {
   "cell_type": "markdown",
   "metadata": {},
   "source": [
    "### p13, 상속 "
   ]
  },
  {
   "cell_type": "code",
   "execution_count": null,
   "metadata": {},
   "outputs": [],
   "source": [
    "class A(object):\n",
    "    def __init__(self, x):\n",
    "        self.x = x\n",
    "    def f(self):\n",
    "        return 10*self.x\n",
    "class B(A):\n",
    "    def g(self):\n",
    "        return 1000*self.x"
   ]
  },
  {
   "cell_type": "code",
   "execution_count": null,
   "metadata": {
    "scrolled": false
   },
   "outputs": [],
   "source": [
    "print(A(5).f())\n",
    "print(B(7).g())\n",
    "print(B(7).f())\n",
    "# print(A(5).g()) # error"
   ]
  },
  {
   "cell_type": "code",
   "execution_count": null,
   "metadata": {},
   "outputs": [],
   "source": [
    "class A:\n",
    "    def A(self):\n",
    "        print(\"I am A\")\n",
    "class B:\n",
    "    def A(self):\n",
    "        print(\"I am B\")\n",
    "    def B(self):\n",
    "        print(\"I am B\")\n",
    "class C(A, B):\n",
    "    def C(self):\n",
    "        print(\"I am C\")"
   ]
  },
  {
   "cell_type": "markdown",
   "metadata": {},
   "source": [
    "### p14, Overrding methods in subclass"
   ]
  },
  {
   "cell_type": "code",
   "execution_count": 10,
   "metadata": {},
   "outputs": [
    {
     "name": "stdout",
     "output_type": "stream",
     "text": [
      "50\n",
      "500\n",
      "7000\n",
      "(700, 99)\n",
      "<class 'tuple'>\n"
     ]
    }
   ],
   "source": [
    "class A(object):\n",
    "    def __init__(self, x):\n",
    "        self.x = x\n",
    "    def f(self):\n",
    "        return 10*self.x\n",
    "    def g(self):\n",
    "        return 100*self.x\n",
    "class B(A):\n",
    "    def __init__(self, x=42, y=99):\n",
    "        self.x = x\n",
    "        #super().__init__(x) # call overridden init!\n",
    "        self.y = y\n",
    "    def f(self):\n",
    "        return 1000*self.x\n",
    "    def g(self):\n",
    "        return (super().g(), self.y) # tuple type으로 묶여 return\n",
    "a = A(5)\n",
    "b = B(7)\n",
    "print(a.f())\n",
    "print(a.g())\n",
    "print(b.f()) # B()안이 비었을 때, default 값인 x=42이가 입력됨\n",
    "print(b.g()) # default y=99 입력\n",
    "print(type(b.g()))"
   ]
  },
  {
   "cell_type": "markdown",
   "metadata": {},
   "source": [
    "### p15, Checking relationships among classes and instances"
   ]
  },
  {
   "cell_type": "raw",
   "metadata": {},
   "source": [
    "class A: pass\n",
    "class B(A): pass\n",
    "a = A()\n",
    "b = B()\n",
    "print(type(a) == A) # True\n",
    "print(type(b) == A) # False\n",
    "print(type(a) == B) # False\n",
    "print(type(a) == B) # True\n",
    "print()\n",
    "print(isinstance(a, A)) # True\n",
    "print(isinstance(b, A)) # True ****** 헤깔려서 시험에 나올 수도\n",
    "print(isinstance(a, B)) # False\n",
    "print(isinstance(b, B)) # True"
   ]
  },
  {
   "cell_type": "markdown",
   "metadata": {},
   "source": [
    "### p17, Multiple 상속"
   ]
  },
  {
   "cell_type": "code",
   "execution_count": 11,
   "metadata": {
    "scrolled": false
   },
   "outputs": [
    {
     "name": "stdout",
     "output_type": "stream",
     "text": [
      "I am A\n",
      "I am B\n",
      "I am C\n"
     ]
    }
   ],
   "source": [
    "class A:\n",
    "    def A(self):\n",
    "        print('I am A')\n",
    "class B:\n",
    "    def A(self):\n",
    "        print('I am A')\n",
    "    def B(self):\n",
    "        print('I am B')\n",
    "class C(A, B):\n",
    "    def C(self):\n",
    "        print('I am C')\n",
    "C = C()\n",
    "C.A() # A\n",
    "C.B() # B\n",
    "C.C() # C\n",
    "# C는 A, B를 상속받는다.\n",
    "# A가 B의 왼쪽에 있기 때문에 C.A()는 A.A()를 호출한다.\n",
    "# 순서: left-to-right\n",
    "\n"
   ]
  },
  {
   "cell_type": "markdown",
   "metadata": {},
   "source": [
    "### p20-22, Accessing the indside of class"
   ]
  },
  {
   "cell_type": "code",
   "execution_count": 12,
   "metadata": {},
   "outputs": [
    {
     "name": "stdout",
     "output_type": "stream",
     "text": [
      "10\n",
      "10\n",
      "10\n"
     ]
    }
   ],
   "source": [
    "class hello:\n",
    "    var1 = 10\n",
    "    _var2 = 20\n",
    "    def print_var1(self):\n",
    "        print(self.var1)\n",
    "    def _print_var1(self):\n",
    "        print(self.var1)\n",
    "    def print_var2(self):\n",
    "        print(self.var2)\n",
    "    def _print_var2(self):\n",
    "        print(self.var2)\n",
    "\n",
    "apple = 'real_apple'\n",
    "_apple = 'under_apple'\n",
    "\n",
    "def print_apple():\n",
    "    print('apple from another file!')\n",
    "def _print_under_apple():\n",
    "    print('underbar apple from another file!')\n",
    "\n",
    "a = hello()\n",
    "print(a.var1) # 10\n",
    "# print(a._var1) # error\n",
    "\n",
    "a.print_var1() # 10\n",
    "a._print_var1() # 10\n",
    "# a.print_var2() # error\n",
    "# a._print_var2() # error"
   ]
  },
  {
   "cell_type": "code",
   "execution_count": 13,
   "metadata": {},
   "outputs": [
    {
     "name": "stdout",
     "output_type": "stream",
     "text": [
      "1\n",
      "2\n",
      "2\n"
     ]
    }
   ],
   "source": [
    "class JustCounter:\n",
    "    __secretCount = 0\n",
    "    def count(self):\n",
    "        self.__secretCount += 1\n",
    "        print(self.__secretCount) # class 내부에서는 접근 가능\n",
    "\n",
    "counter = JustCounter()\n",
    "counter.count() # 1\n",
    "counter.count() # 2, count()method를 통해서 실행할 때는 _secretCount 값 access\n",
    "# print(counter.__secretCount) # class 외부에서는 접근 불가\n",
    "# counter_object를 통해서 _secretCount는 access 금지\n",
    "\n",
    "# p22\n",
    "print(counter._JustCounter__secretCount) # '__' 이용해서 접근 가능"
   ]
  },
  {
   "cell_type": "markdown",
   "metadata": {},
   "source": [
    "### p23, private variable"
   ]
  },
  {
   "cell_type": "code",
   "execution_count": 14,
   "metadata": {},
   "outputs": [
    {
     "name": "stdout",
     "output_type": "stream",
     "text": [
      "Yang Li\n",
      "Yingying Gu\n"
     ]
    }
   ],
   "source": [
    "class Person:\n",
    "    def __init__(self):\n",
    "        self.A = \"Yang Li\" # public\n",
    "        self.__B = \"Yingying Gu\" # private\n",
    "    def PrintName(self):\n",
    "        print(self.A)\n",
    "        print(self.__B)\n",
    "        \n",
    "P = Person()\n",
    "P.A # 'Yang Li', accss public variable out of class\n",
    "# p.__B # fail to access private variable out of class\n",
    "P.PrintName() # 'Yingying Gu', 클래스 내 함수를 통해 접근 가능\n",
    "\n",
    "# variable__B는 외부에서 직접 접근은 불가능\n",
    "# 클래스 내의 함수를 통해서는 접근 가능!"
   ]
  },
  {
   "cell_type": "markdown",
   "metadata": {},
   "source": [
    "# Class Variable"
   ]
  },
  {
   "cell_type": "markdown",
   "metadata": {},
   "source": [
    "### p26"
   ]
  },
  {
   "cell_type": "code",
   "execution_count": 15,
   "metadata": {},
   "outputs": [
    {
     "name": "stdout",
     "output_type": "stream",
     "text": [
      "American Auto Association\n",
      "John\n",
      "123\n"
     ]
    }
   ],
   "source": [
    "# instance variable vs. class variable\n",
    "class AAA_Club:\n",
    "    club_name = \"American Auto Association\"  # class variable\n",
    "    def __init__ (self, name, num):\n",
    "        self.name = name                     # instance variable\n",
    "        self.member_id = num\n",
    "\n",
    "John = AAA_Club(\"John\", 123)\n",
    "Bob = AAA_Club(\"Bob\", 123)\n",
    "print(AAA_Club.club_name)\n",
    "print(John.name)\n",
    "print(Bob.member_id)"
   ]
  },
  {
   "cell_type": "markdown",
   "metadata": {},
   "source": [
    "### p27, accessing class variable"
   ]
  },
  {
   "cell_type": "code",
   "execution_count": 16,
   "metadata": {},
   "outputs": [
    {
     "name": "stdout",
     "output_type": "stream",
     "text": [
      "4\n",
      "4\n"
     ]
    }
   ],
   "source": [
    "class Car(object):\n",
    "    wheels = 4 # class variable\n",
    "    \n",
    "    def __init__(self, make, model):\n",
    "        self.make = make\n",
    "        self.model = model\n",
    "mustang = Car('Ford', 'Mustang')\n",
    "print(mustang.wheels)\n",
    "print(Car.wheels)\n"
   ]
  },
  {
   "cell_type": "markdown",
   "metadata": {},
   "source": [
    "### p28"
   ]
  },
  {
   "cell_type": "code",
   "execution_count": 17,
   "metadata": {},
   "outputs": [],
   "source": [
    "class A(object):\n",
    "    def foo(self):\n",
    "        print(\"executing foo\")\n",
    "        \n",
    "    @classmethod\n",
    "    def class_foo(cls):\n",
    "        print(\"executing class_foo\")"
   ]
  },
  {
   "cell_type": "code",
   "execution_count": 18,
   "metadata": {},
   "outputs": [
    {
     "name": "stdout",
     "output_type": "stream",
     "text": [
      "executing class_foo\n",
      "executing foo\n",
      "executing class_foo\n"
     ]
    }
   ],
   "source": [
    "a = A()\n",
    "# A.foo() # error, instance method foo()를 class A에서 호출할 수 없다.\n",
    "A.class_foo() # class method인 class_foo()를 class A에서 호출\n",
    "a.foo()\n",
    "a.class_foo() # class method인 class_foo()를 instanc a에서 호출"
   ]
  },
  {
   "cell_type": "markdown",
   "metadata": {},
   "source": [
    "###  p29-30, Employee Class with a Class Variable empCount"
   ]
  },
  {
   "cell_type": "code",
   "execution_count": 19,
   "metadata": {},
   "outputs": [],
   "source": [
    "class Employee:\n",
    "    'Common base class for all emplyees' # documentation '', ''' ''' 여러줄 쓸 수 있음\n",
    "    empCount = 0 # class variable, Employee 전체에 대한 variable 이므로\n",
    "    \n",
    "    def __init__(self, name, salary): # instance가 생성될 때 실행되어Employee object 생성\n",
    "        self.name = name # instance varible \n",
    "        self.salary = salary # instance varible --> self.xxx\n",
    "        Employee.empCount += 1 # class variable이므로 class 이름을 붙여서 접근\n",
    "        \n",
    "    def displayCount(self):\n",
    "        print(\"Total Employee %d\" % Emplyee.empCount)\n",
    "    def displayEmployee(self):\n",
    "        print(\"Name : \", self.name, \", Salary: \", self.salary)\n",
    "    "
   ]
  },
  {
   "cell_type": "code",
   "execution_count": 20,
   "metadata": {},
   "outputs": [
    {
     "name": "stdout",
     "output_type": "stream",
     "text": [
      "Name :  Zara , Salary:  2000\n",
      "Name :  Manni , Salary:  5000\n",
      "Total Employee 2\n"
     ]
    }
   ],
   "source": [
    "emp1 = Employee(\"Zara\", 2000) \n",
    "emp2 = Employee(\"Manni\", 5000)\n",
    "emp1.displayEmployee()\n",
    "emp2.displayEmployee()\n",
    "print(\"Total Employee %d\" % Employee.empCount)"
   ]
  },
  {
   "cell_type": "markdown",
   "metadata": {},
   "source": [
    "### p30, Built-in special class variables"
   ]
  },
  {
   "cell_type": "code",
   "execution_count": 21,
   "metadata": {},
   "outputs": [
    {
     "name": "stdout",
     "output_type": "stream",
     "text": [
      "Common base class for all emplyees\n",
      "Employee\n",
      "__main__\n",
      "(<class 'object'>,)\n",
      "{'__module__': '__main__', '__doc__': 'Common base class for all emplyees', 'empCount': 2, '__init__': <function Employee.__init__ at 0x000001C65D6BD488>, 'displayCount': <function Employee.displayCount at 0x000001C65D6BD730>, 'displayEmployee': <function Employee.displayEmployee at 0x000001C65D6BDE18>, '__dict__': <attribute '__dict__' of 'Employee' objects>, '__weakref__': <attribute '__weakref__' of 'Employee' objects>}\n"
     ]
    }
   ],
   "source": [
    "print(Employee.__doc__) # class에 대한 정보, built-in special class variables\n",
    "print(Employee.__name__)\n",
    "print(Employee.__module__)\n",
    "print(Employee.__bases__)\n",
    "# __dict__: Class 내부에 있는 모든 symbol들에 대해서 dictionary 형태\n",
    "# (symbol: variable, function, class, 등 모든 것을 총칭)로 \n",
    "# 가지고 있는 special class variable\n",
    "print(Employee.__dict__) "
   ]
  },
  {
   "cell_type": "markdown",
   "metadata": {},
   "source": [
    "# special class method"
   ]
  },
  {
   "cell_type": "markdown",
   "metadata": {},
   "source": [
    "## Python Built-In  Special Class Methods, p40"
   ]
  },
  {
   "cell_type": "raw",
   "metadata": {},
   "source": [
    "__init__( ) \n",
    "__del__( )\n",
    "__add__( )\n",
    "__sub__( )\n",
    "__mult__( )\n",
    "__div__( )\n",
    "__float__( )\n",
    "__str__( )\n",
    "__repr__( )\n",
    "__hash__( )\n",
    "__lt__( )\n",
    "__le__( )\n",
    "__gt__( )\n",
    "__ge__( )\n",
    "__eq__( )\n",
    "__iter__( )\n",
    "__next__( )"
   ]
  },
  {
   "cell_type": "markdown",
   "metadata": {},
   "source": [
    "### User-defined vector class, 내가 data type을 만든다, p41 => 어려움"
   ]
  },
  {
   "cell_type": "code",
   "execution_count": 22,
   "metadata": {},
   "outputs": [],
   "source": [
    "class Vector:\n",
    "    def __init__(self, a, b):\n",
    "        self.a = a\n",
    "        self.b = b\n",
    "    # print 하면 어떻게 표현되는지에 대해서도 define 해줘야함 --> __str__\n",
    "    def __str__(self): \n",
    "        return 'Vector (%d, %d)' % (self.a, self.b)\n",
    "    \n",
    "    def __add__(self, other):\n",
    "        return Vector(self.a + other.a, self.b + other.b)"
   ]
  },
  {
   "cell_type": "code",
   "execution_count": 23,
   "metadata": {
    "scrolled": true
   },
   "outputs": [
    {
     "name": "stdout",
     "output_type": "stream",
     "text": [
      "Vector (7, 8)\n"
     ]
    }
   ],
   "source": [
    "v1 = Vector(2, 10)\n",
    "v2 = Vector(5, -2)\n",
    "print(v1 + v2)"
   ]
  },
  {
   "cell_type": "markdown",
   "metadata": {},
   "source": [
    "### p42-44 => 중요"
   ]
  },
  {
   "cell_type": "code",
   "execution_count": 24,
   "metadata": {},
   "outputs": [
    {
     "ename": "NameError",
     "evalue": "name 'gcd' is not defined",
     "output_type": "error",
     "traceback": [
      "\u001b[1;31m---------------------------------------------------------------------------\u001b[0m",
      "\u001b[1;31mNameError\u001b[0m                                 Traceback (most recent call last)",
      "\u001b[1;32m<ipython-input-24-7851df478679>\u001b[0m in \u001b[0;36m<module>\u001b[1;34m\u001b[0m\n\u001b[0;32m     22\u001b[0m         \u001b[1;32mreturn\u001b[0m \u001b[0ma\u001b[0m\u001b[1;33m\u001b[0m\u001b[1;33m\u001b[0m\u001b[0m\n\u001b[0;32m     23\u001b[0m \u001b[1;33m\u001b[0m\u001b[0m\n\u001b[1;32m---> 24\u001b[1;33m \u001b[0mf1\u001b[0m \u001b[1;33m=\u001b[0m \u001b[0mFraction\u001b[0m\u001b[1;33m(\u001b[0m\u001b[1;36m4\u001b[0m\u001b[1;33m,\u001b[0m \u001b[1;36m6\u001b[0m\u001b[1;33m)\u001b[0m\u001b[1;33m\u001b[0m\u001b[1;33m\u001b[0m\u001b[0m\n\u001b[0m\u001b[0;32m     25\u001b[0m \u001b[0mf2\u001b[0m \u001b[1;33m=\u001b[0m \u001b[0mFraction\u001b[0m\u001b[1;33m(\u001b[0m\u001b[1;36m5\u001b[0m\u001b[1;33m,\u001b[0m \u001b[1;36m9\u001b[0m\u001b[1;33m)\u001b[0m\u001b[1;33m\u001b[0m\u001b[1;33m\u001b[0m\u001b[0m\n\u001b[0;32m     26\u001b[0m \u001b[0mprint\u001b[0m\u001b[1;33m(\u001b[0m\u001b[0mf1\u001b[0m\u001b[1;33m)\u001b[0m\u001b[1;33m\u001b[0m\u001b[1;33m\u001b[0m\u001b[0m\n",
      "\u001b[1;32m<ipython-input-24-7851df478679>\u001b[0m in \u001b[0;36m__init__\u001b[1;34m(self, num, den)\u001b[0m\n\u001b[0;32m      3\u001b[0m         \u001b[0mself\u001b[0m\u001b[1;33m.\u001b[0m\u001b[0mnum\u001b[0m \u001b[1;33m=\u001b[0m \u001b[0mnum\u001b[0m\u001b[1;33m\u001b[0m\u001b[1;33m\u001b[0m\u001b[0m\n\u001b[0;32m      4\u001b[0m         \u001b[0mself\u001b[0m\u001b[1;33m.\u001b[0m\u001b[0mden\u001b[0m \u001b[1;33m=\u001b[0m \u001b[0mden\u001b[0m\u001b[1;33m\u001b[0m\u001b[1;33m\u001b[0m\u001b[0m\n\u001b[1;32m----> 5\u001b[1;33m         \u001b[0mself\u001b[0m\u001b[1;33m.\u001b[0m\u001b[0msimplify\u001b[0m\u001b[1;33m(\u001b[0m\u001b[1;33m)\u001b[0m \u001b[1;31m# p52에서 가져옴\u001b[0m\u001b[1;33m\u001b[0m\u001b[1;33m\u001b[0m\u001b[0m\n\u001b[0m\u001b[0;32m      6\u001b[0m     \u001b[1;32mdef\u001b[0m \u001b[0mtoString\u001b[0m\u001b[1;33m(\u001b[0m\u001b[0mself\u001b[0m\u001b[1;33m)\u001b[0m\u001b[1;33m:\u001b[0m\u001b[1;33m\u001b[0m\u001b[1;33m\u001b[0m\u001b[0m\n\u001b[0;32m      7\u001b[0m         \u001b[1;32mreturn\u001b[0m \u001b[0mstr\u001b[0m\u001b[1;33m(\u001b[0m\u001b[0mself\u001b[0m\u001b[1;33m.\u001b[0m\u001b[0mnum\u001b[0m\u001b[1;33m)\u001b[0m \u001b[1;33m+\u001b[0m \u001b[1;34m\"/\"\u001b[0m \u001b[1;33m+\u001b[0m \u001b[0mstr\u001b[0m\u001b[1;33m(\u001b[0m\u001b[0mself\u001b[0m\u001b[1;33m.\u001b[0m\u001b[0mden\u001b[0m\u001b[1;33m)\u001b[0m\u001b[1;33m\u001b[0m\u001b[1;33m\u001b[0m\u001b[0m\n",
      "\u001b[1;32m<ipython-input-24-7851df478679>\u001b[0m in \u001b[0;36msimplify\u001b[1;34m(self)\u001b[0m\n\u001b[0;32m     13\u001b[0m \u001b[1;33m\u001b[0m\u001b[0m\n\u001b[0;32m     14\u001b[0m     \u001b[1;32mdef\u001b[0m \u001b[0msimplify\u001b[0m\u001b[1;33m(\u001b[0m\u001b[0mself\u001b[0m\u001b[1;33m)\u001b[0m\u001b[1;33m:\u001b[0m\u001b[1;33m\u001b[0m\u001b[1;33m\u001b[0m\u001b[0m\n\u001b[1;32m---> 15\u001b[1;33m         \u001b[0mg\u001b[0m \u001b[1;33m=\u001b[0m \u001b[0mgcd\u001b[0m\u001b[1;33m(\u001b[0m\u001b[0mself\u001b[0m\u001b[1;33m.\u001b[0m\u001b[0mnum\u001b[0m\u001b[1;33m,\u001b[0m \u001b[0mself\u001b[0m\u001b[1;33m.\u001b[0m\u001b[0mden\u001b[0m\u001b[1;33m)\u001b[0m\u001b[1;33m\u001b[0m\u001b[1;33m\u001b[0m\u001b[0m\n\u001b[0m\u001b[0;32m     16\u001b[0m         \u001b[0mself\u001b[0m\u001b[1;33m.\u001b[0m\u001b[0mnum\u001b[0m \u001b[1;33m=\u001b[0m \u001b[0mself\u001b[0m\u001b[1;33m.\u001b[0m\u001b[0mnum\u001b[0m\u001b[1;33m//\u001b[0m\u001b[0mg\u001b[0m\u001b[1;33m\u001b[0m\u001b[1;33m\u001b[0m\u001b[0m\n\u001b[0;32m     17\u001b[0m         \u001b[0mself\u001b[0m\u001b[1;33m.\u001b[0m\u001b[0mden\u001b[0m \u001b[1;33m=\u001b[0m \u001b[0mself\u001b[0m\u001b[1;33m.\u001b[0m\u001b[0mden\u001b[0m\u001b[1;33m//\u001b[0m\u001b[0mg\u001b[0m\u001b[1;33m\u001b[0m\u001b[1;33m\u001b[0m\u001b[0m\n",
      "\u001b[1;31mNameError\u001b[0m: name 'gcd' is not defined"
     ]
    }
   ],
   "source": [
    "class Fraction(object):\n",
    "    def __init__(self, num, den):\n",
    "        self.num = num\n",
    "        self.den = den\n",
    "        self.simplify() # p52에서 가져옴\n",
    "    def toString(self):\n",
    "        return str(self.num) + \"/\" + str(self.den)\n",
    "    \n",
    "    def add(self, other): # other은 fraction type으로 입력 받을 것으로 간주\n",
    "        self.num1 = self.num * other.den\n",
    "        other.num1 = other.num + self.den\n",
    "        return Fraction(self.num1 + other.num1, self.den * other.den)\n",
    "    \n",
    "    def simplify(self): \n",
    "        g = gcd(self.num, self.den)\n",
    "        self.num = self.num//g\n",
    "        self.den = self.den//g\n",
    "    @staticmethod\n",
    "    def gcd(a, b): # \"self가 없음\"\n",
    "        while(b != 0):\n",
    "            (a, b) = (b, a%b)\n",
    "        return a\n",
    "\n",
    "f1 = Fraction(4, 6)\n",
    "f2 = Fraction(5, 9)\n",
    "print(f1)\n",
    "print(f1.toString()) # \"2/3\"\n",
    "print(f1.add(f2).toString())\n",
    "print(f1.__str__()) # print implicitly calls object's __str__ method\n"
   ]
  },
  {
   "cell_type": "code",
   "execution_count": null,
   "metadata": {},
   "outputs": [],
   "source": [
    "class Fraction(object):\n",
    "    def __init__(self, num, den):\n",
    "        self.num = num\n",
    "        self.den = den\n",
    "#         self.simplify() # method가 나와있지 않아 주석 처리\n",
    "    def __str__(self): # __str__ 있어야 print()가 call 할 때 print됨\n",
    "        return str(self.num) + \"/\" + str(self.den)\n",
    "    \n",
    "f1 = Fraction(4, 6)\n",
    "f2 = Fraction(5, 9)    \n",
    "print(f1) # \"4/6\"\n",
    "# print(f1.add(f2))"
   ]
  },
  {
   "cell_type": "markdown",
   "metadata": {},
   "source": [
    "### p45 "
   ]
  },
  {
   "cell_type": "code",
   "execution_count": null,
   "metadata": {},
   "outputs": [],
   "source": [
    "def __eq__(self, other):\n",
    "    return ((self.num == other.num) and (self.den == other.den))\n",
    "# user-defined data type이기 때문에, 내가 어떻게 해야하는지 정해줘야함.\n",
    "\n",
    "f1 = Fraction(4,6)\n",
    "f2 = Fraction(2,3)\n",
    "f3 = Fraction(2,4)\n",
    "print(f1 == f2)\n",
    "print(f1 == f3)\n",
    "print(f1 == 5)\n",
    "\n",
    "def __eq__(self, other):\n",
    "    return isinstance(other, Fraction) and (self.num == other.num) and (self.den == other.den)\n",
    "f1 = Fraction(4,6)\n",
    "f2 = Fraction(2,3)\n",
    "f3 = Fraction(2,4)\n",
    "print(f1 == f2)\n",
    "print(f1 == f3)\n",
    "print(f1 == 5)"
   ]
  },
  {
   "cell_type": "markdown",
   "metadata": {},
   "source": [
    "### p47~48, __repr__() vs. __str__()"
   ]
  },
  {
   "cell_type": "code",
   "execution_count": null,
   "metadata": {},
   "outputs": [],
   "source": [
    "class TClass(object):\n",
    "    def __init__(self, x, y):\n",
    "        self.x = x\n",
    "        self.y = y\n",
    "    def foo(self):\n",
    "        return self.x + self.y\n",
    "    def __str__(self):\n",
    "        return (\"Printing the testobject: \\n   Object with \"\n",
    "               \"(x: \" + str(self.x) + \" , \" + \"y: \" + str(self.y) + \")\")\n",
    "    def __repr__(self): # official representation\n",
    "        return \"TClass(x = %s, y = %s)\" %(self.x, self.y)\n",
    "# __str__() is called by str() and print() to compute the “informal” string representation of an object.\n",
    "# __repr__() is called by repr() to compute the “official” string representation of an object \n",
    "# __str__() 이 없으면 print() 는 __repr__() 을 call한다.\n",
    "\n",
    "\n",
    "testobject = TClass(10, 10)"
   ]
  },
  {
   "cell_type": "code",
   "execution_count": null,
   "metadata": {},
   "outputs": [],
   "source": [
    "testobject # related with _repr__"
   ]
  },
  {
   "cell_type": "code",
   "execution_count": null,
   "metadata": {},
   "outputs": [],
   "source": [
    "print(testobject) # related with __str_"
   ]
  },
  {
   "cell_type": "code",
   "execution_count": null,
   "metadata": {},
   "outputs": [],
   "source": [
    "list = [1,2,3,4]\n",
    "def g(list):\n",
    "    if len(list) == 0:\n",
    "        return []\n",
    "    else:\n",
    "        if list[0] %2 == 0:\n",
    "            return list[0:1] + g[list[1:]]\n",
    "\n"
   ]
  },
  {
   "cell_type": "markdown",
   "metadata": {},
   "source": [
    "# Static Method (function) "
   ]
  },
  {
   "cell_type": "markdown",
   "metadata": {},
   "source": [
    "### p51-55, static method inside class"
   ]
  },
  {
   "cell_type": "code",
   "execution_count": null,
   "metadata": {},
   "outputs": [],
   "source": [
    "# global 함수\n",
    "class Fraction(object):\n",
    "    def __init__(self, num, den):\n",
    "        self.num = num\n",
    "        self.den = den\n",
    "        self.simplify()\n",
    "    def simplify(self): \n",
    "        g = gcd(self.num, self.den)\n",
    "        self.num = self.num//g\n",
    "        self.den = self.den//g\n",
    "    \n",
    "# global 함수\n",
    "def gcd(a, b): # 최대공약수\n",
    "    while(b != 0):\n",
    "        (a, b) = (b, a%b)\n",
    "    return a\n",
    "gcd(10,2)"
   ]
  },
  {
   "cell_type": "code",
   "execution_count": null,
   "metadata": {},
   "outputs": [],
   "source": [
    "# static method, class 안에서만 사용하는 method\n",
    "class Fraction(object):\n",
    "    def __init__(self, num, den):\n",
    "        self.num = num\n",
    "        self.den = den\n",
    "        self.simplify()\n",
    "    def simplify(self): # instance 함수일 경우 self 있음\n",
    "        g = Fraction.gcd(self.num, self.den) # 클래스이름.gcd()로 접근\n",
    "        self.num = self.num//g\n",
    "        self.den = self.den//g\n",
    "        \n",
    "    # Fraction class에 parking한 static function이므로\n",
    "    # Fraction.gcd()로 access되고, global한 함수로는 사용되지 않음\n",
    "    @staticmethod \n",
    "    def gcd(a, b): # \"self가 없음\"\n",
    "        while(b != 0):\n",
    "            (a, b) = (b, a%b)\n",
    "        return a\n",
    "gcd(10,2)"
   ]
  },
  {
   "cell_type": "markdown",
   "metadata": {},
   "source": [
    "# Abstract class"
   ]
  },
  {
   "cell_type": "markdown",
   "metadata": {},
   "source": [
    "### p57, class generalization (code factorization): \n",
    "\n",
    "공통된 것을 따로 구성하여 super class 만든다."
   ]
  },
  {
   "cell_type": "markdown",
   "metadata": {},
   "source": [
    "### p61, ABC (Abstract Base Class) using abc module"
   ]
  },
  {
   "cell_type": "code",
   "execution_count": 25,
   "metadata": {},
   "outputs": [],
   "source": [
    "# Abstract Base Class: one of the key features of OOP\n",
    "from abc import ABC, abstractclassmethod\n",
    "class BaseClass(ABC):\n",
    "    @abstractclassmethod\n",
    "    def func1(self):\n",
    "        pass\n",
    "    @abstractclassmethod\n",
    "    def func2(self):\n",
    "        pass\n",
    "# abc 클래스를 이용하면, BaseClass는 인스턴스 생성 불가\n",
    "#"
   ]
  },
  {
   "cell_type": "code",
   "execution_count": 26,
   "metadata": {},
   "outputs": [
    {
     "data": {
      "text/plain": [
       "<__main__.Pizza at 0x1c65d61e588>"
      ]
     },
     "execution_count": 26,
     "metadata": {},
     "output_type": "execute_result"
    }
   ],
   "source": [
    "# p63~64\n",
    "# 1) abstract class는 instance를 만들면 안됨\n",
    "# 2) abstract method는 선언은 해주지만 내용은 없음 -> base class에서는 반드시 사용해야함\n",
    "# base class에서 instance를 만들어야 함\n",
    "# base class에서 특정 method를 만들도록 강제함\n",
    "\n",
    "class Pizza():\n",
    "    def get_radius(self):\n",
    "        raise NotImplementedError\n",
    "        \n",
    "Pizza()"
   ]
  },
  {
   "cell_type": "code",
   "execution_count": 27,
   "metadata": {},
   "outputs": [],
   "source": [
    "from abc import ABC, abstractclassmethod\n",
    "class Pizza(ABC):\n",
    "    @abstractclassmethod\n",
    "    def get_radius(self):\n",
    "        pass\n",
    "\n",
    "class NY_Pizza(Pizza): # abstract의 subclass는 반드시 get_radius() 구현\n",
    "    def get_radius(self):\n",
    "        pass\n",
    "# Pizza()  # abstract class이므로 instantiation 금지"
   ]
  },
  {
   "cell_type": "markdown",
   "metadata": {},
   "source": [
    "### p69~73, Abstact class 예제"
   ]
  },
  {
   "cell_type": "code",
   "execution_count": 28,
   "metadata": {},
   "outputs": [],
   "source": [
    "#69\n",
    "class Car(object):\n",
    "    def __init__(self, wheels, miles, make, model, year, sold_on):\n",
    "        self.wheels = wheels\n",
    "        self.miles = miles\n",
    "        self.make = make\n",
    "        self.model = model\n",
    "        self.year = year\n",
    "        self.sold_on = sold_on\n",
    "    \n",
    "    def sale_price(self):\n",
    "        if self.sold_on is not None:\n",
    "            return 0.0\n",
    "        return 5000.0 * self.wheels\n",
    "    \n",
    "    def purchase_price(self):\n",
    "        if self.sold_on is None:\n",
    "            return 0.0\n",
    "        return 8000 - (.10 * self.miles) # 이 부분이 Truck과 다름\n",
    "\n",
    "class Truck(object):\n",
    "    def __init__(self, wheels, miles, make, model, year, sold_on):\n",
    "        self.wheels = wheels\n",
    "        self.miles = miles\n",
    "        self.make = make\n",
    "        self.model = model\n",
    "        self.year = year\n",
    "        self.sold_on = sold_on\n",
    "    \n",
    "    def sale_price(self):\n",
    "        if self.sold_on is not None:\n",
    "            return 0.0\n",
    "        return 5000.0 * self.wheels\n",
    "    \n",
    "    def purchase_price(self):\n",
    "        if self.sold_on is None:\n",
    "            return 0.0\n",
    "        return 10000 - (.10 * self.miles) # 이 부분이 Car와 다름"
   ]
  },
  {
   "cell_type": "code",
   "execution_count": 29,
   "metadata": {},
   "outputs": [
    {
     "name": "stdout",
     "output_type": "stream",
     "text": [
      "0.0\n"
     ]
    }
   ],
   "source": [
    "# p70~71\n",
    "class Vehicle(object):\n",
    "    base_sale_price = 0\n",
    "    \n",
    "    def __init__(self, wheels, miles, make, model, year, sold_on):\n",
    "        self.wheels = wheels\n",
    "        self.miles = miles\n",
    "        self.make = make\n",
    "        self.model = model\n",
    "        self.year = year\n",
    "        self.sold_on = sold_on\n",
    "    \n",
    "    def sale_price(self):\n",
    "        if self.sold_on is not None:\n",
    "            return 0.0\n",
    "        return 5000.0 * self.wheels\n",
    "    \n",
    "    def purchase_price(self):\n",
    "        if self.sold_on is None:\n",
    "            return 0.0\n",
    "        return self.base_sale_price - (.10 * self.miles)\n",
    "\n",
    "\n",
    "class Car(Vehicle):\n",
    "    def __init__(self, wheels, miles, make, model, year, sold_on):\n",
    "        self.wheels = wheels\n",
    "        self.miles = miles\n",
    "        self.make = make\n",
    "        self.model = model\n",
    "        self.year = year\n",
    "        self.sold_on = sold_on\n",
    "        self.base_sale_price = 8000\n",
    "    \n",
    "    def sale_price(self):\n",
    "        if self.sold_on is not None:\n",
    "            return 0.0\n",
    "        return 5000.0 * self.wheels\n",
    "    \n",
    "    def purchase_price(self):\n",
    "        if self.sold_on is None:\n",
    "            return 0.0\n",
    "        return 8000 - (.10 * self.miles) # 이 부분이 Truck과 다름\n",
    "\n",
    "class Truck(Vehicle):\n",
    "    def __init__(self, wheels, miles, make, model, year, sold_on):\n",
    "        self.wheels = wheels\n",
    "        self.miles = miles\n",
    "        self.make = make\n",
    "        self.model = model\n",
    "        self.year = year\n",
    "        self.sold_on = sold_on\n",
    "        self.base_sale_price = 10000\n",
    "    \n",
    "    def sale_price(self):\n",
    "        if self.sold_on is not None:\n",
    "            return 0.0\n",
    "        return 5000.0 * self.wheels\n",
    "    \n",
    "    def purchase_price(self):\n",
    "        if self.sold_on is None:\n",
    "            return 0.0\n",
    "        return 10000 - (.10 * self.miles) # 이 부분이 Car와 다름    \n",
    "\n",
    "v = Vehicle(4, 0, 'Honda', 'Accord', 2014, None)\n",
    "print(v.purchase_price())"
   ]
  },
  {
   "cell_type": "code",
   "execution_count": 30,
   "metadata": {},
   "outputs": [
    {
     "name": "stdout",
     "output_type": "stream",
     "text": [
      "7990.0\n",
      "20000.0\n"
     ]
    }
   ],
   "source": [
    "# p72~73, Abstract class\n",
    "from abc import ABC, abstractclassmethod\n",
    "class Vehicle(object):\n",
    "    base_sale_price = 0\n",
    "    wheels = 0\n",
    "    \n",
    "    def __init__(self, wheels, miles, make, model, year, sold_on):\n",
    "        self.wheels = wheels\n",
    "        self.miles = miles\n",
    "        self.make = make\n",
    "        self.model = model\n",
    "        self.year = year\n",
    "        self.sold_on = sold_on\n",
    "    \n",
    "    def sale_price(self):\n",
    "        if self.sold_on is not None:\n",
    "            return 0.0\n",
    "        return 5000.0 * self.wheels\n",
    "    \n",
    "    def purchase_price(self):\n",
    "        if self.sold_on is None:\n",
    "            return 0.0\n",
    "        return self.base_sale_price - (.10 * self.miles) \n",
    "    \n",
    "    @abstractclassmethod\n",
    "    def vehicle_type(self):\n",
    "        pass\n",
    "\n",
    "class Car(Vehicle):\n",
    "    base_sale_price = 8000\n",
    "    wheels = 4\n",
    "        \n",
    "    def vehicle_type(self):\n",
    "        return 'car'\n",
    "\n",
    "class Truck(Vehicle):\n",
    "    base_sale_price = 10000\n",
    "    wheels = 4   \n",
    "    \n",
    "    def vehicle_type(self):\n",
    "        return 'truck'\n",
    "\n",
    "class Motorcycle(Vehicle):\n",
    "    def __init__(self, wheels, miles, make, model, year, sold_on):\n",
    "        base_sale_price = 4000\n",
    "        wheels = 2\n",
    "    \n",
    "    def vehicle_type(self):\n",
    "        return 'motorcycle'\n",
    "    \n",
    "v1 = Car(4, 100, 'Honda', 'Accord', 2014, 1)\n",
    "print(v1.purchase_price())\n",
    "v2 = Car(4, 100, 'Honda', 'Accord', 2014, None)\n",
    "print(v2.sale_price())"
   ]
  },
  {
   "cell_type": "markdown",
   "metadata": {},
   "source": [
    "# Iterator Object"
   ]
  },
  {
   "cell_type": "markdown",
   "metadata": {},
   "source": [
    "### p75, Iterable Object, Iterator Object, iter (),"
   ]
  },
  {
   "cell_type": "code",
   "execution_count": 31,
   "metadata": {},
   "outputs": [
    {
     "name": "stdout",
     "output_type": "stream",
     "text": [
      "1 2 3 4 5 H e l l o   W o r l d \n",
      "2\n",
      "1\n",
      "3\n"
     ]
    }
   ],
   "source": [
    "# 용어\n",
    "# Iterable object: 반복적으로 자료가 있는 object: list, set, string\n",
    "# Iterator object: 구성원 자료들을 하나씩 빼서 내어주는 object\n",
    "# \"for문\" 동작원리: __iter__(iterable object)를 호출하여 iterator object를 만들고,\n",
    "# __next__(iterator object)가 다음 자료를 하나씩 가져온다.\n",
    "\n",
    "# 리스트 iterable\n",
    "for n in [1,2,3,4,5]:\n",
    "    print(n, end=' ')\n",
    "# 문자열 interable\n",
    "for c in \"Hello World\":\n",
    "    print(c, end=' ')\n",
    "\n",
    "print()\n",
    "a = [2,1,3]\n",
    "b = iter(a) # iterable object가 iterator object로 변환\n",
    "print(next(b)) # 2\n",
    "print(next(b)) # 1 \n",
    "print(next(b)) # 3\n",
    "# class 내부에 __iter__()와 __next__()가 구현되어 있으면 iter(), next() 사용 가능"
   ]
  },
  {
   "cell_type": "markdown",
   "metadata": {},
   "source": [
    "### p76, example with iter(), next()"
   ]
  },
  {
   "cell_type": "code",
   "execution_count": 32,
   "metadata": {
    "scrolled": true
   },
   "outputs": [
    {
     "name": "stdout",
     "output_type": "stream",
     "text": [
      "4\n",
      "7\n",
      "0\n",
      "3\n"
     ]
    }
   ],
   "source": [
    "my_list = [4, 7, 0, 3]\n",
    "\n",
    "my_iter = iter(my_list)\n",
    "print(next(my_iter)) # 4\n",
    "print(next(my_iter)) # 7\n",
    "\n",
    "# next() is the same as .__next__()\n",
    "print(my_iter.__next__()) # 0\n",
    "print(my_iter.__next__()) # 3\n",
    "\n",
    "# next(my_iter) # error\n",
    "\n",
    "# list class에는 이미 __iter__()와 __next__()가 구현되어 있다."
   ]
  },
  {
   "cell_type": "markdown",
   "metadata": {},
   "source": [
    "### Transforming  User-defined Object to  Iterator Object, p77"
   ]
  },
  {
   "cell_type": "raw",
   "metadata": {},
   "source": [
    "# 에러 발생\n",
    "class MyCollection:\n",
    "    def __init__(self):\n",
    "        self.size = 10\n",
    "        self.data = list(range(self.size))\n",
    "coll = MyCollection()\n",
    "for x in coll:\n",
    "    print(x)"
   ]
  },
  {
   "cell_type": "code",
   "execution_count": null,
   "metadata": {},
   "outputs": [],
   "source": [
    "class MyCollection:\n",
    "    def __init__(self):\n",
    "        self.size = 10\n",
    "        self.data = list(range(self.size))\n",
    "        \n",
    "    def __iter__(self):\n",
    "        self.index = 0\n",
    "        return self\n",
    "    \n",
    "    def __next__(self):\n",
    "        if self.index >= self.size:\n",
    "            raise StopAsyncIteration\n",
    "            \n",
    "        n = self.data[self.index]\n",
    "        self.index += 1\n",
    "        return n\n",
    "\n",
    "coll = MyCollection()\n",
    "for x in coll: # iterable object\n",
    "    print(x, end=' ')\n",
    "    \n",
    "foo = iter(coll)\n",
    "next(foo)"
   ]
  },
  {
   "cell_type": "markdown",
   "metadata": {},
   "source": [
    "### Generator Function, p78"
   ]
  },
  {
   "cell_type": "code",
   "execution_count": null,
   "metadata": {},
   "outputs": [],
   "source": [
    "# keyword \"yield\"가 1개 이상 있는 function\n",
    "# list나 set과 같은 collection에 대한 iterator는 이미 모든 값을 가지고 있음\n",
    "# Generator는 yield에 의해 하나씩만 데이터를 가져옴"
   ]
  },
  {
   "cell_type": "code",
   "execution_count": 3,
   "metadata": {},
   "outputs": [
    {
     "name": "stdout",
     "output_type": "stream",
     "text": [
      "<class 'generator'>\n",
      "1\n",
      "2\n",
      "3\n",
      "1\n",
      "2\n",
      "3\n"
     ]
    }
   ],
   "source": [
    "def gen():\n",
    "    yield 1\n",
    "    yield 2\n",
    "    yield 3\n",
    "g = gen()\n",
    "print(type(g))\n",
    "\n",
    "n = next(g); print(n)\n",
    "n = next(g); print(n)\n",
    "n = next(g); print(n)\n",
    "\n",
    "for x in gen():\n",
    "    print(x)"
   ]
  },
  {
   "cell_type": "markdown",
   "metadata": {},
   "source": [
    "### p79"
   ]
  },
  {
   "cell_type": "code",
   "execution_count": null,
   "metadata": {},
   "outputs": [],
   "source": [
    "n1 = (0,1,2,3,4,5,6,7,8,9)\n",
    "n1 # 메모리에 이미 할당"
   ]
  },
  {
   "cell_type": "code",
   "execution_count": null,
   "metadata": {},
   "outputs": [],
   "source": [
    "# generator expression\n",
    "g = (n*n for n in range(1001)) # (...)를 사용 -> 값이 아니라 객체 return\n",
    "\n",
    "# g는 generator 객체\n",
    "print(type(g)) # <class 'generator'>\n",
    "\n",
    "# 리스트로 일괄 변환시\n",
    "# mylist = list(g)\n",
    "# 10개 출력\n",
    "for i in range(10):\n",
    "    value = next(g)\n",
    "    print(value)\n",
    "    \n",
    "# 나머지 모두 출력\n",
    "for x in g:\n",
    "    print(x)\n",
    "    \n",
    "# 표현식만 갖는 generator 객체만 return: lazy operation"
   ]
  },
  {
   "cell_type": "code",
   "execution_count": 7,
   "metadata": {},
   "outputs": [
    {
     "name": "stdout",
     "output_type": "stream",
     "text": [
      "<generator object <genexpr> at 0x000001D695E9E7C8>\n",
      "0\n",
      "1\n"
     ]
    }
   ],
   "source": [
    "n2 = (n for n in range(10))\n",
    "print(n2) # \n",
    "print(next(n2)) # 부를 때만 출력됨 => lazy (on demand) operation\n",
    "print(next(n2)) # 커다른 데이터 부를 때 유용"
   ]
  },
  {
   "cell_type": "markdown",
   "metadata": {},
   "source": [
    "### p80, Adding First N Numbers"
   ]
  },
  {
   "cell_type": "code",
   "execution_count": null,
   "metadata": {},
   "outputs": [],
   "source": [
    "# build and return a list\n",
    "def firstn(n):\n",
    "    num, nums = 0, []\n",
    "    while num < n:\n",
    "        nums.append(num)\n",
    "        num += 1\n",
    "    return nums\n",
    "sum_of_first_n = sum(firstn(1000000))\n",
    "\n",
    "# [1,2,3,...,1000000]를 만들어서 한 번에 sum()으로 pas\n",
    "# Huge Memory Needed"
   ]
  },
  {
   "cell_type": "code",
   "execution_count": 11,
   "metadata": {},
   "outputs": [],
   "source": [
    "# a generator that yields items instead of returning a list\n",
    "def firstn(n):\n",
    "    num = 0\n",
    "    while num < n:\n",
    "        yield num\n",
    "        num += 1\n",
    "sum_of_first_n = sum(firstn(1000000))\n",
    "\n",
    "# 1을 생산해서 sum()으로 pass, 2를 생산해서..\n",
    "# 1000000을 생산해서 ...."
   ]
  },
  {
   "cell_type": "markdown",
   "metadata": {},
   "source": [
    "# Using the underscore in Python (복습 안했음)"
   ]
  },
  {
   "cell_type": "code",
   "execution_count": null,
   "metadata": {},
   "outputs": [],
   "source": []
  }
 ],
 "metadata": {
  "kernelspec": {
   "display_name": "Python 3",
   "language": "python",
   "name": "python3"
  },
  "language_info": {
   "codemirror_mode": {
    "name": "ipython",
    "version": 3
   },
   "file_extension": ".py",
   "mimetype": "text/x-python",
   "name": "python",
   "nbconvert_exporter": "python",
   "pygments_lexer": "ipython3",
   "version": "3.7.3"
  }
 },
 "nbformat": 4,
 "nbformat_minor": 2
}
