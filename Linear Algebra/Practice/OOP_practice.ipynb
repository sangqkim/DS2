{
 "cells": [
  {
   "cell_type": "markdown",
   "metadata": {},
   "source": [
    "### Very Simple Class  and Its Instances, p31"
   ]
  },
  {
   "cell_type": "code",
   "execution_count": 22,
   "metadata": {},
   "outputs": [],
   "source": [
    "class Programmer:\n",
    "    pass"
   ]
  },
  {
   "cell_type": "code",
   "execution_count": 23,
   "metadata": {},
   "outputs": [],
   "source": [
    "kim = Programmer()\n",
    "park = Programmer()"
   ]
  },
  {
   "cell_type": "markdown",
   "metadata": {},
   "source": [
    "###  Object에속한 function들의 선언에는 “self “가 1st parameter로있어야한다. p32"
   ]
  },
  {
   "cell_type": "code",
   "execution_count": 24,
   "metadata": {},
   "outputs": [],
   "source": [
    "class Ph():\n",
    "    def printHam(self):  # 클래스 안에 속하는 함수는 parameter를 반드시 \"self\"라고 친다\n",
    "        print(\"Ham\")"
   ]
  },
  {
   "cell_type": "code",
   "execution_count": 25,
   "metadata": {},
   "outputs": [
    {
     "name": "stdout",
     "output_type": "stream",
     "text": [
      "Ham\n"
     ]
    }
   ],
   "source": [
    "x = Ph()\n",
    "x.printHam()"
   ]
  },
  {
   "cell_type": "code",
   "execution_count": 26,
   "metadata": {},
   "outputs": [],
   "source": [
    "class Ph: # object = data + operation\n",
    "    def __init__(self): # data\n",
    "        self.y = 5 # good\n",
    "        z = 5 # bad\n",
    "    def printHam(self): # operation, Object에속한 function들의선언에는\"self\"가 1st parameter로있어야한다.\n",
    "        print(\"Ham\")"
   ]
  },
  {
   "cell_type": "code",
   "execution_count": 27,
   "metadata": {},
   "outputs": [
    {
     "name": "stdout",
     "output_type": "stream",
     "text": [
      "Ham\n"
     ]
    }
   ],
   "source": [
    "x = Ph()\n",
    "x.printHam()"
   ]
  },
  {
   "cell_type": "code",
   "execution_count": 28,
   "metadata": {},
   "outputs": [
    {
     "data": {
      "text/plain": [
       "5"
      ]
     },
     "execution_count": 28,
     "metadata": {},
     "output_type": "execute_result"
    }
   ],
   "source": [
    "x.y"
   ]
  },
  {
   "cell_type": "markdown",
   "metadata": {},
   "source": [
    "### Instance Variables and Functions  inside Class, p34"
   ]
  },
  {
   "cell_type": "code",
   "execution_count": 29,
   "metadata": {},
   "outputs": [],
   "source": [
    "class Hero:\n",
    "    def __init__(self, name): # parameter에 self 이외에 추가로 넣을 수 있다.\n",
    "        self.name = name # paramter로 받은 변수를 받는다.\n",
    "        self.health = 100\n",
    "    def eat(self, food):\n",
    "        if(food == 'apple'):\n",
    "            self.health -= 100\n",
    "        elif food == \"ham\":\n",
    "            self.health += 20\n",
    "\n",
    "            Bob = Hero(\"Bob\")"
   ]
  },
  {
   "cell_type": "code",
   "execution_count": 30,
   "metadata": {},
   "outputs": [
    {
     "ename": "NameError",
     "evalue": "name 'Bob' is not defined",
     "output_type": "error",
     "traceback": [
      "\u001b[1;31m---------------------------------------------------------------------------\u001b[0m",
      "\u001b[1;31mNameError\u001b[0m                                 Traceback (most recent call last)",
      "\u001b[1;32m<ipython-input-30-4da8d0a6536e>\u001b[0m in \u001b[0;36m<module>\u001b[1;34m\u001b[0m\n\u001b[1;32m----> 1\u001b[1;33m \u001b[0mprint\u001b[0m\u001b[1;33m(\u001b[0m\u001b[0mBob\u001b[0m\u001b[1;33m.\u001b[0m\u001b[0mname\u001b[0m\u001b[1;33m)\u001b[0m\u001b[1;33m\u001b[0m\u001b[1;33m\u001b[0m\u001b[0m\n\u001b[0m\u001b[0;32m      2\u001b[0m \u001b[0mprint\u001b[0m\u001b[1;33m(\u001b[0m\u001b[0mBob\u001b[0m\u001b[1;33m.\u001b[0m\u001b[0mhealth\u001b[0m\u001b[1;33m)\u001b[0m\u001b[1;33m\u001b[0m\u001b[1;33m\u001b[0m\u001b[0m\n\u001b[0;32m      3\u001b[0m \u001b[0mBob\u001b[0m\u001b[1;33m.\u001b[0m\u001b[0meat\u001b[0m\u001b[1;33m(\u001b[0m\u001b[1;34m\"ham\"\u001b[0m\u001b[1;33m)\u001b[0m\u001b[1;33m\u001b[0m\u001b[1;33m\u001b[0m\u001b[0m\n\u001b[0;32m      4\u001b[0m \u001b[0mprint\u001b[0m\u001b[1;33m(\u001b[0m\u001b[0mBob\u001b[0m\u001b[1;33m.\u001b[0m\u001b[0mhealth\u001b[0m\u001b[1;33m)\u001b[0m\u001b[1;33m\u001b[0m\u001b[1;33m\u001b[0m\u001b[0m\n",
      "\u001b[1;31mNameError\u001b[0m: name 'Bob' is not defined"
     ]
    }
   ],
   "source": [
    "print(Bob.name)\n",
    "print(Bob.health)\n",
    "Bob.eat(\"ham\")\n",
    "print(Bob.health)"
   ]
  },
  {
   "cell_type": "markdown",
   "metadata": {},
   "source": [
    "### instance variable, instance method, p37"
   ]
  },
  {
   "cell_type": "code",
   "execution_count": 31,
   "metadata": {},
   "outputs": [],
   "source": [
    "class Service:\n",
    "    def __init__(self, name):\n",
    "        self.name = name # instance variable\n",
    "    def sum(self, a, b): # instance method\n",
    "        result = a + b\n",
    "        print(\"%s님 %s + %s = % s입니다.\" %(self.name, a, b, result))\n",
    "    "
   ]
  },
  {
   "cell_type": "code",
   "execution_count": 32,
   "metadata": {},
   "outputs": [
    {
     "name": "stdout",
     "output_type": "stream",
     "text": [
      "홍길동님 1 + 1 = 2입니다.\n"
     ]
    },
    {
     "data": {
      "text/plain": [
       "'홍길동'"
      ]
     },
     "execution_count": 32,
     "metadata": {},
     "output_type": "execute_result"
    }
   ],
   "source": [
    "pey = Service(\"홍길동\")\n",
    "pey.sum(1,1)\n",
    "pey.name\n",
    "# Service.name # not allowed"
   ]
  },
  {
   "cell_type": "markdown",
   "metadata": {},
   "source": [
    "### Class hierachy, p39"
   ]
  },
  {
   "cell_type": "code",
   "execution_count": 33,
   "metadata": {},
   "outputs": [
    {
     "data": {
      "text/plain": [
       "100"
      ]
     },
     "execution_count": 33,
     "metadata": {},
     "output_type": "execute_result"
    }
   ],
   "source": [
    "#비교1\n",
    "class Foo(object): \n",
    "    def __init__(self): \n",
    "        self.health = 100\n",
    "class SubFoo(Foo): \n",
    "    pass\n",
    "\n",
    "testobj = SubFoo()\n",
    "testobj.health\n"
   ]
  },
  {
   "cell_type": "code",
   "execution_count": 34,
   "metadata": {},
   "outputs": [
    {
     "data": {
      "text/plain": [
       "100"
      ]
     },
     "execution_count": 34,
     "metadata": {},
     "output_type": "execute_result"
    }
   ],
   "source": [
    "#비교2\n",
    "class Foo():  # ()안에 object가 있거나 없어도 같음\n",
    "    def __init__(self): \n",
    "        self.health = 100\n",
    "class SubFoo(Foo): \n",
    "    pass\n",
    "\n",
    "testobj = SubFoo()\n",
    "testobj.health"
   ]
  },
  {
   "cell_type": "markdown",
   "metadata": {},
   "source": [
    "### class inheritance, p40"
   ]
  },
  {
   "cell_type": "code",
   "execution_count": 35,
   "metadata": {},
   "outputs": [
    {
     "data": {
      "text/plain": [
       "100"
      ]
     },
     "execution_count": 35,
     "metadata": {},
     "output_type": "execute_result"
    }
   ],
   "source": [
    "# 비교1\n",
    "class Foo: \n",
    "    def __init__(self): \n",
    "        self.health = 100\n",
    "class SubFoo(Foo): \n",
    "    pass\n",
    "\n",
    "testobj = SubFoo()\n",
    "testobj.health # SubFoo class에서는 Foo class의 instance variable 을 inherit 함 (O)"
   ]
  },
  {
   "cell_type": "code",
   "execution_count": 36,
   "metadata": {},
   "outputs": [
    {
     "data": {
      "text/plain": [
       "200"
      ]
     },
     "execution_count": 36,
     "metadata": {},
     "output_type": "execute_result"
    }
   ],
   "source": [
    "#비교2\n",
    "class Foo: \n",
    "    def __init__(self): \n",
    "        self.health = 100\n",
    "class SubFoo(Foo): \n",
    "    def __init__(self): \n",
    "        self.muscle = 200\n",
    "\n",
    "testobj = SubFoo()\n",
    "testobj.muscle\n",
    "# testobj.health # SubFoo class에서는 Foo class의 instance variable 을 inherit 안함 (X)"
   ]
  },
  {
   "cell_type": "markdown",
   "metadata": {},
   "source": [
    "###  p41"
   ]
  },
  {
   "cell_type": "code",
   "execution_count": 37,
   "metadata": {},
   "outputs": [
    {
     "name": "stdout",
     "output_type": "stream",
     "text": [
      "100\n",
      "200\n"
     ]
    }
   ],
   "source": [
    "class Foo(object): \n",
    "    def __init__(self): \n",
    "        self.health = 100\n",
    "        \n",
    "class SubFoo(Foo): \n",
    "    def __init__(self):  \n",
    "        super().__init__() # SubFoo class에서는 Foo class의 instance variable을 inherit 받고 자체적인 instance variable도 선언 \n",
    "        self.muscle = 200\n",
    "testobj = SubFoo() \n",
    "print(testobj.health)\n",
    "print(testobj.muscle)"
   ]
  },
  {
   "cell_type": "markdown",
   "metadata": {},
   "source": [
    "### overriding, p42"
   ]
  },
  {
   "cell_type": "code",
   "execution_count": 38,
   "metadata": {},
   "outputs": [
    {
     "name": "stdout",
     "output_type": "stream",
     "text": [
      "hammer time\n"
     ]
    }
   ],
   "source": [
    "class BaseClass(object): \n",
    "    def test(self):\n",
    "        print(\"ham\")\n",
    "        \n",
    "class InClass(BaseClass):\n",
    "    def test(self):\n",
    "        print(\"hammer time\")\n",
    "\n",
    "i = InClass()\n",
    "i.test() # Class class에 test()가 있어서 BaseClass class의 test()를 override하므로 BaseClass의 test()는 inherit 안됨"
   ]
  },
  {
   "cell_type": "markdown",
   "metadata": {},
   "source": [
    "### Understanding  Class Inheritance, p43"
   ]
  },
  {
   "cell_type": "code",
   "execution_count": 39,
   "metadata": {},
   "outputs": [
    {
     "name": "stdout",
     "output_type": "stream",
     "text": [
      "Object i’s inherited variable: 100\n",
      "Object i’s locally defined variable: 200\n"
     ]
    }
   ],
   "source": [
    "class BaseClass(object): \n",
    "    def __init__(self): \n",
    "        self.x = 100 \n",
    "class InClass(BaseClass): \n",
    "    def __init__(self): \n",
    "        super().__init__() \n",
    "        self.y = 200\n",
    "i = InClass() \n",
    "print(\"Object i’s inherited variable:\",  i.x) \n",
    "print(\"Object i’s locally defined variable:\",  i.y)\n",
    "# InClass class에 __init__()가 있어서 BaseClass class의 __init__()를 override하므로 BaseClass의 __init__()는 수행이안된다. \n",
    "# 그러나 super(InClass, self).__init__() 에 의해서 BaseClass의 instance variable을 inherit 받는다."
   ]
  },
  {
   "cell_type": "markdown",
   "metadata": {},
   "source": [
    "### Understanding  Class Inheritance , p44"
   ]
  },
  {
   "cell_type": "code",
   "execution_count": 40,
   "metadata": {},
   "outputs": [
    {
     "name": "stdout",
     "output_type": "stream",
     "text": [
      "Hammer time\n",
      "[<class '__main__.InClass'>]\n"
     ]
    }
   ],
   "source": [
    "class BaseClass(object):\n",
    "    def test(self):\n",
    "        print(\"ham\")\n",
    "class InClass(BaseClass):\n",
    "    def test(self):\n",
    "        print(\"Hammer time\")\n",
    "        \n",
    "A = InClass()\n",
    "A.test()\n",
    "BaseClass.__subclasses__()\n",
    "# InClass.__superclasses__()\n",
    "print(BaseClass.__subclasses__())\n",
    "#  InClass class에서는 BaseClass class의 test()을 inherit 받지 않고 같은 이름의 test() 를 locally  define했다\n",
    "#  __subclasses__( ) 는 subclass들을 return하는 함수\n",
    "#  __superclasses__( ) 는 존재를 안함\n",
    "            "
   ]
  },
  {
   "cell_type": "markdown",
   "metadata": {},
   "source": [
    "### p45, What will be the output of the following program"
   ]
  },
  {
   "cell_type": "code",
   "execution_count": 41,
   "metadata": {},
   "outputs": [
    {
     "name": "stdout",
     "output_type": "stream",
     "text": [
      "A B\n",
      "A B\n"
     ]
    }
   ],
   "source": [
    "class A:\n",
    "    def f(self):\n",
    "        return self.g()\n",
    "    def g(self):\n",
    "        return 'A'\n",
    "    \n",
    "class B(A):\n",
    "    def g(self):\n",
    "        return 'B'\n",
    "a = A()\n",
    "b = B()\n",
    "print(a.f(), b.f())\n",
    "print(a.g(), b.g())"
   ]
  },
  {
   "cell_type": "markdown",
   "metadata": {},
   "source": [
    "### p54, 계산기 문제"
   ]
  },
  {
   "cell_type": "code",
   "execution_count": 42,
   "metadata": {},
   "outputs": [
    {
     "name": "stdout",
     "output_type": "stream",
     "text": [
      "3\n",
      "7\n"
     ]
    }
   ],
   "source": [
    "# Using function only\n",
    "result = 0\n",
    "def adder(num):\n",
    "    global result\n",
    "    result += num\n",
    "    return result\n",
    "print(adder(3))\n",
    "print(adder(4))"
   ]
  },
  {
   "cell_type": "code",
   "execution_count": 43,
   "metadata": {},
   "outputs": [
    {
     "name": "stdout",
     "output_type": "stream",
     "text": [
      "3\n",
      "7\n",
      "3\n",
      "10\n"
     ]
    }
   ],
   "source": [
    "# 만약 한 프로그램에서 2개의 계산기가 필요하다면 어떻게 해야 할까?\n",
    "# 각각의 계산기는 각각의 결과값을 유지해야 하므로 adder function 1개로는 결과값을 따로 유지할수 없다\n",
    "# Using function only\n",
    "result1 = 0\n",
    "result2 = 0\n",
    "def adder1(num):\n",
    "    global result1\n",
    "    result1 += num\n",
    "    return result1\n",
    "\n",
    "def adder2(num):\n",
    "    global result2\n",
    "    result2 += num\n",
    "    return result2\n",
    "\n",
    "print(adder1(3))\n",
    "print(adder1(4))\n",
    "print(adder2(3))\n",
    "print(adder2(7))"
   ]
  },
  {
   "cell_type": "code",
   "execution_count": 44,
   "metadata": {},
   "outputs": [
    {
     "name": "stdout",
     "output_type": "stream",
     "text": [
      "3\n",
      "7\n",
      "3\n",
      "10\n"
     ]
    }
   ],
   "source": [
    "# Using classes and objects\n",
    "class Calculator:\n",
    "    def __init__(self):\n",
    "        self.result = 0\n",
    "        \n",
    "    def adder(self, num):\n",
    "        self.result += num\n",
    "        return self.result\n",
    "cal1 = Calculator()\n",
    "cal2 = Calculator()\n",
    "print(cal1.adder(3))\n",
    "print(cal1.adder(4))\n",
    "print(cal2.adder(3))\n",
    "print(cal2.adder(7))"
   ]
  },
  {
   "cell_type": "markdown",
   "metadata": {},
   "source": [
    "### p57, __init() 안 쓰고 setdata() fuction을 써도 가능!"
   ]
  },
  {
   "cell_type": "code",
   "execution_count": 45,
   "metadata": {},
   "outputs": [],
   "source": [
    "class FourCal:\n",
    "    def setdata(self, first, second):\n",
    "        self.first = first\n",
    "        self.second = second\n",
    "# 나머지는 p57 참고"
   ]
  },
  {
   "cell_type": "markdown",
   "metadata": {},
   "source": [
    "### p59~61, bank account 문제 (여러 함수를 class를 사용하여 대체??)"
   ]
  },
  {
   "cell_type": "code",
   "execution_count": 46,
   "metadata": {},
   "outputs": [
    {
     "name": "stdout",
     "output_type": "stream",
     "text": [
      "100\n",
      "50\n",
      "40\n",
      "90\n"
     ]
    }
   ],
   "source": [
    "# What if functions with dictionary\n",
    "def make_account():\n",
    "    return {'balance': 0}\n",
    "def deposit(account, amount):\n",
    "    account['balance'] += amount\n",
    "    return account['balance']\n",
    "def withdraw(account, amount):\n",
    "    account['balance'] -= amount\n",
    "    return account['balance']\n",
    "\n",
    "a = make_account()\n",
    "b = make_account()\n",
    "print(deposit(a, 100))\n",
    "print(deposit(b, 50))\n",
    "print(withdraw(b, 10))\n",
    "print(withdraw(a, 10))"
   ]
  },
  {
   "cell_type": "code",
   "execution_count": 47,
   "metadata": {
    "scrolled": true
   },
   "outputs": [
    {
     "name": "stdout",
     "output_type": "stream",
     "text": [
      "100\n",
      "50\n",
      "90\n",
      "80\n"
     ]
    }
   ],
   "source": [
    "# Using OOP\n",
    "# BankAccount라는user-defined data type을만들었으므로 \n",
    "# 필요할때마다 account instance를만들어서사용하면됨!\n",
    "class BankAccount:\n",
    "    def __init__(self):\n",
    "        self.balance = 0\n",
    "    def withdraw(self, amount):\n",
    "        self.balance -= amount\n",
    "        return self.balance\n",
    "    def deposit(self, amount):\n",
    "        self.balance += amount\n",
    "        return self.balance\n",
    "class MinimumBalanceAccount(BankAccount):\n",
    "    def __init__(self, minimum_balance):\n",
    "        BankAccount.__init__(self)  # super().__init__(self)\n",
    "        # Subclass에서 __init__( ) 을 자체적으로 만들면 superclass의 instance variable을 받을수 없다. \n",
    "        # Superclass의 instance variable도 받고, 자체적으로 instance variable를 추가하고자 하면 superclass의 __init__( )를 구체적으로 call 해야 한다\n",
    "        self.minimum_balance = minimum_balance\n",
    "        \n",
    "    def withdraw(self, amount):\n",
    "        if self.balance - amount < self.minimum_balance:\n",
    "            print(\"Sorry, minimum balance must be maintained.\")\n",
    "        else:\n",
    "            BankAccount.withdraw(self, amount)\n",
    "\n",
    "    a = BankAccount()\n",
    "    b = BankAccount()\n",
    "    print(a.deposit(100))\n",
    "    print(b.deposit(50))\n",
    "    print(a.withdraw(10))\n",
    "    print(a.withdraw(10))"
   ]
  },
  {
   "cell_type": "markdown",
   "metadata": {},
   "source": [
    "### 아래는 위랑 중복된 것 같음."
   ]
  },
  {
   "cell_type": "code",
   "execution_count": 48,
   "metadata": {},
   "outputs": [],
   "source": [
    "# Class class에 test()가 있어서 BaseClass class의 test()를 override하므로 BaseClass의 test()는 inherit 안됨\n",
    "class BaseClass(object): \n",
    "\n",
    "    def printHam(self):\n",
    "        print(\"ham\")\n",
    "class InheritingClass(BaseClass):\n",
    "    pass"
   ]
  },
  {
   "cell_type": "code",
   "execution_count": 49,
   "metadata": {},
   "outputs": [
    {
     "name": "stdout",
     "output_type": "stream",
     "text": [
      "ham\n"
     ]
    }
   ],
   "source": [
    "x = InheritingClass()\n",
    "x.printHam()"
   ]
  },
  {
   "cell_type": "code",
   "execution_count": 50,
   "metadata": {},
   "outputs": [
    {
     "data": {
      "text/plain": [
       "200"
      ]
     },
     "execution_count": 50,
     "metadata": {},
     "output_type": "execute_result"
    }
   ],
   "source": [
    "class Foo(object):\n",
    "    def __init__(self):\n",
    "        self.health = 100\n",
    "class SubFoo(Foo): # Foo에 있는 __init__도 같이 상속받아 덮어쓰임. 오류 생김\n",
    "    def __init__(self):\n",
    "        self.muscle = 200\n",
    "testobj = SubFoo()\n",
    "testobj.muscle # 정상 출력\n",
    "#testobj.health # 오류발생"
   ]
  },
  {
   "cell_type": "code",
   "execution_count": 51,
   "metadata": {},
   "outputs": [
    {
     "data": {
      "text/plain": [
       "200"
      ]
     },
     "execution_count": 51,
     "metadata": {},
     "output_type": "execute_result"
    }
   ],
   "source": [
    "class Foo(object):\n",
    "    def __init__(self):\n",
    "        self.health = 100\n",
    "class SubFoo(Foo): \n",
    "    def __init__(self):\n",
    "        super().__init__() # Foo에 있는 __init__도 같이 상속받아 함께 쓸꺼라는 의미\n",
    "        self.muscle = 200\n",
    "testobj = SubFoo()\n",
    "testobj.health\n",
    "testobj.muscle"
   ]
  },
  {
   "cell_type": "code",
   "execution_count": 52,
   "metadata": {},
   "outputs": [
    {
     "name": "stdout",
     "output_type": "stream",
     "text": [
      "Ham2\n"
     ]
    }
   ],
   "source": [
    "class BaseClass(object):\n",
    "    def test(self):\n",
    "        print(\"Ham\")\n",
    "class InClass(BaseClass):\n",
    "    def test(self): # 함수는 상속안되고 overriding 됨\n",
    "        print(\"Ham2\")\n",
    "i = InClass()\n",
    "i.test() # InClass의 test 함수가 수행"
   ]
  },
  {
   "cell_type": "code",
   "execution_count": null,
   "metadata": {},
   "outputs": [],
   "source": []
  },
  {
   "cell_type": "markdown",
   "metadata": {},
   "source": [
    "### p62~67"
   ]
  },
  {
   "cell_type": "code",
   "execution_count": 21,
   "metadata": {},
   "outputs": [],
   "source": [
    "class HousePark:\n",
    "    lastname = \"박\" # class variable\n",
    "    def __init__(self, name):  # instance variable\n",
    "        self.fullname = self. lastname + name\n",
    "    def travel(self, where):\n",
    "        print(\"%s, %s 여행을 가다.\" %(self.fullname, where))\n",
    "    def love(self, other):\n",
    "        print(\"%s, %s 사랑에 빠졌네\" %(self. fullname, other.fullname))\n",
    "    def fight(self, other):\n",
    "        print(\"%s, %s 싸우네\" % (self.fullname, other.fullname))\n",
    "    def __add__(self, other):\n",
    "        print(\"%s, %s 결혼했네\" %(self.fullname, other.fullname))\n",
    "    def __sub__(self, other):\n",
    "        print(\"%s, %s 이혼했네\" %(self.fullname, other.fullname))"
   ]
  },
  {
   "cell_type": "code",
   "execution_count": 54,
   "metadata": {},
   "outputs": [],
   "source": [
    "class HouseKim(HousePark):\n",
    "    lastname = \"김\"\n",
    "    def travel(self, where, day):\n",
    "        print(\"%s, %s여행 %d일 가네.\" %(self.fullname, where, day))"
   ]
  },
  {
   "cell_type": "code",
   "execution_count": 56,
   "metadata": {},
   "outputs": [
    {
     "name": "stdout",
     "output_type": "stream",
     "text": [
      "박응용, 부산 여행을 가다.\n",
      "김줄리엣, 부산여행 3일 가네.\n",
      "박응용, 김줄리엣 사랑에 빠졌네\n",
      "박응용, 김줄리엣 결혼했네\n",
      "박응용, 김줄리엣 싸우네\n",
      "박응용, 김줄리엣 이혼했네\n"
     ]
    }
   ],
   "source": [
    "pey = HousePark(\"응용\")\n",
    "juliet = HouseKim(\"줄리엣\")\n",
    "pey.travel(\"부산\")\n",
    "juliet.travel(\"부산\", 3)\n",
    "pey.love(juliet)\n",
    "pey + juliet\n",
    "pey.fight(juliet)\n",
    "pey - juliet"
   ]
  },
  {
   "cell_type": "markdown",
   "metadata": {},
   "source": [
    "# 8장"
   ]
  },
  {
   "cell_type": "markdown",
   "metadata": {},
   "source": [
    "### p4~5, example of Python Class, constructor vs. destructor"
   ]
  },
  {
   "cell_type": "code",
   "execution_count": 9,
   "metadata": {},
   "outputs": [
    {
     "name": "stdout",
     "output_type": "stream",
     "text": [
      "Yang Li\n",
      "Yang Li says bye.\n",
      "Yang Li says bye.\n"
     ]
    }
   ],
   "source": [
    "# This example includes\n",
    "# class definition, constructor function, destructor function,\n",
    "# attributes and methods definition and object definition\n",
    "\n",
    "# \"self\" in Python is like the pointer \"this\" in C++\n",
    "# \"self\" in Python works as variable of function but it won't invoke data.\n",
    "class Person:\n",
    "    def __init__(self, name):\n",
    "        self.name = name\n",
    "        print(self.name)\n",
    "    def Sayhello(self):\n",
    "        print(\"Hello, my name is \", self.name)\n",
    "    \n",
    "    def __del__(self):\n",
    "        print(\"%s says bye.\" %self.name)\n",
    "\n",
    "A = Person('Yang Li')\n",
    "A.name\n",
    "del A"
   ]
  },
  {
   "cell_type": "code",
   "execution_count": null,
   "metadata": {},
   "outputs": [],
   "source": []
  },
  {
   "cell_type": "code",
   "execution_count": null,
   "metadata": {},
   "outputs": [],
   "source": []
  },
  {
   "cell_type": "code",
   "execution_count": null,
   "metadata": {},
   "outputs": [],
   "source": []
  },
  {
   "cell_type": "code",
   "execution_count": null,
   "metadata": {},
   "outputs": [],
   "source": []
  },
  {
   "cell_type": "code",
   "execution_count": null,
   "metadata": {},
   "outputs": [],
   "source": []
  },
  {
   "cell_type": "code",
   "execution_count": null,
   "metadata": {},
   "outputs": [],
   "source": []
  },
  {
   "cell_type": "code",
   "execution_count": null,
   "metadata": {},
   "outputs": [],
   "source": []
  },
  {
   "cell_type": "code",
   "execution_count": null,
   "metadata": {},
   "outputs": [],
   "source": []
  },
  {
   "cell_type": "code",
   "execution_count": 78,
   "metadata": {},
   "outputs": [],
   "source": [
    "class Point:\n",
    "    def __init__(self, x=0, y=0):\n",
    "        self.x = x\n",
    "        self.y = y\n",
    "    def __del__(self): # garbage collector가 object로 할당된 메모리가 사라질 때 실행\n",
    "        class_name = self.__class__.__name__\n",
    "        print(class_name, \"destroyed\")"
   ]
  },
  {
   "cell_type": "code",
   "execution_count": 80,
   "metadata": {},
   "outputs": [
    {
     "name": "stdout",
     "output_type": "stream",
     "text": [
      "Point destroyed\n",
      "2298821414024 2298821414024 2298821414024 2298821413912\n",
      "Point destroyed\n"
     ]
    }
   ],
   "source": [
    "pt1 = Point()\n",
    "pt2 = pt1\n",
    "pt3 = pt1\n",
    "pt4 = Point()\n",
    "print(id(pt1), id(pt2), id(pt3), id(pt4))\n",
    "del pt1\n",
    "del pt2\n",
    "del pt3"
   ]
  },
  {
   "cell_type": "code",
   "execution_count": 90,
   "metadata": {},
   "outputs": [],
   "source": [
    "class A(object):\n",
    "    def __init__(self, x):\n",
    "        self.x = x\n",
    "    def f(self):\n",
    "        return 10*self.x\n",
    "class B(A):\n",
    "    def g(self):\n",
    "        return 1000*self.x"
   ]
  },
  {
   "cell_type": "code",
   "execution_count": 91,
   "metadata": {},
   "outputs": [
    {
     "name": "stdout",
     "output_type": "stream",
     "text": [
      "50\n",
      "7000\n",
      "70\n"
     ]
    },
    {
     "ename": "AttributeError",
     "evalue": "'A' object has no attribute 'g'",
     "output_type": "error",
     "traceback": [
      "\u001b[1;31m---------------------------------------------------------------------------\u001b[0m",
      "\u001b[1;31mAttributeError\u001b[0m                            Traceback (most recent call last)",
      "\u001b[1;32m<ipython-input-91-a0fa680400cd>\u001b[0m in \u001b[0;36m<module>\u001b[1;34m\u001b[0m\n\u001b[0;32m      2\u001b[0m \u001b[0mprint\u001b[0m\u001b[1;33m(\u001b[0m\u001b[0mB\u001b[0m\u001b[1;33m(\u001b[0m\u001b[1;36m7\u001b[0m\u001b[1;33m)\u001b[0m\u001b[1;33m.\u001b[0m\u001b[0mg\u001b[0m\u001b[1;33m(\u001b[0m\u001b[1;33m)\u001b[0m\u001b[1;33m)\u001b[0m\u001b[1;33m\u001b[0m\u001b[1;33m\u001b[0m\u001b[0m\n\u001b[0;32m      3\u001b[0m \u001b[0mprint\u001b[0m\u001b[1;33m(\u001b[0m\u001b[0mB\u001b[0m\u001b[1;33m(\u001b[0m\u001b[1;36m7\u001b[0m\u001b[1;33m)\u001b[0m\u001b[1;33m.\u001b[0m\u001b[0mf\u001b[0m\u001b[1;33m(\u001b[0m\u001b[1;33m)\u001b[0m\u001b[1;33m)\u001b[0m\u001b[1;33m\u001b[0m\u001b[1;33m\u001b[0m\u001b[0m\n\u001b[1;32m----> 4\u001b[1;33m \u001b[0mprint\u001b[0m\u001b[1;33m(\u001b[0m\u001b[0mA\u001b[0m\u001b[1;33m(\u001b[0m\u001b[1;36m5\u001b[0m\u001b[1;33m)\u001b[0m\u001b[1;33m.\u001b[0m\u001b[0mg\u001b[0m\u001b[1;33m(\u001b[0m\u001b[1;33m)\u001b[0m\u001b[1;33m)\u001b[0m\u001b[1;33m\u001b[0m\u001b[1;33m\u001b[0m\u001b[0m\n\u001b[0m",
      "\u001b[1;31mAttributeError\u001b[0m: 'A' object has no attribute 'g'"
     ]
    }
   ],
   "source": [
    "print(A(5).f())\n",
    "print(B(7).g())\n",
    "print(B(7).f())\n",
    "print(A(5).g()) # error"
   ]
  },
  {
   "cell_type": "code",
   "execution_count": 99,
   "metadata": {},
   "outputs": [],
   "source": [
    "class A:\n",
    "    def A(self):\n",
    "        print(\"I am A\")\n",
    "class B:\n",
    "    def A(self):\n",
    "        print(\"I am B\")\n",
    "    def B(self):\n",
    "        print(\"I am B\")\n",
    "class C(A, B):\n",
    "    def C(self):\n",
    "        print(\"I am C\")"
   ]
  },
  {
   "cell_type": "code",
   "execution_count": 100,
   "metadata": {},
   "outputs": [
    {
     "name": "stdout",
     "output_type": "stream",
     "text": [
      "I am A\n",
      "I am B\n",
      "I am C\n"
     ]
    }
   ],
   "source": [
    "C = C()\n",
    "C.A()\n",
    "C.B()\n",
    "C.C()"
   ]
  },
  {
   "cell_type": "code",
   "execution_count": 106,
   "metadata": {},
   "outputs": [],
   "source": [
    "class JustCounter:\n",
    "    __secretCount = 0\n",
    "    def count(self):\n",
    "        self.__secretCount += 1\n",
    "        print(self.__secretCount) # class 내부에서는 접근 가능"
   ]
  },
  {
   "cell_type": "code",
   "execution_count": 108,
   "metadata": {},
   "outputs": [
    {
     "name": "stdout",
     "output_type": "stream",
     "text": [
      "1\n",
      "2\n"
     ]
    },
    {
     "ename": "AttributeError",
     "evalue": "'JustCounter' object has no attribute '__secretCount'",
     "output_type": "error",
     "traceback": [
      "\u001b[1;31m---------------------------------------------------------------------------\u001b[0m",
      "\u001b[1;31mAttributeError\u001b[0m                            Traceback (most recent call last)",
      "\u001b[1;32m<ipython-input-108-53f59101ea5b>\u001b[0m in \u001b[0;36m<module>\u001b[1;34m\u001b[0m\n\u001b[0;32m      2\u001b[0m \u001b[0mcounter\u001b[0m\u001b[1;33m.\u001b[0m\u001b[0mcount\u001b[0m\u001b[1;33m(\u001b[0m\u001b[1;33m)\u001b[0m\u001b[1;33m\u001b[0m\u001b[1;33m\u001b[0m\u001b[0m\n\u001b[0;32m      3\u001b[0m \u001b[0mcounter\u001b[0m\u001b[1;33m.\u001b[0m\u001b[0mcount\u001b[0m\u001b[1;33m(\u001b[0m\u001b[1;33m)\u001b[0m\u001b[1;33m\u001b[0m\u001b[1;33m\u001b[0m\u001b[0m\n\u001b[1;32m----> 4\u001b[1;33m \u001b[0mprint\u001b[0m\u001b[1;33m(\u001b[0m\u001b[0mcounter\u001b[0m\u001b[1;33m.\u001b[0m\u001b[0m__secretCount\u001b[0m\u001b[1;33m)\u001b[0m \u001b[1;31m# class 외부에서는 접근 불가\u001b[0m\u001b[1;33m\u001b[0m\u001b[1;33m\u001b[0m\u001b[0m\n\u001b[0m",
      "\u001b[1;31mAttributeError\u001b[0m: 'JustCounter' object has no attribute '__secretCount'"
     ]
    }
   ],
   "source": [
    "counter = JustCounter()\n",
    "counter.count()\n",
    "counter.count()\n",
    "print(counter.__secretCount) # class 외부에서는 접근 불가"
   ]
  },
  {
   "cell_type": "code",
   "execution_count": 109,
   "metadata": {},
   "outputs": [],
   "source": [
    "class Person:\n",
    "    def __init__(self):\n",
    "        self.A = \"Yang Li\" # public\n",
    "        self.__B = \"Yingying Gu\" # private\n",
    "    def PrintName(self):\n",
    "        print(self.A)\n",
    "        print(self.__B)"
   ]
  },
  {
   "cell_type": "code",
   "execution_count": 112,
   "metadata": {},
   "outputs": [
    {
     "ename": "NameError",
     "evalue": "name 'p' is not defined",
     "output_type": "error",
     "traceback": [
      "\u001b[1;31m---------------------------------------------------------------------------\u001b[0m",
      "\u001b[1;31mNameError\u001b[0m                                 Traceback (most recent call last)",
      "\u001b[1;32m<ipython-input-112-614fa3647d33>\u001b[0m in \u001b[0;36m<module>\u001b[1;34m\u001b[0m\n\u001b[0;32m      1\u001b[0m \u001b[0mP\u001b[0m \u001b[1;33m=\u001b[0m \u001b[0mPerson\u001b[0m\u001b[1;33m(\u001b[0m\u001b[1;33m)\u001b[0m\u001b[1;33m\u001b[0m\u001b[1;33m\u001b[0m\u001b[0m\n\u001b[0;32m      2\u001b[0m \u001b[0mP\u001b[0m\u001b[1;33m.\u001b[0m\u001b[0mA\u001b[0m\u001b[1;33m\u001b[0m\u001b[1;33m\u001b[0m\u001b[0m\n\u001b[1;32m----> 3\u001b[1;33m \u001b[0mp\u001b[0m\u001b[1;33m.\u001b[0m\u001b[0m__B\u001b[0m\u001b[1;33m\u001b[0m\u001b[1;33m\u001b[0m\u001b[0m\n\u001b[0m",
      "\u001b[1;31mNameError\u001b[0m: name 'p' is not defined"
     ]
    }
   ],
   "source": [
    "P = Person()\n",
    "P.A\n",
    "p.__B"
   ]
  },
  {
   "cell_type": "code",
   "execution_count": 114,
   "metadata": {},
   "outputs": [
    {
     "name": "stdout",
     "output_type": "stream",
     "text": [
      "Yang Li\n",
      "Yingying Gu\n"
     ]
    }
   ],
   "source": [
    "P.PrintName()"
   ]
  },
  {
   "cell_type": "code",
   "execution_count": 130,
   "metadata": {},
   "outputs": [],
   "source": [
    "class AAA_Club:\n",
    "    club_name = \"American Auto Association\"\n",
    "    def __init__ (self, name, num):\n",
    "        self.name = name\n",
    "        self.member_id = num"
   ]
  },
  {
   "cell_type": "code",
   "execution_count": 132,
   "metadata": {},
   "outputs": [
    {
     "name": "stdout",
     "output_type": "stream",
     "text": [
      "American Auto Association\n",
      "John\n",
      "123\n"
     ]
    }
   ],
   "source": [
    "John = AAA_Club(\"John\", 123)\n",
    "Bob = AAA_Club(\"Bob\", 123)\n",
    "print(AAA_Club.club_name)\n",
    "print(John.name)\n",
    "print(Bob.member_id)"
   ]
  },
  {
   "cell_type": "code",
   "execution_count": 128,
   "metadata": {},
   "outputs": [],
   "source": [
    "class A(object):\n",
    "    def foo(self):\n",
    "        print(\"executing foo\")\n",
    "    @classmethod\n",
    "    def class_foo(cls):\n",
    "        print(\"executing class_foo\")"
   ]
  },
  {
   "cell_type": "code",
   "execution_count": 10,
   "metadata": {},
   "outputs": [
    {
     "ename": "NameError",
     "evalue": "name 'A' is not defined",
     "output_type": "error",
     "traceback": [
      "\u001b[1;31m---------------------------------------------------------------------------\u001b[0m",
      "\u001b[1;31mNameError\u001b[0m                                 Traceback (most recent call last)",
      "\u001b[1;32m<ipython-input-10-f30ad3788f17>\u001b[0m in \u001b[0;36m<module>\u001b[1;34m\u001b[0m\n\u001b[1;32m----> 1\u001b[1;33m \u001b[0ma\u001b[0m \u001b[1;33m=\u001b[0m \u001b[0mA\u001b[0m\u001b[1;33m(\u001b[0m\u001b[1;33m)\u001b[0m\u001b[1;33m\u001b[0m\u001b[1;33m\u001b[0m\u001b[0m\n\u001b[0m\u001b[0;32m      2\u001b[0m \u001b[1;31m# A.foo() # error\u001b[0m\u001b[1;33m\u001b[0m\u001b[1;33m\u001b[0m\u001b[1;33m\u001b[0m\u001b[0m\n\u001b[0;32m      3\u001b[0m \u001b[0mA\u001b[0m\u001b[1;33m.\u001b[0m\u001b[0mclass_foo\u001b[0m\u001b[1;33m(\u001b[0m\u001b[1;33m)\u001b[0m\u001b[1;33m\u001b[0m\u001b[1;33m\u001b[0m\u001b[0m\n\u001b[0;32m      4\u001b[0m \u001b[0ma\u001b[0m\u001b[1;33m.\u001b[0m\u001b[0mfoo\u001b[0m\u001b[1;33m(\u001b[0m\u001b[1;33m)\u001b[0m\u001b[1;33m\u001b[0m\u001b[1;33m\u001b[0m\u001b[0m\n\u001b[0;32m      5\u001b[0m \u001b[0ma\u001b[0m\u001b[1;33m.\u001b[0m\u001b[0mclass_foo\u001b[0m\u001b[1;33m(\u001b[0m\u001b[1;33m)\u001b[0m\u001b[1;33m\u001b[0m\u001b[1;33m\u001b[0m\u001b[0m\n",
      "\u001b[1;31mNameError\u001b[0m: name 'A' is not defined"
     ]
    }
   ],
   "source": [
    "a = A()\n",
    "# A.foo() # error\n",
    "A.class_foo()\n",
    "a.foo()\n",
    "a.class_foo()"
   ]
  },
  {
   "cell_type": "markdown",
   "metadata": {},
   "source": [
    "###  p29-30, Employee Class with a Class Variable empCount"
   ]
  },
  {
   "cell_type": "code",
   "execution_count": 12,
   "metadata": {},
   "outputs": [],
   "source": [
    "class Employee:\n",
    "    'Common base class for all emplyees' # documentation '', ''' ''' 여러줄 쓸 수 있음\n",
    "    empCount = 0 # class variable, Employee 전체에 대한 variable 이므로\n",
    "    \n",
    "    def __init__(self, name, salary): # instance가 생성될 때 실행되어 Employee object 생성\n",
    "        self.name = name # instance varible \n",
    "        self.salary = salary # instance varible --> self.xxx\n",
    "        Employee.empCount += 1 # class variable이므로 class 이름을 붙여서 접근\n",
    "        \n",
    "    def displayCount(self):\n",
    "        print(\"Total Employee %d\" % Emplyee.empCount)\n",
    "    def displayEmployee(self):\n",
    "        print(\"Name : \", self.name, \", Salary: \", self.salary)\n",
    "    "
   ]
  },
  {
   "cell_type": "code",
   "execution_count": 13,
   "metadata": {},
   "outputs": [
    {
     "name": "stdout",
     "output_type": "stream",
     "text": [
      "Name :  Zara , Salary:  2000\n",
      "Name :  Manni , Salary:  5000\n",
      "Total Employee 2\n"
     ]
    }
   ],
   "source": [
    "emp1 = Employee(\"Zara\", 2000) \n",
    "emp2 = Employee(\"Manni\", 5000)\n",
    "emp1.displayEmployee()\n",
    "emp2.displayEmployee()\n",
    "print(\"Total Employee %d\" % Employee.empCount)"
   ]
  },
  {
   "cell_type": "code",
   "execution_count": 14,
   "metadata": {},
   "outputs": [
    {
     "name": "stdout",
     "output_type": "stream",
     "text": [
      "Common base class for all emplyees\n",
      "Employee\n",
      "__main__\n",
      "(<class 'object'>,)\n",
      "{'__module__': '__main__', '__doc__': 'Common base class for all emplyees', 'empCount': 2, '__init__': <function Employee.__init__ at 0x0000027C88B00158>, 'displayCount': <function Employee.displayCount at 0x0000027C88B001E0>, 'displayEmployee': <function Employee.displayEmployee at 0x0000027C88B00268>, '__dict__': <attribute '__dict__' of 'Employee' objects>, '__weakref__': <attribute '__weakref__' of 'Employee' objects>}\n"
     ]
    }
   ],
   "source": [
    "print(Employee.__doc__) # class에 대한 정보, built-in special class variables\n",
    "print(Employee.__name__)\n",
    "print(Employee.__module__)\n",
    "print(Employee.__bases__)\n",
    "# __dict__: Class 내부에 있는 모든 symbol들에 대해서 dictionary 형태\n",
    "# (symbol: variable, function, class, 등 모든 것을 총칭)로 \n",
    "# 가지고 있는 special class variable\n",
    "print(Employee.__dict__) "
   ]
  },
  {
   "cell_type": "markdown",
   "metadata": {},
   "source": [
    "## Python Built-In  Special Class Methods, p40"
   ]
  },
  {
   "cell_type": "raw",
   "metadata": {},
   "source": [
    "__init__( ) \n",
    "__del__( )\n",
    "__add__( )\n",
    "__sub__( )\n",
    "__mult__( )\n",
    "__div__( )\n",
    "__float__( )\n",
    "__str__( )\n",
    "__repr__( )\n",
    "__hash__( )\n",
    "__lt__( )\n",
    "__le__( )\n",
    "__gt__( )\n",
    "__ge__( )\n",
    "__eq__( )\n",
    "__iter__( )\n",
    "__next__( )"
   ]
  },
  {
   "cell_type": "markdown",
   "metadata": {},
   "source": [
    "### User-defined vector class, 내가 data type을 만든다, p41 => 어려움"
   ]
  },
  {
   "cell_type": "code",
   "execution_count": 19,
   "metadata": {},
   "outputs": [],
   "source": [
    "class Vector:\n",
    "    def __init__(self, a, b):\n",
    "        self.a = a\n",
    "        self.b = b\n",
    "    # print 하면 어떻게 표현되는지에 대해서도 define 해줘야함 --> __str__\n",
    "    def __str__(self): \n",
    "        return 'Vector (%d, %d)' % (self.a, self.b)\n",
    "    \n",
    "    def __add__(self, other):\n",
    "        return Vector(self.a + other.a, self.b + other.b)"
   ]
  },
  {
   "cell_type": "code",
   "execution_count": 22,
   "metadata": {
    "scrolled": true
   },
   "outputs": [
    {
     "name": "stdout",
     "output_type": "stream",
     "text": [
      "Vector (7, 8)\n"
     ]
    }
   ],
   "source": [
    "v1 = Vector(2, 10)\n",
    "v2 = Vector(5, -2)\n",
    "print(v1 + v2)"
   ]
  },
  {
   "cell_type": "markdown",
   "metadata": {},
   "source": [
    "### p42-44 => 중요"
   ]
  },
  {
   "cell_type": "code",
   "execution_count": 31,
   "metadata": {},
   "outputs": [],
   "source": [
    "class Fraction(object):\n",
    "    def __init__(self, num, den):\n",
    "        self.num = num\n",
    "        self.den = den\n",
    "        self.simplify()\n",
    "    def toString(self):\n",
    "        return str(self.num) + \"/\" + str(self.den)\n",
    "    \n",
    "    def add(self, other): # other은 fraction type으로 입력 받을 것으로 간주\n",
    "        selfnum1 = self.num * other.den\n",
    "        other.num1 = other.num + self.den\n",
    "        return Fraction(self.num1 + other.num1, selfden * other.den)"
   ]
  },
  {
   "cell_type": "raw",
   "metadata": {},
   "source": [
    "f1 = Fraction(4, 6)\n",
    "f2 = Fraction(5, 9)"
   ]
  },
  {
   "cell_type": "code",
   "execution_count": 28,
   "metadata": {},
   "outputs": [],
   "source": [
    "class Fraction(object):\n",
    "    def __init__(self, num, den):\n",
    "        self.num = num\n",
    "        self.den = den\n",
    "        self.simplify()\n",
    "    def __str__(self): # __str__ 있어야 print()가 call 할 때 print됨\n",
    "        return str(self.num) + \"/\" + str(self.den)\n",
    "    "
   ]
  },
  {
   "cell_type": "markdown",
   "metadata": {},
   "source": [
    "### p45 --> 내용 확인. 마지막 아래 내용 확인 필요"
   ]
  },
  {
   "cell_type": "code",
   "execution_count": 29,
   "metadata": {},
   "outputs": [],
   "source": [
    "def __eq__(self, other):\n",
    "    return ((self.num == other.num) and (self.den == other.den))\n",
    "# user-defined data type이기 때문에, 내가 어떻게 해야하는지 정해줘야함."
   ]
  },
  {
   "cell_type": "markdown",
   "metadata": {},
   "source": [
    "#### p47~48"
   ]
  },
  {
   "cell_type": "code",
   "execution_count": 36,
   "metadata": {},
   "outputs": [],
   "source": [
    "class TClass(object):\n",
    "    def __init__(self, x, y):\n",
    "        self.x = x\n",
    "        self.y = y\n",
    "    def foo(self):\n",
    "        return self.x + self.y\n",
    "    def __str__(self):\n",
    "        return (\"Printing the testobject: \\n   Object with \"\n",
    "               \"(x: \" + str(self.x) + \" , \" + \"y: \" + str(self.y) + \")\")\n",
    "    def __repr__(self):\n",
    "        return \"TClass(x = %s, y = %s)\" %(self.x, self.y)\n",
    "# __str__() is called by str() and print() to compute the “informal” string representation of an object.\n",
    "# __repr__() is called by repr() to compute the “official” string representation of an object \n",
    "# __str__() 이 없으면 print() 는 __repr__() 을 call한다.\n",
    "\n",
    "    \n",
    "testobject = TClass(10, 10)"
   ]
  },
  {
   "cell_type": "code",
   "execution_count": 37,
   "metadata": {},
   "outputs": [
    {
     "data": {
      "text/plain": [
       "TClass(x = 10, y = 10)"
      ]
     },
     "execution_count": 37,
     "metadata": {},
     "output_type": "execute_result"
    }
   ],
   "source": [
    "testobject # related with _repr__"
   ]
  },
  {
   "cell_type": "code",
   "execution_count": 38,
   "metadata": {},
   "outputs": [
    {
     "name": "stdout",
     "output_type": "stream",
     "text": [
      "Printing the testobject: \n",
      "   Object with (x: 10 , y: 10)\n"
     ]
    }
   ],
   "source": [
    "print(testobject) # related with __str_"
   ]
  },
  {
   "cell_type": "markdown",
   "metadata": {},
   "source": [
    "# Static Method (function) "
   ]
  },
  {
   "cell_type": "markdown",
   "metadata": {},
   "source": [
    "### p51-55, static method inside class"
   ]
  },
  {
   "cell_type": "code",
   "execution_count": 48,
   "metadata": {},
   "outputs": [
    {
     "data": {
      "text/plain": [
       "2"
      ]
     },
     "execution_count": 48,
     "metadata": {},
     "output_type": "execute_result"
    }
   ],
   "source": [
    "# global 함수\n",
    "class Fraction(object):\n",
    "    def __init__(self, num, den):\n",
    "        self.num = num\n",
    "        self.den = den\n",
    "        self.simplify()\n",
    "    def simplify(self): \n",
    "        g = gcd(self.num, self.den)\n",
    "        self.num = self.num//g\n",
    "        self.den = self.den//g\n",
    "    \n",
    "# global 함수\n",
    "def gcd(a, b): # 최대공약수\n",
    "    while(b != 0):\n",
    "        (a, b) = (b, a%b)\n",
    "    return a\n",
    "gcd(10,2)"
   ]
  },
  {
   "cell_type": "code",
   "execution_count": 52,
   "metadata": {},
   "outputs": [
    {
     "data": {
      "text/plain": [
       "2"
      ]
     },
     "execution_count": 52,
     "metadata": {},
     "output_type": "execute_result"
    }
   ],
   "source": [
    "# 2 static method, class 안에서만 사용하는 method\n",
    "class Fraction(object):\n",
    "    def __init__(self, num, den):\n",
    "        self.num = num\n",
    "        self.den = den\n",
    "        self.simplify()\n",
    "    def simplify(self): # instance 함수일 경우 self 있음\n",
    "        g = Fraction.gcd(self.num, self.den)\n",
    "        self.num = self.num//g\n",
    "        self.den = self.den//g\n",
    "    @staticmethod\n",
    "    def gcd(a, b): # self가 없음\n",
    "        while(b != 0):\n",
    "            (a, b) = (b, a%b)\n",
    "        return a\n",
    "gcd(10,2)"
   ]
  },
  {
   "cell_type": "markdown",
   "metadata": {},
   "source": [
    "# Abstract class"
   ]
  },
  {
   "cell_type": "markdown",
   "metadata": {},
   "source": [
    "### p57, class generalization (code factorization): \n",
    "\n",
    "공통된 것을 따로 구성하여 super class 만든다."
   ]
  },
  {
   "cell_type": "code",
   "execution_count": null,
   "metadata": {},
   "outputs": [],
   "source": [
    "# p63\n",
    "# abstract class는 instance를 만들면 안됨\n",
    "# base class에서 instance를 만들어야 함\n",
    "# base class에서 특정 method를 만들도록 강제함\n",
    "# "
   ]
  },
  {
   "cell_type": "code",
   "execution_count": null,
   "metadata": {},
   "outputs": [],
   "source": []
  }
 ],
 "metadata": {
  "kernelspec": {
   "display_name": "Python 3",
   "language": "python",
   "name": "python3"
  },
  "language_info": {
   "codemirror_mode": {
    "name": "ipython",
    "version": 3
   },
   "file_extension": ".py",
   "mimetype": "text/x-python",
   "name": "python",
   "nbconvert_exporter": "python",
   "pygments_lexer": "ipython3",
   "version": "3.7.3"
  }
 },
 "nbformat": 4,
 "nbformat_minor": 2
}
