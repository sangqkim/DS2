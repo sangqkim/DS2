{
 "cells": [
  {
   "cell_type": "code",
   "execution_count": 31,
   "metadata": {},
   "outputs": [],
   "source": [
    "import numpy as np\n",
    "eig = np.linalg.eig"
   ]
  },
  {
   "cell_type": "markdown",
   "metadata": {},
   "source": [
    "# 2 by 2"
   ]
  },
  {
   "cell_type": "code",
   "execution_count": 32,
   "metadata": {},
   "outputs": [],
   "source": [
    "matrix = np.matrix([[4,-2],[1,1]])\n",
    "eigen = eig(matrix)"
   ]
  },
  {
   "cell_type": "code",
   "execution_count": 23,
   "metadata": {},
   "outputs": [
    {
     "name": "stdout",
     "output_type": "stream",
     "text": [
      "[3. 2.]\n"
     ]
    }
   ],
   "source": [
    "eigen_value = eigen[0]\n",
    "print(eigen_value)"
   ]
  },
  {
   "cell_type": "code",
   "execution_count": 24,
   "metadata": {},
   "outputs": [
    {
     "name": "stdout",
     "output_type": "stream",
     "text": [
      "[[0.89442719 0.70710678]\n",
      " [0.4472136  0.70710678]]\n"
     ]
    }
   ],
   "source": [
    "eigen_vector = eigen[1]\n",
    "print(eigen_vector)"
   ]
  },
  {
   "cell_type": "code",
   "execution_count": 25,
   "metadata": {},
   "outputs": [
    {
     "name": "stdout",
     "output_type": "stream",
     "text": [
      "[[1. ]\n",
      " [0.5]]\n"
     ]
    }
   ],
   "source": [
    "print(eigen_vector[:,0] / eigen_vector[0,0])"
   ]
  },
  {
   "cell_type": "code",
   "execution_count": 26,
   "metadata": {},
   "outputs": [
    {
     "name": "stdout",
     "output_type": "stream",
     "text": [
      "[[1.]\n",
      " [1.]]\n"
     ]
    }
   ],
   "source": [
    "print(eigen_vector[:,1] / eigen_vector[0,1])"
   ]
  },
  {
   "cell_type": "markdown",
   "metadata": {},
   "source": [
    "# diagonal (eigen) decomposition\n"
   ]
  },
  {
   "cell_type": "code",
   "execution_count": 27,
   "metadata": {},
   "outputs": [],
   "source": [
    "inv = np.linalg.inv"
   ]
  },
  {
   "cell_type": "code",
   "execution_count": 29,
   "metadata": {},
   "outputs": [
    {
     "data": {
      "text/plain": [
       "matrix([[3.00000000e+00, 2.54181891e-16],\n",
       "        [4.36247471e-17, 2.00000000e+00]])"
      ]
     },
     "execution_count": 29,
     "metadata": {},
     "output_type": "execute_result"
    }
   ],
   "source": [
    "inv(eigen_vector) * matrix * eigen_vector # eigen value # numerical result"
   ]
  },
  {
   "cell_type": "markdown",
   "metadata": {},
   "source": [
    "# 3 by 3"
   ]
  },
  {
   "cell_type": "code",
   "execution_count": 14,
   "metadata": {},
   "outputs": [],
   "source": [
    "matrix = np.matrix([[2,-3,1],[1,-2,1],[1,-3,2]])\n",
    "eigen = eig(matrix)"
   ]
  },
  {
   "cell_type": "code",
   "execution_count": 15,
   "metadata": {},
   "outputs": [
    {
     "name": "stdout",
     "output_type": "stream",
     "text": [
      "[1.33226763e-15+0.00000000e+00j 1.00000000e+00+8.74190484e-16j\n",
      " 1.00000000e+00-8.74190484e-16j]\n"
     ]
    }
   ],
   "source": [
    "eigen_value = eigen[0]\n",
    "print(eigen_value)\n",
    "# [0,1,1]"
   ]
  },
  {
   "cell_type": "code",
   "execution_count": 16,
   "metadata": {},
   "outputs": [
    {
     "name": "stdout",
     "output_type": "stream",
     "text": [
      "[[-0.57735027+0.j          0.81103583+0.j          0.81103583-0.j        ]\n",
      " [-0.57735027+0.j          0.36250517-0.11591802j  0.36250517+0.11591802j]\n",
      " [-0.57735027+0.j          0.27647967-0.34775407j  0.27647967+0.34775407j]]\n"
     ]
    }
   ],
   "source": [
    "eigen_vector = eigen[1]\n",
    "print(eigen_vector)"
   ]
  },
  {
   "cell_type": "code",
   "execution_count": 17,
   "metadata": {},
   "outputs": [
    {
     "name": "stdout",
     "output_type": "stream",
     "text": [
      "[[1.-0.j]\n",
      " [1.-0.j]\n",
      " [1.-0.j]]\n"
     ]
    }
   ],
   "source": [
    "print(eigen_vector[:,0] / eigen_vector[0,0])"
   ]
  },
  {
   "cell_type": "code",
   "execution_count": 18,
   "metadata": {},
   "outputs": [
    {
     "name": "stdout",
     "output_type": "stream",
     "text": [
      "[[1.        +0.j       ]\n",
      " [0.44696566-0.1429259j]\n",
      " [0.34089699-0.4287777j]]\n"
     ]
    }
   ],
   "source": [
    "print(eigen_vector[:,1] / eigen_vector[0,1])"
   ]
  },
  {
   "cell_type": "code",
   "execution_count": 19,
   "metadata": {},
   "outputs": [
    {
     "name": "stdout",
     "output_type": "stream",
     "text": [
      "[[1.        +0.j       ]\n",
      " [0.44696566+0.1429259j]\n",
      " [0.34089699+0.4287777j]]\n"
     ]
    }
   ],
   "source": [
    "print(eigen_vector[:,2] / eigen_vector[0,2])"
   ]
  }
 ],
 "metadata": {
  "kernelspec": {
   "display_name": "AOL",
   "language": "python",
   "name": "aol"
  },
  "language_info": {
   "codemirror_mode": {
    "name": "ipython",
    "version": 3
   },
   "file_extension": ".py",
   "mimetype": "text/x-python",
   "name": "python",
   "nbconvert_exporter": "python",
   "pygments_lexer": "ipython3",
   "version": "3.6.8"
  }
 },
 "nbformat": 4,
 "nbformat_minor": 2
}
