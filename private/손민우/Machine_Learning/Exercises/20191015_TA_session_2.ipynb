{
 "cells": [
  {
   "cell_type": "markdown",
   "metadata": {},
   "source": [
    "# TA session #02"
   ]
  },
  {
   "cell_type": "code",
   "execution_count": 1,
   "metadata": {},
   "outputs": [],
   "source": [
    "import pandas as pd\n",
    "import numpy as np\n",
    "import seaborn as sns\n",
    "import matplotlib.pyplot as plt\n",
    "from matplotlib.colors import ListedColormap\n",
    "from sklearn import neighbors, datasets\n",
    "from sklearn.ensemble import RandomForestClassifier, RandomForestRegressor\n",
    "from sklearn.model_selection import train_test_split, GridSearchCV\n",
    "from sklearn.metrics import mean_squared_error,confusion_matrix, classification_report, roc_curve, auc, accuracy_score\n",
    "from sklearn.svm import SVC\n",
    "from sklearn.preprocessing import MinMaxScaler\n",
    "\n",
    "%matplotlib inline\n",
    "plt.style.use('seaborn-white')"
   ]
  },
  {
   "cell_type": "code",
   "execution_count": 2,
   "metadata": {},
   "outputs": [],
   "source": [
    "## Load dataset(Hitters.csv) and drop NA(null) rows.\n",
    "data = pd.read_csv('Data/Hitters.csv', index_col=0)\n",
    "data = data.dropna()"
   ]
  },
  {
   "cell_type": "code",
   "execution_count": 3,
   "metadata": {
    "collapsed": true
   },
   "outputs": [],
   "source": [
    "## Convert object-type variables to integer(float)-type variables (Generate dummy variables)\n",
    "data = pd.get_dummies(data, columns=['League', 'Division', 'NewLeague'])"
   ]
  },
  {
   "cell_type": "code",
   "execution_count": 4,
   "metadata": {
    "collapsed": true
   },
   "outputs": [
    {
     "data": {
      "text/html": [
       "<div>\n",
       "<style scoped>\n",
       "    .dataframe tbody tr th:only-of-type {\n",
       "        vertical-align: middle;\n",
       "    }\n",
       "\n",
       "    .dataframe tbody tr th {\n",
       "        vertical-align: top;\n",
       "    }\n",
       "\n",
       "    .dataframe thead th {\n",
       "        text-align: right;\n",
       "    }\n",
       "</style>\n",
       "<table border=\"1\" class=\"dataframe\">\n",
       "  <thead>\n",
       "    <tr style=\"text-align: right;\">\n",
       "      <th></th>\n",
       "      <th>AtBat</th>\n",
       "      <th>Hits</th>\n",
       "      <th>HmRun</th>\n",
       "      <th>Runs</th>\n",
       "      <th>RBI</th>\n",
       "      <th>Walks</th>\n",
       "      <th>Years</th>\n",
       "      <th>CAtBat</th>\n",
       "      <th>CHits</th>\n",
       "      <th>CHmRun</th>\n",
       "      <th>...</th>\n",
       "      <th>PutOuts</th>\n",
       "      <th>Assists</th>\n",
       "      <th>Errors</th>\n",
       "      <th>Salary</th>\n",
       "      <th>League_A</th>\n",
       "      <th>League_N</th>\n",
       "      <th>Division_E</th>\n",
       "      <th>Division_W</th>\n",
       "      <th>NewLeague_A</th>\n",
       "      <th>NewLeague_N</th>\n",
       "    </tr>\n",
       "  </thead>\n",
       "  <tbody>\n",
       "    <tr>\n",
       "      <th>-Alan Ashby</th>\n",
       "      <td>315</td>\n",
       "      <td>81</td>\n",
       "      <td>7</td>\n",
       "      <td>24</td>\n",
       "      <td>38</td>\n",
       "      <td>39</td>\n",
       "      <td>14</td>\n",
       "      <td>3449</td>\n",
       "      <td>835</td>\n",
       "      <td>69</td>\n",
       "      <td>...</td>\n",
       "      <td>632</td>\n",
       "      <td>43</td>\n",
       "      <td>10</td>\n",
       "      <td>475.0</td>\n",
       "      <td>0</td>\n",
       "      <td>1</td>\n",
       "      <td>0</td>\n",
       "      <td>1</td>\n",
       "      <td>0</td>\n",
       "      <td>1</td>\n",
       "    </tr>\n",
       "    <tr>\n",
       "      <th>-Alvin Davis</th>\n",
       "      <td>479</td>\n",
       "      <td>130</td>\n",
       "      <td>18</td>\n",
       "      <td>66</td>\n",
       "      <td>72</td>\n",
       "      <td>76</td>\n",
       "      <td>3</td>\n",
       "      <td>1624</td>\n",
       "      <td>457</td>\n",
       "      <td>63</td>\n",
       "      <td>...</td>\n",
       "      <td>880</td>\n",
       "      <td>82</td>\n",
       "      <td>14</td>\n",
       "      <td>480.0</td>\n",
       "      <td>1</td>\n",
       "      <td>0</td>\n",
       "      <td>0</td>\n",
       "      <td>1</td>\n",
       "      <td>1</td>\n",
       "      <td>0</td>\n",
       "    </tr>\n",
       "    <tr>\n",
       "      <th>-Andre Dawson</th>\n",
       "      <td>496</td>\n",
       "      <td>141</td>\n",
       "      <td>20</td>\n",
       "      <td>65</td>\n",
       "      <td>78</td>\n",
       "      <td>37</td>\n",
       "      <td>11</td>\n",
       "      <td>5628</td>\n",
       "      <td>1575</td>\n",
       "      <td>225</td>\n",
       "      <td>...</td>\n",
       "      <td>200</td>\n",
       "      <td>11</td>\n",
       "      <td>3</td>\n",
       "      <td>500.0</td>\n",
       "      <td>0</td>\n",
       "      <td>1</td>\n",
       "      <td>1</td>\n",
       "      <td>0</td>\n",
       "      <td>0</td>\n",
       "      <td>1</td>\n",
       "    </tr>\n",
       "  </tbody>\n",
       "</table>\n",
       "<p>3 rows × 23 columns</p>\n",
       "</div>"
      ],
      "text/plain": [
       "               AtBat  Hits  HmRun  Runs  RBI  Walks  Years  CAtBat  CHits  \\\n",
       "-Alan Ashby      315    81      7    24   38     39     14    3449    835   \n",
       "-Alvin Davis     479   130     18    66   72     76      3    1624    457   \n",
       "-Andre Dawson    496   141     20    65   78     37     11    5628   1575   \n",
       "\n",
       "               CHmRun     ...       PutOuts  Assists  Errors  Salary  \\\n",
       "-Alan Ashby        69     ...           632       43      10   475.0   \n",
       "-Alvin Davis       63     ...           880       82      14   480.0   \n",
       "-Andre Dawson     225     ...           200       11       3   500.0   \n",
       "\n",
       "               League_A  League_N  Division_E  Division_W  NewLeague_A  \\\n",
       "-Alan Ashby           0         1           0           1            0   \n",
       "-Alvin Davis          1         0           0           1            1   \n",
       "-Andre Dawson         0         1           1           0            0   \n",
       "\n",
       "               NewLeague_N  \n",
       "-Alan Ashby              1  \n",
       "-Alvin Davis             0  \n",
       "-Andre Dawson            1  \n",
       "\n",
       "[3 rows x 23 columns]"
      ]
     },
     "execution_count": 4,
     "metadata": {},
     "output_type": "execute_result"
    }
   ],
   "source": [
    "data.head(3)"
   ]
  },
  {
   "cell_type": "markdown",
   "metadata": {},
   "source": [
    "# 1. Regression: Random Forest"
   ]
  },
  {
   "cell_type": "code",
   "execution_count": 5,
   "metadata": {},
   "outputs": [],
   "source": [
    "X = data.drop(['Salary'], axis=1)\n",
    "y = data['Salary']\n",
    "\n",
    "## Split train/test sets. (8:2)\n",
    "## Do proper normalization.\n",
    "X_train, X_test, y_train, y_test = train_test_split(X, y, test_size=0.2, random_state=1008)"
   ]
  },
  {
   "cell_type": "code",
   "execution_count": 6,
   "metadata": {
    "collapsed": true
   },
   "outputs": [
    {
     "name": "stderr",
     "output_type": "stream",
     "text": [
      "/home/anaconda/lib/python3.7/site-packages/sklearn/ensemble/forest.py:246: FutureWarning: The default value of n_estimators will change from 10 in version 0.20 to 100 in 0.22.\n",
      "  \"10 in version 0.20 to 100 in 0.22.\", FutureWarning)\n"
     ]
    },
    {
     "data": {
      "text/plain": [
       "RandomForestRegressor(bootstrap=True, criterion='mse', max_depth=None,\n",
       "           max_features='auto', max_leaf_nodes=None,\n",
       "           min_impurity_decrease=0.0, min_impurity_split=None,\n",
       "           min_samples_leaf=1, min_samples_split=2,\n",
       "           min_weight_fraction_leaf=0.0, n_estimators=10, n_jobs=None,\n",
       "           oob_score=False, random_state=None, verbose=0, warm_start=False)"
      ]
     },
     "execution_count": 6,
     "metadata": {},
     "output_type": "execute_result"
    }
   ],
   "source": [
    "## Fit the model and plot the result. (x: predictions, y: truths)\n",
    "model = RandomForestRegressor()\n",
    "model.fit(X_train, y_train)"
   ]
  },
  {
   "cell_type": "code",
   "execution_count": 7,
   "metadata": {
    "collapsed": true
   },
   "outputs": [
    {
     "data": {
      "text/plain": [
       "93214.00344926697"
      ]
     },
     "execution_count": 7,
     "metadata": {},
     "output_type": "execute_result"
    }
   ],
   "source": [
    "## Print the MSE result.\n",
    "pred = model.predict(X_test)\n",
    "mean_squared_error(y_test, pred)"
   ]
  },
  {
   "cell_type": "code",
   "execution_count": 8,
   "metadata": {
    "collapsed": true
   },
   "outputs": [
    {
     "data": {
      "text/plain": [
       "(0, 1800)"
      ]
     },
     "execution_count": 8,
     "metadata": {},
     "output_type": "execute_result"
    },
    {
     "data": {
      "image/png": "[encoded data removed]",
      "text/plain": [
       "<Figure size 432x288 with 1 Axes>"
      ]
     },
     "metadata": {
      "needs_background": "light"
     },
     "output_type": "display_data"
    }
   ],
   "source": [
    "plt.scatter(pred, y_test, label='medv')\n",
    "plt.plot([0, 1], [0, 1], '--k', transform=plt.gca().transAxes)\n",
    "plt.xlabel('pred')\n",
    "plt.ylabel('y_test')\n",
    "plt.xlim(0,1800)\n",
    "plt.ylim(0,1800)"
   ]
  },
  {
   "cell_type": "markdown",
   "metadata": {},
   "source": [
    "# 2. Classification: Random Forest"
   ]
  },
  {
   "cell_type": "code",
   "execution_count": 9,
   "metadata": {},
   "outputs": [],
   "source": [
    "### Data Preparation ###\n",
    "\n",
    "X = data.drop(['Salary'], axis=1)\n",
    "threshold = np.median(data['Salary'])\n",
    "y = (data['Salary'] > threshold).astype(int).values\n",
    "\n",
    "## Split train/test sets. (8:2)\n",
    "## Do proper normalization.\n",
    "X_train, X_test, y_train, y_test = train_test_split(X, y, test_size=0.2, random_state=1008)"
   ]
  },
  {
   "cell_type": "code",
   "execution_count": 10,
   "metadata": {
    "scrolled": true
   },
   "outputs": [
    {
     "name": "stderr",
     "output_type": "stream",
     "text": [
      "/home/anaconda/lib/python3.7/site-packages/sklearn/ensemble/forest.py:246: FutureWarning: The default value of n_estimators will change from 10 in version 0.20 to 100 in 0.22.\n",
      "  \"10 in version 0.20 to 100 in 0.22.\", FutureWarning)\n"
     ]
    },
    {
     "data": {
      "text/plain": [
       "RandomForestClassifier(bootstrap=True, class_weight=None, criterion='gini',\n",
       "            max_depth=None, max_features='auto', max_leaf_nodes=None,\n",
       "            min_impurity_decrease=0.0, min_impurity_split=None,\n",
       "            min_samples_leaf=1, min_samples_split=2,\n",
       "            min_weight_fraction_leaf=0.0, n_estimators=10, n_jobs=None,\n",
       "            oob_score=False, random_state=None, verbose=0,\n",
       "            warm_start=False)"
      ]
     },
     "execution_count": 10,
     "metadata": {},
     "output_type": "execute_result"
    }
   ],
   "source": [
    "## Fit the model and plot the result. (x: predictions, y: truths)\n",
    "model = RandomForestClassifier()\n",
    "model.fit(X_train, y_train)"
   ]
  },
  {
   "cell_type": "code",
   "execution_count": 11,
   "metadata": {},
   "outputs": [
    {
     "data": {
      "text/plain": [
       "array([0, 0, 0, 0, 1, 0, 0, 1, 0, 1, 0, 0, 1, 0, 1, 1, 0, 1, 0, 1, 0, 0,\n",
       "       1, 0, 0, 1, 0, 0, 0, 1, 1, 1, 0, 1, 1, 1, 1, 0, 1, 1, 0, 0, 1, 1,\n",
       "       0, 0, 1, 0, 1, 1, 0, 1, 0])"
      ]
     },
     "execution_count": 11,
     "metadata": {},
     "output_type": "execute_result"
    }
   ],
   "source": [
    "y_test"
   ]
  },
  {
   "cell_type": "code",
   "execution_count": 12,
   "metadata": {},
   "outputs": [
    {
     "data": {
      "text/plain": [
       "0.16981132075471697"
      ]
     },
     "execution_count": 12,
     "metadata": {},
     "output_type": "execute_result"
    }
   ],
   "source": [
    "## Print the MSE result.\n",
    "pred = model.predict(X_test)\n",
    "mean_squared_error(y_test, pred)"
   ]
  },
  {
   "cell_type": "code",
   "execution_count": 13,
   "metadata": {},
   "outputs": [
    {
     "data": {
      "text/plain": [
       "array([1, 0, 1, 0, 0, 0, 0, 1, 0, 1, 0, 1, 1, 0, 1, 1, 1, 1, 0, 1, 0, 0,\n",
       "       1, 0, 1, 1, 1, 0, 0, 0, 1, 1, 0, 1, 1, 1, 1, 0, 1, 1, 0, 0, 1, 1,\n",
       "       0, 0, 1, 0, 1, 0, 0, 1, 0])"
      ]
     },
     "execution_count": 13,
     "metadata": {},
     "output_type": "execute_result"
    }
   ],
   "source": [
    "pred"
   ]
  },
  {
   "cell_type": "code",
   "execution_count": 14,
   "metadata": {},
   "outputs": [
    {
     "name": "stdout",
     "output_type": "stream",
     "text": [
      "              precision    recall  f1-score   support\n",
      "\n",
      "           0       0.88      0.79      0.83        28\n",
      "           1       0.79      0.88      0.83        25\n",
      "\n",
      "   micro avg       0.83      0.83      0.83        53\n",
      "   macro avg       0.83      0.83      0.83        53\n",
      "weighted avg       0.84      0.83      0.83        53\n",
      "\n"
     ]
    }
   ],
   "source": [
    "## Print the results. - Confusion matrix, Accuracy, Precision/Recall, F1-score\n",
    "print(classification_report(y_test, pred))"
   ]
  },
  {
   "cell_type": "code",
   "execution_count": 15,
   "metadata": {
    "collapsed": true
   },
   "outputs": [
    {
     "data": {
      "text/plain": [
       "array([[22,  6],\n",
       "       [ 3, 22]])"
      ]
     },
     "execution_count": 15,
     "metadata": {},
     "output_type": "execute_result"
    }
   ],
   "source": [
    "confusion_matrix(y_test, model.predict(X_test))"
   ]
  },
  {
   "cell_type": "markdown",
   "metadata": {},
   "source": [
    "# 3. Classification: SVM"
   ]
  },
  {
   "cell_type": "code",
   "execution_count": 16,
   "metadata": {
    "collapsed": true
   },
   "outputs": [],
   "source": [
    "## change h values depending on the coding speed...\n",
    "def PlotSVMResult(svc, x, y, predictors, h=0.1):\n",
    "    xx, yy = np.meshgrid(np.arange(-0.1, 1.1, h), np.arange(-0.1, 1.1, h))\n",
    "    Z = svc.predict(np.c_[xx.ravel(), yy.ravel()]).reshape(xx.shape)\n",
    "    \n",
    "    sv = svc.support_vectors_\n",
    "\n",
    "    # plt.figure(figsize=(8, 6))\n",
    "    plt.pcolormesh(xx, yy, Z, cmap=ListedColormap(['#d8ebee', '#e7b7a3']))\n",
    "    plt.scatter(x[:, 0], x[:, 1], s=50, c=y, cmap=plt.cm.Paired, label=\"Truth(Blue=Low)\")\n",
    "    plt.scatter(sv[:,0], sv[:,1], c='k', alpha=0.5, marker='*', s=30, label=\"Support Vectors\")\n",
    "    plt.legend()\n",
    "    plt.xlabel(predictors[0])\n",
    "    plt.ylabel(predictors[1])\n",
    "    plt.show()"
   ]
  },
  {
   "cell_type": "code",
   "execution_count": 17,
   "metadata": {},
   "outputs": [
    {
     "data": {
      "text/html": [
       "<div>\n",
       "<style scoped>\n",
       "    .dataframe tbody tr th:only-of-type {\n",
       "        vertical-align: middle;\n",
       "    }\n",
       "\n",
       "    .dataframe tbody tr th {\n",
       "        vertical-align: top;\n",
       "    }\n",
       "\n",
       "    .dataframe thead th {\n",
       "        text-align: right;\n",
       "    }\n",
       "</style>\n",
       "<table border=\"1\" class=\"dataframe\">\n",
       "  <thead>\n",
       "    <tr style=\"text-align: right;\">\n",
       "      <th></th>\n",
       "      <th>AtBat</th>\n",
       "      <th>Hits</th>\n",
       "      <th>HmRun</th>\n",
       "      <th>Runs</th>\n",
       "      <th>RBI</th>\n",
       "      <th>Walks</th>\n",
       "      <th>Years</th>\n",
       "      <th>CAtBat</th>\n",
       "      <th>CHits</th>\n",
       "      <th>CHmRun</th>\n",
       "      <th>...</th>\n",
       "      <th>PutOuts</th>\n",
       "      <th>Assists</th>\n",
       "      <th>Errors</th>\n",
       "      <th>Salary</th>\n",
       "      <th>League_A</th>\n",
       "      <th>League_N</th>\n",
       "      <th>Division_E</th>\n",
       "      <th>Division_W</th>\n",
       "      <th>NewLeague_A</th>\n",
       "      <th>NewLeague_N</th>\n",
       "    </tr>\n",
       "  </thead>\n",
       "  <tbody>\n",
       "    <tr>\n",
       "      <th>-Alan Ashby</th>\n",
       "      <td>315</td>\n",
       "      <td>81</td>\n",
       "      <td>7</td>\n",
       "      <td>24</td>\n",
       "      <td>38</td>\n",
       "      <td>39</td>\n",
       "      <td>14</td>\n",
       "      <td>3449</td>\n",
       "      <td>835</td>\n",
       "      <td>69</td>\n",
       "      <td>...</td>\n",
       "      <td>632</td>\n",
       "      <td>43</td>\n",
       "      <td>10</td>\n",
       "      <td>475.0</td>\n",
       "      <td>0</td>\n",
       "      <td>1</td>\n",
       "      <td>0</td>\n",
       "      <td>1</td>\n",
       "      <td>0</td>\n",
       "      <td>1</td>\n",
       "    </tr>\n",
       "    <tr>\n",
       "      <th>-Alvin Davis</th>\n",
       "      <td>479</td>\n",
       "      <td>130</td>\n",
       "      <td>18</td>\n",
       "      <td>66</td>\n",
       "      <td>72</td>\n",
       "      <td>76</td>\n",
       "      <td>3</td>\n",
       "      <td>1624</td>\n",
       "      <td>457</td>\n",
       "      <td>63</td>\n",
       "      <td>...</td>\n",
       "      <td>880</td>\n",
       "      <td>82</td>\n",
       "      <td>14</td>\n",
       "      <td>480.0</td>\n",
       "      <td>1</td>\n",
       "      <td>0</td>\n",
       "      <td>0</td>\n",
       "      <td>1</td>\n",
       "      <td>1</td>\n",
       "      <td>0</td>\n",
       "    </tr>\n",
       "    <tr>\n",
       "      <th>-Andre Dawson</th>\n",
       "      <td>496</td>\n",
       "      <td>141</td>\n",
       "      <td>20</td>\n",
       "      <td>65</td>\n",
       "      <td>78</td>\n",
       "      <td>37</td>\n",
       "      <td>11</td>\n",
       "      <td>5628</td>\n",
       "      <td>1575</td>\n",
       "      <td>225</td>\n",
       "      <td>...</td>\n",
       "      <td>200</td>\n",
       "      <td>11</td>\n",
       "      <td>3</td>\n",
       "      <td>500.0</td>\n",
       "      <td>0</td>\n",
       "      <td>1</td>\n",
       "      <td>1</td>\n",
       "      <td>0</td>\n",
       "      <td>0</td>\n",
       "      <td>1</td>\n",
       "    </tr>\n",
       "    <tr>\n",
       "      <th>-Andres Galarraga</th>\n",
       "      <td>321</td>\n",
       "      <td>87</td>\n",
       "      <td>10</td>\n",
       "      <td>39</td>\n",
       "      <td>42</td>\n",
       "      <td>30</td>\n",
       "      <td>2</td>\n",
       "      <td>396</td>\n",
       "      <td>101</td>\n",
       "      <td>12</td>\n",
       "      <td>...</td>\n",
       "      <td>805</td>\n",
       "      <td>40</td>\n",
       "      <td>4</td>\n",
       "      <td>91.5</td>\n",
       "      <td>0</td>\n",
       "      <td>1</td>\n",
       "      <td>1</td>\n",
       "      <td>0</td>\n",
       "      <td>0</td>\n",
       "      <td>1</td>\n",
       "    </tr>\n",
       "    <tr>\n",
       "      <th>-Alfredo Griffin</th>\n",
       "      <td>594</td>\n",
       "      <td>169</td>\n",
       "      <td>4</td>\n",
       "      <td>74</td>\n",
       "      <td>51</td>\n",
       "      <td>35</td>\n",
       "      <td>11</td>\n",
       "      <td>4408</td>\n",
       "      <td>1133</td>\n",
       "      <td>19</td>\n",
       "      <td>...</td>\n",
       "      <td>282</td>\n",
       "      <td>421</td>\n",
       "      <td>25</td>\n",
       "      <td>750.0</td>\n",
       "      <td>1</td>\n",
       "      <td>0</td>\n",
       "      <td>0</td>\n",
       "      <td>1</td>\n",
       "      <td>1</td>\n",
       "      <td>0</td>\n",
       "    </tr>\n",
       "  </tbody>\n",
       "</table>\n",
       "<p>5 rows × 23 columns</p>\n",
       "</div>"
      ],
      "text/plain": [
       "                   AtBat  Hits  HmRun  Runs  RBI  Walks  Years  CAtBat  CHits  \\\n",
       "-Alan Ashby          315    81      7    24   38     39     14    3449    835   \n",
       "-Alvin Davis         479   130     18    66   72     76      3    1624    457   \n",
       "-Andre Dawson        496   141     20    65   78     37     11    5628   1575   \n",
       "-Andres Galarraga    321    87     10    39   42     30      2     396    101   \n",
       "-Alfredo Griffin     594   169      4    74   51     35     11    4408   1133   \n",
       "\n",
       "                   CHmRun     ...       PutOuts  Assists  Errors  Salary  \\\n",
       "-Alan Ashby            69     ...           632       43      10   475.0   \n",
       "-Alvin Davis           63     ...           880       82      14   480.0   \n",
       "-Andre Dawson         225     ...           200       11       3   500.0   \n",
       "-Andres Galarraga      12     ...           805       40       4    91.5   \n",
       "-Alfredo Griffin       19     ...           282      421      25   750.0   \n",
       "\n",
       "                   League_A  League_N  Division_E  Division_W  NewLeague_A  \\\n",
       "-Alan Ashby               0         1           0           1            0   \n",
       "-Alvin Davis              1         0           0           1            1   \n",
       "-Andre Dawson             0         1           1           0            0   \n",
       "-Andres Galarraga         0         1           1           0            0   \n",
       "-Alfredo Griffin          1         0           0           1            1   \n",
       "\n",
       "                   NewLeague_N  \n",
       "-Alan Ashby                  1  \n",
       "-Alvin Davis                 0  \n",
       "-Andre Dawson                1  \n",
       "-Andres Galarraga            1  \n",
       "-Alfredo Griffin             0  \n",
       "\n",
       "[5 rows x 23 columns]"
      ]
     },
     "execution_count": 17,
     "metadata": {},
     "output_type": "execute_result"
    }
   ],
   "source": [
    "data.head(5)"
   ]
  },
  {
   "cell_type": "code",
   "execution_count": 18,
   "metadata": {
    "collapsed": true
   },
   "outputs": [
    {
     "name": "stderr",
     "output_type": "stream",
     "text": [
      "/home/anaconda/lib/python3.7/site-packages/sklearn/preprocessing/data.py:323: DataConversionWarning: Data with input dtype int64 were all converted to float64 by MinMaxScaler.\n",
      "  return self.partial_fit(X, y)\n"
     ]
    }
   ],
   "source": [
    "### Data Preparation ###\n",
    "features = ['CRBI', 'CHmRun']\n",
    "# features = ['Years', 'Hits']\n",
    "X = data.drop(['Salary'], axis=1)\n",
    "X = X[features]\n",
    "threshold = np.median(data['Salary'])\n",
    "y = (data['Salary'] > threshold).astype(int).values\n",
    "normalize = MinMaxScaler()\n",
    "fitted = normalize.fit(X)\n",
    "X = normalize.transform(X)\n",
    "## Split train/test sets. (8:2)\n",
    "X_train, X_test, y_train, y_test = train_test_split(X, y, test_size=0.2, random_state=1008)\n",
    "## Do proper normalization.\n",
    "# normalize = MinMaxScaler()\n",
    "# fitted = normalize.fit(X_train)\n",
    "# X_train = normalize.transform(X_train)"
   ]
  },
  {
   "cell_type": "code",
   "execution_count": 19,
   "metadata": {},
   "outputs": [
    {
     "data": {
      "text/plain": [
       "SVC(C=1.0, cache_size=200, class_weight=None, coef0=0.0,\n",
       "  decision_function_shape='ovr', degree=3, gamma='auto', kernel='linear',\n",
       "  max_iter=-1, probability=False, random_state=None, shrinking=True,\n",
       "  tol=0.001, verbose=False)"
      ]
     },
     "execution_count": 19,
     "metadata": {},
     "output_type": "execute_result"
    }
   ],
   "source": [
    "## Fit the model and plot the result. (x: predictor1, y: predictor2, color: predicted class)\n",
    "svc1 = SVC(C= 1.0, kernel='linear', gamma='auto')\n",
    "svc1.fit(X_train, y_train)"
   ]
  },
  {
   "cell_type": "code",
   "execution_count": 20,
   "metadata": {},
   "outputs": [
    {
     "data": {
      "image/png": "[encoded data removed]",
      "text/plain": [
       "<Figure size 432x288 with 1 Axes>"
      ]
     },
     "metadata": {
      "needs_background": "light"
     },
     "output_type": "display_data"
    }
   ],
   "source": [
    "PlotSVMResult(svc1, X_train, y_train, features)"
   ]
  },
  {
   "cell_type": "code",
   "execution_count": 21,
   "metadata": {},
   "outputs": [],
   "source": [
    "## Print the results. - Confusion matrix, Accuracy, Precision/Recall, F1-score"
   ]
  },
  {
   "cell_type": "code",
   "execution_count": 22,
   "metadata": {
    "collapsed": true
   },
   "outputs": [
    {
     "name": "stdout",
     "output_type": "stream",
     "text": [
      "0.24528301886792453\n",
      "              precision    recall  f1-score   support\n",
      "\n",
      "           0       0.76      0.79      0.77        28\n",
      "           1       0.75      0.72      0.73        25\n",
      "\n",
      "   micro avg       0.75      0.75      0.75        53\n",
      "   macro avg       0.75      0.75      0.75        53\n",
      "weighted avg       0.75      0.75      0.75        53\n",
      "\n"
     ]
    }
   ],
   "source": [
    "pred = svc1.predict(X_test)\n",
    "print(mean_squared_error(y_test, pred))\n",
    "print(classification_report(y_test, pred))"
   ]
  },
  {
   "cell_type": "code",
   "execution_count": 23,
   "metadata": {
    "collapsed": true
   },
   "outputs": [],
   "source": [
    "## Change the kernel type and compare the results."
   ]
  },
  {
   "cell_type": "code",
   "execution_count": 24,
   "metadata": {
    "collapsed": true
   },
   "outputs": [
    {
     "data": {
      "image/png": "[encoded data removed]",
      "text/plain": [
       "<Figure size 432x288 with 1 Axes>"
      ]
     },
     "metadata": {
      "needs_background": "light"
     },
     "output_type": "display_data"
    },
    {
     "name": "stdout",
     "output_type": "stream",
     "text": [
      "0.18867924528301888\n",
      "              precision    recall  f1-score   support\n",
      "\n",
      "           0       0.88      0.75      0.81        28\n",
      "           1       0.76      0.88      0.81        25\n",
      "\n",
      "   micro avg       0.81      0.81      0.81        53\n",
      "   macro avg       0.82      0.81      0.81        53\n",
      "weighted avg       0.82      0.81      0.81        53\n",
      "\n"
     ]
    }
   ],
   "source": [
    "svc2 = SVC(C= 5, kernel='rbf', gamma='auto')\n",
    "svc2.fit(X_train, y_train)\n",
    "PlotSVMResult(svc2, X_train,y_train, features)\n",
    "pred = svc2.predict(X_test)\n",
    "print(mean_squared_error(y_test, pred))\n",
    "print(classification_report(y_test, pred))"
   ]
  },
  {
   "cell_type": "markdown",
   "metadata": {},
   "source": [
    "# 4. Grid Search with SVM (tuning HPs)"
   ]
  },
  {
   "cell_type": "code",
   "execution_count": 25,
   "metadata": {
    "scrolled": true
   },
   "outputs": [
    {
     "name": "stderr",
     "output_type": "stream",
     "text": [
      "/home/anaconda/lib/python3.7/site-packages/sklearn/model_selection/_search.py:841: DeprecationWarning: The default of the `iid` parameter will change from True to False in version 0.22 and will be removed in 0.24. This will change numeric results when test-set sizes are unequal.\n",
      "  DeprecationWarning)\n"
     ]
    },
    {
     "data": {
      "text/plain": [
       "{'mean_fit_time': array([0.00086327, 0.00163498, 0.00078783, 0.00151796, 0.00079637,\n",
       "        0.00141344, 0.0008007 , 0.00133433, 0.00078058, 0.00151725,\n",
       "        0.00078416, 0.00143657, 0.0007874 , 0.00135846, 0.00077629,\n",
       "        0.00126853, 0.00075998, 0.00147252, 0.00076122, 0.00137949,\n",
       "        0.00074682, 0.00123706, 0.00054326, 0.00087805, 0.00057039,\n",
       "        0.00101871, 0.00053277, 0.00095539, 0.00052528, 0.00089293,\n",
       "        0.00053582, 0.00084577, 0.00052485, 0.00098567, 0.00052681,\n",
       "        0.00093646, 0.00052581, 0.00089364, 0.00052218, 0.00082788,\n",
       "        0.00053415, 0.00098233, 0.00052295, 0.00093966, 0.00052743,\n",
       "        0.00088081, 0.00053201, 0.00083427, 0.00052958, 0.00096173,\n",
       "        0.00052333, 0.000911  , 0.00052614, 0.00087862, 0.0005281 ,\n",
       "        0.00084839, 0.00052819, 0.00096602, 0.00053062, 0.00091019,\n",
       "        0.00051956, 0.00086699, 0.00052967, 0.00083113, 0.00052357,\n",
       "        0.00095687, 0.00052528, 0.00091462, 0.00053058, 0.00090594,\n",
       "        0.00053124, 0.00084972]),\n",
       " 'std_fit_time': array([1.04880482e-04, 5.28073418e-05, 2.31845856e-05, 5.11498488e-05,\n",
       "        1.83977593e-05, 6.78800096e-05, 2.80984565e-05, 6.91684473e-05,\n",
       "        3.57545207e-05, 5.09308963e-05, 3.55382866e-05, 5.17245467e-05,\n",
       "        3.78461540e-05, 6.92052218e-05, 3.48681772e-05, 8.53818975e-05,\n",
       "        4.17042008e-05, 7.61376807e-05, 3.58866771e-05, 6.15971368e-05,\n",
       "        3.42558965e-05, 9.24939462e-05, 2.43063503e-05, 5.70422417e-05,\n",
       "        7.48074681e-05, 4.13146860e-05, 1.20420030e-05, 4.81275880e-05,\n",
       "        2.54344243e-05, 6.03400449e-05, 2.52186005e-05, 5.14258651e-05,\n",
       "        2.70810763e-05, 4.63360605e-05, 2.20392670e-05, 4.13320182e-05,\n",
       "        2.27399836e-05, 5.02658292e-05, 2.49169203e-05, 5.05030208e-05,\n",
       "        3.23071163e-05, 5.35272596e-05, 2.90019714e-05, 6.32260539e-05,\n",
       "        2.59976411e-05, 6.04550916e-05, 3.25207137e-05, 4.79941752e-05,\n",
       "        2.23521201e-05, 4.66100456e-05, 3.06079688e-05, 5.25092767e-05,\n",
       "        3.25685015e-05, 7.08356645e-05, 3.14144865e-05, 4.43613887e-05,\n",
       "        2.39525134e-05, 4.60061129e-05, 2.88888557e-05, 6.26649299e-05,\n",
       "        2.47144290e-05, 6.02037080e-05, 3.26114786e-05, 6.65289519e-05,\n",
       "        2.56642955e-05, 5.52299302e-05, 3.29402339e-05, 5.21925226e-05,\n",
       "        2.71816420e-05, 3.16184388e-05, 3.89145283e-05, 8.92324015e-05]),\n",
       " 'mean_score_time': array([0.00040975, 0.00054026, 0.00037642, 0.0005187 , 0.00036793,\n",
       "        0.00049214, 0.00037355, 0.00047708, 0.00036173, 0.00051312,\n",
       "        0.00035911, 0.00049949, 0.00035963, 0.00047941, 0.00036325,\n",
       "        0.00045581, 0.00035901, 0.0005075 , 0.0003582 , 0.00048833,\n",
       "        0.00036049, 0.00043936, 0.00027776, 0.00032334, 0.0002615 ,\n",
       "        0.00036082, 0.00025949, 0.00034661, 0.00025296, 0.00032635,\n",
       "        0.00025845, 0.00031357, 0.00025477, 0.00034771, 0.0002552 ,\n",
       "        0.00033708, 0.00025382, 0.00032673, 0.00031533, 0.00031919,\n",
       "        0.00025935, 0.00034161, 0.00025716, 0.00033374, 0.00026278,\n",
       "        0.00032182, 0.00025349, 0.00030904, 0.00025306, 0.00034251,\n",
       "        0.00025244, 0.00033054, 0.00025325, 0.00031919, 0.00025506,\n",
       "        0.00030951, 0.00025244, 0.00034022, 0.00025363, 0.00032864,\n",
       "        0.0002522 , 0.00031829, 0.00025373, 0.00030875, 0.00025392,\n",
       "        0.00033598, 0.0002512 , 0.00033164, 0.00026059, 0.00031748,\n",
       "        0.00026245, 0.00030584]),\n",
       " 'std_score_time': array([4.09518456e-05, 5.70612919e-06, 3.65146441e-06, 5.13037783e-06,\n",
       "        4.17443631e-06, 1.59590209e-05, 9.95139842e-06, 9.97832313e-06,\n",
       "        2.41921442e-06, 7.21175807e-06, 3.77394847e-06, 1.46731092e-05,\n",
       "        4.50251451e-06, 1.47368142e-05, 2.28484126e-06, 1.20776367e-05,\n",
       "        3.94768182e-06, 1.52129737e-05, 3.72604839e-06, 1.01504733e-05,\n",
       "        5.20823190e-06, 4.78658535e-05, 1.44726166e-05, 7.01680096e-06,\n",
       "        2.22330918e-06, 7.03492389e-06, 7.83029918e-06, 9.43776264e-06,\n",
       "        1.64491542e-06, 1.02773619e-05, 2.55453019e-06, 6.81627001e-06,\n",
       "        1.92278339e-06, 1.06213805e-05, 5.56082906e-07, 4.03878540e-06,\n",
       "        2.53487279e-06, 1.12452720e-05, 1.23089913e-04, 1.80023553e-05,\n",
       "        1.17841503e-05, 8.69675683e-06, 7.24666986e-06, 6.14990546e-06,\n",
       "        1.44359644e-05, 9.41967638e-06, 3.24249268e-06, 6.37144379e-06,\n",
       "        2.72924195e-06, 6.65969287e-06, 3.11371378e-06, 5.80802535e-06,\n",
       "        3.08436616e-06, 1.03632853e-05, 2.72006239e-06, 6.47235088e-06,\n",
       "        1.76751642e-06, 3.99804570e-06, 2.04762559e-06, 5.97399130e-06,\n",
       "        2.10781442e-06, 9.52720165e-06, 3.67937884e-06, 7.89161895e-06,\n",
       "        1.71926082e-06, 6.64054596e-06, 3.12901110e-06, 6.55369265e-06,\n",
       "        1.04893337e-05, 1.04595945e-05, 1.57784832e-05, 6.82293825e-06]),\n",
       " 'param_C': masked_array(data=[1, 1, 1, 1, 1, 1, 1, 1, 2, 2, 2, 2, 2, 2, 2, 2, 3, 3,\n",
       "                    3, 3, 3, 3, 3, 3, 4, 4, 4, 4, 4, 4, 4, 4, 5, 5, 5, 5,\n",
       "                    5, 5, 5, 5, 6, 6, 6, 6, 6, 6, 6, 6, 7, 7, 7, 7, 7, 7,\n",
       "                    7, 7, 8, 8, 8, 8, 8, 8, 8, 8, 9, 9, 9, 9, 9, 9, 9, 9],\n",
       "              mask=[False, False, False, False, False, False, False, False,\n",
       "                    False, False, False, False, False, False, False, False,\n",
       "                    False, False, False, False, False, False, False, False,\n",
       "                    False, False, False, False, False, False, False, False,\n",
       "                    False, False, False, False, False, False, False, False,\n",
       "                    False, False, False, False, False, False, False, False,\n",
       "                    False, False, False, False, False, False, False, False,\n",
       "                    False, False, False, False, False, False, False, False,\n",
       "                    False, False, False, False, False, False, False, False],\n",
       "        fill_value='?',\n",
       "             dtype=object),\n",
       " 'param_gamma': masked_array(data=[0.1, 0.1, 0.2, 0.2, 0.5, 0.5, 1.0, 1.0, 0.1, 0.1, 0.2,\n",
       "                    0.2, 0.5, 0.5, 1.0, 1.0, 0.1, 0.1, 0.2, 0.2, 0.5, 0.5,\n",
       "                    1.0, 1.0, 0.1, 0.1, 0.2, 0.2, 0.5, 0.5, 1.0, 1.0, 0.1,\n",
       "                    0.1, 0.2, 0.2, 0.5, 0.5, 1.0, 1.0, 0.1, 0.1, 0.2, 0.2,\n",
       "                    0.5, 0.5, 1.0, 1.0, 0.1, 0.1, 0.2, 0.2, 0.5, 0.5, 1.0,\n",
       "                    1.0, 0.1, 0.1, 0.2, 0.2, 0.5, 0.5, 1.0, 1.0, 0.1, 0.1,\n",
       "                    0.2, 0.2, 0.5, 0.5, 1.0, 1.0],\n",
       "              mask=[False, False, False, False, False, False, False, False,\n",
       "                    False, False, False, False, False, False, False, False,\n",
       "                    False, False, False, False, False, False, False, False,\n",
       "                    False, False, False, False, False, False, False, False,\n",
       "                    False, False, False, False, False, False, False, False,\n",
       "                    False, False, False, False, False, False, False, False,\n",
       "                    False, False, False, False, False, False, False, False,\n",
       "                    False, False, False, False, False, False, False, False,\n",
       "                    False, False, False, False, False, False, False, False],\n",
       "        fill_value='?',\n",
       "             dtype=object),\n",
       " 'param_kernel': masked_array(data=['linear', 'rbf', 'linear', 'rbf', 'linear', 'rbf',\n",
       "                    'linear', 'rbf', 'linear', 'rbf', 'linear', 'rbf',\n",
       "                    'linear', 'rbf', 'linear', 'rbf', 'linear', 'rbf',\n",
       "                    'linear', 'rbf', 'linear', 'rbf', 'linear', 'rbf',\n",
       "                    'linear', 'rbf', 'linear', 'rbf', 'linear', 'rbf',\n",
       "                    'linear', 'rbf', 'linear', 'rbf', 'linear', 'rbf',\n",
       "                    'linear', 'rbf', 'linear', 'rbf', 'linear', 'rbf',\n",
       "                    'linear', 'rbf', 'linear', 'rbf', 'linear', 'rbf',\n",
       "                    'linear', 'rbf', 'linear', 'rbf', 'linear', 'rbf',\n",
       "                    'linear', 'rbf', 'linear', 'rbf', 'linear', 'rbf',\n",
       "                    'linear', 'rbf', 'linear', 'rbf', 'linear', 'rbf',\n",
       "                    'linear', 'rbf', 'linear', 'rbf', 'linear', 'rbf'],\n",
       "              mask=[False, False, False, False, False, False, False, False,\n",
       "                    False, False, False, False, False, False, False, False,\n",
       "                    False, False, False, False, False, False, False, False,\n",
       "                    False, False, False, False, False, False, False, False,\n",
       "                    False, False, False, False, False, False, False, False,\n",
       "                    False, False, False, False, False, False, False, False,\n",
       "                    False, False, False, False, False, False, False, False,\n",
       "                    False, False, False, False, False, False, False, False,\n",
       "                    False, False, False, False, False, False, False, False],\n",
       "        fill_value='?',\n",
       "             dtype=object),\n",
       " 'params': [{'C': 1, 'gamma': 0.1, 'kernel': 'linear'},\n",
       "  {'C': 1, 'gamma': 0.1, 'kernel': 'rbf'},\n",
       "  {'C': 1, 'gamma': 0.2, 'kernel': 'linear'},\n",
       "  {'C': 1, 'gamma': 0.2, 'kernel': 'rbf'},\n",
       "  {'C': 1, 'gamma': 0.5, 'kernel': 'linear'},\n",
       "  {'C': 1, 'gamma': 0.5, 'kernel': 'rbf'},\n",
       "  {'C': 1, 'gamma': 1.0, 'kernel': 'linear'},\n",
       "  {'C': 1, 'gamma': 1.0, 'kernel': 'rbf'},\n",
       "  {'C': 2, 'gamma': 0.1, 'kernel': 'linear'},\n",
       "  {'C': 2, 'gamma': 0.1, 'kernel': 'rbf'},\n",
       "  {'C': 2, 'gamma': 0.2, 'kernel': 'linear'},\n",
       "  {'C': 2, 'gamma': 0.2, 'kernel': 'rbf'},\n",
       "  {'C': 2, 'gamma': 0.5, 'kernel': 'linear'},\n",
       "  {'C': 2, 'gamma': 0.5, 'kernel': 'rbf'},\n",
       "  {'C': 2, 'gamma': 1.0, 'kernel': 'linear'},\n",
       "  {'C': 2, 'gamma': 1.0, 'kernel': 'rbf'},\n",
       "  {'C': 3, 'gamma': 0.1, 'kernel': 'linear'},\n",
       "  {'C': 3, 'gamma': 0.1, 'kernel': 'rbf'},\n",
       "  {'C': 3, 'gamma': 0.2, 'kernel': 'linear'},\n",
       "  {'C': 3, 'gamma': 0.2, 'kernel': 'rbf'},\n",
       "  {'C': 3, 'gamma': 0.5, 'kernel': 'linear'},\n",
       "  {'C': 3, 'gamma': 0.5, 'kernel': 'rbf'},\n",
       "  {'C': 3, 'gamma': 1.0, 'kernel': 'linear'},\n",
       "  {'C': 3, 'gamma': 1.0, 'kernel': 'rbf'},\n",
       "  {'C': 4, 'gamma': 0.1, 'kernel': 'linear'},\n",
       "  {'C': 4, 'gamma': 0.1, 'kernel': 'rbf'},\n",
       "  {'C': 4, 'gamma': 0.2, 'kernel': 'linear'},\n",
       "  {'C': 4, 'gamma': 0.2, 'kernel': 'rbf'},\n",
       "  {'C': 4, 'gamma': 0.5, 'kernel': 'linear'},\n",
       "  {'C': 4, 'gamma': 0.5, 'kernel': 'rbf'},\n",
       "  {'C': 4, 'gamma': 1.0, 'kernel': 'linear'},\n",
       "  {'C': 4, 'gamma': 1.0, 'kernel': 'rbf'},\n",
       "  {'C': 5, 'gamma': 0.1, 'kernel': 'linear'},\n",
       "  {'C': 5, 'gamma': 0.1, 'kernel': 'rbf'},\n",
       "  {'C': 5, 'gamma': 0.2, 'kernel': 'linear'},\n",
       "  {'C': 5, 'gamma': 0.2, 'kernel': 'rbf'},\n",
       "  {'C': 5, 'gamma': 0.5, 'kernel': 'linear'},\n",
       "  {'C': 5, 'gamma': 0.5, 'kernel': 'rbf'},\n",
       "  {'C': 5, 'gamma': 1.0, 'kernel': 'linear'},\n",
       "  {'C': 5, 'gamma': 1.0, 'kernel': 'rbf'},\n",
       "  {'C': 6, 'gamma': 0.1, 'kernel': 'linear'},\n",
       "  {'C': 6, 'gamma': 0.1, 'kernel': 'rbf'},\n",
       "  {'C': 6, 'gamma': 0.2, 'kernel': 'linear'},\n",
       "  {'C': 6, 'gamma': 0.2, 'kernel': 'rbf'},\n",
       "  {'C': 6, 'gamma': 0.5, 'kernel': 'linear'},\n",
       "  {'C': 6, 'gamma': 0.5, 'kernel': 'rbf'},\n",
       "  {'C': 6, 'gamma': 1.0, 'kernel': 'linear'},\n",
       "  {'C': 6, 'gamma': 1.0, 'kernel': 'rbf'},\n",
       "  {'C': 7, 'gamma': 0.1, 'kernel': 'linear'},\n",
       "  {'C': 7, 'gamma': 0.1, 'kernel': 'rbf'},\n",
       "  {'C': 7, 'gamma': 0.2, 'kernel': 'linear'},\n",
       "  {'C': 7, 'gamma': 0.2, 'kernel': 'rbf'},\n",
       "  {'C': 7, 'gamma': 0.5, 'kernel': 'linear'},\n",
       "  {'C': 7, 'gamma': 0.5, 'kernel': 'rbf'},\n",
       "  {'C': 7, 'gamma': 1.0, 'kernel': 'linear'},\n",
       "  {'C': 7, 'gamma': 1.0, 'kernel': 'rbf'},\n",
       "  {'C': 8, 'gamma': 0.1, 'kernel': 'linear'},\n",
       "  {'C': 8, 'gamma': 0.1, 'kernel': 'rbf'},\n",
       "  {'C': 8, 'gamma': 0.2, 'kernel': 'linear'},\n",
       "  {'C': 8, 'gamma': 0.2, 'kernel': 'rbf'},\n",
       "  {'C': 8, 'gamma': 0.5, 'kernel': 'linear'},\n",
       "  {'C': 8, 'gamma': 0.5, 'kernel': 'rbf'},\n",
       "  {'C': 8, 'gamma': 1.0, 'kernel': 'linear'},\n",
       "  {'C': 8, 'gamma': 1.0, 'kernel': 'rbf'},\n",
       "  {'C': 9, 'gamma': 0.1, 'kernel': 'linear'},\n",
       "  {'C': 9, 'gamma': 0.1, 'kernel': 'rbf'},\n",
       "  {'C': 9, 'gamma': 0.2, 'kernel': 'linear'},\n",
       "  {'C': 9, 'gamma': 0.2, 'kernel': 'rbf'},\n",
       "  {'C': 9, 'gamma': 0.5, 'kernel': 'linear'},\n",
       "  {'C': 9, 'gamma': 0.5, 'kernel': 'rbf'},\n",
       "  {'C': 9, 'gamma': 1.0, 'kernel': 'linear'},\n",
       "  {'C': 9, 'gamma': 1.0, 'kernel': 'rbf'}],\n",
       " 'split0_test_score': array([0.58139535, 0.51162791, 0.58139535, 0.55813953, 0.58139535,\n",
       "        0.60465116, 0.58139535, 0.6744186 , 0.6744186 , 0.55813953,\n",
       "        0.6744186 , 0.55813953, 0.6744186 , 0.6744186 , 0.6744186 ,\n",
       "        0.69767442, 0.6744186 , 0.55813953, 0.6744186 , 0.60465116,\n",
       "        0.6744186 , 0.6744186 , 0.6744186 , 0.69767442, 0.69767442,\n",
       "        0.55813953, 0.69767442, 0.6744186 , 0.69767442, 0.69767442,\n",
       "        0.69767442, 0.72093023, 0.69767442, 0.58139535, 0.69767442,\n",
       "        0.6744186 , 0.69767442, 0.69767442, 0.69767442, 0.72093023,\n",
       "        0.69767442, 0.60465116, 0.69767442, 0.6744186 , 0.69767442,\n",
       "        0.69767442, 0.69767442, 0.72093023, 0.69767442, 0.62790698,\n",
       "        0.69767442, 0.6744186 , 0.69767442, 0.69767442, 0.69767442,\n",
       "        0.72093023, 0.69767442, 0.6744186 , 0.69767442, 0.6744186 ,\n",
       "        0.69767442, 0.69767442, 0.69767442, 0.72093023, 0.69767442,\n",
       "        0.65116279, 0.69767442, 0.6744186 , 0.69767442, 0.69767442,\n",
       "        0.69767442, 0.74418605]),\n",
       " 'split1_test_score': array([0.88095238, 0.73809524, 0.88095238, 0.78571429, 0.88095238,\n",
       "        0.92857143, 0.88095238, 0.95238095, 0.95238095, 0.78571429,\n",
       "        0.95238095, 0.85714286, 0.95238095, 0.95238095, 0.95238095,\n",
       "        0.92857143, 0.92857143, 0.88095238, 0.92857143, 0.92857143,\n",
       "        0.92857143, 0.95238095, 0.92857143, 0.92857143, 0.95238095,\n",
       "        0.85714286, 0.95238095, 0.95238095, 0.95238095, 0.92857143,\n",
       "        0.95238095, 0.92857143, 0.95238095, 0.92857143, 0.95238095,\n",
       "        0.95238095, 0.95238095, 0.92857143, 0.95238095, 0.92857143,\n",
       "        0.92857143, 0.92857143, 0.92857143, 0.95238095, 0.92857143,\n",
       "        0.92857143, 0.92857143, 0.92857143, 0.92857143, 0.92857143,\n",
       "        0.92857143, 0.95238095, 0.92857143, 0.92857143, 0.92857143,\n",
       "        0.92857143, 0.92857143, 0.95238095, 0.92857143, 0.95238095,\n",
       "        0.92857143, 0.92857143, 0.92857143, 0.92857143, 0.92857143,\n",
       "        0.95238095, 0.92857143, 0.95238095, 0.92857143, 0.92857143,\n",
       "        0.92857143, 0.92857143]),\n",
       " 'split2_test_score': array([0.76190476, 0.61904762, 0.76190476, 0.73809524, 0.76190476,\n",
       "        0.76190476, 0.76190476, 0.78571429, 0.76190476, 0.73809524,\n",
       "        0.76190476, 0.73809524, 0.76190476, 0.76190476, 0.76190476,\n",
       "        0.78571429, 0.76190476, 0.76190476, 0.76190476, 0.78571429,\n",
       "        0.76190476, 0.78571429, 0.76190476, 0.78571429, 0.78571429,\n",
       "        0.73809524, 0.78571429, 0.78571429, 0.78571429, 0.78571429,\n",
       "        0.78571429, 0.78571429, 0.78571429, 0.76190476, 0.78571429,\n",
       "        0.76190476, 0.78571429, 0.78571429, 0.78571429, 0.78571429,\n",
       "        0.78571429, 0.78571429, 0.78571429, 0.76190476, 0.78571429,\n",
       "        0.78571429, 0.78571429, 0.78571429, 0.78571429, 0.76190476,\n",
       "        0.78571429, 0.76190476, 0.78571429, 0.78571429, 0.78571429,\n",
       "        0.78571429, 0.78571429, 0.78571429, 0.78571429, 0.78571429,\n",
       "        0.78571429, 0.78571429, 0.78571429, 0.78571429, 0.78571429,\n",
       "        0.76190476, 0.78571429, 0.78571429, 0.78571429, 0.78571429,\n",
       "        0.78571429, 0.78571429]),\n",
       " 'split3_test_score': array([0.73809524, 0.61904762, 0.73809524, 0.64285714, 0.73809524,\n",
       "        0.76190476, 0.73809524, 0.80952381, 0.78571429, 0.64285714,\n",
       "        0.78571429, 0.73809524, 0.78571429, 0.80952381, 0.78571429,\n",
       "        0.83333333, 0.80952381, 0.64285714, 0.80952381, 0.73809524,\n",
       "        0.80952381, 0.80952381, 0.80952381, 0.83333333, 0.80952381,\n",
       "        0.73809524, 0.80952381, 0.78571429, 0.80952381, 0.83333333,\n",
       "        0.80952381, 0.83333333, 0.80952381, 0.76190476, 0.80952381,\n",
       "        0.78571429, 0.80952381, 0.83333333, 0.80952381, 0.83333333,\n",
       "        0.83333333, 0.73809524, 0.83333333, 0.80952381, 0.83333333,\n",
       "        0.83333333, 0.83333333, 0.83333333, 0.83333333, 0.78571429,\n",
       "        0.83333333, 0.80952381, 0.83333333, 0.83333333, 0.83333333,\n",
       "        0.83333333, 0.83333333, 0.78571429, 0.83333333, 0.80952381,\n",
       "        0.83333333, 0.83333333, 0.83333333, 0.83333333, 0.83333333,\n",
       "        0.78571429, 0.83333333, 0.80952381, 0.83333333, 0.83333333,\n",
       "        0.83333333, 0.83333333]),\n",
       " 'split4_test_score': array([0.85365854, 0.68292683, 0.85365854, 0.75609756, 0.85365854,\n",
       "        0.85365854, 0.85365854, 0.82926829, 0.82926829, 0.75609756,\n",
       "        0.82926829, 0.85365854, 0.82926829, 0.82926829, 0.82926829,\n",
       "        0.85365854, 0.82926829, 0.85365854, 0.82926829, 0.85365854,\n",
       "        0.82926829, 0.85365854, 0.82926829, 0.85365854, 0.82926829,\n",
       "        0.85365854, 0.82926829, 0.85365854, 0.82926829, 0.85365854,\n",
       "        0.82926829, 0.85365854, 0.85365854, 0.85365854, 0.85365854,\n",
       "        0.82926829, 0.85365854, 0.85365854, 0.85365854, 0.87804878,\n",
       "        0.85365854, 0.85365854, 0.85365854, 0.82926829, 0.85365854,\n",
       "        0.85365854, 0.85365854, 0.87804878, 0.85365854, 0.85365854,\n",
       "        0.85365854, 0.85365854, 0.85365854, 0.85365854, 0.85365854,\n",
       "        0.87804878, 0.85365854, 0.85365854, 0.85365854, 0.85365854,\n",
       "        0.85365854, 0.87804878, 0.85365854, 0.87804878, 0.85365854,\n",
       "        0.82926829, 0.85365854, 0.85365854, 0.85365854, 0.87804878,\n",
       "        0.85365854, 0.87804878]),\n",
       " 'mean_test_score': array([0.76190476, 0.63333333, 0.76190476, 0.6952381 , 0.76190476,\n",
       "        0.78095238, 0.76190476, 0.80952381, 0.8       , 0.6952381 ,\n",
       "        0.8       , 0.74761905, 0.8       , 0.8047619 , 0.8       ,\n",
       "        0.81904762, 0.8       , 0.73809524, 0.8       , 0.78095238,\n",
       "        0.8       , 0.81428571, 0.8       , 0.81904762, 0.81428571,\n",
       "        0.74761905, 0.81428571, 0.80952381, 0.81428571, 0.81904762,\n",
       "        0.81428571, 0.82380952, 0.81904762, 0.77619048, 0.81904762,\n",
       "        0.8       , 0.81904762, 0.81904762, 0.81904762, 0.82857143,\n",
       "        0.81904762, 0.78095238, 0.81904762, 0.8047619 , 0.81904762,\n",
       "        0.81904762, 0.81904762, 0.82857143, 0.81904762, 0.79047619,\n",
       "        0.81904762, 0.80952381, 0.81904762, 0.81904762, 0.81904762,\n",
       "        0.82857143, 0.81904762, 0.80952381, 0.81904762, 0.81428571,\n",
       "        0.81904762, 0.82380952, 0.81904762, 0.82857143, 0.81904762,\n",
       "        0.7952381 , 0.81904762, 0.81428571, 0.81904762, 0.82380952,\n",
       "        0.81904762, 0.83333333]),\n",
       " 'std_test_score': array([0.10612915, 0.07609081, 0.10612915, 0.0844105 , 0.10612915,\n",
       "        0.10908666, 0.10612915, 0.0894915 , 0.09149612, 0.0844105 ,\n",
       "        0.09149612, 0.10946308, 0.09149612, 0.09124795, 0.09149612,\n",
       "        0.07689246, 0.08373169, 0.12348065, 0.08373169, 0.1101211 ,\n",
       "        0.08373169, 0.09105075, 0.08373169, 0.07689246, 0.0825232 ,\n",
       "        0.10946308, 0.0825232 , 0.09179484, 0.0825232 , 0.07689246,\n",
       "        0.0825232 , 0.06960303, 0.08394187, 0.11690605, 0.08394187,\n",
       "        0.09149612, 0.08394187, 0.07689246, 0.08394187, 0.07226567,\n",
       "        0.07689246, 0.1101211 , 0.07689246, 0.09124795, 0.07689246,\n",
       "        0.07689246, 0.07689246, 0.07226567, 0.07689246, 0.10086056,\n",
       "        0.07689246, 0.09302178, 0.07689246, 0.07689246, 0.07689246,\n",
       "        0.07226567, 0.07689246, 0.09179484, 0.07689246, 0.09105075,\n",
       "        0.07689246, 0.07959615, 0.07689246, 0.07226567, 0.07689246,\n",
       "        0.09826301, 0.07689246, 0.09105075, 0.07689246, 0.07959615,\n",
       "        0.07689246, 0.06546173]),\n",
       " 'rank_test_score': array([63, 72, 63, 70, 63, 59, 63, 42, 48, 70, 48, 67, 48, 46, 48,  9, 48,\n",
       "        69, 48, 59, 48, 35, 48,  9, 35, 67, 35, 42, 35,  9, 35,  6,  9, 62,\n",
       "         9, 48,  9,  9,  9,  2,  9, 59,  9, 46,  9,  9,  9,  2,  9, 58,  9,\n",
       "        42,  9,  9,  9,  2,  9, 42,  9, 35,  9,  6,  9,  2,  9, 57,  9, 35,\n",
       "         9,  6,  9,  1], dtype=int32),\n",
       " 'split0_train_score': array([0.82035928, 0.67664671, 0.82035928, 0.77245509, 0.82035928,\n",
       "        0.82035928, 0.82035928, 0.83832335, 0.84431138, 0.77245509,\n",
       "        0.84431138, 0.80838323, 0.84431138, 0.83832335, 0.84431138,\n",
       "        0.85628743, 0.83832335, 0.79041916, 0.83832335, 0.83832335,\n",
       "        0.83832335, 0.83832335, 0.83832335, 0.85628743, 0.83832335,\n",
       "        0.80838323, 0.83832335, 0.83233533, 0.83832335, 0.85628743,\n",
       "        0.83832335, 0.8502994 , 0.84431138, 0.82035928, 0.84431138,\n",
       "        0.84431138, 0.84431138, 0.85628743, 0.84431138, 0.8502994 ,\n",
       "        0.85628743, 0.83832335, 0.85628743, 0.84431138, 0.85628743,\n",
       "        0.85628743, 0.85628743, 0.8502994 , 0.85628743, 0.82634731,\n",
       "        0.85628743, 0.84431138, 0.85628743, 0.85628743, 0.85628743,\n",
       "        0.8502994 , 0.85628743, 0.83233533, 0.85628743, 0.83832335,\n",
       "        0.85628743, 0.85628743, 0.85628743, 0.8502994 , 0.85628743,\n",
       "        0.83233533, 0.85628743, 0.83832335, 0.85628743, 0.85628743,\n",
       "        0.85628743, 0.85628743]),\n",
       " 'split1_train_score': array([0.72619048, 0.60714286, 0.72619048, 0.625     , 0.72619048,\n",
       "        0.73214286, 0.72619048, 0.79166667, 0.76785714, 0.625     ,\n",
       "        0.76785714, 0.7202381 , 0.76785714, 0.7797619 , 0.76785714,\n",
       "        0.80357143, 0.77380952, 0.69642857, 0.77380952, 0.75595238,\n",
       "        0.77380952, 0.79166667, 0.77380952, 0.80357143, 0.79166667,\n",
       "        0.72619048, 0.79166667, 0.77380952, 0.79166667, 0.79761905,\n",
       "        0.79166667, 0.80357143, 0.79166667, 0.72619048, 0.79166667,\n",
       "        0.7797619 , 0.79166667, 0.79761905, 0.79166667, 0.80952381,\n",
       "        0.79761905, 0.75      , 0.79761905, 0.7797619 , 0.79761905,\n",
       "        0.80357143, 0.79761905, 0.81547619, 0.79761905, 0.75595238,\n",
       "        0.79761905, 0.7797619 , 0.79761905, 0.80952381, 0.79761905,\n",
       "        0.80952381, 0.79761905, 0.76785714, 0.79761905, 0.79166667,\n",
       "        0.79761905, 0.80952381, 0.79761905, 0.80952381, 0.79761905,\n",
       "        0.76785714, 0.79761905, 0.79166667, 0.79761905, 0.80952381,\n",
       "        0.79761905, 0.80952381]),\n",
       " 'split2_train_score': array([0.77380952, 0.63690476, 0.77380952, 0.69047619, 0.77380952,\n",
       "        0.77380952, 0.77380952, 0.83333333, 0.81547619, 0.69047619,\n",
       "        0.81547619, 0.76190476, 0.81547619, 0.82738095, 0.81547619,\n",
       "        0.82738095, 0.82738095, 0.74404762, 0.82738095, 0.79761905,\n",
       "        0.82738095, 0.83333333, 0.82738095, 0.83333333, 0.83333333,\n",
       "        0.75      , 0.83333333, 0.81547619, 0.83333333, 0.83333333,\n",
       "        0.83333333, 0.83333333, 0.83333333, 0.76785714, 0.83333333,\n",
       "        0.82142857, 0.83333333, 0.83333333, 0.83333333, 0.83928571,\n",
       "        0.83333333, 0.78571429, 0.83333333, 0.82142857, 0.83333333,\n",
       "        0.83333333, 0.83333333, 0.83928571, 0.83333333, 0.79166667,\n",
       "        0.83333333, 0.82738095, 0.83333333, 0.83333333, 0.83333333,\n",
       "        0.83928571, 0.83333333, 0.79761905, 0.83333333, 0.83333333,\n",
       "        0.83333333, 0.83333333, 0.83333333, 0.83928571, 0.83333333,\n",
       "        0.81547619, 0.83333333, 0.83333333, 0.83333333, 0.83333333,\n",
       "        0.83333333, 0.85119048]),\n",
       " 'split3_train_score': array([0.76190476, 0.63690476, 0.76190476, 0.68452381, 0.76190476,\n",
       "        0.76785714, 0.76190476, 0.80357143, 0.79166667, 0.67261905,\n",
       "        0.79166667, 0.75      , 0.79166667, 0.79761905, 0.79166667,\n",
       "        0.82142857, 0.80952381, 0.75      , 0.80952381, 0.7797619 ,\n",
       "        0.80952381, 0.80357143, 0.80952381, 0.82142857, 0.79761905,\n",
       "        0.75      , 0.79761905, 0.78571429, 0.79761905, 0.81547619,\n",
       "        0.79761905, 0.82142857, 0.80952381, 0.76190476, 0.80952381,\n",
       "        0.79166667, 0.80952381, 0.82142857, 0.80952381, 0.82142857,\n",
       "        0.82142857, 0.77380952, 0.82142857, 0.79761905, 0.82142857,\n",
       "        0.82142857, 0.82142857, 0.82142857, 0.82142857, 0.79166667,\n",
       "        0.82142857, 0.80357143, 0.82142857, 0.82142857, 0.82142857,\n",
       "        0.82738095, 0.82142857, 0.79166667, 0.82142857, 0.80357143,\n",
       "        0.82142857, 0.82142857, 0.82142857, 0.83333333, 0.82142857,\n",
       "        0.78571429, 0.82142857, 0.80357143, 0.82142857, 0.82142857,\n",
       "        0.82142857, 0.83333333]),\n",
       " 'split4_train_score': array([0.73964497, 0.62130178, 0.73964497, 0.66272189, 0.73964497,\n",
       "        0.75147929, 0.73964497, 0.81656805, 0.78106509, 0.66272189,\n",
       "        0.78106509, 0.72189349, 0.78106509, 0.79881657, 0.78106509,\n",
       "        0.81065089, 0.79881657, 0.72189349, 0.79881657, 0.75147929,\n",
       "        0.79881657, 0.81656805, 0.79881657, 0.81656805, 0.79289941,\n",
       "        0.72189349, 0.79289941, 0.78106509, 0.79289941, 0.81656805,\n",
       "        0.79289941, 0.81656805, 0.81656805, 0.74556213, 0.81656805,\n",
       "        0.80473373, 0.81656805, 0.81656805, 0.81656805, 0.81656805,\n",
       "        0.81656805, 0.75147929, 0.81656805, 0.80473373, 0.81656805,\n",
       "        0.81656805, 0.81656805, 0.81656805, 0.81656805, 0.77514793,\n",
       "        0.81656805, 0.80473373, 0.81656805, 0.82248521, 0.81656805,\n",
       "        0.81656805, 0.81656805, 0.78106509, 0.81656805, 0.80473373,\n",
       "        0.81656805, 0.81656805, 0.81656805, 0.81656805, 0.81656805,\n",
       "        0.77514793, 0.81656805, 0.80473373, 0.81656805, 0.81656805,\n",
       "        0.81656805, 0.81656805]),\n",
       " 'mean_train_score': array([0.7643818 , 0.63578017, 0.7643818 , 0.6870354 , 0.7643818 ,\n",
       "        0.76912962, 0.7643818 , 0.81669257, 0.80007529, 0.68465444,\n",
       "        0.80007529, 0.75248392, 0.80007529, 0.80838037, 0.80007529,\n",
       "        0.82386385, 0.80957084, 0.74055777, 0.80957084, 0.7846272 ,\n",
       "        0.80957084, 0.81669257, 0.80957084, 0.82623776, 0.81076836,\n",
       "        0.75129344, 0.81076836, 0.79768008, 0.81076836, 0.82385681,\n",
       "        0.81076836, 0.82504016, 0.81908065, 0.76437476, 0.81908065,\n",
       "        0.80838045, 0.81908065, 0.82504728, 0.81908065, 0.82742111,\n",
       "        0.82504728, 0.77986529, 0.82504728, 0.80957093, 0.82504728,\n",
       "        0.82623776, 0.82504728, 0.82861158, 0.82504728, 0.78815619,\n",
       "        0.82504728, 0.81195188, 0.82504728, 0.82861167, 0.82504728,\n",
       "        0.82861158, 0.82504728, 0.79410866, 0.82504728, 0.8143257 ,\n",
       "        0.82504728, 0.82742824, 0.82504728, 0.82980206, 0.82504728,\n",
       "        0.79530618, 0.82504728, 0.8143257 , 0.82504728, 0.82742824,\n",
       "        0.82504728, 0.83338062]),\n",
       " 'std_train_score': array([0.03255452, 0.02324789, 0.03255452, 0.04848548, 0.03255452,\n",
       "        0.02941956, 0.03255452, 0.01756862, 0.02707073, 0.04884135,\n",
       "        0.02707073, 0.03223421, 0.02707073, 0.02137238, 0.02707073,\n",
       "        0.01819865, 0.02253191, 0.03125135, 0.02253191, 0.03161255,\n",
       "        0.02253191, 0.01756862, 0.02253191, 0.01779732, 0.02061812,\n",
       "        0.03084512, 0.02061812, 0.02239075, 0.02061812, 0.01976527,\n",
       "        0.02061812, 0.0158274 , 0.0183788 , 0.03151015, 0.0183788 ,\n",
       "        0.0226846 , 0.0183788 , 0.01940054, 0.0183788 , 0.01508773,\n",
       "        0.01940054, 0.03220537, 0.01940054, 0.02191952, 0.01940054,\n",
       "        0.01779732, 0.01940054, 0.01380927, 0.01940054, 0.02319271,\n",
       "        0.01940054, 0.02210756, 0.01940054, 0.01575892, 0.01940054,\n",
       "        0.01480002, 0.01940054, 0.02162795, 0.01940054, 0.01821137,\n",
       "        0.01940054, 0.01638433, 0.01940054, 0.01489226, 0.01940054,\n",
       "        0.02461624, 0.01940054, 0.01821137, 0.01940054, 0.01638433,\n",
       "        0.01940054, 0.01840503])}"
      ]
     },
     "execution_count": 25,
     "metadata": {},
     "output_type": "execute_result"
    }
   ],
   "source": [
    "tuned_parameters = {'kernel':['linear', 'rbf'], 'C':[i for i in range(1, 10)], 'gamma':[0.1,0.2,0.5,1.0]}\n",
    "## In dictionary, list the hyperparameter candidates. e.g. C, kernel, gamma, ...\n",
    "\n",
    "clf = GridSearchCV(SVC(), tuned_parameters, cv=5, scoring='accuracy', return_train_score=True)\n",
    "clf.fit(X_train, y_train)\n",
    "clf.cv_results_"
   ]
  },
  {
   "cell_type": "code",
   "execution_count": 26,
   "metadata": {},
   "outputs": [
    {
     "data": {
      "text/plain": [
       "{'C': 9, 'gamma': 1.0, 'kernel': 'rbf'}"
      ]
     },
     "execution_count": 26,
     "metadata": {},
     "output_type": "execute_result"
    }
   ],
   "source": [
    "## Print best HPs.\n",
    "clf.best_params_"
   ]
  },
  {
   "cell_type": "code",
   "execution_count": 27,
   "metadata": {},
   "outputs": [],
   "source": [
    "## For the best case, plot the result and print the accuracy."
   ]
  },
  {
   "cell_type": "code",
   "execution_count": 32,
   "metadata": {
    "collapsed": true
   },
   "outputs": [
    {
     "data": {
      "image/png": "[encoded data removed]",
      "text/plain": [
       "<Figure size 432x288 with 1 Axes>"
      ]
     },
     "metadata": {
      "needs_background": "light"
     },
     "output_type": "display_data"
    },
    {
     "name": "stdout",
     "output_type": "stream",
     "text": [
      "0.20754716981132076\n",
      "              precision    recall  f1-score   support\n",
      "\n",
      "           0       0.84      0.75      0.79        28\n",
      "           1       0.75      0.84      0.79        25\n",
      "\n",
      "   micro avg       0.79      0.79      0.79        53\n",
      "   macro avg       0.79      0.79      0.79        53\n",
      "weighted avg       0.80      0.79      0.79        53\n",
      "\n"
     ]
    }
   ],
   "source": [
    "svcb = SVC(C= 9, kernel='rbf', gamma=1.0)\n",
    "svcb.fit(X_train, y_train)\n",
    "PlotSVMResult(svcb, X_train,y_train, features)\n",
    "pred = svcb.predict(X_test)\n",
    "print(mean_squared_error(y_test, pred))\n",
    "print(classification_report(y_test, pred))"
   ]
  },
  {
   "cell_type": "markdown",
   "metadata": {},
   "source": [
    "# 5. ROC curve"
   ]
  },
  {
   "cell_type": "code",
   "execution_count": 29,
   "metadata": {
    "collapsed": true
   },
   "outputs": [
    {
     "name": "stdout",
     "output_type": "stream",
     "text": [
      "0.8941400580551524 0.797142857142857\n"
     ]
    },
    {
     "data": {
      "text/plain": [
       "<matplotlib.legend.Legend at 0x7f567d6a7b90>"
      ]
     },
     "execution_count": 29,
     "metadata": {},
     "output_type": "execute_result"
    },
    {
     "data": {
      "image/png": "[encoded data removed]",
      "text/plain": [
       "<Figure size 432x288 with 1 Axes>"
      ]
     },
     "metadata": {
      "needs_background": "light"
     },
     "output_type": "display_data"
    }
   ],
   "source": [
    "### Evaluate FPR and TPR for the best case from the above task.\n",
    "### Get the ROC curve and AUC value.\n",
    "y_train_score = svcb.decision_function(X_train)\n",
    "y_test_score = svcb.decision_function(X_test)\n",
    "false_pos_rate_train, true_pos_rate_train, _ = roc_curve(y_train, y_train_score)\n",
    "false_pos_rate_test, true_pos_rate_test, _ = roc_curve(y_test, y_test_score)\n",
    "roc_auc_train = auc(false_pos_rate_train, true_pos_rate_train)\n",
    "roc_auc_test = auc(false_pos_rate_test, true_pos_rate_test)\n",
    "\n",
    "plt.plot(false_pos_rate_train, true_pos_rate_train, label='SVM $\\gamma = 1$ ROC curve (area = %0.2f)' % roc_auc_train, color='b')\n",
    "plt.plot(false_pos_rate_test, true_pos_rate_test, label='SVM $\\gamma = 1$ ROC curve (area = %0.2f)' % roc_auc_test, color='r')\n",
    "print(roc_auc_train, roc_auc_test)\n",
    "plt.plot([0, 1], [0, 1], 'k--')\n",
    "plt.xlim([-0.05, 1.0])\n",
    "plt.ylim([0.0, 1.05])\n",
    "plt.xlabel('False Positive Rate')\n",
    "plt.ylabel('True Positive Rate')\n",
    "plt.legend(loc=\"lower right\")"
   ]
  },
  {
   "cell_type": "code",
   "execution_count": 30,
   "metadata": {},
   "outputs": [],
   "source": [
    "### Plot the ROC curve (x: FPR, y: TPR, adding the y=x line.)\n",
    "### Print the AUC value."
   ]
  },
  {
   "cell_type": "code",
   "execution_count": 31,
   "metadata": {},
   "outputs": [
    {
     "name": "stdout",
     "output_type": "stream",
     "text": [
      "0.8887880986937591 0.8913280116110305\n"
     ]
    },
    {
     "data": {
      "text/plain": [
       "<matplotlib.legend.Legend at 0x7f567d89eb10>"
      ]
     },
     "execution_count": 31,
     "metadata": {},
     "output_type": "execute_result"
    },
    {
     "data": {
      "image/png": "[encoded data removed]",
      "text/plain": [
       "<Figure size 432x288 with 1 Axes>"
      ]
     },
     "metadata": {
      "needs_background": "light"
     },
     "output_type": "display_data"
    }
   ],
   "source": [
    "### Plot the several curves with different hyperparameters(model=SVM).\n",
    "y_train_score1 = svc1.decision_function(X_train)\n",
    "y_train_score2 = svc2.decision_function(X_train)\n",
    "false_pos_rate_1, true_pos_rate_1, _ = roc_curve(y_train, y_train_score1)\n",
    "false_pos_rate_2, true_pos_rate_2, _ = roc_curve(y_train, y_train_score2)\n",
    "roc_auc_1 = auc(false_pos_rate_1, true_pos_rate_1)\n",
    "roc_auc_2 = auc(false_pos_rate_2, true_pos_rate_2)\n",
    "\n",
    "plt.plot(false_pos_rate_1, true_pos_rate_1, label='SVM $\\gamma = 1$ ROC curve (area = %0.2f)' % roc_auc_1, color='b')\n",
    "plt.plot(false_pos_rate_2, true_pos_rate_2, label='SVM $\\gamma = 1$ ROC curve (area = %0.2f)' % roc_auc_2, color='r')\n",
    "print(roc_auc_1, roc_auc_2)\n",
    "plt.plot([0, 1], [0, 1], 'k--')\n",
    "plt.xlim([-0.05, 1.0])\n",
    "plt.ylim([0.0, 1.05])\n",
    "plt.xlabel('False Positive Rate')\n",
    "plt.ylabel('True Positive Rate')\n",
    "plt.legend(loc=\"lower right\")"
   ]
  },
  {
   "cell_type": "code",
   "execution_count": null,
   "metadata": {},
   "outputs": [],
   "source": []
  }
 ],
 "metadata": {
  "anaconda-cloud": {},
  "kernelspec": {
   "display_name": "Python 3",
   "language": "python",
   "name": "python3"
  },
  "language_info": {
   "codemirror_mode": {
    "name": "ipython",
    "version": 2
   },
   "file_extension": ".py",
   "mimetype": "text/x-python",
   "name": "python",
   "nbconvert_exporter": "python",
   "pygments_lexer": "ipython2",
   "version": "2.7.12"
  }
 },
 "nbformat": 4,
 "nbformat_minor": 2
}
