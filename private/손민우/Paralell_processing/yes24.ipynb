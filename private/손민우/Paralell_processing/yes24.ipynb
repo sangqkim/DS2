{
 "cells": [
  {
   "cell_type": "code",
   "execution_count": 1,
   "metadata": {},
   "outputs": [],
   "source": [
    "import pandas as pd"
   ]
  },
  {
   "cell_type": "code",
   "execution_count": 2,
   "metadata": {},
   "outputs": [],
   "source": [
    "yes24 = pd.read_csv('./text-analytics/yes24-book-review-prep.csv', names=['name','id','text'])"
   ]
  },
  {
   "cell_type": "code",
   "execution_count": 3,
   "metadata": {},
   "outputs": [
    {
     "data": {
      "text/html": [
       "<div>\n",
       "<style scoped>\n",
       "    .dataframe tbody tr th:only-of-type {\n",
       "        vertical-align: middle;\n",
       "    }\n",
       "\n",
       "    .dataframe tbody tr th {\n",
       "        vertical-align: top;\n",
       "    }\n",
       "\n",
       "    .dataframe thead th {\n",
       "        text-align: right;\n",
       "    }\n",
       "</style>\n",
       "<table border=\"1\" class=\"dataframe\">\n",
       "  <thead>\n",
       "    <tr style=\"text-align: right;\">\n",
       "      <th></th>\n",
       "      <th>name</th>\n",
       "      <th>id</th>\n",
       "      <th>text</th>\n",
       "    </tr>\n",
       "  </thead>\n",
       "  <tbody>\n",
       "    <tr>\n",
       "      <th>0</th>\n",
       "      <td>초한지 6</td>\n",
       "      <td>9.788937e+12</td>\n",
       "      <td>단 한번 승리 천하 고조 유방 단 번의 패배 모든 것 초패 항우 이 책 유방 한우 ...</td>\n",
       "    </tr>\n",
       "    <tr>\n",
       "      <th>1</th>\n",
       "      <td>폭풍의 언덕</td>\n",
       "      <td>9.791156e+12</td>\n",
       "      <td>인간 애증 격정 치명 복수 화제 드라마 비밀 의 모티프 폭풍 언덕 서른 해 생 살 ...</td>\n",
       "    </tr>\n",
       "    <tr>\n",
       "      <th>2</th>\n",
       "      <td>걸, 마돈나 세트</td>\n",
       "      <td>9.788993e+12</td>\n",
       "      <td>걸 직장 여성 심리 리얼 유쾌하 소설 얼굴 잔 주름 이제 화장 발 이 제 나이 도 ...</td>\n",
       "    </tr>\n",
       "    <tr>\n",
       "      <th>3</th>\n",
       "      <td>커피점 탈레랑의 사건 수첩 2</td>\n",
       "      <td>9.791185e+12</td>\n",
       "      <td>잔 커피 년 추억 터키 속담 교토 거리 뒤편 자리 커피점 탈레랑 미호 시 여동생 미...</td>\n",
       "    </tr>\n",
       "    <tr>\n",
       "      <th>4</th>\n",
       "      <td>무의미의 축제</td>\n",
       "      <td>9.788937e+12</td>\n",
       "      <td>농담 거짓말 의미 무의미 일상 축제 경계 삶 인간 본질 더욱 원숙 해진 시선 수 존...</td>\n",
       "    </tr>\n",
       "  </tbody>\n",
       "</table>\n",
       "</div>"
      ],
      "text/plain": [
       "               name            id  \\\n",
       "0             초한지 6  9.788937e+12   \n",
       "1            폭풍의 언덕  9.791156e+12   \n",
       "2         걸, 마돈나 세트  9.788993e+12   \n",
       "3  커피점 탈레랑의 사건 수첩 2  9.791185e+12   \n",
       "4           무의미의 축제  9.788937e+12   \n",
       "\n",
       "                                                text  \n",
       "0  단 한번 승리 천하 고조 유방 단 번의 패배 모든 것 초패 항우 이 책 유방 한우 ...  \n",
       "1  인간 애증 격정 치명 복수 화제 드라마 비밀 의 모티프 폭풍 언덕 서른 해 생 살 ...  \n",
       "2  걸 직장 여성 심리 리얼 유쾌하 소설 얼굴 잔 주름 이제 화장 발 이 제 나이 도 ...  \n",
       "3  잔 커피 년 추억 터키 속담 교토 거리 뒤편 자리 커피점 탈레랑 미호 시 여동생 미...  \n",
       "4  농담 거짓말 의미 무의미 일상 축제 경계 삶 인간 본질 더욱 원숙 해진 시선 수 존...  "
      ]
     },
     "execution_count": 3,
     "metadata": {},
     "output_type": "execute_result"
    }
   ],
   "source": [
    "yes24.head()"
   ]
  },
  {
   "cell_type": "code",
   "execution_count": 7,
   "metadata": {},
   "outputs": [],
   "source": [
    "from sklearn.feature_extraction.text import CountVectorizer\n",
    "from sklearn.feature_extraction.text import TfidfTransformer"
   ]
  },
  {
   "cell_type": "code",
   "execution_count": 10,
   "metadata": {},
   "outputs": [],
   "source": [
    "count_vectorizer = CountVectorizer()\n",
    "count_vector = count_vectorizer.fit_transform(yes24.text)\n",
    "\n",
    "tfidf_transformer = TfidfTransformer()\n",
    "tfidf_featrues = tfidf_transformer.fit_transform(count_vector)"
   ]
  },
  {
   "cell_type": "code",
   "execution_count": 9,
   "metadata": {},
   "outputs": [
    {
     "data": {
      "text/plain": [
       "'단 한번 승리 천하 고조 유방 단 번의 패배 모든 것 초패 항우 이 책 유방 한우 삶 초점 영웅 삶 파란만장 인생 풍운아 일대기 그린 책 유방 항우 무렵 전국시대 말기 진시황제 세 황제 호해 통일 진나라 시대 통일 진나라 멸망 항우 패 과정 이 승복 못 유방 반발 항우 끝내 천하 재 과정 생생 기원전 년 장량 시황제 암살 기도 장면 항우 기원전 년 초 년 이야기 초한지 천하 패권 겨룬 두 영웅 그 중심 호걸 야망 음모 충성 변절 거듭 초 쟁패 주인공 과정 우리 시대 대표 작가 이문열 그 접전 통해 동양 리더십 원형 그 진수 초한지 년 월말 총 권 발간 예정'"
      ]
     },
     "execution_count": 9,
     "metadata": {},
     "output_type": "execute_result"
    }
   ],
   "source": [
    "yes24.text[0]"
   ]
  },
  {
   "cell_type": "code",
   "execution_count": 11,
   "metadata": {},
   "outputs": [
    {
     "data": {
      "text/plain": [
       "<1x46287 sparse matrix of type '<class 'numpy.float64'>'\n",
       "\twith 65 stored elements in Compressed Sparse Row format>"
      ]
     },
     "execution_count": 11,
     "metadata": {},
     "output_type": "execute_result"
    }
   ],
   "source": [
    "tfidf_featrues[0]"
   ]
  },
  {
   "cell_type": "code",
   "execution_count": 12,
   "metadata": {},
   "outputs": [
    {
     "data": {
      "text/plain": [
       "array([[0., 0., 0., ..., 0., 0., 0.]])"
      ]
     },
     "execution_count": 12,
     "metadata": {},
     "output_type": "execute_result"
    }
   ],
   "source": [
    "tfidf_featrues[0].toarray()"
   ]
  },
  {
   "cell_type": "code",
   "execution_count": 13,
   "metadata": {},
   "outputs": [
    {
     "name": "stdout",
     "output_type": "stream",
     "text": [
      "  (0, 903)\t1\n",
      "  (0, 29203)\t1\n"
     ]
    }
   ],
   "source": [
    "query = ['개념 원리']\n",
    "q = count_vectorizer.transform(query)\n",
    "print(q)"
   ]
  },
  {
   "cell_type": "code",
   "execution_count": 14,
   "metadata": {},
   "outputs": [
    {
     "name": "stdout",
     "output_type": "stream",
     "text": [
      "[[0 0 0 ... 0 0 0]]\n",
      "[[0. 0. 0. ... 0. 0. 0.]]\n"
     ]
    }
   ],
   "source": [
    "import numpy as np\n",
    "\n",
    "print(q.toarray())\n",
    "print(tfidf_featrues[0].toarray())"
   ]
  },
  {
   "cell_type": "code",
   "execution_count": 15,
   "metadata": {},
   "outputs": [
    {
     "name": "stdout",
     "output_type": "stream",
     "text": [
      "[[0.]]\n",
      "[[0.04064417]]\n"
     ]
    }
   ],
   "source": [
    "print(np.inner(q.toarray(), tfidf_featrues[0].toarray()))\n",
    "print(np.inner(q.toarray(), tfidf_featrues[12].toarray()))"
   ]
  },
  {
   "cell_type": "code",
   "execution_count": 16,
   "metadata": {},
   "outputs": [
    {
     "name": "stdout",
     "output_type": "stream",
     "text": [
      "1.0\n",
      "0.9712602286618821\n"
     ]
    }
   ],
   "source": [
    "from scipy.spatial import distance\n",
    "print(distance.cosine(q.toarray(), tfidf_featrues[0].toarray()))\n",
    "print(distance.cosine(q.toarray(), tfidf_featrues[12].toarray()))"
   ]
  },
  {
   "cell_type": "code",
   "execution_count": 28,
   "metadata": {},
   "outputs": [
    {
     "data": {
      "text/plain": [
       "(1, 46287)"
      ]
     },
     "execution_count": 28,
     "metadata": {},
     "output_type": "execute_result"
    }
   ],
   "source": [
    "tfidf_featrues[12].toarray().shape"
   ]
  },
  {
   "cell_type": "code",
   "execution_count": null,
   "metadata": {},
   "outputs": [],
   "source": []
  }
 ],
 "metadata": {
  "kernelspec": {
   "display_name": "Python 3",
   "language": "python",
   "name": "python3"
  },
  "language_info": {
   "codemirror_mode": {
    "name": "ipython",
    "version": 3
   },
   "file_extension": ".py",
   "mimetype": "text/x-python",
   "name": "python",
   "nbconvert_exporter": "python",
   "pygments_lexer": "ipython3",
   "version": "3.7.3"
  }
 },
 "nbformat": 4,
 "nbformat_minor": 2
}
