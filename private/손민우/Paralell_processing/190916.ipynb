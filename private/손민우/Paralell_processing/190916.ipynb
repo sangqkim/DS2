{
 "cells": [
  {
   "cell_type": "code",
   "execution_count": 1,
   "metadata": {},
   "outputs": [],
   "source": [
    "from pyspark.sql import SparkSession\n",
    "from pyspark.sql.types import StructType, StructField, IntegerType, DoubleType"
   ]
  },
  {
   "cell_type": "code",
   "execution_count": 3,
   "metadata": {},
   "outputs": [],
   "source": [
    "colNames = [\"Elevation\", \"Aspect\", \"Slope\",\n",
    "\"Horizontal_Distance_To_Hydrology\",\n",
    "\"Vertical_Distance_To_Hydrology\",\n",
    "\"Horizontal_Distance_To_Roadways\",\n",
    "\"Hillshade_9am\",\n",
    "\"Hillshade_Noon\",\n",
    "\"Hillshade_3pm\",\n",
    "\"Horizontal_Distance_To_Fire_Points\"]\n",
    "for i in range(4):\n",
    "    colNames += [\"Wilderness_Area_\"+str(i),]\n",
    "for i in range(40):\n",
    "    colNames += [\"Soil_Type_\"+str(i),]\n",
    "colNames += [\"Cover_Type\",]"
   ]
  },
  {
   "cell_type": "code",
   "execution_count": 6,
   "metadata": {},
   "outputs": [],
   "source": [
    "spark = SparkSession.builder.appName('test').getOrCreate()\n",
    "sc = spark.sparkContext"
   ]
  },
  {
   "cell_type": "code",
   "execution_count": 7,
   "metadata": {},
   "outputs": [
    {
     "data": {
      "text/plain": [
       "581012"
      ]
     },
     "execution_count": 7,
     "metadata": {},
     "output_type": "execute_result"
    }
   ],
   "source": [
    "# Create schema\n",
    "schema = StructType()\n",
    "for name in colNames:\n",
    "    if name == \"Cover_Type\":\n",
    "        schema.add(StructField(name, DoubleType(), True))\n",
    "    else:\n",
    "        schema.add(StructField(name, IntegerType(), True))\n",
    "# Load CSV with schema\n",
    "data = spark.read.csv(\"covtype.data\", header=False,\n",
    "schema=schema)\n",
    "data.count() # 581012"
   ]
  },
  {
   "cell_type": "code",
   "execution_count": 8,
   "metadata": {},
   "outputs": [
    {
     "name": "stdout",
     "output_type": "stream",
     "text": [
      "root\n",
      " |-- Elevation: integer (nullable = true)\n",
      " |-- Aspect: integer (nullable = true)\n",
      " |-- Slope: integer (nullable = true)\n",
      " |-- Horizontal_Distance_To_Hydrology: integer (nullable = true)\n",
      " |-- Vertical_Distance_To_Hydrology: integer (nullable = true)\n",
      " |-- Horizontal_Distance_To_Roadways: integer (nullable = true)\n",
      " |-- Hillshade_9am: integer (nullable = true)\n",
      " |-- Hillshade_Noon: integer (nullable = true)\n",
      " |-- Hillshade_3pm: integer (nullable = true)\n",
      " |-- Horizontal_Distance_To_Fire_Points: integer (nullable = true)\n",
      " |-- Wilderness_Area_0: integer (nullable = true)\n",
      " |-- Wilderness_Area_1: integer (nullable = true)\n",
      " |-- Wilderness_Area_2: integer (nullable = true)\n",
      " |-- Wilderness_Area_3: integer (nullable = true)\n",
      " |-- Soil_Type_0: integer (nullable = true)\n",
      " |-- Soil_Type_1: integer (nullable = true)\n",
      " |-- Soil_Type_2: integer (nullable = true)\n",
      " |-- Soil_Type_3: integer (nullable = true)\n",
      " |-- Soil_Type_4: integer (nullable = true)\n",
      " |-- Soil_Type_5: integer (nullable = true)\n",
      " |-- Soil_Type_6: integer (nullable = true)\n",
      " |-- Soil_Type_7: integer (nullable = true)\n",
      " |-- Soil_Type_8: integer (nullable = true)\n",
      " |-- Soil_Type_9: integer (nullable = true)\n",
      " |-- Soil_Type_10: integer (nullable = true)\n",
      " |-- Soil_Type_11: integer (nullable = true)\n",
      " |-- Soil_Type_12: integer (nullable = true)\n",
      " |-- Soil_Type_13: integer (nullable = true)\n",
      " |-- Soil_Type_14: integer (nullable = true)\n",
      " |-- Soil_Type_15: integer (nullable = true)\n",
      " |-- Soil_Type_16: integer (nullable = true)\n",
      " |-- Soil_Type_17: integer (nullable = true)\n",
      " |-- Soil_Type_18: integer (nullable = true)\n",
      " |-- Soil_Type_19: integer (nullable = true)\n",
      " |-- Soil_Type_20: integer (nullable = true)\n",
      " |-- Soil_Type_21: integer (nullable = true)\n",
      " |-- Soil_Type_22: integer (nullable = true)\n",
      " |-- Soil_Type_23: integer (nullable = true)\n",
      " |-- Soil_Type_24: integer (nullable = true)\n",
      " |-- Soil_Type_25: integer (nullable = true)\n",
      " |-- Soil_Type_26: integer (nullable = true)\n",
      " |-- Soil_Type_27: integer (nullable = true)\n",
      " |-- Soil_Type_28: integer (nullable = true)\n",
      " |-- Soil_Type_29: integer (nullable = true)\n",
      " |-- Soil_Type_30: integer (nullable = true)\n",
      " |-- Soil_Type_31: integer (nullable = true)\n",
      " |-- Soil_Type_32: integer (nullable = true)\n",
      " |-- Soil_Type_33: integer (nullable = true)\n",
      " |-- Soil_Type_34: integer (nullable = true)\n",
      " |-- Soil_Type_35: integer (nullable = true)\n",
      " |-- Soil_Type_36: integer (nullable = true)\n",
      " |-- Soil_Type_37: integer (nullable = true)\n",
      " |-- Soil_Type_38: integer (nullable = true)\n",
      " |-- Soil_Type_39: integer (nullable = true)\n",
      " |-- Cover_Type: double (nullable = true)\n",
      "\n"
     ]
    }
   ],
   "source": [
    "data.printSchema()"
   ]
  },
  {
   "cell_type": "code",
   "execution_count": 9,
   "metadata": {},
   "outputs": [
    {
     "name": "stdout",
     "output_type": "stream",
     "text": [
      "+-----------------------------------------------------------------------------------------------------+\n",
      "|featureVector                                                                                        |\n",
      "+-----------------------------------------------------------------------------------------------------+\n",
      "|(54,[0,1,2,3,4,5,6,7,8,9,13,15],[1863.0,37.0,17.0,120.0,18.0,90.0,217.0,202.0,115.0,769.0,1.0,1.0])  |\n",
      "|(54,[0,1,2,5,6,7,8,9,13,18],[1874.0,18.0,14.0,90.0,208.0,209.0,135.0,793.0,1.0,1.0])                 |\n",
      "|(54,[0,1,2,3,4,5,6,7,8,9,13,18],[1879.0,28.0,19.0,30.0,12.0,95.0,209.0,196.0,117.0,778.0,1.0,1.0])   |\n",
      "|(54,[0,1,2,3,4,5,6,7,8,9,13,15],[1888.0,33.0,22.0,150.0,46.0,108.0,209.0,185.0,103.0,735.0,1.0,1.0]) |\n",
      "|(54,[0,1,2,3,4,5,6,7,8,9,13,14],[1889.0,28.0,22.0,150.0,23.0,120.0,205.0,185.0,108.0,759.0,1.0,1.0]) |\n",
      "|(54,[0,1,2,3,4,5,6,7,8,9,13,18],[1889.0,353.0,30.0,95.0,39.0,67.0,153.0,172.0,146.0,600.0,1.0,1.0])  |\n",
      "|(54,[0,1,2,3,4,5,6,7,8,9,13,18],[1896.0,337.0,12.0,30.0,6.0,175.0,195.0,224.0,168.0,732.0,1.0,1.0])  |\n",
      "|(54,[0,1,2,3,4,5,6,7,8,9,13,15],[1898.0,34.0,23.0,175.0,56.0,134.0,210.0,184.0,99.0,765.0,1.0,1.0])  |\n",
      "|(54,[0,1,2,3,4,5,6,7,8,9,13,18],[1899.0,355.0,22.0,153.0,43.0,124.0,178.0,195.0,151.0,819.0,1.0,1.0])|\n",
      "|(54,[0,1,2,3,4,5,6,7,8,9,13,14],[1903.0,5.0,13.0,42.0,4.0,201.0,203.0,214.0,148.0,708.0,1.0,1.0])    |\n",
      "|(54,[0,1,2,3,4,5,6,7,8,9,13,16],[1903.0,67.0,16.0,108.0,36.0,120.0,234.0,207.0,100.0,969.0,1.0,1.0]) |\n",
      "|(54,[0,1,2,3,4,5,6,7,8,9,13,14],[1904.0,51.0,26.0,67.0,30.0,162.0,222.0,175.0,72.0,711.0,1.0,1.0])   |\n",
      "|(54,[0,1,2,3,4,5,6,7,8,9,13,14],[1905.0,33.0,27.0,90.0,46.0,150.0,204.0,171.0,89.0,725.0,1.0,1.0])   |\n",
      "|(54,[0,1,2,3,4,5,6,7,8,9,13,16],[1905.0,77.0,21.0,90.0,38.0,120.0,241.0,196.0,75.0,1025.0,1.0,1.0])  |\n",
      "|(54,[0,1,2,3,4,5,6,7,8,9,13,15],[1906.0,356.0,20.0,150.0,55.0,120.0,184.0,201.0,151.0,726.0,1.0,1.0])|\n",
      "|(54,[0,1,2,3,4,5,6,7,8,9,13,18],[1908.0,323.0,32.0,150.0,52.0,120.0,125.0,190.0,196.0,765.0,1.0,1.0])|\n",
      "|(54,[0,1,2,3,4,5,6,7,8,9,13,15],[1916.0,24.0,25.0,212.0,74.0,175.0,197.0,177.0,105.0,789.0,1.0,1.0]) |\n",
      "|(54,[0,1,2,3,4,5,6,7,8,9,13,18],[1916.0,320.0,24.0,190.0,60.0,162.0,151.0,210.0,195.0,832.0,1.0,1.0])|\n",
      "|(54,[0,1,2,3,4,5,6,7,8,9,13,23],[1918.0,321.0,28.0,42.0,17.0,85.0,139.0,201.0,196.0,402.0,1.0,1.0])  |\n",
      "|(54,[0,1,2,3,4,5,6,7,8,9,13,14],[1919.0,30.0,22.0,67.0,9.0,256.0,208.0,188.0,107.0,661.0,1.0,1.0])   |\n",
      "+-----------------------------------------------------------------------------------------------------+\n",
      "only showing top 20 rows\n",
      "\n"
     ]
    }
   ],
   "source": [
    "(trainData, testData) = data.randomSplit([0.9, 0.1])# load library\n",
    "from pyspark.ml.feature import VectorAssembler\n",
    "# remove target label\n",
    "inputCols = trainData.drop('Cover_Type').columns\n",
    "# asemble features to vector\n",
    "assembler = VectorAssembler(inputCols=inputCols,\n",
    "outputCol=\"featureVector\")\n",
    "assembledTrainData = assembler.transform(trainData)\n",
    "assembledTestData = assembler.transform(testData)\n",
    "assembledTrainData.select('featureVector').show(truncate=False)"
   ]
  },
  {
   "cell_type": "code",
   "execution_count": 14,
   "metadata": {},
   "outputs": [],
   "source": [
    "# import library\n",
    "from pyspark.ml.classification import LogisticRegression\n",
    "# create logistic regression model\n",
    "logi = LogisticRegression(labelCol=\"Cover_Type\",\n",
    "featuresCol=\"featureVector\",\n",
    "family=\"multinomial\",\n",
    "predictionCol=\"prediction\")\n",
    "# train model with train data\n",
    "model = logi.fit(assembledTrainData)"
   ]
  },
  {
   "cell_type": "code",
   "execution_count": 15,
   "metadata": {},
   "outputs": [],
   "source": [
    "# load library\n",
    "from pyspark.ml.evaluation import MulticlassClassificationEvaluator\n",
    "# create evaluator\n",
    "evaluator = MulticlassClassificationEvaluator(\n",
    "labelCol=\"Cover_Type\",\n",
    "predictionCol=\"prediction\")"
   ]
  },
  {
   "cell_type": "code",
   "execution_count": 17,
   "metadata": {},
   "outputs": [
    {
     "name": "stdout",
     "output_type": "stream",
     "text": [
      "+----------+----------+-------------------------------------------------------------------------------------------------------------------------------------------------------------------------+\n",
      "|Cover_Type|prediction|probability                                                                                                                                                              |\n",
      "+----------+----------+-------------------------------------------------------------------------------------------------------------------------------------------------------------------------+\n",
      "|6.0       |3.0       |[2.7239474008919554E-8,1.2779427903792646E-6,1.0949190521973466E-4,0.6178725835313205,0.07300426346790252,2.5228923310017436E-4,0.30875978216076505,2.845194275593344E-7]|\n",
      "|6.0       |3.0       |[3.1984598148524444E-8,3.5948758140132483E-6,1.3997784708562368E-4,0.6086822244650321,0.01709551244601913,1.621833102508345E-4,0.3739151740204584,1.3010507418664877E-6] |\n",
      "|6.0       |3.0       |[1.881181205589578E-8,2.0048686740425513E-6,1.2155567728122574E-4,0.6555305587120517,0.003983377254802389,1.407911954233685E-4,0.34022135882147725,3.3465847796144093E-7]|\n",
      "|3.0       |3.0       |[1.8635539293991114E-8,1.391445819713222E-7,0.013156613652593645,0.6135327216079474,0.34645455407825043,4.119271010905856E-5,0.02681473699446349,2.317651485495566E-8]   |\n",
      "|3.0       |3.0       |[5.988877638732536E-8,2.0115448212643588E-5,0.022908367177161874,0.7366434729716062,0.00592170350285938,4.3649003156608285E-4,0.23406962582640778,1.6515340970496416E-7] |\n",
      "|3.0       |3.0       |[2.3181196865866897E-8,8.418041403390795E-7,4.866363990440976E-5,0.6739963343415767,0.14350161488401278,2.1847935515465283E-4,0.1822337589006268,2.8389338754972903E-7]  |\n",
      "|3.0       |3.0       |[2.2771873627080722E-8,2.322983088670812E-7,0.009434093752024387,0.5342771643495222,0.4351228825519531,3.5859373796261186E-5,0.02112964224060338,1.0266191827113362E-7]  |\n",
      "|3.0       |3.0       |[1.9405334714001875E-8,1.087574719470471E-6,1.7595536877635285E-5,0.8109272648628226,0.08243086742938731,1.2679481517966035E-4,0.10649565101142115,7.193642575562629E-7] |\n",
      "|6.0       |3.0       |[4.689238885719127E-8,5.5262093772773425E-6,1.8893709214748381E-4,0.6730204357915633,0.08997063410140017,2.0099287542312818E-4,0.2366113898778969,2.0371598029235474E-6] |\n",
      "|4.0       |3.0       |[7.536211198215092E-8,8.312506287652193E-6,0.00912807286422444,0.8740268712539688,0.06733552822894083,0.0012168432501522075,0.04828363632633006,6.602079841174924E-7]    |\n",
      "|6.0       |3.0       |[2.1414592591535288E-8,1.6963660229384303E-6,1.8197792585296474E-4,0.7843540754971747,0.0208716128469482,2.005983148907554E-4,0.19438988444507263,1.3318944532288302E-7] |\n",
      "|6.0       |3.0       |[1.3122648595858501E-7,6.895723718758908E-5,0.04452912357104197,0.6858112663833995,0.022743325500841707,5.757000014375022E-4,0.24627029109916965,1.2049804360618216E-6]  |\n",
      "|4.0       |4.0       |[8.201662314130113E-8,1.61582614851045E-5,0.007499777142429143,0.13302414691921327,0.7875245023712782,0.005448930385789383,0.06648633413183959,6.877134189405832E-8]     |\n",
      "|4.0       |3.0       |[3.794375990408496E-8,1.021276040871173E-6,0.013645541805200516,0.8477407112777681,0.04778644404179352,1.547208004478216E-4,0.0906713413570275,1.814979615250107E-7]     |\n",
      "|3.0       |4.0       |[1.0008668802947596E-7,1.3967871195266295E-5,0.008166027167139314,0.3896012552337936,0.4605342603365148,0.009558191929405203,0.13212614832486008,4.905040370281445E-8]   |\n",
      "|4.0       |4.0       |[7.070624334451291E-8,9.794688431891205E-6,0.00562079457379593,0.17854609900956045,0.7477847706001347,0.005269672131982797,0.06276875244105815,4.5848792669926156E-8]    |\n",
      "|3.0       |3.0       |[3.5114866240322356E-8,3.825849588762634E-6,3.424938846663281E-5,0.7841398788725668,0.08162948501809891,2.0401479891473054E-4,0.1339850679191593,3.443038338669568E-6]   |\n",
      "|3.0       |3.0       |[1.3826205739906955E-8,1.320852568021314E-7,0.007609638003269413,0.7326263357419025,0.23926798108266886,3.16723948212817E-5,0.02046421605310376,1.0812771630048438E-8]   |\n",
      "|4.0       |4.0       |[8.289695618820237E-9,2.5647852248429015E-7,1.2897966878108586E-6,0.21169595440815234,0.4153073867768858,2.4057157340283702E-5,0.37297091756826944,1.2952444621675085E-7]|\n",
      "|3.0       |3.0       |[4.067659900868765E-8,5.528168492921692E-6,3.5815091574160294E-4,0.7029154587697511,0.020187061032283054,2.504149335404528E-4,0.27628216224190544,1.1832616863083866E-6] |\n",
      "+----------+----------+-------------------------------------------------------------------------------------------------------------------------------------------------------------------------+\n",
      "only showing top 20 rows\n",
      "\n",
      "0.7123271196632591\n",
      "0.6989164062072991\n"
     ]
    }
   ],
   "source": [
    "# transform test data using the fitted model\n",
    "predictions = model.transform(assembledTestData)\n",
    "predictions.select([\"Cover_Type\", \"prediction\", \"probability\"]).show(truncate=False)\n",
    "print(evaluator.setMetricName(\"accuracy\").evaluate(predictions))\n",
    "print(evaluator.setMetricName(\"f1\").evaluate(predictions))"
   ]
  },
  {
   "cell_type": "code",
   "execution_count": null,
   "metadata": {},
   "outputs": [],
   "source": []
  }
 ],
 "metadata": {
  "kernelspec": {
   "display_name": "Python 3",
   "language": "python",
   "name": "python3"
  },
  "language_info": {
   "codemirror_mode": {
    "name": "ipython",
    "version": 3
   },
   "file_extension": ".py",
   "mimetype": "text/x-python",
   "name": "python",
   "nbconvert_exporter": "python",
   "pygments_lexer": "ipython3",
   "version": "3.7.3"
  }
 },
 "nbformat": 4,
 "nbformat_minor": 2
}
