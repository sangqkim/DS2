{
 "cells": [
  {
   "cell_type": "code",
   "execution_count": 1,
   "metadata": {},
   "outputs": [
    {
     "data": {
      "text/html": [
       "\n",
       "        <div>\n",
       "            <p><b>SparkContext</b></p>\n",
       "\n",
       "            <p><a href=\"http://LAPTOP-P9V23U0J:4040\">Spark UI</a></p>\n",
       "\n",
       "            <dl>\n",
       "              <dt>Version</dt>\n",
       "                <dd><code>v2.4.3</code></dd>\n",
       "              <dt>Master</dt>\n",
       "                <dd><code>local[*]</code></dd>\n",
       "              <dt>AppName</dt>\n",
       "                <dd><code>test</code></dd>\n",
       "            </dl>\n",
       "        </div>\n",
       "        "
      ],
      "text/plain": [
       "<SparkContext master=local[*] appName=test>"
      ]
     },
     "execution_count": 1,
     "metadata": {},
     "output_type": "execute_result"
    }
   ],
   "source": [
    "from pyspark.sql import SparkSession\n",
    "spark = SparkSession.builder.appName('test').getOrCreate()\n",
    "sc = spark.sparkContext\n",
    "sc"
   ]
  },
  {
   "cell_type": "code",
   "execution_count": 2,
   "metadata": {},
   "outputs": [],
   "source": [
    "df_loc = spark.read.option('header', 'true').option('nullValue','?').option('inferSchema', 'true').csv('./bikeshare/bikeshare_loc.csv')"
   ]
  },
  {
   "cell_type": "code",
   "execution_count": 3,
   "metadata": {},
   "outputs": [
    {
     "name": "stdout",
     "output_type": "stream",
     "text": [
      "+------+--------+----------+----------------------------------+--------------------------------+--------+---------+---------+\n",
      "|  구명|대여소ID|대여소번호|                          대여소명|                     대여소 주소|거치대수|     위도|     경도|\n",
      "+------+--------+----------+----------------------------------+--------------------------------+--------+---------+---------+\n",
      "|강남구|  ST-802|      2319|포스코4거리 서측(수협 삼성동 지점)|서울특별시 강남구 테헤란로 43...|      10|37.506607|127.05468|\n",
      "+------+--------+----------+----------------------------------+--------------------------------+--------+---------+---------+\n",
      "\n"
     ]
    }
   ],
   "source": [
    "df_loc.filter(df_loc['대여소번호'] == 2319).show()"
   ]
  },
  {
   "cell_type": "code",
   "execution_count": 4,
   "metadata": {},
   "outputs": [
    {
     "name": "stdout",
     "output_type": "stream",
     "text": [
      "+--------+-----+\n",
      "|    구명|count|\n",
      "+--------+-----+\n",
      "|  강남구|   95|\n",
      "|  서초구|   87|\n",
      "|  송파구|   86|\n",
      "|영등포구|   84|\n",
      "|  강서구|   76|\n",
      "|  마포구|   75|\n",
      "|  노원구|   66|\n",
      "|  종로구|   63|\n",
      "|  성동구|   62|\n",
      "|  은평구|   60|\n",
      "|  광진구|   57|\n",
      "|  강동구|   57|\n",
      "|  성북구|   56|\n",
      "|  구로구|   56|\n",
      "|  중랑구|   52|\n",
      "|서대문구|   51|\n",
      "|  양천구|   51|\n",
      "|  관악구|   51|\n",
      "|동대문구|   49|\n",
      "|  금천구|   42|\n",
      "+--------+-----+\n",
      "only showing top 20 rows\n",
      "\n"
     ]
    }
   ],
   "source": [
    "df_loc.groupBy('구명').count().orderBy('count', ascending=False).show()"
   ]
  },
  {
   "cell_type": "code",
   "execution_count": 5,
   "metadata": {},
   "outputs": [],
   "source": [
    "from matplotlib import font_manager, rc\n",
    "import matplotlib as mpl"
   ]
  },
  {
   "cell_type": "code",
   "execution_count": 6,
   "metadata": {},
   "outputs": [],
   "source": [
    "font_name = font_manager.FontProperties(fname=\"c:/Windows/Fonts/malgun.ttf\").get_name()\n",
    "rc('font', family=font_name)"
   ]
  },
  {
   "cell_type": "code",
   "execution_count": 7,
   "metadata": {},
   "outputs": [],
   "source": [
    "font_name = font_manager.FontProperties(fname=\"c:/Windows/Fonts/malgun.ttf\").get_name()\n",
    "rc('font', family=font_name)"
   ]
  },
  {
   "cell_type": "code",
   "execution_count": 8,
   "metadata": {},
   "outputs": [],
   "source": [
    "mpl.rcParams['axes.unicode_minus'] = False"
   ]
  },
  {
   "cell_type": "code",
   "execution_count": 12,
   "metadata": {},
   "outputs": [
    {
     "data": {
      "text/plain": [
       "<matplotlib.axes._subplots.AxesSubplot at 0xeb78570>"
      ]
     },
     "execution_count": 12,
     "metadata": {},
     "output_type": "execute_result"
    },
    {
     "data": {
      "image/png": "[encoded data removed]",
      "text/plain": [
       "<Figure size 432x288 with 1 Axes>"
      ]
     },
     "metadata": {
      "needs_background": "light"
     },
     "output_type": "display_data"
    }
   ],
   "source": [
    "import seaborn as sns\n",
    "list_pd = df_loc.select('구명').toPandas()\n",
    "sns.countplot(x='구명', data=list_pd)"
   ]
  },
  {
   "cell_type": "code",
   "execution_count": 24,
   "metadata": {},
   "outputs": [
    {
     "name": "stdout",
     "output_type": "stream",
     "text": [
      "+--------+-------------+\n",
      "|    구명|sum(거치대수)|\n",
      "+--------+-------------+\n",
      "|  서초구|         1214|\n",
      "|영등포구|         1191|\n",
      "|  강남구|         1150|\n",
      "|  송파구|         1130|\n",
      "|  마포구|         1025|\n",
      "|  강서구|          884|\n",
      "|  노원구|          840|\n",
      "|  성동구|          771|\n",
      "|  강동구|          763|\n",
      "|  광진구|          720|\n",
      "|  종로구|          706|\n",
      "|  성북구|          687|\n",
      "|  은평구|          671|\n",
      "|  구로구|          661|\n",
      "|서대문구|          643|\n",
      "|동대문구|          633|\n",
      "|  관악구|          632|\n",
      "|  양천구|          628|\n",
      "|  중랑구|          616|\n",
      "|  용산구|          523|\n",
      "+--------+-------------+\n",
      "only showing top 20 rows\n",
      "\n"
     ]
    }
   ],
   "source": [
    "result = df_loc.groupBy('구명').sum('거치대수').orderBy('sum(거치대수)', ascending=False).show()"
   ]
  },
  {
   "cell_type": "code",
   "execution_count": 35,
   "metadata": {},
   "outputs": [
    {
     "data": {
      "text/plain": [
       "<matplotlib.axes._subplots.AxesSubplot at 0xf95c110>"
      ]
     },
     "execution_count": 35,
     "metadata": {},
     "output_type": "execute_result"
    },
    {
     "data": {
      "image/png": "[encoded data removed]",
      "text/plain": [
       "<Figure size 432x288 with 1 Axes>"
      ]
     },
     "metadata": {
      "needs_background": "light"
     },
     "output_type": "display_data"
    }
   ],
   "source": [
    "result = df_loc.groupBy('구명').sum('거치대수').orderBy('sum(거치대수)', ascending=False).toPandas()\n",
    "sns.barplot(x=result['구명'],y=result['sum(거치대수)'])"
   ]
  },
  {
   "cell_type": "code",
   "execution_count": 34,
   "metadata": {},
   "outputs": [
    {
     "data": {
      "text/html": [
       "<div>\n",
       "<style scoped>\n",
       "    .dataframe tbody tr th:only-of-type {\n",
       "        vertical-align: middle;\n",
       "    }\n",
       "\n",
       "    .dataframe tbody tr th {\n",
       "        vertical-align: top;\n",
       "    }\n",
       "\n",
       "    .dataframe thead th {\n",
       "        text-align: right;\n",
       "    }\n",
       "</style>\n",
       "<table border=\"1\" class=\"dataframe\">\n",
       "  <thead>\n",
       "    <tr style=\"text-align: right;\">\n",
       "      <th></th>\n",
       "      <th>구명</th>\n",
       "      <th>sum(거치대수)</th>\n",
       "    </tr>\n",
       "  </thead>\n",
       "  <tbody>\n",
       "    <tr>\n",
       "      <th>0</th>\n",
       "      <td>서초구</td>\n",
       "      <td>1214</td>\n",
       "    </tr>\n",
       "    <tr>\n",
       "      <th>1</th>\n",
       "      <td>영등포구</td>\n",
       "      <td>1191</td>\n",
       "    </tr>\n",
       "    <tr>\n",
       "      <th>2</th>\n",
       "      <td>강남구</td>\n",
       "      <td>1150</td>\n",
       "    </tr>\n",
       "    <tr>\n",
       "      <th>3</th>\n",
       "      <td>송파구</td>\n",
       "      <td>1130</td>\n",
       "    </tr>\n",
       "    <tr>\n",
       "      <th>4</th>\n",
       "      <td>마포구</td>\n",
       "      <td>1025</td>\n",
       "    </tr>\n",
       "    <tr>\n",
       "      <th>5</th>\n",
       "      <td>강서구</td>\n",
       "      <td>884</td>\n",
       "    </tr>\n",
       "    <tr>\n",
       "      <th>6</th>\n",
       "      <td>노원구</td>\n",
       "      <td>840</td>\n",
       "    </tr>\n",
       "    <tr>\n",
       "      <th>7</th>\n",
       "      <td>성동구</td>\n",
       "      <td>771</td>\n",
       "    </tr>\n",
       "    <tr>\n",
       "      <th>8</th>\n",
       "      <td>강동구</td>\n",
       "      <td>763</td>\n",
       "    </tr>\n",
       "    <tr>\n",
       "      <th>9</th>\n",
       "      <td>광진구</td>\n",
       "      <td>720</td>\n",
       "    </tr>\n",
       "    <tr>\n",
       "      <th>10</th>\n",
       "      <td>종로구</td>\n",
       "      <td>706</td>\n",
       "    </tr>\n",
       "    <tr>\n",
       "      <th>11</th>\n",
       "      <td>성북구</td>\n",
       "      <td>687</td>\n",
       "    </tr>\n",
       "    <tr>\n",
       "      <th>12</th>\n",
       "      <td>은평구</td>\n",
       "      <td>671</td>\n",
       "    </tr>\n",
       "    <tr>\n",
       "      <th>13</th>\n",
       "      <td>구로구</td>\n",
       "      <td>661</td>\n",
       "    </tr>\n",
       "    <tr>\n",
       "      <th>14</th>\n",
       "      <td>서대문구</td>\n",
       "      <td>643</td>\n",
       "    </tr>\n",
       "    <tr>\n",
       "      <th>15</th>\n",
       "      <td>동대문구</td>\n",
       "      <td>633</td>\n",
       "    </tr>\n",
       "    <tr>\n",
       "      <th>16</th>\n",
       "      <td>관악구</td>\n",
       "      <td>632</td>\n",
       "    </tr>\n",
       "    <tr>\n",
       "      <th>17</th>\n",
       "      <td>양천구</td>\n",
       "      <td>628</td>\n",
       "    </tr>\n",
       "    <tr>\n",
       "      <th>18</th>\n",
       "      <td>중랑구</td>\n",
       "      <td>616</td>\n",
       "    </tr>\n",
       "    <tr>\n",
       "      <th>19</th>\n",
       "      <td>용산구</td>\n",
       "      <td>523</td>\n",
       "    </tr>\n",
       "    <tr>\n",
       "      <th>20</th>\n",
       "      <td>금천구</td>\n",
       "      <td>520</td>\n",
       "    </tr>\n",
       "    <tr>\n",
       "      <th>21</th>\n",
       "      <td>동작구</td>\n",
       "      <td>501</td>\n",
       "    </tr>\n",
       "    <tr>\n",
       "      <th>22</th>\n",
       "      <td>강북구</td>\n",
       "      <td>421</td>\n",
       "    </tr>\n",
       "    <tr>\n",
       "      <th>23</th>\n",
       "      <td>중구</td>\n",
       "      <td>413</td>\n",
       "    </tr>\n",
       "    <tr>\n",
       "      <th>24</th>\n",
       "      <td>도봉구</td>\n",
       "      <td>383</td>\n",
       "    </tr>\n",
       "  </tbody>\n",
       "</table>\n",
       "</div>"
      ],
      "text/plain": [
       "      구명  sum(거치대수)\n",
       "0    서초구       1214\n",
       "1   영등포구       1191\n",
       "2    강남구       1150\n",
       "3    송파구       1130\n",
       "4    마포구       1025\n",
       "5    강서구        884\n",
       "6    노원구        840\n",
       "7    성동구        771\n",
       "8    강동구        763\n",
       "9    광진구        720\n",
       "10   종로구        706\n",
       "11   성북구        687\n",
       "12   은평구        671\n",
       "13   구로구        661\n",
       "14  서대문구        643\n",
       "15  동대문구        633\n",
       "16   관악구        632\n",
       "17   양천구        628\n",
       "18   중랑구        616\n",
       "19   용산구        523\n",
       "20   금천구        520\n",
       "21   동작구        501\n",
       "22   강북구        421\n",
       "23    중구        413\n",
       "24   도봉구        383"
      ]
     },
     "execution_count": 34,
     "metadata": {},
     "output_type": "execute_result"
    }
   ],
   "source": [
    "result"
   ]
  },
  {
   "cell_type": "code",
   "execution_count": 36,
   "metadata": {},
   "outputs": [],
   "source": [
    "import pyspark.sql.functions as sf\n",
    "from pyspark.sql.functions import col"
   ]
  },
  {
   "cell_type": "code",
   "execution_count": 37,
   "metadata": {},
   "outputs": [],
   "source": [
    "df_usage = spark.read.option('header', 'true').option('nullValue','?').option('inferSchema', 'true').csv('./bikeshare/bikeshare_seoul.csv')"
   ]
  },
  {
   "cell_type": "code",
   "execution_count": 38,
   "metadata": {},
   "outputs": [],
   "source": [
    "U2318_may = df_usage.where(df_usage['기준일자'].between('2018-05-01','2018-05-31')).select('기준일자', '대여건수', '반납건수', sf.split('대여소명','[.]')[0].alias('대여소번호')).filter(col('대여소번호')==2318)"
   ]
  },
  {
   "cell_type": "code",
   "execution_count": 41,
   "metadata": {},
   "outputs": [
    {
     "data": {
      "text/plain": [
       "<matplotlib.axes._subplots.AxesSubplot at 0x100f9af0>"
      ]
     },
     "execution_count": 41,
     "metadata": {},
     "output_type": "execute_result"
    },
    {
     "data": {
      "image/png": "[encoded data removed]",
      "text/plain": [
       "<Figure size 432x288 with 1 Axes>"
      ]
     },
     "metadata": {
      "needs_background": "light"
     },
     "output_type": "display_data"
    }
   ],
   "source": [
    "sns.lineplot(x='기준일자', y='대여건수', data=U2318_may.toPandas())"
   ]
  },
  {
   "cell_type": "code",
   "execution_count": 42,
   "metadata": {},
   "outputs": [
    {
     "name": "stdout",
     "output_type": "stream",
     "text": [
      "+-------------------+--------+--------+----------+\n",
      "|           기준일자|대여건수|반납건수|대여소번호|\n",
      "+-------------------+--------+--------+----------+\n",
      "|2018-05-30 00:00:00|      18|      16|      2318|\n",
      "|2018-05-29 00:00:00|       8|       9|      2318|\n",
      "|2018-05-28 00:00:00|      13|      14|      2318|\n",
      "|2018-05-27 00:00:00|       7|       9|      2318|\n",
      "|2018-05-26 00:00:00|      16|      15|      2318|\n",
      "|2018-05-25 00:00:00|      27|      14|      2318|\n",
      "|2018-05-24 00:00:00|      26|      20|      2318|\n",
      "|2018-05-23 00:00:00|      24|      18|      2318|\n",
      "|2018-05-22 00:00:00|       6|      12|      2318|\n",
      "|2018-05-21 00:00:00|      21|      16|      2318|\n",
      "|2018-05-20 00:00:00|      21|      22|      2318|\n",
      "|2018-05-19 00:00:00|      13|      14|      2318|\n",
      "|2018-05-18 00:00:00|      11|       4|      2318|\n",
      "|2018-05-17 00:00:00|       1|       3|      2318|\n",
      "|2018-05-16 00:00:00|       2|       2|      2318|\n",
      "|2018-05-15 00:00:00|      21|      13|      2318|\n",
      "|2018-05-14 00:00:00|      19|      10|      2318|\n",
      "|2018-05-13 00:00:00|      23|      15|      2318|\n",
      "|2018-05-11 00:00:00|      26|      20|      2318|\n",
      "|2018-05-10 00:00:00|      16|       7|      2318|\n",
      "+-------------------+--------+--------+----------+\n",
      "only showing top 20 rows\n",
      "\n"
     ]
    }
   ],
   "source": [
    "U2318_may.show()"
   ]
  },
  {
   "cell_type": "code",
   "execution_count": 51,
   "metadata": {},
   "outputs": [],
   "source": [
    "dd = df_usage.where(df_usage['기준일자'].between('2018-01-01','2018-12-31')).select('대여소명','대여건수').toPandas()"
   ]
  },
  {
   "cell_type": "code",
   "execution_count": 58,
   "metadata": {},
   "outputs": [
    {
     "data": {
      "text/plain": [
       "0         16\n",
       "1         30\n",
       "2         14\n",
       "3          3\n",
       "4         38\n",
       "          ..\n",
       "363907     0\n",
       "363908     4\n",
       "363909     2\n",
       "363910    10\n",
       "363911     8\n",
       "Name: 대여건수, Length: 363912, dtype: int32"
      ]
     },
     "execution_count": 58,
     "metadata": {},
     "output_type": "execute_result"
    }
   ],
   "source": []
  },
  {
   "cell_type": "code",
   "execution_count": null,
   "metadata": {},
   "outputs": [],
   "source": [
    "df_usage.groupBy(\"기준일자\").max(\"대여건수\").where(df_usage['기준일자'].between('2018-01-01','2018-12-31')).orderBy('max(대여건수)', ascending=False).show()"
   ]
  },
  {
   "cell_type": "code",
   "execution_count": null,
   "metadata": {},
   "outputs": [],
   "source": []
  }
 ],
 "metadata": {
  "kernelspec": {
   "display_name": "Python 3",
   "language": "python",
   "name": "python3"
  },
  "language_info": {
   "codemirror_mode": {
    "name": "ipython",
    "version": 3
   },
   "file_extension": ".py",
   "mimetype": "text/x-python",
   "name": "python",
   "nbconvert_exporter": "python",
   "pygments_lexer": "ipython3",
   "version": "3.7.3"
  }
 },
 "nbformat": 4,
 "nbformat_minor": 2
}
