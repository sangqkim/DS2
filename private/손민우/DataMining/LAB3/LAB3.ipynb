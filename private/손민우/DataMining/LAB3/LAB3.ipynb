{
 "cells": [
  {
   "cell_type": "markdown",
   "metadata": {},
   "source": [
    "## LAB 3\n",
    "### 절단값 추정\n",
    "\n",
    "#### 모형 적합.. (LAB 2 참조)\n",
    "\n",
    "#### 로지스틱 모형을 적합 - logit_cc"
   ]
  },
  {
   "cell_type": "code",
   "execution_count": 1,
   "metadata": {},
   "outputs": [
    {
     "name": "stdout",
     "output_type": "stream",
     "text": [
      "train dim:  (6454, 27) \n",
      " test dim: (2767, 27)\n",
      "Optimization terminated successfully.\n",
      "         Current function value: 0.253546\n",
      "         Iterations 7\n"
     ]
    }
   ],
   "source": [
    "import pandas as pd\n",
    "import numpy as np\n",
    "import statsmodels.api as sm\n",
    "import statsmodels.formula.api as smf\n",
    "from sklearn.model_selection import train_test_split\n",
    "\n",
    "buy=pd.read_table('buytest.txt', delimiter=\" \")\n",
    "\n",
    "buy_com = buy.dropna()\n",
    "buy_com = buy_com.drop([\"ID\"], axis = 1)\n",
    "\n",
    "buy_com = pd.get_dummies(buy_com, drop_first=True,                            \n",
    "                         columns= ['SEX', 'LOC', 'ORGSRC'])\n",
    "\n",
    "buydata = buy_com.drop([\"C1\",\"C2\",\"C3\",\"C4\",\"C5\",\"C6\",\"C7\",\"PURCHTOT\",\"CLIMATE\"]\n",
    "                       , axis = 1)\n",
    "\n",
    "train, test = train_test_split(buydata, test_size = 0.3, random_state = 1)\n",
    "print('train dim: ',train.shape,'\\n test dim:', test.shape)\n",
    "y_train = train.loc[:,\"RESPOND\"]\n",
    "X_train = train.drop(\"RESPOND\", axis = 1)\n",
    "\n",
    "y_test = test.loc[:,\"RESPOND\"]\n",
    "X_test = test.drop(\"RESPOND\", axis = 1)\n",
    "\n",
    "X_train[\"intercept\"] = 1.0 # for intercept\n",
    "X_test[\"intercept\"] = 1.0\n",
    "\n",
    "logit = sm.Logit(y_train,X_train)\n",
    "logit_res = logit.fit(maxiter = 1000)"
   ]
  },
  {
   "cell_type": "markdown",
   "metadata": {},
   "source": [
    "#### 절단값 설정하기"
   ]
  },
  {
   "cell_type": "code",
   "execution_count": 2,
   "metadata": {},
   "outputs": [
    {
     "name": "stdout",
     "output_type": "stream",
     "text": [
      "best acc : 92.48, cut-off : 0.42\n"
     ]
    }
   ],
   "source": [
    "best_acc = 0\n",
    "pred = np.array(logit_res.predict(X_test))\n",
    "\n",
    "for i in range(100):\n",
    "    pred_label = np.array( [pred[j] > 0.01 * i for j in range(pred.shape[0])] )\n",
    "    acc = np.mean( pred_label == y_test )\n",
    "    if acc > best_acc :\n",
    "        best_acc = acc\n",
    "        cut = 0.01 * i\n",
    "        best_pred = pred_label\n",
    "        \n",
    "print('best acc : %2.2f, cut-off : %.2f' %(100 * best_acc, cut))"
   ]
  },
  {
   "cell_type": "code",
   "execution_count": 3,
   "metadata": {},
   "outputs": [
    {
     "name": "stdout",
     "output_type": "stream",
     "text": [
      "cut-off : 0.00 \t Accuracy : 0.0755\n",
      "cut-off : 0.05 \t Accuracy : 0.3773\n",
      "cut-off : 0.10 \t Accuracy : 0.7915\n",
      "cut-off : 0.15 \t Accuracy : 0.8847\n",
      "cut-off : 0.20 \t Accuracy : 0.9082\n",
      "cut-off : 0.25 \t Accuracy : 0.9187\n",
      "cut-off : 0.30 \t Accuracy : 0.9212\n",
      "cut-off : 0.35 \t Accuracy : 0.9245\n",
      "cut-off : 0.40 \t Accuracy : 0.9245\n",
      "cut-off : 0.45 \t Accuracy : 0.9248\n",
      "cut-off : 0.50 \t Accuracy : 0.9245\n",
      "cut-off : 0.55 \t Accuracy : 0.9245\n",
      "cut-off : 0.60 \t Accuracy : 0.9245\n",
      "cut-off : 0.65 \t Accuracy : 0.9245\n",
      "cut-off : 0.70 \t Accuracy : 0.9245\n",
      "cut-off : 0.75 \t Accuracy : 0.9245\n",
      "cut-off : 0.80 \t Accuracy : 0.9245\n",
      "cut-off : 0.85 \t Accuracy : 0.9245\n",
      "cut-off : 0.90 \t Accuracy : 0.9245\n",
      "cut-off : 0.95 \t Accuracy : 0.9245\n"
     ]
    }
   ],
   "source": [
    "for i in range(20):\n",
    "    pred_label = np.array( [pred[j] > 0.05 * i for j in range(pred.shape[0])] )\n",
    "    acc = np.mean( pred_label == y_test )\n",
    "    print('cut-off : %.2f \\t Accuracy : %.4f' %(i * 0.05, acc))"
   ]
  },
  {
   "cell_type": "markdown",
   "metadata": {
    "collapsed": true
   },
   "source": [
    "## 벌점화 회귀 분석\n",
    "### 자료 설명\n",
    "- Toyota의 중고차 판매에 대한 자료\n",
    "- 51개의 변수와 1436개의 관측값으로 구성 : 분석에는 10개의 변수만 사용\n",
    "- 변수 설명\n",
    "    - Price : 판매 가격\n",
    "    - Age_08_04 : 자료 취득 시점까지 자동차 구동 시간\n",
    "    - KM : 주행거리\n",
    "    - Fuel_Type : 연료유형 (CNG, Diesel, Patrol)\n",
    "    - HP : 마력\n",
    "    - Met_Color : 금속 색이면 1, 아니면 0\n",
    "    - Automatic : 자동변속이면 1, 아니면 0\n",
    "    - cc : 실린더 부피\n",
    "    - Quartely_Tax : 분기별 세금 (\\$)\n",
    "    - Weight : 무게(kg)\n",
    "    \n",
    "### 분석 목적 : 나머지 변수들로 Price를 예측하기\n",
    "    \n",
    "### 데이터 불러오기"
   ]
  },
  {
   "cell_type": "code",
   "execution_count": 4,
   "metadata": {},
   "outputs": [
    {
     "data": {
      "text/html": [
       "<div>\n",
       "<style scoped>\n",
       "    .dataframe tbody tr th:only-of-type {\n",
       "        vertical-align: middle;\n",
       "    }\n",
       "\n",
       "    .dataframe tbody tr th {\n",
       "        vertical-align: top;\n",
       "    }\n",
       "\n",
       "    .dataframe thead th {\n",
       "        text-align: right;\n",
       "    }\n",
       "</style>\n",
       "<table border=\"1\" class=\"dataframe\">\n",
       "  <thead>\n",
       "    <tr style=\"text-align: right;\">\n",
       "      <th></th>\n",
       "      <th>Id</th>\n",
       "      <th>Model</th>\n",
       "      <th>Price</th>\n",
       "      <th>Age_08_04</th>\n",
       "      <th>Mfg_Month</th>\n",
       "      <th>Mfg_Year</th>\n",
       "      <th>KM</th>\n",
       "      <th>Fuel_Type</th>\n",
       "      <th>HP</th>\n",
       "      <th>Met_Color</th>\n",
       "      <th>...</th>\n",
       "      <th>Unnamed: 41</th>\n",
       "      <th>Unnamed: 42</th>\n",
       "      <th>Unnamed: 43</th>\n",
       "      <th>Unnamed: 44</th>\n",
       "      <th>Unnamed: 45</th>\n",
       "      <th>Unnamed: 46</th>\n",
       "      <th>Unnamed: 47</th>\n",
       "      <th>Unnamed: 48</th>\n",
       "      <th>Unnamed: 49</th>\n",
       "      <th>Unnamed: 50</th>\n",
       "    </tr>\n",
       "  </thead>\n",
       "  <tbody>\n",
       "    <tr>\n",
       "      <th>0</th>\n",
       "      <td>1</td>\n",
       "      <td>TOYOTA Corolla 2.0 D4D HATCHB TERRA 2/3-Doors</td>\n",
       "      <td>13500</td>\n",
       "      <td>23</td>\n",
       "      <td>10</td>\n",
       "      <td>2002</td>\n",
       "      <td>46986</td>\n",
       "      <td>Diesel</td>\n",
       "      <td>90</td>\n",
       "      <td>1</td>\n",
       "      <td>...</td>\n",
       "      <td>NaN</td>\n",
       "      <td>NaN</td>\n",
       "      <td>NaN</td>\n",
       "      <td>NaN</td>\n",
       "      <td>NaN</td>\n",
       "      <td>NaN</td>\n",
       "      <td>NaN</td>\n",
       "      <td>NaN</td>\n",
       "      <td>NaN</td>\n",
       "      <td>NaN</td>\n",
       "    </tr>\n",
       "    <tr>\n",
       "      <th>1</th>\n",
       "      <td>2</td>\n",
       "      <td>TOYOTA Corolla 2.0 D4D HATCHB TERRA 2/3-Doors</td>\n",
       "      <td>13750</td>\n",
       "      <td>23</td>\n",
       "      <td>10</td>\n",
       "      <td>2002</td>\n",
       "      <td>72937</td>\n",
       "      <td>Diesel</td>\n",
       "      <td>90</td>\n",
       "      <td>1</td>\n",
       "      <td>...</td>\n",
       "      <td>NaN</td>\n",
       "      <td>NaN</td>\n",
       "      <td>NaN</td>\n",
       "      <td>NaN</td>\n",
       "      <td>NaN</td>\n",
       "      <td>NaN</td>\n",
       "      <td>NaN</td>\n",
       "      <td>NaN</td>\n",
       "      <td>NaN</td>\n",
       "      <td>NaN</td>\n",
       "    </tr>\n",
       "    <tr>\n",
       "      <th>2</th>\n",
       "      <td>3</td>\n",
       "      <td>?TOYOTA Corolla 2.0 D4D HATCHB TERRA 2/3-Doors</td>\n",
       "      <td>13950</td>\n",
       "      <td>24</td>\n",
       "      <td>9</td>\n",
       "      <td>2002</td>\n",
       "      <td>41711</td>\n",
       "      <td>Diesel</td>\n",
       "      <td>90</td>\n",
       "      <td>1</td>\n",
       "      <td>...</td>\n",
       "      <td>NaN</td>\n",
       "      <td>NaN</td>\n",
       "      <td>NaN</td>\n",
       "      <td>NaN</td>\n",
       "      <td>NaN</td>\n",
       "      <td>NaN</td>\n",
       "      <td>NaN</td>\n",
       "      <td>NaN</td>\n",
       "      <td>NaN</td>\n",
       "      <td>NaN</td>\n",
       "    </tr>\n",
       "    <tr>\n",
       "      <th>3</th>\n",
       "      <td>4</td>\n",
       "      <td>TOYOTA Corolla 2.0 D4D HATCHB TERRA 2/3-Doors</td>\n",
       "      <td>14950</td>\n",
       "      <td>26</td>\n",
       "      <td>7</td>\n",
       "      <td>2002</td>\n",
       "      <td>48000</td>\n",
       "      <td>Diesel</td>\n",
       "      <td>90</td>\n",
       "      <td>0</td>\n",
       "      <td>...</td>\n",
       "      <td>NaN</td>\n",
       "      <td>NaN</td>\n",
       "      <td>NaN</td>\n",
       "      <td>NaN</td>\n",
       "      <td>NaN</td>\n",
       "      <td>NaN</td>\n",
       "      <td>NaN</td>\n",
       "      <td>NaN</td>\n",
       "      <td>NaN</td>\n",
       "      <td>NaN</td>\n",
       "    </tr>\n",
       "    <tr>\n",
       "      <th>4</th>\n",
       "      <td>5</td>\n",
       "      <td>TOYOTA Corolla 2.0 D4D HATCHB SOL 2/3-Doors</td>\n",
       "      <td>13750</td>\n",
       "      <td>30</td>\n",
       "      <td>3</td>\n",
       "      <td>2002</td>\n",
       "      <td>38500</td>\n",
       "      <td>Diesel</td>\n",
       "      <td>90</td>\n",
       "      <td>0</td>\n",
       "      <td>...</td>\n",
       "      <td>NaN</td>\n",
       "      <td>NaN</td>\n",
       "      <td>NaN</td>\n",
       "      <td>NaN</td>\n",
       "      <td>NaN</td>\n",
       "      <td>NaN</td>\n",
       "      <td>NaN</td>\n",
       "      <td>NaN</td>\n",
       "      <td>NaN</td>\n",
       "      <td>NaN</td>\n",
       "    </tr>\n",
       "  </tbody>\n",
       "</table>\n",
       "<p>5 rows × 51 columns</p>\n",
       "</div>"
      ],
      "text/plain": [
       "   Id                                           Model  Price  Age_08_04  \\\n",
       "0   1   TOYOTA Corolla 2.0 D4D HATCHB TERRA 2/3-Doors  13500         23   \n",
       "1   2   TOYOTA Corolla 2.0 D4D HATCHB TERRA 2/3-Doors  13750         23   \n",
       "2   3  ?TOYOTA Corolla 2.0 D4D HATCHB TERRA 2/3-Doors  13950         24   \n",
       "3   4   TOYOTA Corolla 2.0 D4D HATCHB TERRA 2/3-Doors  14950         26   \n",
       "4   5     TOYOTA Corolla 2.0 D4D HATCHB SOL 2/3-Doors  13750         30   \n",
       "\n",
       "   Mfg_Month  Mfg_Year     KM Fuel_Type  HP  Met_Color     ...       \\\n",
       "0         10      2002  46986    Diesel  90          1     ...        \n",
       "1         10      2002  72937    Diesel  90          1     ...        \n",
       "2          9      2002  41711    Diesel  90          1     ...        \n",
       "3          7      2002  48000    Diesel  90          0     ...        \n",
       "4          3      2002  38500    Diesel  90          0     ...        \n",
       "\n",
       "  Unnamed: 41  Unnamed: 42  Unnamed: 43  Unnamed: 44  Unnamed: 45  \\\n",
       "0         NaN          NaN          NaN          NaN          NaN   \n",
       "1         NaN          NaN          NaN          NaN          NaN   \n",
       "2         NaN          NaN          NaN          NaN          NaN   \n",
       "3         NaN          NaN          NaN          NaN          NaN   \n",
       "4         NaN          NaN          NaN          NaN          NaN   \n",
       "\n",
       "   Unnamed: 46  Unnamed: 47  Unnamed: 48  Unnamed: 49  Unnamed: 50  \n",
       "0          NaN          NaN          NaN          NaN          NaN  \n",
       "1          NaN          NaN          NaN          NaN          NaN  \n",
       "2          NaN          NaN          NaN          NaN          NaN  \n",
       "3          NaN          NaN          NaN          NaN          NaN  \n",
       "4          NaN          NaN          NaN          NaN          NaN  \n",
       "\n",
       "[5 rows x 51 columns]"
      ]
     },
     "execution_count": 4,
     "metadata": {},
     "output_type": "execute_result"
    }
   ],
   "source": [
    "import pandas as pd\n",
    "import numpy as np\n",
    "\n",
    "toyota = pd.read_csv('ToyotaCorolla.csv', delimiter = ',')\n",
    "toyota.head()\n"
   ]
  },
  {
   "cell_type": "markdown",
   "metadata": {},
   "source": [
    "### 분석에 사용할 변수만 선택"
   ]
  },
  {
   "cell_type": "code",
   "execution_count": 5,
   "metadata": {},
   "outputs": [
    {
     "data": {
      "text/plain": [
       "Index(['Price', 'Age_08_04', 'KM', 'Fuel_Type', 'HP', 'Met_Color', 'Automatic',\n",
       "       'cc', 'Quarterly_Tax', 'Weight'],\n",
       "      dtype='object')"
      ]
     },
     "execution_count": 5,
     "metadata": {},
     "output_type": "execute_result"
    }
   ],
   "source": [
    "toyota = toyota.iloc[:,[2, 3, 6, 7, 8, 9, 11, 12, 16, 17]]\n",
    "toyota.columns"
   ]
  },
  {
   "cell_type": "markdown",
   "metadata": {},
   "source": [
    "### 자료 전처리 1: 결측치 수 확인 및 제거"
   ]
  },
  {
   "cell_type": "code",
   "execution_count": 6,
   "metadata": {},
   "outputs": [
    {
     "data": {
      "text/plain": [
       "Price            0\n",
       "Age_08_04        0\n",
       "KM               0\n",
       "Fuel_Type        0\n",
       "HP               0\n",
       "Met_Color        0\n",
       "Automatic        0\n",
       "cc               0\n",
       "Quarterly_Tax    0\n",
       "Weight           0\n",
       "dtype: int64"
      ]
     },
     "execution_count": 6,
     "metadata": {},
     "output_type": "execute_result"
    }
   ],
   "source": [
    "toyota.isnull().sum()"
   ]
  },
  {
   "cell_type": "markdown",
   "metadata": {},
   "source": [
    "### 자료 전처리 2: 범주형 변수 가변수화 (Fuel_type)"
   ]
  },
  {
   "cell_type": "code",
   "execution_count": 7,
   "metadata": {},
   "outputs": [
    {
     "name": "stdout",
     "output_type": "stream",
     "text": [
      "(1436, 11)\n"
     ]
    },
    {
     "data": {
      "text/html": [
       "<div>\n",
       "<style scoped>\n",
       "    .dataframe tbody tr th:only-of-type {\n",
       "        vertical-align: middle;\n",
       "    }\n",
       "\n",
       "    .dataframe tbody tr th {\n",
       "        vertical-align: top;\n",
       "    }\n",
       "\n",
       "    .dataframe thead th {\n",
       "        text-align: right;\n",
       "    }\n",
       "</style>\n",
       "<table border=\"1\" class=\"dataframe\">\n",
       "  <thead>\n",
       "    <tr style=\"text-align: right;\">\n",
       "      <th></th>\n",
       "      <th>Price</th>\n",
       "      <th>Age_08_04</th>\n",
       "      <th>KM</th>\n",
       "      <th>HP</th>\n",
       "      <th>Met_Color</th>\n",
       "      <th>Automatic</th>\n",
       "      <th>cc</th>\n",
       "      <th>Quarterly_Tax</th>\n",
       "      <th>Weight</th>\n",
       "      <th>Fuel_Type_Diesel</th>\n",
       "      <th>Fuel_Type_Petrol</th>\n",
       "    </tr>\n",
       "  </thead>\n",
       "  <tbody>\n",
       "    <tr>\n",
       "      <th>0</th>\n",
       "      <td>13500</td>\n",
       "      <td>23</td>\n",
       "      <td>46986</td>\n",
       "      <td>90</td>\n",
       "      <td>1</td>\n",
       "      <td>0</td>\n",
       "      <td>2000</td>\n",
       "      <td>210</td>\n",
       "      <td>1165</td>\n",
       "      <td>1</td>\n",
       "      <td>0</td>\n",
       "    </tr>\n",
       "    <tr>\n",
       "      <th>1</th>\n",
       "      <td>13750</td>\n",
       "      <td>23</td>\n",
       "      <td>72937</td>\n",
       "      <td>90</td>\n",
       "      <td>1</td>\n",
       "      <td>0</td>\n",
       "      <td>2000</td>\n",
       "      <td>210</td>\n",
       "      <td>1165</td>\n",
       "      <td>1</td>\n",
       "      <td>0</td>\n",
       "    </tr>\n",
       "    <tr>\n",
       "      <th>2</th>\n",
       "      <td>13950</td>\n",
       "      <td>24</td>\n",
       "      <td>41711</td>\n",
       "      <td>90</td>\n",
       "      <td>1</td>\n",
       "      <td>0</td>\n",
       "      <td>2000</td>\n",
       "      <td>210</td>\n",
       "      <td>1165</td>\n",
       "      <td>1</td>\n",
       "      <td>0</td>\n",
       "    </tr>\n",
       "    <tr>\n",
       "      <th>3</th>\n",
       "      <td>14950</td>\n",
       "      <td>26</td>\n",
       "      <td>48000</td>\n",
       "      <td>90</td>\n",
       "      <td>0</td>\n",
       "      <td>0</td>\n",
       "      <td>2000</td>\n",
       "      <td>210</td>\n",
       "      <td>1165</td>\n",
       "      <td>1</td>\n",
       "      <td>0</td>\n",
       "    </tr>\n",
       "  </tbody>\n",
       "</table>\n",
       "</div>"
      ],
      "text/plain": [
       "   Price  Age_08_04     KM  HP  Met_Color  Automatic    cc  Quarterly_Tax  \\\n",
       "0  13500         23  46986  90          1          0  2000            210   \n",
       "1  13750         23  72937  90          1          0  2000            210   \n",
       "2  13950         24  41711  90          1          0  2000            210   \n",
       "3  14950         26  48000  90          0          0  2000            210   \n",
       "\n",
       "   Weight  Fuel_Type_Diesel  Fuel_Type_Petrol  \n",
       "0    1165                 1                 0  \n",
       "1    1165                 1                 0  \n",
       "2    1165                 1                 0  \n",
       "3    1165                 1                 0  "
      ]
     },
     "execution_count": 7,
     "metadata": {},
     "output_type": "execute_result"
    }
   ],
   "source": [
    "toyota = pd.get_dummies(toyota, drop_first = True)\n",
    "print(toyota.shape)\n",
    "toyota.head(4)"
   ]
  },
  {
   "cell_type": "markdown",
   "metadata": {},
   "source": [
    "### 자료 전처리 3 : 학습자료 / 시험자료 분리"
   ]
  },
  {
   "cell_type": "code",
   "execution_count": 8,
   "metadata": {},
   "outputs": [],
   "source": [
    "from sklearn.model_selection import train_test_split\n",
    "import statsmodels.api as sm\n",
    "train, test = train_test_split(toyota, test_size = 0.2, random_state = 42)\n",
    "X_train, y_train = train.drop(\"Price\", axis = 1), train.Price\n",
    "X_test, y_test = test.drop(\"Price\", axis = 1), test.Price"
   ]
  },
  {
   "cell_type": "markdown",
   "metadata": {},
   "source": [
    "### 능형 회귀 분석 (Ridge)\n",
    "\n",
    "#### 교차 확인을 통해 초모수 $\\lambda$ 추정"
   ]
  },
  {
   "cell_type": "code",
   "execution_count": 9,
   "metadata": {
    "scrolled": false
   },
   "outputs": [
    {
     "data": {
      "text/plain": [
       "0.1"
      ]
     },
     "execution_count": 9,
     "metadata": {},
     "output_type": "execute_result"
    }
   ],
   "source": [
    "import sklearn.linear_model as lm\n",
    "\n",
    "alphas = (np.arange(1000)+1) * 0.01\n",
    "cv_ridge = lm.RidgeCV(alphas,fit_intercept = True, normalize = True) # cross validation\n",
    "cv_ridge.fit(X_train, y_train)\n",
    "cv_ridge.alpha_"
   ]
  },
  {
   "cell_type": "markdown",
   "metadata": {},
   "source": [
    "#### 교차 확인을 통해 추정한 $\\lambda$를 이용해서 계수 추정"
   ]
  },
  {
   "cell_type": "code",
   "execution_count": 10,
   "metadata": {},
   "outputs": [
    {
     "data": {
      "text/plain": [
       "array([-1.07851070e+02, -1.92724298e-02,  2.02647643e+01,  7.75290795e+01,\n",
       "        1.39328383e+02, -7.63780849e-03,  8.46930980e+00,  2.12199440e+01,\n",
       "       -2.68242901e+02,  1.22553526e+03])"
      ]
     },
     "execution_count": 10,
     "metadata": {},
     "output_type": "execute_result"
    }
   ],
   "source": [
    "ridge = lm.Ridge(alpha = cv_ridge.alpha_, fit_intercept = True, normalize = True)\n",
    "ridge.fit(X_train, y_train)\n",
    "ridge.coef_"
   ]
  },
  {
   "cell_type": "markdown",
   "metadata": {},
   "source": [
    "### 라쏘 회귀 분석 (LASSO)\n",
    "\n",
    "#### 교차 확인을 통해 초모수 $\\lambda$ 추정"
   ]
  },
  {
   "cell_type": "code",
   "execution_count": 11,
   "metadata": {},
   "outputs": [
    {
     "data": {
      "text/plain": [
       "2.86413567408479"
      ]
     },
     "execution_count": 11,
     "metadata": {},
     "output_type": "execute_result"
    }
   ],
   "source": [
    "cv_lasso = lm.LassoCV(n_alphas = 100, fit_intercept = True, normalize = True)\n",
    "cv_lasso.fit(X_train, y_train)\n",
    "cv_lasso.alpha_"
   ]
  },
  {
   "cell_type": "markdown",
   "metadata": {},
   "source": [
    "#### 교차 확인을 통해 추정한 $\\lambda$를 이용해서 계수 추정"
   ]
  },
  {
   "cell_type": "code",
   "execution_count": 12,
   "metadata": {},
   "outputs": [
    {
     "data": {
      "text/plain": [
       "array([-1.19579510e+02, -1.70628045e-02,  2.00403424e+01,  0.00000000e+00,\n",
       "        0.00000000e+00, -0.00000000e+00,  0.00000000e+00,  2.00031837e+01,\n",
       "       -0.00000000e+00,  4.78772202e+02])"
      ]
     },
     "execution_count": 12,
     "metadata": {},
     "output_type": "execute_result"
    }
   ],
   "source": [
    "lasso = lm.Lasso(alpha = cv_lasso.alpha_, fit_intercept = True, normalize = True)\n",
    "lasso.fit(X_train, y_train)\n",
    "lasso.coef_"
   ]
  },
  {
   "cell_type": "markdown",
   "metadata": {},
   "source": [
    "#### 단순 회귀 모형과의 계수 크기 비교"
   ]
  },
  {
   "cell_type": "code",
   "execution_count": 13,
   "metadata": {},
   "outputs": [
    {
     "data": {
      "text/plain": [
       "array([-1.19775791e+02, -1.57976065e-02,  1.43190481e+01,  4.80522278e+01,\n",
       "        1.14554381e+02, -4.01635372e-02,  1.22428301e+01,  2.37010228e+01,\n",
       "        5.53649605e+01,  2.60519859e+03])"
      ]
     },
     "execution_count": 13,
     "metadata": {},
     "output_type": "execute_result"
    }
   ],
   "source": [
    "slm = lm.LinearRegression(fit_intercept = True, normalize = True)\n",
    "slm.fit(X_train, y_train)\n",
    "slm.coef_ "
   ]
  },
  {
   "cell_type": "code",
   "execution_count": 14,
   "metadata": {},
   "outputs": [
    {
     "name": "stdout",
     "output_type": "stream",
     "text": [
      "L2 norm of Ridge coefficient : 160\n",
      "L2 norm of simple linear coefficient : 870\n",
      "L1 norm of LASSO coefficient :  58\n",
      "L1 norm of simple linear coefficient : 319\n"
     ]
    }
   ],
   "source": [
    "l2 = np.mean(lasso.coef_[1:]**2)**0.5\n",
    "print('L2 norm of Ridge coefficient : %3.0f' %l2)\n",
    "\n",
    "l2 = np.mean(slm.coef_[1:]**2)**0.5\n",
    "print('L2 norm of simple linear coefficient : %3.0f' %l2)\n",
    "\n",
    "l1 = np.mean(abs(lasso.coef_[1:]))\n",
    "print('L1 norm of LASSO coefficient : %3.0f' %l1)\n",
    "\n",
    "l1 = np.mean(abs(slm.coef_[1:]))\n",
    "print('L1 norm of simple linear coefficient : %3.0f' %l1)"
   ]
  },
  {
   "cell_type": "markdown",
   "metadata": {},
   "source": [
    "#### 예측력 비교"
   ]
  },
  {
   "cell_type": "code",
   "execution_count": 15,
   "metadata": {},
   "outputs": [
    {
     "name": "stdout",
     "output_type": "stream",
     "text": [
      "Train error of Ridge regression : 1717099\n",
      "Train error of LASSO regression : 1764563\n",
      "Train error of simple regression : 1646820\n",
      "\n",
      "\n",
      "\n",
      "\n",
      "Prediction error of Ridge regression : 2081208\n",
      "Prediction error of LASSO regression : 2049526\n",
      "Prediction error of simple regression : 2166693\n"
     ]
    }
   ],
   "source": [
    "err = np.mean((ridge.predict(X_train)-y_train)**2)\n",
    "print('Train error of Ridge regression : %.0f' %err)\n",
    "\n",
    "err = np.mean((lasso.predict(X_train)-y_train)**2)\n",
    "print('Train error of LASSO regression : %.0f' %err)\n",
    "\n",
    "err = np.mean((slm.predict(X_train)-y_train)**2)\n",
    "print('Train error of simple regression : %.0f' %err)\n",
    "\n",
    "print('\\n\\n\\n')\n",
    "\n",
    "err = np.mean((ridge.predict(X_test)-y_test)**2)\n",
    "print('Prediction error of Ridge regression : %.0f' %err)\n",
    "\n",
    "err = np.mean((lasso.predict(X_test)-y_test)**2)\n",
    "print('Prediction error of LASSO regression : %.0f' %err)\n",
    "\n",
    "err = np.mean((slm.predict(X_test)-y_test)**2)\n",
    "print('Prediction error of simple regression : %.0f' %err)"
   ]
  },
  {
   "cell_type": "markdown",
   "metadata": {},
   "source": [
    "### Elastic Net\n",
    "\n",
    "- 초모수를 2개 추정해야하므로 계싼량이 급증\n",
    "- Validation set을 이용"
   ]
  },
  {
   "cell_type": "code",
   "execution_count": 16,
   "metadata": {},
   "outputs": [
    {
     "name": "stdout",
     "output_type": "stream",
     "text": [
      "Prediction error of Elastic Net : 10468896\n"
     ]
    },
    {
     "data": {
      "text/plain": [
       "array([-1.23368071e+01, -3.94738644e-03,  5.29865680e+00,  5.20640150e+01,\n",
       "        3.50536786e+01,  6.08866509e-02,  1.23839025e+00,  2.93479484e+00,\n",
       "        2.70251219e+01, -9.05832335e+00])"
      ]
     },
     "execution_count": 16,
     "metadata": {},
     "output_type": "execute_result"
    }
   ],
   "source": [
    "train1, validate = train_test_split(toyota, test_size = 0.2, random_state = 42)\n",
    "X_train1, y_train1 = train1.drop(\"Price\", axis = 1), train1.Price\n",
    "X_val, y_val = validate.drop(\"Price\", axis = 1), validate.Price\n",
    "\n",
    "ratio = np.arange(1,10) * 0.1\n",
    "best_acc = 1e+10\n",
    "accs = []\n",
    "\n",
    "for rate in ratio :\n",
    "    cv_elastic_net = lm.ElasticNetCV(l1_ratio = rate, n_alphas = 100, fit_intercept = True, normalize = True)\n",
    "    cv_elastic_net.fit(X_train1, y_train1)\n",
    "    \n",
    "    elastic_net = lm.ElasticNet(alpha = cv_elastic_net.alpha_, l1_ratio = rate, fit_intercept = True, normalize = True)\n",
    "    elastic_net.fit(X_train1, y_train1)\n",
    "    \n",
    "    acc = np.mean((elastic_net.predict(X_val) - y_val)**2 )\n",
    "    accs.append(acc)\n",
    "    if acc < best_acc:\n",
    "        best_rate = rate\n",
    "        best_alpha = cv_elastic_net.alpha_\n",
    "        best_acc = acc\n",
    "\n",
    "elastic_net = lm.ElasticNet(alpha = best_alpha, l1_ratio = best_rate, \n",
    "                            fit_intercept = True, normalize = True, max_iter = 5e+4)\n",
    "elastic_net.fit(X_train, y_train)\n",
    "\n",
    "\n",
    "err = np.mean((elastic_net.predict(X_test)-y_test)**2)\n",
    "print('Prediction error of Elastic Net : %.0f' %err)\n",
    "\n",
    "elastic_net.coef_"
   ]
  }
 ],
 "metadata": {
  "kernelspec": {
   "display_name": "Python 3",
   "language": "python",
   "name": "python3"
  },
  "language_info": {
   "codemirror_mode": {
    "name": "ipython",
    "version": 3
   },
   "file_extension": ".py",
   "mimetype": "text/x-python",
   "name": "python",
   "nbconvert_exporter": "python",
   "pygments_lexer": "ipython3",
   "version": "3.7.3"
  }
 },
 "nbformat": 4,
 "nbformat_minor": 2
}
