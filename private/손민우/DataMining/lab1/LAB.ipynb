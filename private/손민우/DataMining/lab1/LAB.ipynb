{
 "cells": [
  {
   "cell_type": "markdown",
   "metadata": {},
   "source": [
    "\n",
    "## 선형회귀분석\n",
    "- 미국 보스턴시의 주택가격 자료를 사용하여 아래 분석 실행.\n",
    "    - 선형회귀분석 및 잔차 분석\n",
    "    - 영향점 제거한 선형회귀분석\n",
    "    - 변수선택법(best subset selection, 전진선택법, 후진선택법)\n",
    "    \n",
    "### Boston 자료 설명\n",
    "- 자료 수는 506이고, 총 14개의 변수로 이루어져있다.\n",
    "- 설명 변수: 마을의 평균 범죄율 (crim), 주거지 비율 (zn), 상업용지비율 (indus), 강 인접여부 (chas), 질소산화물의 농도 (nox), 집 당 평균 방의 수 (rm), 자가거주 주택 비율 (age), 보스턴의 5개 고용 중심지와의 가중 평균 거리 (dis), 고속도로 접근 지수 (rad), 10000달러 당 재산세 비율 (tax), 마을의 교사당 학생 비율 (ptratio), 마을의 흑인 비율 (black), 하층민의 비율 (lstat)\n",
    "- 반응변수: 자가거주 주택의 중앙값 (medv)\n",
    "\n",
    "### 데이터 불러오기"
   ]
  },
  {
   "cell_type": "code",
   "execution_count": 1,
   "metadata": {},
   "outputs": [
    {
     "name": "stdout",
     "output_type": "stream",
     "text": [
      "Data shape: (506, 15)\n"
     ]
    },
    {
     "data": {
      "text/html": [
       "<div>\n",
       "<style scoped>\n",
       "    .dataframe tbody tr th:only-of-type {\n",
       "        vertical-align: middle;\n",
       "    }\n",
       "\n",
       "    .dataframe tbody tr th {\n",
       "        vertical-align: top;\n",
       "    }\n",
       "\n",
       "    .dataframe thead th {\n",
       "        text-align: right;\n",
       "    }\n",
       "</style>\n",
       "<table border=\"1\" class=\"dataframe\">\n",
       "  <thead>\n",
       "    <tr style=\"text-align: right;\">\n",
       "      <th></th>\n",
       "      <th>crim</th>\n",
       "      <th>zn</th>\n",
       "      <th>indus</th>\n",
       "      <th>chas</th>\n",
       "      <th>nox</th>\n",
       "      <th>rm</th>\n",
       "      <th>age</th>\n",
       "      <th>dis</th>\n",
       "      <th>rad</th>\n",
       "      <th>tax</th>\n",
       "      <th>ptratio</th>\n",
       "      <th>black</th>\n",
       "      <th>lstat</th>\n",
       "      <th>medv</th>\n",
       "    </tr>\n",
       "  </thead>\n",
       "  <tbody>\n",
       "    <tr>\n",
       "      <th>0</th>\n",
       "      <td>0.00632</td>\n",
       "      <td>18.0</td>\n",
       "      <td>2.31</td>\n",
       "      <td>0</td>\n",
       "      <td>0.538</td>\n",
       "      <td>6.575</td>\n",
       "      <td>65.2</td>\n",
       "      <td>4.0900</td>\n",
       "      <td>1</td>\n",
       "      <td>296</td>\n",
       "      <td>15.3</td>\n",
       "      <td>396.90</td>\n",
       "      <td>4.98</td>\n",
       "      <td>24.0</td>\n",
       "    </tr>\n",
       "    <tr>\n",
       "      <th>1</th>\n",
       "      <td>0.02731</td>\n",
       "      <td>0.0</td>\n",
       "      <td>7.07</td>\n",
       "      <td>0</td>\n",
       "      <td>0.469</td>\n",
       "      <td>6.421</td>\n",
       "      <td>78.9</td>\n",
       "      <td>4.9671</td>\n",
       "      <td>2</td>\n",
       "      <td>242</td>\n",
       "      <td>17.8</td>\n",
       "      <td>396.90</td>\n",
       "      <td>9.14</td>\n",
       "      <td>21.6</td>\n",
       "    </tr>\n",
       "    <tr>\n",
       "      <th>2</th>\n",
       "      <td>0.02729</td>\n",
       "      <td>0.0</td>\n",
       "      <td>7.07</td>\n",
       "      <td>0</td>\n",
       "      <td>0.469</td>\n",
       "      <td>7.185</td>\n",
       "      <td>61.1</td>\n",
       "      <td>4.9671</td>\n",
       "      <td>2</td>\n",
       "      <td>242</td>\n",
       "      <td>17.8</td>\n",
       "      <td>392.83</td>\n",
       "      <td>4.03</td>\n",
       "      <td>34.7</td>\n",
       "    </tr>\n",
       "    <tr>\n",
       "      <th>3</th>\n",
       "      <td>0.03237</td>\n",
       "      <td>0.0</td>\n",
       "      <td>2.18</td>\n",
       "      <td>0</td>\n",
       "      <td>0.458</td>\n",
       "      <td>6.998</td>\n",
       "      <td>45.8</td>\n",
       "      <td>6.0622</td>\n",
       "      <td>3</td>\n",
       "      <td>222</td>\n",
       "      <td>18.7</td>\n",
       "      <td>394.63</td>\n",
       "      <td>2.94</td>\n",
       "      <td>33.4</td>\n",
       "    </tr>\n",
       "    <tr>\n",
       "      <th>4</th>\n",
       "      <td>0.06905</td>\n",
       "      <td>0.0</td>\n",
       "      <td>2.18</td>\n",
       "      <td>0</td>\n",
       "      <td>0.458</td>\n",
       "      <td>7.147</td>\n",
       "      <td>54.2</td>\n",
       "      <td>6.0622</td>\n",
       "      <td>3</td>\n",
       "      <td>222</td>\n",
       "      <td>18.7</td>\n",
       "      <td>396.90</td>\n",
       "      <td>5.33</td>\n",
       "      <td>36.2</td>\n",
       "    </tr>\n",
       "  </tbody>\n",
       "</table>\n",
       "</div>"
      ],
      "text/plain": [
       "      crim    zn  indus  chas    nox     rm   age     dis  rad  tax  ptratio  \\\n",
       "0  0.00632  18.0   2.31     0  0.538  6.575  65.2  4.0900    1  296     15.3   \n",
       "1  0.02731   0.0   7.07     0  0.469  6.421  78.9  4.9671    2  242     17.8   \n",
       "2  0.02729   0.0   7.07     0  0.469  7.185  61.1  4.9671    2  242     17.8   \n",
       "3  0.03237   0.0   2.18     0  0.458  6.998  45.8  6.0622    3  222     18.7   \n",
       "4  0.06905   0.0   2.18     0  0.458  7.147  54.2  6.0622    3  222     18.7   \n",
       "\n",
       "    black  lstat  medv  \n",
       "0  396.90   4.98  24.0  \n",
       "1  396.90   9.14  21.6  \n",
       "2  392.83   4.03  34.7  \n",
       "3  394.63   2.94  33.4  \n",
       "4  396.90   5.33  36.2  "
      ]
     },
     "execution_count": 1,
     "metadata": {},
     "output_type": "execute_result"
    }
   ],
   "source": [
    "import pandas as pd\n",
    "Boston = pd.read_csv(\"Boston.csv\")\n",
    "print('Data shape:', Boston.shape)\n",
    "Boston = Boston.iloc[:, 1:]\n",
    "Boston.head()"
   ]
  },
  {
   "cell_type": "code",
   "execution_count": 2,
   "metadata": {},
   "outputs": [],
   "source": [
    "# pip install statsmodels"
   ]
  },
  {
   "cell_type": "code",
   "execution_count": 3,
   "metadata": {},
   "outputs": [
    {
     "name": "stderr",
     "output_type": "stream",
     "text": [
      "c:\\users\\ds\\pycharmprojects\\ds2\\venv\\lib\\site-packages\\numpy\\core\\fromnumeric.py:2495: FutureWarning: Method .ptp is deprecated and will be removed in a future version. Use numpy.ptp instead.\n",
      "  return ptp(axis=axis, out=out, **kwargs)\n"
     ]
    }
   ],
   "source": [
    "import statsmodels.api as sm\n",
    "import statsmodels.formula.api as smf\n",
    "from sklearn.model_selection import train_test_split\n",
    "# from sklearn.cross_validation import train_test_split\n",
    "\n",
    "train, test = train_test_split(Boston, test_size = 0.3, random_state = 42) # random_state는 random 고정하는 역할\n",
    "X_train, y_train = train.drop(\"medv\", axis = 1), train.medv\n",
    "X_train = sm.add_constant(X_train) #X에다 1을 부침 칼럼이 하나 생김. 그게 다 1로 채워져있음\n",
    "X_test, y_test = test.drop(\"medv\", axis = 1), test.medv\n",
    "X_test= sm.add_constant(X_test)"
   ]
  },
  {
   "cell_type": "code",
   "execution_count": 4,
   "metadata": {},
   "outputs": [
    {
     "name": "stdout",
     "output_type": "stream",
     "text": [
      "                            OLS Regression Results                            \n",
      "==============================================================================\n",
      "Dep. Variable:                   medv   R-squared:                       0.743\n",
      "Model:                            OLS   Adj. R-squared:                  0.734\n",
      "Method:                 Least Squares   F-statistic:                     75.81\n",
      "Date:                Fri, 23 Aug 2019   Prob (F-statistic):           4.96e-92\n",
      "Time:                        16:54:53   Log-Likelihood:                -1053.8\n",
      "No. Observations:                 354   AIC:                             2136.\n",
      "Df Residuals:                     340   BIC:                             2190.\n",
      "Df Model:                          13                                         \n",
      "Covariance Type:            nonrobust                                         \n",
      "==============================================================================\n",
      "                 coef    std err          t      P>|t|      [0.025      0.975]\n",
      "------------------------------------------------------------------------------\n",
      "const         31.6311      6.056      5.223      0.000      19.720      43.542\n",
      "crim          -0.1335      0.041     -3.271      0.001      -0.214      -0.053\n",
      "zn             0.0358      0.018      2.029      0.043       0.001       0.071\n",
      "indus          0.0495      0.073      0.680      0.497      -0.094       0.193\n",
      "chas           3.1198      1.037      3.010      0.003       1.081       5.159\n",
      "nox          -15.4171      4.750     -3.246      0.001     -24.759      -6.075\n",
      "rm             4.0572      0.496      8.181      0.000       3.082       5.033\n",
      "age           -0.0108      0.016     -0.671      0.503      -0.043       0.021\n",
      "dis           -1.3860      0.242     -5.734      0.000      -1.861      -0.911\n",
      "rad            0.2427      0.082      2.963      0.003       0.082       0.404\n",
      "tax           -0.0087      0.005     -1.886      0.060      -0.018       0.000\n",
      "ptratio       -0.9107      0.154     -5.905      0.000      -1.214      -0.607\n",
      "black          0.0118      0.003      3.534      0.000       0.005       0.018\n",
      "lstat         -0.5471      0.059     -9.219      0.000      -0.664      -0.430\n",
      "==============================================================================\n",
      "Omnibus:                      115.779   Durbin-Watson:                   2.087\n",
      "Prob(Omnibus):                  0.000   Jarque-Bera (JB):              458.270\n",
      "Skew:                           1.381   Prob(JB):                    3.08e-100\n",
      "Kurtosis:                       7.842   Cond. No.                     1.49e+04\n",
      "==============================================================================\n",
      "\n",
      "Warnings:\n",
      "[1] Standard Errors assume that the covariance matrix of the errors is correctly specified.\n",
      "[2] The condition number is large, 1.49e+04. This might indicate that there are\n",
      "strong multicollinearity or other numerical problems.\n"
     ]
    }
   ],
   "source": [
    "linear_model = sm.OLS(y_train, X_train)\n",
    "model_fit = linear_model.fit()\n",
    "print(model_fit.summary()) # p값이 작은게 의미 없는 것!! 그거 빼고 다시 돌리는게 좋을듯"
   ]
  },
  {
   "cell_type": "code",
   "execution_count": 6,
   "metadata": {},
   "outputs": [
    {
     "data": {
      "image/png": "[encoded data removed]",
      "text/plain": [
       "<Figure size 432x288 with 1 Axes>"
      ]
     },
     "metadata": {
      "needs_background": "light"
     },
     "output_type": "display_data"
    }
   ],
   "source": [
    "import matplotlib.pyplot as plt \n",
    "plt.plot(model_fit.fittedvalues, model_fit.resid,'o') # resid는 잔차\n",
    "plt.show() # 0근처에 나와야 선형성이 있는 것!!! 다른 column들을 제거하고 하면 좋을 듯"
   ]
  },
  {
   "cell_type": "code",
   "execution_count": null,
   "metadata": {},
   "outputs": [],
   "source": []
  }
 ],
 "metadata": {
  "kernelspec": {
   "display_name": "Python 3",
   "language": "python",
   "name": "python3"
  },
  "language_info": {
   "codemirror_mode": {
    "name": "ipython",
    "version": 3
   },
   "file_extension": ".py",
   "mimetype": "text/x-python",
   "name": "python",
   "nbconvert_exporter": "python",
   "pygments_lexer": "ipython3",
   "version": "3.7.3"
  }
 },
 "nbformat": 4,
 "nbformat_minor": 1
}
