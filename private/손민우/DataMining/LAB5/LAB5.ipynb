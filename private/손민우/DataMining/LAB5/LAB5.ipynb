{
 "cells": [
  {
   "cell_type": "code",
   "execution_count": 314,
   "metadata": {
    "collapsed": true
   },
   "outputs": [],
   "source": [
    "import statsmodels.imputation.mice as mice\n",
    "import pandas as pd\n",
    "import numpy as np\n",
    "import statsmodels.formula.api as smf\n",
    "import statsmodels.api as sm\n",
    "from statsmodels.tools.eval_measures import mse\n",
    "from scipy.stats import random_correlation\n",
    "#from sklearn.cross_validation import train_test_split\n",
    "from sklearn.model_selection import train_test_split "
   ]
  },
  {
   "cell_type": "code",
   "execution_count": 315,
   "metadata": {
    "collapsed": false
   },
   "outputs": [
    {
     "name": "stdout",
     "output_type": "stream",
     "text": [
      "[[1.53077917 5.64589272 0.286451   6.21355467 5.38840393 3.36436987]\n",
      " [4.04795328 3.89480148 1.49661444 7.84043937 4.83185913 1.82366514]\n",
      " [4.58081713 4.67666697 1.40499161 7.69259925 5.02820536 1.31339449]\n",
      " [2.75924213 5.74522538 0.82695585 5.65394027 5.61031322 1.30314724]\n",
      " [4.09990273 4.03934275 1.56512268 7.33083761 4.3609962  3.53462144]]\n"
     ]
    }
   ],
   "source": [
    "import pandas as pd\n",
    "import numpy as np\n",
    "from scipy.stats import random_correlation\n",
    "\n",
    "mean = (3,5,1,7,5,2)\n",
    "np.random.seed(1)\n",
    "cov = random_correlation.rvs((0.6, 0.2, 1.2, 3, 0.9, 0.1))\n",
    "norm = np.random.multivariate_normal(mean, cov, 200)\n",
    "print(norm[:5])"
   ]
  },
  {
   "cell_type": "code",
   "execution_count": 316,
   "metadata": {
    "collapsed": false
   },
   "outputs": [
    {
     "data": {
      "text/html": [
       "<div>\n",
       "<style scoped>\n",
       "    .dataframe tbody tr th:only-of-type {\n",
       "        vertical-align: middle;\n",
       "    }\n",
       "\n",
       "    .dataframe tbody tr th {\n",
       "        vertical-align: top;\n",
       "    }\n",
       "\n",
       "    .dataframe thead th {\n",
       "        text-align: right;\n",
       "    }\n",
       "</style>\n",
       "<table border=\"1\" class=\"dataframe\">\n",
       "  <thead>\n",
       "    <tr style=\"text-align: right;\">\n",
       "      <th></th>\n",
       "      <th>x1</th>\n",
       "      <th>x2</th>\n",
       "      <th>x3</th>\n",
       "      <th>x4</th>\n",
       "      <th>x5</th>\n",
       "      <th>x6</th>\n",
       "      <th>y</th>\n",
       "    </tr>\n",
       "  </thead>\n",
       "  <tbody>\n",
       "    <tr>\n",
       "      <th>0</th>\n",
       "      <td>1.530779</td>\n",
       "      <td>NaN</td>\n",
       "      <td>0.286451</td>\n",
       "      <td>NaN</td>\n",
       "      <td>5.388404</td>\n",
       "      <td>3.364370</td>\n",
       "      <td>111.210256</td>\n",
       "    </tr>\n",
       "    <tr>\n",
       "      <th>1</th>\n",
       "      <td>4.047953</td>\n",
       "      <td>NaN</td>\n",
       "      <td>1.496614</td>\n",
       "      <td>7.840439</td>\n",
       "      <td>NaN</td>\n",
       "      <td>1.823665</td>\n",
       "      <td>115.374270</td>\n",
       "    </tr>\n",
       "    <tr>\n",
       "      <th>2</th>\n",
       "      <td>4.580817</td>\n",
       "      <td>NaN</td>\n",
       "      <td>NaN</td>\n",
       "      <td>NaN</td>\n",
       "      <td>5.028205</td>\n",
       "      <td>NaN</td>\n",
       "      <td>117.391959</td>\n",
       "    </tr>\n",
       "    <tr>\n",
       "      <th>3</th>\n",
       "      <td>2.759242</td>\n",
       "      <td>NaN</td>\n",
       "      <td>0.826956</td>\n",
       "      <td>5.653940</td>\n",
       "      <td>5.610313</td>\n",
       "      <td>1.303147</td>\n",
       "      <td>107.132211</td>\n",
       "    </tr>\n",
       "    <tr>\n",
       "      <th>4</th>\n",
       "      <td>4.099903</td>\n",
       "      <td>4.039343</td>\n",
       "      <td>1.565123</td>\n",
       "      <td>7.330838</td>\n",
       "      <td>4.360996</td>\n",
       "      <td>3.534621</td>\n",
       "      <td>112.972780</td>\n",
       "    </tr>\n",
       "  </tbody>\n",
       "</table>\n",
       "</div>"
      ],
      "text/plain": [
       "         x1        x2        x3        x4        x5        x6           y\n",
       "0  1.530779       NaN  0.286451       NaN  5.388404  3.364370  111.210256\n",
       "1  4.047953       NaN  1.496614  7.840439       NaN  1.823665  115.374270\n",
       "2  4.580817       NaN       NaN       NaN  5.028205       NaN  117.391959\n",
       "3  2.759242       NaN  0.826956  5.653940  5.610313  1.303147  107.132211\n",
       "4  4.099903  4.039343  1.565123  7.330838  4.360996  3.534621  112.972780"
      ]
     },
     "execution_count": 316,
     "metadata": {},
     "output_type": "execute_result"
    }
   ],
   "source": [
    "beta = np.array([3,1,-1,6,10,3])\n",
    "data = pd.DataFrame(norm, columns=['x1','x2','x3','x4','x5','x6'])\n",
    "y = np.matmul(beta,data.values.transpose())\n",
    "data.iloc[[1,3,5],1] = None\n",
    "missing_num = [0,50,50,50,100,100,100]\n",
    "for i in range(1,6):\n",
    "    idx = np.random.randint(200,size = missing_num[i])\n",
    "    data.iloc[idx,i] = None\n",
    "data['y'] = y\n",
    "data.head()"
   ]
  },
  {
   "cell_type": "code",
   "execution_count": 317,
   "metadata": {
    "collapsed": true
   },
   "outputs": [],
   "source": [
    "train, test = train_test_split(data, test_size = 0.3, random_state = 42)\n",
    "X_train, y_train = train.drop(\"y\", axis = 1), train.y\n",
    "X_test, y_test = test.drop(\"y\", axis = 1), test.y"
   ]
  },
  {
   "cell_type": "code",
   "execution_count": 318,
   "metadata": {
    "collapsed": false
   },
   "outputs": [
    {
     "data": {
      "text/html": [
       "<div>\n",
       "<style scoped>\n",
       "    .dataframe tbody tr th:only-of-type {\n",
       "        vertical-align: middle;\n",
       "    }\n",
       "\n",
       "    .dataframe tbody tr th {\n",
       "        vertical-align: top;\n",
       "    }\n",
       "\n",
       "    .dataframe thead th {\n",
       "        text-align: right;\n",
       "    }\n",
       "</style>\n",
       "<table border=\"1\" class=\"dataframe\">\n",
       "  <thead>\n",
       "    <tr style=\"text-align: right;\">\n",
       "      <th></th>\n",
       "      <th>x1</th>\n",
       "      <th>x2</th>\n",
       "      <th>x3</th>\n",
       "      <th>x4</th>\n",
       "      <th>x5</th>\n",
       "      <th>x6</th>\n",
       "    </tr>\n",
       "  </thead>\n",
       "  <tbody>\n",
       "    <tr>\n",
       "      <th>95</th>\n",
       "      <td>3.907128</td>\n",
       "      <td>4.339186</td>\n",
       "      <td>1.103914</td>\n",
       "      <td>6.712477</td>\n",
       "      <td>NaN</td>\n",
       "      <td>NaN</td>\n",
       "    </tr>\n",
       "    <tr>\n",
       "      <th>15</th>\n",
       "      <td>2.054794</td>\n",
       "      <td>5.159811</td>\n",
       "      <td>-0.117361</td>\n",
       "      <td>7.125223</td>\n",
       "      <td>5.138517</td>\n",
       "      <td>1.804979</td>\n",
       "    </tr>\n",
       "    <tr>\n",
       "      <th>30</th>\n",
       "      <td>2.821469</td>\n",
       "      <td>4.759206</td>\n",
       "      <td>2.035846</td>\n",
       "      <td>6.555154</td>\n",
       "      <td>6.988172</td>\n",
       "      <td>3.580878</td>\n",
       "    </tr>\n",
       "    <tr>\n",
       "      <th>158</th>\n",
       "      <td>3.962876</td>\n",
       "      <td>4.301784</td>\n",
       "      <td>0.603700</td>\n",
       "      <td>NaN</td>\n",
       "      <td>5.253411</td>\n",
       "      <td>1.698566</td>\n",
       "    </tr>\n",
       "    <tr>\n",
       "      <th>128</th>\n",
       "      <td>2.713962</td>\n",
       "      <td>6.823018</td>\n",
       "      <td>2.888967</td>\n",
       "      <td>6.659656</td>\n",
       "      <td>NaN</td>\n",
       "      <td>2.174055</td>\n",
       "    </tr>\n",
       "  </tbody>\n",
       "</table>\n",
       "</div>"
      ],
      "text/plain": [
       "           x1        x2        x3        x4        x5        x6\n",
       "95   3.907128  4.339186  1.103914  6.712477       NaN       NaN\n",
       "15   2.054794  5.159811 -0.117361  7.125223  5.138517  1.804979\n",
       "30   2.821469  4.759206  2.035846  6.555154  6.988172  3.580878\n",
       "158  3.962876  4.301784  0.603700       NaN  5.253411  1.698566\n",
       "128  2.713962  6.823018  2.888967  6.659656       NaN  2.174055"
      ]
     },
     "execution_count": 318,
     "metadata": {},
     "output_type": "execute_result"
    }
   ],
   "source": [
    "X_test.head()"
   ]
  },
  {
   "cell_type": "code",
   "execution_count": 319,
   "metadata": {
    "collapsed": false
   },
   "outputs": [
    {
     "data": {
      "text/plain": [
       "IterativeImputer(add_indicator=False, estimator=None,\n",
       "                 imputation_order='ascending', initial_strategy='mean',\n",
       "                 max_iter=100, max_value=None, min_value=None,\n",
       "                 missing_values=nan, n_nearest_features=None, random_state=0,\n",
       "                 sample_posterior=False, tol=0.001, verbose=0)"
      ]
     },
     "execution_count": 319,
     "metadata": {},
     "output_type": "execute_result"
    }
   ],
   "source": [
    "from sklearn.experimental import enable_iterative_imputer\n",
    "from sklearn.impute import IterativeImputer\n",
    "imp = IterativeImputer(imputation_order='ascending', initial_strategy='mean',\n",
    "                 max_iter=100, n_nearest_features=None,\n",
    "                 random_state=0, sample_posterior=False, tol=0.001,add_indicator=False)\n",
    "imp.fit(X_train)\n"
   ]
  },
  {
   "cell_type": "code",
   "execution_count": 320,
   "metadata": {
    "collapsed": false
   },
   "outputs": [
    {
     "name": "stdout",
     "output_type": "stream",
     "text": [
      "                            OLS Regression Results                            \n",
      "==============================================================================\n",
      "Dep. Variable:                      y   R-squared:                       0.998\n",
      "Model:                            OLS   Adj. R-squared:                  0.998\n",
      "Method:                 Least Squares   F-statistic:                 1.099e+04\n",
      "Date:                Fri, 06 Sep 2019   Prob (F-statistic):          8.94e-178\n",
      "Time:                        15:11:04   Log-Likelihood:                -424.04\n",
      "No. Observations:                 140   AIC:                             860.1\n",
      "Df Residuals:                     134   BIC:                             877.7\n",
      "Df Model:                           6                                         \n",
      "Covariance Type:            nonrobust                                         \n",
      "==============================================================================\n",
      "                 coef    std err          t      P>|t|      [0.025      0.975]\n",
      "------------------------------------------------------------------------------\n",
      "x1             3.4376      0.889      3.866      0.000       1.679       5.196\n",
      "x2             0.4910      0.959      0.512      0.609      -1.405       2.387\n",
      "x3            -1.6402      0.475     -3.451      0.001      -2.580      -0.700\n",
      "x4             5.9913      0.575     10.418      0.000       4.854       7.129\n",
      "x5            10.0907      0.732     13.789      0.000       8.643      11.538\n",
      "x6             4.0276      0.560      7.187      0.000       2.919       5.136\n",
      "==============================================================================\n",
      "Omnibus:                       19.938   Durbin-Watson:                   1.980\n",
      "Prob(Omnibus):                  0.000   Jarque-Bera (JB):               28.368\n",
      "Skew:                           0.764   Prob(JB):                     6.92e-07\n",
      "Kurtosis:                       4.590   Cond. No.                         35.8\n",
      "==============================================================================\n",
      "\n",
      "Warnings:\n",
      "[1] Standard Errors assume that the covariance matrix of the errors is correctly specified.\n"
     ]
    }
   ],
   "source": [
    "import statsmodels.api as sm\n",
    "from statsmodels.tools.eval_measures import mse\n",
    "\n",
    "X_train1 = imp.transform(X_train)\n",
    "linear_model = sm.OLS(y_train, X_train1)\n",
    "model_fit = linear_model.fit()\n",
    "print(model_fit.summary())"
   ]
  },
  {
   "cell_type": "code",
   "execution_count": 321,
   "metadata": {
    "collapsed": false
   },
   "outputs": [
    {
     "data": {
      "text/plain": [
       "26.16939335271296"
      ]
     },
     "execution_count": 321,
     "metadata": {},
     "output_type": "execute_result"
    }
   ],
   "source": [
    "X_test1 = imp.transform(X_test)\n",
    "y_pred = model_fit.predict(X_test1)\n",
    "mse(y_pred,y_test)"
   ]
  },
  {
   "cell_type": "code",
   "execution_count": 322,
   "metadata": {
    "collapsed": true
   },
   "outputs": [],
   "source": [
    "def mf(R, K, max_iter, lr = 0.0002, lambd = 0.02, tol = 0.001):\n",
    "    N = R.shape[0]\n",
    "    M = R.shape[1]\n",
    "    P = np.random.rand(N,K)\n",
    "    Q = np.random.rand(M,K)\n",
    "    Q = Q.T\n",
    "    for it in range(max_iter):\n",
    "        for i in range(N):\n",
    "            for j in range(M):\n",
    "                if (np.isnan(R[i][j])):\n",
    "                    continue\n",
    "                else:\n",
    "                    eij = R[i][j] - np.dot(P[i,:],Q[:,j])\n",
    "                    for k in range(K):\n",
    "                        P[i][k] = P[i][k] + lr*(2*eij*Q[k][j]-lambd*P[i][k])\n",
    "                        Q[k][j] = Q[k][j] + lr*(2*eij*P[i][k]-lambd*Q[k][j])\n",
    "        e = 0\n",
    "        for i in range(N):\n",
    "            for j in range(M):\n",
    "                if (np.isnan(R[i][j])):\n",
    "                    continue\n",
    "                else:\n",
    "                    e = e + pow(R[i][j] - np.dot(P[i,:],Q[:,j]),2)\n",
    "                    for k in range(K):\n",
    "                        e = e + (lambd/2)*(pow(P[i][k],2) + pow(Q[k][j],2))\n",
    "        if e<tol:\n",
    "            break\n",
    "    return P, Q.T"
   ]
  },
  {
   "cell_type": "code",
   "execution_count": 323,
   "metadata": {
    "collapsed": false,
    "scrolled": true
   },
   "outputs": [
    {
     "name": "stdout",
     "output_type": "stream",
     "text": [
      "[[ 2.05113697  3.69579991 -1.30923149  6.21546534         nan  2.30381404]\n",
      " [ 3.1580459   5.06778403  2.42921362  7.69352712  4.68656935  0.89848375]\n",
      " [ 4.5018002   4.43025348  2.5196265   8.41511331         nan         nan]\n",
      " [ 3.52535861  4.06587471         nan         nan  4.61587201         nan]\n",
      " [ 2.80097337  4.19164254  1.00341119         nan  5.46653134  3.75471429]]\n",
      "[[ 2.27107492  3.79248937 -0.87301749  5.99417341  3.68730319  2.13099079]\n",
      " [ 3.70378226  4.72563809  2.4856811   7.2307544   4.97060237  1.55922663]\n",
      " [ 4.53143073  4.52510287  2.51911239  8.31036247  4.5572319   1.10397221]\n",
      " [ 3.46338     4.19015574  0.15177294  7.50710809  4.49155485  2.1192753 ]\n",
      " [ 3.00791815  4.70133323  0.65117588  7.47149706  5.1856678   3.08695236]]\n"
     ]
    }
   ],
   "source": [
    "X = X_train.values\n",
    "P,Q = mf(X,K=10, max_iter = 1000, tol = 0.00001)\n",
    "X_train1 = np.matmul(P,Q.T)\n",
    "print(X[:5])\n",
    "print(X_train1[:5])"
   ]
  },
  {
   "cell_type": "code",
   "execution_count": 227,
   "metadata": {
    "collapsed": true
   },
   "outputs": [],
   "source": [
    "def mf_P(R, Q, max_iter, lr = 0.0002, lambd = 0.02, tol = 0.001):\n",
    "    \n",
    "    N = R.shape[0]\n",
    "    M = R.shape[1]\n",
    "    K = Q.shape[1]\n",
    "    Q = Q.T\n",
    "    P = np.zeros([N,K])\n",
    "    \n",
    "    for it in range(max_iter):\n",
    "        for i in range(N):\n",
    "            for j in range(M):\n",
    "                if (np.isnan(R[i][j])):\n",
    "                    continue\n",
    "                else:\n",
    "                    eij = R[i][j] - np.dot(P[i,:],Q[:,j])\n",
    "                    for k in range(K):\n",
    "                        P[i][k] = P[i][k] + lr*(2*eij*Q[k][j]-lambd*P[i][k])\n",
    "                        R[i][j] = R[i][j] - lr*(2*eij)\n",
    "        e = 0\n",
    "        for i in range(N):\n",
    "            for j in range(M):\n",
    "                if (np.isnan(R[i][j])):\n",
    "                    continue\n",
    "                else:\n",
    "                    e = e + pow(R[i][j] - np.dot(P[i,:],Q[:,j]),2)\n",
    "                    for k in range(K):\n",
    "                        e = e + (lambd/2)*(pow(P[i][k],2) + pow(Q[k][j],2))\n",
    "        if e<tol:\n",
    "            break\n",
    "    return P"
   ]
  },
  {
   "cell_type": "code",
   "execution_count": 228,
   "metadata": {
    "collapsed": false,
    "scrolled": true
   },
   "outputs": [
    {
     "name": "stdout",
     "output_type": "stream",
     "text": [
      "[[2.33600843 3.04198138 0.49764914 5.0787087         nan        nan]\n",
      " [2.41491706 3.89064785 1.10725407 5.38074201 3.97144049 1.52268048]\n",
      " [2.74520479 4.19935284 1.42490319 5.93455161 4.3242948  1.58047506]\n",
      " [1.83464772 3.38569544 0.70688598        nan 3.49812008 1.28112144]\n",
      " [2.37732313 3.97272315 1.01787146 5.6166538         nan 1.89095044]]\n",
      "[[2.33476762 3.03889953 0.5006836  5.07262311 3.01413684 1.33792367]\n",
      " [2.41176613 3.88521007 1.10542386 5.37438211 3.96725106 1.52160948]\n",
      " [2.74179614 4.1920556  1.42075358 5.92738479 4.32130224 1.58042537]\n",
      " [1.82489328 3.38373581 0.71104978 4.22975741 3.49279136 1.27634122]\n",
      " [2.37516377 3.96817882 1.01529792 5.61078582 3.80973849 1.88493005]]\n"
     ]
    }
   ],
   "source": [
    "X1 = X_test.values\n",
    "test_P = mf_P(X1, Q, max_iter = 1000, tol = 0.00001)\n",
    "X_test1 = np.matmul(test_P,Q.T)\n",
    "print(X_test.values[:5])\n",
    "print(X_test1[:5])"
   ]
  },
  {
   "cell_type": "code",
   "execution_count": 284,
   "metadata": {
    "collapsed": true
   },
   "outputs": [],
   "source": [
    "i=0\n",
    "X_train2 = X_train.copy()\n",
    "for col in X_train.columns:\n",
    "    X_train2.loc[np.isnan(X_train.values[:,i]),col] = X_train1[np.isnan(X_train.values[:,i]),i]\n",
    "    i = i+1\n",
    "\n",
    "i=0\n",
    "X_test2 = X_test.copy()\n",
    "for col in X_test.columns:\n",
    "    X_test2.loc[np.isnan(X_test.values[:,i]),col] = X_test1[np.isnan(X_test.values[:,i]),i]\n",
    "    i = i+1"
   ]
  },
  {
   "cell_type": "code",
   "execution_count": 285,
   "metadata": {
    "collapsed": false
   },
   "outputs": [
    {
     "name": "stdout",
     "output_type": "stream",
     "text": [
      "                            OLS Regression Results                            \n",
      "==============================================================================\n",
      "Dep. Variable:                      y   R-squared:                       0.996\n",
      "Model:                            OLS   Adj. R-squared:                  0.996\n",
      "Method:                 Least Squares   F-statistic:                     5190.\n",
      "Date:                Wed, 04 Sep 2019   Prob (F-statistic):          5.08e-156\n",
      "Time:                        17:31:52   Log-Likelihood:                -476.38\n",
      "No. Observations:                 140   AIC:                             964.8\n",
      "Df Residuals:                     134   BIC:                             982.4\n",
      "Df Model:                           6                                         \n",
      "Covariance Type:            nonrobust                                         \n",
      "==============================================================================\n",
      "                 coef    std err          t      P>|t|      [0.025      0.975]\n",
      "------------------------------------------------------------------------------\n",
      "x1             5.3630      1.166      4.601      0.000       3.057       7.669\n",
      "x2             4.7812      1.148      4.165      0.000       2.511       7.052\n",
      "x3            -2.6852      0.688     -3.903      0.000      -4.046      -1.324\n",
      "x4             4.3171      0.766      5.633      0.000       2.801       5.833\n",
      "x5             7.7931      1.029      7.572      0.000       5.758       9.829\n",
      "x6             2.3370      0.936      2.498      0.014       0.487       4.187\n",
      "==============================================================================\n",
      "Omnibus:                        8.669   Durbin-Watson:                   1.909\n",
      "Prob(Omnibus):                  0.013   Jarque-Bera (JB):               16.279\n",
      "Skew:                           0.167   Prob(JB):                     0.000292\n",
      "Kurtosis:                       4.637   Cond. No.                         29.1\n",
      "==============================================================================\n",
      "\n",
      "Warnings:\n",
      "[1] Standard Errors assume that the covariance matrix of the errors is correctly specified.\n"
     ]
    }
   ],
   "source": [
    "linear_model2 = sm.OLS(y_train, X_train2)\n",
    "model_fit2 = linear_model2.fit()\n",
    "print(model_fit2.summary())"
   ]
  },
  {
   "cell_type": "code",
   "execution_count": 286,
   "metadata": {
    "collapsed": false
   },
   "outputs": [
    {
     "data": {
      "text/plain": [
       "1423.1411084836577"
      ]
     },
     "execution_count": 286,
     "metadata": {},
     "output_type": "execute_result"
    }
   ],
   "source": [
    "y_pred2 = model_fit2.predict(X_test2)\n",
    "mse(y_pred2, y_test)"
   ]
  }
 ],
 "metadata": {
  "anaconda-cloud": {},
  "kernelspec": {
   "display_name": "Python [default]",
   "language": "python",
   "name": "python3"
  },
  "language_info": {
   "codemirror_mode": {
    "name": "ipython",
    "version": 3
   },
   "file_extension": ".py",
   "mimetype": "text/x-python",
   "name": "python",
   "nbconvert_exporter": "python",
   "pygments_lexer": "ipython3",
   "version": "3.5.2"
  }
 },
 "nbformat": 4,
 "nbformat_minor": 2
}
