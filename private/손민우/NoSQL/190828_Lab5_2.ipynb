{
 "cells": [
  {
   "cell_type": "code",
   "execution_count": 1,
   "metadata": {},
   "outputs": [],
   "source": [
    "from pymongo import MongoClient"
   ]
  },
  {
   "cell_type": "code",
   "execution_count": 2,
   "metadata": {},
   "outputs": [],
   "source": [
    "client = MongoClient()"
   ]
  },
  {
   "cell_type": "code",
   "execution_count": 3,
   "metadata": {},
   "outputs": [],
   "source": [
    "db = client.lab5"
   ]
  },
  {
   "cell_type": "code",
   "execution_count": 4,
   "metadata": {},
   "outputs": [],
   "source": [
    "col = db.posts"
   ]
  },
  {
   "cell_type": "code",
   "execution_count": 5,
   "metadata": {},
   "outputs": [
    {
     "name": "stderr",
     "output_type": "stream",
     "text": [
      "c:\\users\\ds\\pycharmprojects\\ds2\\venv\\lib\\site-packages\\ipykernel_launcher.py:1: DeprecationWarning: insert is deprecated. Use insert_one or insert_many instead.\n",
      "  \"\"\"Entry point for launching an IPython kernel.\n"
     ]
    },
    {
     "data": {
      "text/plain": [
       "ObjectId('5d66066c037dbba8fe216bd9')"
      ]
     },
     "execution_count": 5,
     "metadata": {},
     "output_type": "execute_result"
    }
   ],
   "source": [
    "col.insert({'name':'Lee', 'content':\"Hello I'm Lee\", 'tags':['hello', 'greet']})"
   ]
  },
  {
   "cell_type": "code",
   "execution_count": 6,
   "metadata": {},
   "outputs": [
    {
     "data": {
      "text/plain": [
       "[{'_id': ObjectId('5d66066c037dbba8fe216bd9'),\n",
       "  'name': 'Lee',\n",
       "  'content': \"Hello I'm Lee\",\n",
       "  'tags': ['hello', 'greet']}]"
      ]
     },
     "execution_count": 6,
     "metadata": {},
     "output_type": "execute_result"
    }
   ],
   "source": [
    "list(col.find())"
   ]
  },
  {
   "cell_type": "code",
   "execution_count": 8,
   "metadata": {},
   "outputs": [
    {
     "data": {
      "text/plain": [
       "<pymongo.results.UpdateResult at 0x731e558>"
      ]
     },
     "execution_count": 8,
     "metadata": {},
     "output_type": "execute_result"
    }
   ],
   "source": [
    "col.update_one({'name':'Lee'},{'$set':{'comments':[{'name':'Kim', 'content':'Good posts', 'like':0}]}})"
   ]
  },
  {
   "cell_type": "code",
   "execution_count": 9,
   "metadata": {},
   "outputs": [
    {
     "data": {
      "text/plain": [
       "[{'_id': ObjectId('5d66066c037dbba8fe216bd9'),\n",
       "  'name': 'Lee',\n",
       "  'content': \"Hello I'm Lee\",\n",
       "  'tags': ['hello', 'greet'],\n",
       "  'comments': [{'name': 'Kim', 'content': 'Good posts', 'like': 0}]}]"
      ]
     },
     "execution_count": 9,
     "metadata": {},
     "output_type": "execute_result"
    }
   ],
   "source": [
    "list(col.find())"
   ]
  },
  {
   "cell_type": "code",
   "execution_count": 12,
   "metadata": {},
   "outputs": [],
   "source": [
    "a= [{'name' : 'Choi', 'content' : 'How is it going?', 'like' : 1},\n",
    "{'name' : 'David', 'content' : \"I’m David, What’s up?\", 'like' : 2},\n",
    "{'name' : 'Kim', 'content' : 'Glad to hear that', 'like' : 3}]"
   ]
  },
  {
   "cell_type": "code",
   "execution_count": 16,
   "metadata": {},
   "outputs": [
    {
     "data": {
      "text/plain": [
       "<pymongo.results.UpdateResult at 0x7349648>"
      ]
     },
     "execution_count": 16,
     "metadata": {},
     "output_type": "execute_result"
    }
   ],
   "source": [
    "col.update_one({'name':\"Lee\"},{'$push':{'comments':{'$each':a}}})"
   ]
  },
  {
   "cell_type": "code",
   "execution_count": 17,
   "metadata": {},
   "outputs": [
    {
     "data": {
      "text/plain": [
       "[{'_id': ObjectId('5d66066c037dbba8fe216bd9'),\n",
       "  'name': 'Lee',\n",
       "  'content': \"Hello I'm Lee\",\n",
       "  'tags': ['hello', 'greet'],\n",
       "  'comments': [{'name': 'Kim', 'content': 'Good posts', 'like': 0},\n",
       "   {'name': 'Choi', 'content': 'How is it going?', 'like': 1},\n",
       "   {'name': 'David', 'content': 'I’m David, What’s up?', 'like': 2},\n",
       "   {'name': 'Kim', 'content': 'Glad to hear that', 'like': 3}]}]"
      ]
     },
     "execution_count": 17,
     "metadata": {},
     "output_type": "execute_result"
    }
   ],
   "source": [
    "list(col.find())"
   ]
  },
  {
   "cell_type": "code",
   "execution_count": 20,
   "metadata": {},
   "outputs": [
    {
     "data": {
      "text/plain": [
       "<pymongo.results.UpdateResult at 0x14eb968>"
      ]
     },
     "execution_count": 20,
     "metadata": {},
     "output_type": "execute_result"
    }
   ],
   "source": [
    "col.update_one({'name':'Lee'},{'$set':{'comments.1.like':2}})"
   ]
  },
  {
   "cell_type": "code",
   "execution_count": 29,
   "metadata": {},
   "outputs": [
    {
     "data": {
      "text/plain": [
       "[{'_id': ObjectId('5d66066c037dbba8fe216bd9'),\n",
       "  'name': 'Lee',\n",
       "  'content': \"Hello I'm Lee\",\n",
       "  'tags': ['hello', 'greet'],\n",
       "  'comments': [{'name': 'Kim', 'content': 'Good posts', 'like': 5},\n",
       "   {'name': 'Choi', 'content': 'How is it going?', 'like': 2},\n",
       "   {'name': 'David', 'content': 'I’m David, What’s up?', 'like': 2},\n",
       "   {'name': 'Kim', 'content': 'Glad to hear that', 'like': 3}]}]"
      ]
     },
     "execution_count": 29,
     "metadata": {},
     "output_type": "execute_result"
    }
   ],
   "source": [
    "list(col.find())"
   ]
  },
  {
   "cell_type": "code",
   "execution_count": 35,
   "metadata": {},
   "outputs": [
    {
     "data": {
      "text/plain": [
       "<pymongo.results.UpdateResult at 0x14f5170>"
      ]
     },
     "execution_count": 35,
     "metadata": {},
     "output_type": "execute_result"
    }
   ],
   "source": [
    "col.update_one({'name':'Lee', 'comments.name':'Kim'},{'$set':{'comments.$.like':5}})"
   ]
  },
  {
   "cell_type": "code",
   "execution_count": 36,
   "metadata": {},
   "outputs": [
    {
     "data": {
      "text/plain": [
       "[{'_id': ObjectId('5d66066c037dbba8fe216bd9'),\n",
       "  'name': 'Lee',\n",
       "  'content': \"Hello I'm Lee\",\n",
       "  'tags': ['hello', 'greet'],\n",
       "  'comments': [{'name': 'Kim', 'content': 'Good posts', 'like': 5},\n",
       "   {'name': 'Choi', 'content': 'How is it going?', 'like': 2},\n",
       "   {'name': 'David', 'content': 'I’m David, What’s up?', 'like': 2},\n",
       "   {'name': 'Kim', 'content': 'Glad to hear that', 'like': 3}]}]"
      ]
     },
     "execution_count": 36,
     "metadata": {},
     "output_type": "execute_result"
    }
   ],
   "source": [
    "list(col.find())"
   ]
  },
  {
   "cell_type": "code",
   "execution_count": 37,
   "metadata": {},
   "outputs": [
    {
     "data": {
      "text/plain": [
       "<pymongo.results.UpdateResult at 0x6ed7440>"
      ]
     },
     "execution_count": 37,
     "metadata": {},
     "output_type": "execute_result"
    }
   ],
   "source": [
    "col.update_one({'name':'Lee'}, {'$pop':{'comments':1}})"
   ]
  },
  {
   "cell_type": "code",
   "execution_count": 38,
   "metadata": {},
   "outputs": [
    {
     "data": {
      "text/plain": [
       "[{'_id': ObjectId('5d66066c037dbba8fe216bd9'),\n",
       "  'name': 'Lee',\n",
       "  'content': \"Hello I'm Lee\",\n",
       "  'tags': ['hello', 'greet'],\n",
       "  'comments': [{'name': 'Kim', 'content': 'Good posts', 'like': 5},\n",
       "   {'name': 'Choi', 'content': 'How is it going?', 'like': 2},\n",
       "   {'name': 'David', 'content': 'I’m David, What’s up?', 'like': 2}]}]"
      ]
     },
     "execution_count": 38,
     "metadata": {},
     "output_type": "execute_result"
    }
   ],
   "source": [
    "list(col.find())"
   ]
  },
  {
   "cell_type": "code",
   "execution_count": 42,
   "metadata": {},
   "outputs": [
    {
     "data": {
      "text/plain": [
       "<pymongo.results.UpdateResult at 0x14ebcd8>"
      ]
     },
     "execution_count": 42,
     "metadata": {},
     "output_type": "execute_result"
    }
   ],
   "source": [
    "col.update_one({'name':'Lee'},{'$pull':{'comments':{'name':'Choi'}}})"
   ]
  },
  {
   "cell_type": "code",
   "execution_count": 43,
   "metadata": {},
   "outputs": [
    {
     "data": {
      "text/plain": [
       "[{'_id': ObjectId('5d66066c037dbba8fe216bd9'),\n",
       "  'name': 'Lee',\n",
       "  'content': \"Hello I'm Lee\",\n",
       "  'tags': ['hello', 'greet'],\n",
       "  'comments': [{'name': 'Kim', 'content': 'Good posts', 'like': 5},\n",
       "   {'name': 'David', 'content': 'I’m David, What’s up?', 'like': 2}]}]"
      ]
     },
     "execution_count": 43,
     "metadata": {},
     "output_type": "execute_result"
    }
   ],
   "source": [
    "list(col.find())"
   ]
  },
  {
   "cell_type": "code",
   "execution_count": 46,
   "metadata": {},
   "outputs": [
    {
     "data": {
      "text/plain": [
       "<pymongo.results.UpdateResult at 0x1554ad0>"
      ]
     },
     "execution_count": 46,
     "metadata": {},
     "output_type": "execute_result"
    }
   ],
   "source": [
    "col.update_one({'name':'Lee'},{'$unset':{'content':1}})"
   ]
  },
  {
   "cell_type": "code",
   "execution_count": 47,
   "metadata": {},
   "outputs": [
    {
     "data": {
      "text/plain": [
       "[{'_id': ObjectId('5d66066c037dbba8fe216bd9'),\n",
       "  'name': 'Lee',\n",
       "  'tags': ['hello', 'greet'],\n",
       "  'comments': [{'name': 'Kim', 'content': 'Good posts', 'like': 5},\n",
       "   {'name': 'David', 'content': 'I’m David, What’s up?', 'like': 2}]}]"
      ]
     },
     "execution_count": 47,
     "metadata": {},
     "output_type": "execute_result"
    }
   ],
   "source": [
    "list(col.find())"
   ]
  },
  {
   "cell_type": "markdown",
   "metadata": {},
   "source": [
    "## Exercise 2"
   ]
  },
  {
   "cell_type": "code",
   "execution_count": 48,
   "metadata": {},
   "outputs": [
    {
     "name": "stderr",
     "output_type": "stream",
     "text": [
      "2019-08-28T14:59:33.714+0900\tconnected to: mongodb://localhost/\n",
      "2019-08-28T14:59:33.799+0900\t4 document(s) imported successfully. 0 document(s) failed to import.\n"
     ]
    }
   ],
   "source": [
    "!mongoimport /d lab5 /c people datasets-master/people.json"
   ]
  },
  {
   "cell_type": "code",
   "execution_count": 50,
   "metadata": {},
   "outputs": [],
   "source": [
    "db = client.lab5"
   ]
  },
  {
   "cell_type": "code",
   "execution_count": 51,
   "metadata": {},
   "outputs": [],
   "source": [
    "col = db.people"
   ]
  },
  {
   "cell_type": "code",
   "execution_count": 53,
   "metadata": {},
   "outputs": [
    {
     "data": {
      "text/plain": [
       "{'_id': ObjectId('5d6618454e321ff2c2e0ffee'),\n",
       " 'name': 'Kim',\n",
       " 'age': 18,\n",
       " 'profile': \"Hello I'm Kim\"}"
      ]
     },
     "execution_count": 53,
     "metadata": {},
     "output_type": "execute_result"
    }
   ],
   "source": [
    "col.find_one()"
   ]
  },
  {
   "cell_type": "code",
   "execution_count": 55,
   "metadata": {},
   "outputs": [
    {
     "data": {
      "text/plain": [
       "[{'_id': ObjectId('5d6618454e321ff2c2e0ffee'),\n",
       "  'name': 'Kim',\n",
       "  'age': 18,\n",
       "  'profile': \"Hello I'm Kim\"}]"
      ]
     },
     "execution_count": 55,
     "metadata": {},
     "output_type": "execute_result"
    }
   ],
   "source": [
    "list(col.find({'age':{'$lt':22}}))"
   ]
  },
  {
   "cell_type": "code",
   "execution_count": 56,
   "metadata": {},
   "outputs": [
    {
     "data": {
      "text/plain": [
       "[{'_id': ObjectId('5d6618454e321ff2c2e0ffef'),\n",
       "  'name': 'Park',\n",
       "  'age': 26,\n",
       "  'profile': \"Hello I'm Park\"},\n",
       " {'_id': ObjectId('5d6618454e321ff2c2e0fff0'),\n",
       "  'name': 'Lee',\n",
       "  'age': 22,\n",
       "  'profile': \"Hello I'm Lee\"},\n",
       " {'_id': ObjectId('5d6618454e321ff2c2e0fff1'),\n",
       "  'name': 'Jung',\n",
       "  'age': 22,\n",
       "  'profile': \"Hello I'm Jung\"}]"
      ]
     },
     "execution_count": 56,
     "metadata": {},
     "output_type": "execute_result"
    }
   ],
   "source": [
    "list(col.find({'age':{'$gte':22, '$lte':26}}))"
   ]
  },
  {
   "cell_type": "code",
   "execution_count": 58,
   "metadata": {},
   "outputs": [
    {
     "data": {
      "text/plain": [
       "[{'_id': ObjectId('5d6618454e321ff2c2e0fff0'), 'name': 'Lee', 'age': 22}]"
      ]
     },
     "execution_count": 58,
     "metadata": {},
     "output_type": "execute_result"
    }
   ],
   "source": [
    "list(col.find({'name':'Lee'},{'profile':0}))"
   ]
  },
  {
   "cell_type": "code",
   "execution_count": 61,
   "metadata": {},
   "outputs": [
    {
     "data": {
      "text/plain": [
       "[{'_id': ObjectId('5d6618454e321ff2c2e0ffee'),\n",
       "  'name': 'Kim',\n",
       "  'age': 18,\n",
       "  'profile': \"Hello I'm Kim\"},\n",
       " {'_id': ObjectId('5d6618454e321ff2c2e0ffef'),\n",
       "  'name': 'Park',\n",
       "  'age': 26,\n",
       "  'profile': \"Hello I'm Park\"},\n",
       " {'_id': ObjectId('5d6618454e321ff2c2e0fff1'),\n",
       "  'name': 'Jung',\n",
       "  'age': 22,\n",
       "  'profile': \"Hello I'm Jung\"}]"
      ]
     },
     "execution_count": 61,
     "metadata": {},
     "output_type": "execute_result"
    }
   ],
   "source": [
    "list(col.find({'name':{'$ne':'Lee'}}))"
   ]
  },
  {
   "cell_type": "code",
   "execution_count": 66,
   "metadata": {},
   "outputs": [
    {
     "data": {
      "text/plain": [
       "[{'_id': ObjectId('5d6618454e321ff2c2e0ffef'),\n",
       "  'name': 'Park',\n",
       "  'age': 26,\n",
       "  'profile': \"Hello I'm Park\"},\n",
       " {'_id': ObjectId('5d6618454e321ff2c2e0fff0'),\n",
       "  'name': 'Lee',\n",
       "  'age': 22,\n",
       "  'profile': \"Hello I'm Lee\"}]"
      ]
     },
     "execution_count": 66,
     "metadata": {},
     "output_type": "execute_result"
    }
   ],
   "source": [
    "list(col.find({'$or':[{'name':'Lee'},{'name':'Park'}]}))"
   ]
  },
  {
   "cell_type": "code",
   "execution_count": 68,
   "metadata": {},
   "outputs": [
    {
     "data": {
      "text/plain": [
       "[{'_id': ObjectId('5d6618454e321ff2c2e0fff1'),\n",
       "  'name': 'Jung',\n",
       "  'age': 22,\n",
       "  'profile': \"Hello I'm Jung\"}]"
      ]
     },
     "execution_count": 68,
     "metadata": {},
     "output_type": "execute_result"
    }
   ],
   "source": [
    "list(col.find({'$and':[{'name':{'$ne':'Kim'}}, {'name':{'$ne':'Park'}}, {'name':{'$ne':'Lee'}}]}))"
   ]
  },
  {
   "cell_type": "code",
   "execution_count": 69,
   "metadata": {},
   "outputs": [
    {
     "data": {
      "text/plain": [
       "[{'_id': ObjectId('5d6618454e321ff2c2e0fff1'),\n",
       "  'name': 'Jung',\n",
       "  'age': 22,\n",
       "  'profile': \"Hello I'm Jung\"}]"
      ]
     },
     "execution_count": 69,
     "metadata": {},
     "output_type": "execute_result"
    }
   ],
   "source": [
    "list(col.find({'name':{'$nin':['Kim','Park', 'Lee']}}))"
   ]
  },
  {
   "cell_type": "markdown",
   "metadata": {},
   "source": [
    "## Exercise 3"
   ]
  },
  {
   "cell_type": "code",
   "execution_count": 70,
   "metadata": {},
   "outputs": [
    {
     "name": "stderr",
     "output_type": "stream",
     "text": [
      "2019-08-28T15:29:04.413+0900\tconnected to: mongodb://localhost/\n",
      "2019-08-28T15:29:04.504+0900\t4 document(s) imported successfully. 0 document(s) failed to import.\n"
     ]
    }
   ],
   "source": [
    "!mongoimport /d lab5 /c inventory datasets-master/inventory.json"
   ]
  },
  {
   "cell_type": "code",
   "execution_count": 72,
   "metadata": {},
   "outputs": [],
   "source": [
    "db = client.lab5"
   ]
  },
  {
   "cell_type": "code",
   "execution_count": 73,
   "metadata": {},
   "outputs": [],
   "source": [
    "col = db.inventory"
   ]
  },
  {
   "cell_type": "code",
   "execution_count": 74,
   "metadata": {},
   "outputs": [
    {
     "data": {
      "text/plain": [
       "{'_id': 7,\n",
       " 'code': 'efg',\n",
       " 'tags': ['school', 'book'],\n",
       " 'qty': [{'size': 'S', 'num': 10, 'color': 'blue'},\n",
       "  {'size': 'M', 'num': 100, 'color': 'blue'},\n",
       "  {'size': 'L', 'num': 100, 'color': 'green'}]}"
      ]
     },
     "execution_count": 74,
     "metadata": {},
     "output_type": "execute_result"
    }
   ],
   "source": [
    "col.find_one()"
   ]
  },
  {
   "cell_type": "code",
   "execution_count": 76,
   "metadata": {},
   "outputs": [
    {
     "data": {
      "text/plain": [
       "[{'_id': 6,\n",
       "  'code': 'abc',\n",
       "  'tags': ['appliance', 'school', 'book'],\n",
       "  'qty': [{'size': '6', 'num': 100, 'color': 'green'},\n",
       "   {'size': '6', 'num': 50, 'color': 'blue'},\n",
       "   {'size': '8', 'num': 100, 'color': 'brown'}]},\n",
       " {'_id': 5,\n",
       "  'code': 'xyz',\n",
       "  'tags': ['school', 'book', 'bag', 'headphone', 'appliance'],\n",
       "  'qty': [{'size': 'S', 'num': 10, 'color': 'blue'},\n",
       "   {'size': 'M', 'num': 45, 'color': 'blue'},\n",
       "   {'size': 'L', 'num': 100, 'color': 'green'}]}]"
      ]
     },
     "execution_count": 76,
     "metadata": {},
     "output_type": "execute_result"
    }
   ],
   "source": [
    "list(col.find({'tags':{'$all':['appliance', 'school', 'book']}}))"
   ]
  },
  {
   "cell_type": "code",
   "execution_count": 77,
   "metadata": {},
   "outputs": [
    {
     "data": {
      "text/plain": [
       "[{'_id': 7,\n",
       "  'code': 'efg',\n",
       "  'tags': ['school', 'book'],\n",
       "  'qty': [{'size': 'S', 'num': 10, 'color': 'blue'},\n",
       "   {'size': 'M', 'num': 100, 'color': 'blue'},\n",
       "   {'size': 'L', 'num': 100, 'color': 'green'}]},\n",
       " {'_id': 8,\n",
       "  'code': 'ijk',\n",
       "  'tags': ['electronics', 'school'],\n",
       "  'qty': [{'size': 'M', 'num': 100, 'color': 'green'}]},\n",
       " {'_id': 6,\n",
       "  'code': 'abc',\n",
       "  'tags': ['appliance', 'school', 'book'],\n",
       "  'qty': [{'size': '6', 'num': 100, 'color': 'green'},\n",
       "   {'size': '6', 'num': 50, 'color': 'blue'},\n",
       "   {'size': '8', 'num': 100, 'color': 'brown'}]},\n",
       " {'_id': 5,\n",
       "  'code': 'xyz',\n",
       "  'tags': ['school', 'book', 'bag'],\n",
       "  'qty': [{'size': 'S', 'num': 10, 'color': 'blue'},\n",
       "   {'size': 'M', 'num': 45, 'color': 'blue'},\n",
       "   {'size': 'L', 'num': 100, 'color': 'green'}]}]"
      ]
     },
     "execution_count": 77,
     "metadata": {},
     "output_type": "execute_result"
    }
   ],
   "source": [
    "list(col.find({},{'tags':{'$slice':3}}))"
   ]
  },
  {
   "cell_type": "code",
   "execution_count": 78,
   "metadata": {},
   "outputs": [
    {
     "data": {
      "text/plain": [
       "[{'_id': 7,\n",
       "  'code': 'efg',\n",
       "  'tags': ['book'],\n",
       "  'qty': [{'size': 'S', 'num': 10, 'color': 'blue'},\n",
       "   {'size': 'M', 'num': 100, 'color': 'blue'},\n",
       "   {'size': 'L', 'num': 100, 'color': 'green'}]},\n",
       " {'_id': 8,\n",
       "  'code': 'ijk',\n",
       "  'tags': ['school'],\n",
       "  'qty': [{'size': 'M', 'num': 100, 'color': 'green'}]},\n",
       " {'_id': 6,\n",
       "  'code': 'abc',\n",
       "  'tags': ['school', 'book'],\n",
       "  'qty': [{'size': '6', 'num': 100, 'color': 'green'},\n",
       "   {'size': '6', 'num': 50, 'color': 'blue'},\n",
       "   {'size': '8', 'num': 100, 'color': 'brown'}]},\n",
       " {'_id': 5,\n",
       "  'code': 'xyz',\n",
       "  'tags': ['book', 'bag', 'headphone'],\n",
       "  'qty': [{'size': 'S', 'num': 10, 'color': 'blue'},\n",
       "   {'size': 'M', 'num': 45, 'color': 'blue'},\n",
       "   {'size': 'L', 'num': 100, 'color': 'green'}]}]"
      ]
     },
     "execution_count": 78,
     "metadata": {},
     "output_type": "execute_result"
    }
   ],
   "source": [
    "list(col.find({},{'tags':{'$slice':[1,3]}}))"
   ]
  },
  {
   "cell_type": "markdown",
   "metadata": {},
   "source": [
    "## Exercise 4"
   ]
  },
  {
   "cell_type": "code",
   "execution_count": 79,
   "metadata": {},
   "outputs": [
    {
     "name": "stderr",
     "output_type": "stream",
     "text": [
      "2019-08-28T16:08:04.051+0900\tconnected to: mongodb://localhost/\n",
      "2019-08-28T16:08:04.138+0900\t5 document(s) imported successfully. 0 document(s) failed to import.\n"
     ]
    }
   ],
   "source": [
    "!mongoimport /d lab5 /c store datasets-master/store.json"
   ]
  },
  {
   "cell_type": "code",
   "execution_count": 80,
   "metadata": {},
   "outputs": [
    {
     "data": {
      "text/plain": [
       "{'_id': ObjectId('5d6628540b979e744b0642ef'),\n",
       " 'buyer': {'name': 'J.S. Lee', 'method': 'credit'},\n",
       " 'items': [{'name': 'Apple Watch Series 4',\n",
       "   'attribute': {'type': 'Silver Aluminum Case with White Sport Band',\n",
       "    'size': '44mm',\n",
       "    'connectivity': 'GPS + Cellular',\n",
       "    'carrier': 'T Mobile'},\n",
       "   'price': 529}]}"
      ]
     },
     "execution_count": 80,
     "metadata": {},
     "output_type": "execute_result"
    }
   ],
   "source": [
    "db = client.lab5\n",
    "col = db.store\n",
    "col.find_one()"
   ]
  },
  {
   "cell_type": "code",
   "execution_count": 82,
   "metadata": {},
   "outputs": [
    {
     "data": {
      "text/plain": [
       "[{'_id': ObjectId('5d6628540b979e744b0642ef'),\n",
       "  'buyer': {'name': 'J.S. Lee', 'method': 'credit'},\n",
       "  'items': [{'name': 'Apple Watch Series 4',\n",
       "    'attribute': {'type': 'Silver Aluminum Case with White Sport Band',\n",
       "     'size': '44mm',\n",
       "     'connectivity': 'GPS + Cellular',\n",
       "     'carrier': 'T Mobile'},\n",
       "    'price': 529}]}]"
      ]
     },
     "execution_count": 82,
     "metadata": {},
     "output_type": "execute_result"
    }
   ],
   "source": [
    "list(col.find({'buyer.name':'J.S. Lee'}))"
   ]
  },
  {
   "cell_type": "code",
   "execution_count": 83,
   "metadata": {},
   "outputs": [
    {
     "data": {
      "text/plain": [
       "[{'_id': ObjectId('5d6628540b979e744b0642f0'),\n",
       "  'buyer': {'name': 'S.J. Kim', 'method': 'cash'},\n",
       "  'items': [{'name': 'Apple Watch Series 4',\n",
       "    'attribute': {'type': 'Silver Aluminum Case with White Sport Band',\n",
       "     'size': '40mm',\n",
       "     'connectivity': 'GPS'},\n",
       "    'price': 399},\n",
       "   {'name': 'iPhone Xs',\n",
       "    'attribute': {'type': 'Space Gray', 'capacity': '64GB', 'carrier': 'AT&T'},\n",
       "    'price': 999}]},\n",
       " {'_id': ObjectId('5d6628540b979e744b0642f1'),\n",
       "  'buyer': {'name': 'M.K. Koo', 'method': 'credit'},\n",
       "  'items': [{'name': 'Apple Watch Series 4',\n",
       "    'attribute': {'type': 'Silver Aluminum Case with White Sport Band',\n",
       "     'size': '44mm',\n",
       "     'connectivity': 'GPS + Cellular',\n",
       "     'carrier': 'Sprint'},\n",
       "    'price': 529},\n",
       "   {'name': 'iPhone Xs',\n",
       "    'attribute': {'type': 'Space Gray', 'capacity': '256GB'},\n",
       "    'price': 1149}]}]"
      ]
     },
     "execution_count": 83,
     "metadata": {},
     "output_type": "execute_result"
    }
   ],
   "source": [
    "list(col.find({'items.name':'iPhone Xs'}))"
   ]
  },
  {
   "cell_type": "code",
   "execution_count": 87,
   "metadata": {},
   "outputs": [
    {
     "data": {
      "text/plain": [
       "[{'buyer': {'method': 'cash'}}]"
      ]
     },
     "execution_count": 87,
     "metadata": {},
     "output_type": "execute_result"
    }
   ],
   "source": [
    "list(col.find({'items.price':{'$gt':2000}},{'buyer.method':1, '_id':0}))"
   ]
  },
  {
   "cell_type": "code",
   "execution_count": 101,
   "metadata": {},
   "outputs": [
    {
     "data": {
      "text/plain": [
       "[{'_id': ObjectId('5d6628540b979e744b0642f0'),\n",
       "  'buyer': {'name': 'S.J. Kim', 'method': 'cash'},\n",
       "  'items': [{'name': 'Apple Watch Series 4',\n",
       "    'attribute': {'type': 'Silver Aluminum Case with White Sport Band',\n",
       "     'size': '40mm',\n",
       "     'connectivity': 'GPS'},\n",
       "    'price': 399},\n",
       "   {'name': 'iPhone Xs',\n",
       "    'attribute': {'type': 'Space Gray', 'capacity': '64GB', 'carrier': 'AT&T'},\n",
       "    'price': 999}]}]"
      ]
     },
     "execution_count": 101,
     "metadata": {},
     "output_type": "execute_result"
    }
   ],
   "source": [
    "list(col.find({'items':{'$elemMatch':{'name':'Apple Watch Series 4', 'attribute.carrier':{'$exists':False}}}}))"
   ]
  },
  {
   "cell_type": "code",
   "execution_count": 100,
   "metadata": {},
   "outputs": [
    {
     "data": {
      "text/plain": [
       "[{'buyer': {'name': 'J.S. Lee', 'method': 'credit'}},\n",
       " {'buyer': {'name': 'S.J. Kim', 'method': 'cash'}},\n",
       " {'buyer': {'name': 'M.K. Koo', 'method': 'credit'}}]"
      ]
     },
     "execution_count": 100,
     "metadata": {},
     "output_type": "execute_result"
    }
   ],
   "source": [
    "list(col.find({},{'buyer':1, '_id':0}).limit(3))"
   ]
  },
  {
   "cell_type": "code",
   "execution_count": 98,
   "metadata": {},
   "outputs": [
    {
     "data": {
      "text/plain": [
       "{'_id': ObjectId('5d6628540b979e744b0642ef'),\n",
       " 'buyer': {'name': 'J.S. Lee', 'method': 'credit'},\n",
       " 'items': [{'name': 'Apple Watch Series 4',\n",
       "   'attribute': {'type': 'Silver Aluminum Case with White Sport Band',\n",
       "    'size': '44mm',\n",
       "    'connectivity': 'GPS + Cellular',\n",
       "    'carrier': 'T Mobile'},\n",
       "   'price': 529}]}"
      ]
     },
     "execution_count": 98,
     "metadata": {},
     "output_type": "execute_result"
    }
   ],
   "source": [
    "col.find_one()"
   ]
  },
  {
   "cell_type": "code",
   "execution_count": null,
   "metadata": {},
   "outputs": [],
   "source": []
  }
 ],
 "metadata": {
  "kernelspec": {
   "display_name": "Python 3",
   "language": "python",
   "name": "python3"
  },
  "language_info": {
   "codemirror_mode": {
    "name": "ipython",
    "version": 3
   },
   "file_extension": ".py",
   "mimetype": "text/x-python",
   "name": "python",
   "nbconvert_exporter": "python",
   "pygments_lexer": "ipython3",
   "version": "3.7.3"
  }
 },
 "nbformat": 4,
 "nbformat_minor": 2
}
