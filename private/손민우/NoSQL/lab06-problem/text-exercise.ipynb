{
 "cells": [
  {
   "cell_type": "code",
   "execution_count": 1,
   "metadata": {},
   "outputs": [],
   "source": [
    "from pymongo import MongoClient, TEXT, GEOSPHERE\n",
    "from pprint import pprint\n",
    "\n",
    "client = MongoClient()\n",
    "db = client.geo\n",
    "restaurants = db.restaurants\n",
    "states = db.states"
   ]
  },
  {
   "cell_type": "code",
   "execution_count": 2,
   "metadata": {},
   "outputs": [
    {
     "data": {
      "text/plain": [
       "'name_text'"
      ]
     },
     "execution_count": 2,
     "metadata": {},
     "output_type": "execute_result"
    }
   ],
   "source": [
    "# create text index\n",
    "restaurants.create_index([('name', TEXT)])"
   ]
  },
  {
   "cell_type": "markdown",
   "metadata": {},
   "source": [
    "# Exercise 3-1"
   ]
  },
  {
   "cell_type": "code",
   "execution_count": 3,
   "metadata": {
    "scrolled": false
   },
   "outputs": [
    {
     "name": "stdout",
     "output_type": "stream",
     "text": [
      "zipcode: 11231, address: Smith Street 478\n",
      "zipcode: 11238, address: Washington Avenue 766\n",
      "zipcode: 10036, address: West 48 Street 18-20\n"
     ]
    }
   ],
   "source": [
    "# TODO : find restaurants whose name include \"Kimchi\"\n",
    "#       use text index\n",
    "result = restaurants.find({'$text':{'$search':'Kimchi'}})\n",
    "\n",
    "for item in result:\n",
    "    print('zipcode: {}, address: {} {}'.format(\n",
    "        item['address']['zipcode'], item['address']['street'], item['address']['building'])\n",
    "    )"
   ]
  },
  {
   "cell_type": "markdown",
   "metadata": {},
   "source": [
    "# Exercise 3-2"
   ]
  },
  {
   "cell_type": "code",
   "execution_count": 14,
   "metadata": {},
   "outputs": [
    {
     "ename": "TypeError",
     "evalue": "'NoneType' object is not subscriptable",
     "output_type": "error",
     "traceback": [
      "\u001b[1;31m---------------------------------------------------------------------------\u001b[0m",
      "\u001b[1;31mTypeError\u001b[0m                                 Traceback (most recent call last)",
      "\u001b[1;32m<ipython-input-14-ce0ec38feeda>\u001b[0m in \u001b[0;36m<module>\u001b[1;34m\u001b[0m\n\u001b[0;32m      7\u001b[0m     'loc': {\n\u001b[0;32m      8\u001b[0m         '$geoIntersects': {\n\u001b[1;32m----> 9\u001b[1;33m             '$geometry': nolbu_coord['address']['coord']}}})['name']\n\u001b[0m\u001b[0;32m     10\u001b[0m \u001b[1;33m\u001b[0m\u001b[0m\n\u001b[0;32m     11\u001b[0m \u001b[0mprint\u001b[0m\u001b[1;33m(\u001b[0m\u001b[1;34m'--- nolbu ---'\u001b[0m\u001b[1;33m)\u001b[0m\u001b[1;33m\u001b[0m\u001b[1;33m\u001b[0m\u001b[0m\n",
      "\u001b[1;31mTypeError\u001b[0m: 'NoneType' object is not subscriptable"
     ]
    }
   ],
   "source": [
    "# TODO : find restaurants whose name include \"Nolbu Restaurant\" \n",
    "#       use text index\n",
    "nolbu_coord = restaurants.find_one({'$text':{'$search':\"Nolbu\"}})\n",
    "\n",
    "# find the state which has nolbu restaurant\n",
    "name = states.find_one({\n",
    "    'loc': {\n",
    "        '$geoIntersects': {\n",
    "            '$geometry': nolbu_coord['address']['coord']}}})['name']\n",
    "\n",
    "print('--- nolbu ---')\n",
    "pprint(nolbu_coord)\n",
    "\n",
    "print('--- result ---')\n",
    "print(name)"
   ]
  },
  {
   "cell_type": "markdown",
   "metadata": {},
   "source": [
    "# Exercise 3-3"
   ]
  },
  {
   "cell_type": "code",
   "execution_count": 16,
   "metadata": {},
   "outputs": [
    {
     "name": "stdout",
     "output_type": "stream",
     "text": [
      "--- ramen ---\n",
      "{'_id': ObjectId('5d6c83705aaadf7838a8d4c7'),\n",
      " 'address': {'building': '1574',\n",
      "             'coord': [-73.9535392, 40.7750381],\n",
      "             'street': '2 Avenue',\n",
      "             'zipcode': '10028'},\n",
      " 'borough': 'Manhattan',\n",
      " 'cuisine': 'Other',\n",
      " 'grades': [],\n",
      " 'name': 'Ramen Meijin ',\n",
      " 'restaurant_id': '50014784'}\n",
      "--- near ---\n",
      "[{'_id': ObjectId('5d6c83705aaadf7838a8b6dc'),\n",
      "  'address': {'building': '1567',\n",
      "              'coord': [-73.9541551, 40.7749987],\n",
      "              'street': '2Nd Ave',\n",
      "              'zipcode': '10028'},\n",
      "  'borough': 'Manhattan',\n",
      "  'cuisine': 'Japanese',\n",
      "  'grades': [{'date': datetime.datetime(2014, 3, 24, 0, 0),\n",
      "              'grade': 'A',\n",
      "              'score': 10},\n",
      "             {'date': datetime.datetime(2013, 10, 16, 0, 0),\n",
      "              'grade': 'A',\n",
      "              'score': 13},\n",
      "             {'date': datetime.datetime(2013, 4, 9, 0, 0),\n",
      "              'grade': 'A',\n",
      "              'score': 12},\n",
      "             {'date': datetime.datetime(2012, 8, 20, 0, 0),\n",
      "              'grade': 'A',\n",
      "              'score': 10}],\n",
      "  'name': 'Amura Japanese Restaurant',\n",
      "  'restaurant_id': '41661008'},\n",
      " {'_id': ObjectId('5d6c836f5aaadf7838a89b31'),\n",
      "  'address': {'building': '1557',\n",
      "              'coord': [-73.9544587, 40.77461419999999],\n",
      "              'street': '2 Avenue',\n",
      "              'zipcode': '10028'},\n",
      "  'borough': 'Manhattan',\n",
      "  'cuisine': 'Japanese',\n",
      "  'grades': [{'date': datetime.datetime(2014, 11, 15, 0, 0),\n",
      "              'grade': 'B',\n",
      "              'score': 19},\n",
      "             {'date': datetime.datetime(2014, 4, 24, 0, 0),\n",
      "              'grade': 'A',\n",
      "              'score': 12},\n",
      "             {'date': datetime.datetime(2012, 11, 14, 0, 0),\n",
      "              'grade': 'A',\n",
      "              'score': 13},\n",
      "             {'date': datetime.datetime(2012, 4, 4, 0, 0),\n",
      "              'grade': 'A',\n",
      "              'score': 10}],\n",
      "  'name': 'Yuka Japanese Restaurant',\n",
      "  'restaurant_id': '41367958'}]\n"
     ]
    }
   ],
   "source": [
    "#restaurants.create_index([('address.coord', GEOSPHERE)])\n",
    "\n",
    "# TODO : among the korean restaurants, find a restaurant\n",
    "#       which has \"Ramen\" but not \"Izakaya\" in its name.\n",
    "#       use text index\n",
    "r_obj = restaurants.find_one({'$text':{'$search':'Ramen -izakaya'}})\n",
    "\n",
    "# make geo object with r_obj (type : Point)\n",
    "geo_obj = {\n",
    "    'type': 'Point',\n",
    "    'coordinates': r_obj['address']['coord']\n",
    "}\n",
    "\n",
    "# find a Japanese restaurant near r_obj in 150m\n",
    "#        use $near and $ne\n",
    "result = restaurants.find({\n",
    "    'cuisine': 'Japanese',\n",
    "    'address.coord': {\n",
    "        '$near': {\n",
    "            '$geometry': geo_obj,\n",
    "            '$maxDistance': 150\n",
    "        }\n",
    "    },\n",
    "    'name': {\n",
    "        '$ne':  r_obj['name']\n",
    "    }\n",
    "})\n",
    "\n",
    "print('--- ramen ---')\n",
    "pprint(r_obj)\n",
    "print('--- near ---')\n",
    "pprint(list(result))"
   ]
  },
  {
   "cell_type": "code",
   "execution_count": 7,
   "metadata": {},
   "outputs": [],
   "source": [
    "client.close()"
   ]
  }
 ],
 "metadata": {
  "kernelspec": {
   "display_name": "Python 3",
   "language": "python",
   "name": "python3"
  },
  "language_info": {
   "codemirror_mode": {
    "name": "ipython",
    "version": 3
   },
   "file_extension": ".py",
   "mimetype": "text/x-python",
   "name": "python",
   "nbconvert_exporter": "python",
   "pygments_lexer": "ipython3",
   "version": "3.7.3"
  }
 },
 "nbformat": 4,
 "nbformat_minor": 2
}
