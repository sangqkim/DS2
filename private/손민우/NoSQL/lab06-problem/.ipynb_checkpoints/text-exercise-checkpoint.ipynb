{
 "cells": [
  {
   "cell_type": "code",
   "execution_count": 1,
   "metadata": {},
   "outputs": [],
   "source": [
    "from pymongo import MongoClient, TEXT, GEOSPHERE\n",
    "from pprint import pprint\n",
    "\n",
    "client = MongoClient()\n",
    "db = client.geo\n",
    "restaurants = db.restaurants\n",
    "states = db.states"
   ]
  },
  {
   "cell_type": "code",
   "execution_count": 2,
   "metadata": {},
   "outputs": [
    {
     "data": {
      "text/plain": [
       "'name_text'"
      ]
     },
     "execution_count": 2,
     "metadata": {},
     "output_type": "execute_result"
    }
   ],
   "source": [
    "# create text index\n",
    "restaurants.create_index([('name', TEXT)])"
   ]
  },
  {
   "cell_type": "markdown",
   "metadata": {},
   "source": [
    "# Exercise 3-1"
   ]
  },
  {
   "cell_type": "code",
   "execution_count": 3,
   "metadata": {
    "scrolled": false
   },
   "outputs": [
    {
     "name": "stdout",
     "output_type": "stream",
     "text": [
      "zipcode: 11231, address: Smith Street 478\n",
      "zipcode: 11238, address: Washington Avenue 766\n",
      "zipcode: 10036, address: West 48 Street 18-20\n"
     ]
    }
   ],
   "source": [
    "# TODO : find restaurants whose name include \"Kimchi\"\n",
    "#       use text index\n",
    "result = restaurants.find({'$text':{'$search':'Kimchi'}})\n",
    "\n",
    "for item in result:\n",
    "    print('zipcode: {}, address: {} {}'.format(\n",
    "        item['address']['zipcode'], item['address']['street'], item['address']['building'])\n",
    "    )"
   ]
  },
  {
   "cell_type": "markdown",
   "metadata": {},
   "source": [
    "# Exercise 3-2"
   ]
  },
  {
   "cell_type": "code",
   "execution_count": 5,
   "metadata": {},
   "outputs": [
    {
     "name": "stdout",
     "output_type": "stream",
     "text": [
      "--- nolbu ---\n",
      "{'address': {'building': '164-25',\n",
      "             'coord': [-73.8013625, 40.7605922],\n",
      "             'street': 'Northern Boulevard',\n",
      "             'zipcode': '11358'}}\n",
      "--- result ---\n",
      "New York\n"
     ]
    }
   ],
   "source": [
    "# TODO : find restaurants whose name include \"Nolbu Restaurant\" \n",
    "#       use text index\n",
    "nolbu_coord = restaurants.find_one(...)\n",
    "\n",
    "# find the state which has nolbu restaurant\n",
    "name = states.find_one({\n",
    "    'loc': {\n",
    "        '$geoIntersects': {\n",
    "            '$geometry': nolbu_coord['address']['coord']}}})['name']\n",
    "\n",
    "print('--- nolbu ---')\n",
    "pprint(nolbu_coord)\n",
    "\n",
    "print('--- result ---')\n",
    "print(name)"
   ]
  },
  {
   "cell_type": "markdown",
   "metadata": {},
   "source": [
    "# Exercise 3-3"
   ]
  },
  {
   "cell_type": "code",
   "execution_count": 6,
   "metadata": {},
   "outputs": [
    {
     "name": "stdout",
     "output_type": "stream",
     "text": [
      "--- ramen ---\n",
      "{'_id': ObjectId('5c8626739f44c9f676802de4'),\n",
      " 'address': {'building': '95',\n",
      "             'coord': [-73.9923524, 40.7238111],\n",
      "             'street': 'East Houston Street',\n",
      "             'zipcode': '10002'},\n",
      " 'borough': 'Manhattan',\n",
      " 'cuisine': 'Korean',\n",
      " 'grades': [{'date': datetime.datetime(2014, 4, 28, 0, 0),\n",
      "             'grade': 'A',\n",
      "             'score': 12}],\n",
      " 'name': 'Yuji Ramen',\n",
      " 'restaurant_id': '50008658'}\n",
      "--- near ---\n",
      "[{'_id': ObjectId('5c8626739f44c9f6768035da'),\n",
      "  'address': {'building': '8',\n",
      "              'coord': [-73.9916305, 40.7247106],\n",
      "              'street': 'Extra Pl',\n",
      "              'zipcode': '10003'},\n",
      "  'borough': 'Manhattan',\n",
      "  'cuisine': 'Japanese',\n",
      "  'grades': [{'date': datetime.datetime(2015, 1, 20, 0, 0),\n",
      "              'grade': 'Not Yet Graded',\n",
      "              'score': 21}],\n",
      "  'name': 'Ko Ep, Llc',\n",
      "  'restaurant_id': '50015854'}]\n"
     ]
    }
   ],
   "source": [
    "#restaurants.create_index([('address.coord', GEOSPHERE)])\n",
    "\n",
    "# TODO : among the korean restaurants, find a restaurant\n",
    "#       which has \"Ramen\" but not \"Izakaya\" in its name.\n",
    "#       use text index\n",
    "r_obj = restaurants.find_one(...)\n",
    "\n",
    "# make geo object with r_obj (type : Point)\n",
    "geo_obj = {\n",
    "    'type': 'Point',\n",
    "    'coordinates': r_obj['address']['coord']\n",
    "}\n",
    "\n",
    "# find a Japanese restaurant near r_obj in 150m\n",
    "#        use $near and $ne\n",
    "result = restaurants.find({\n",
    "    'cuisine': 'Japanese',\n",
    "    'address.coord': {\n",
    "        '$near': {\n",
    "            '$geometry': geo_obj,\n",
    "            '$maxDistance': 150\n",
    "        }\n",
    "    },\n",
    "    'name': {\n",
    "        '$ne':  r_obj['name']\n",
    "    }\n",
    "})\n",
    "\n",
    "print('--- ramen ---')\n",
    "pprint(r_obj)\n",
    "print('--- near ---')\n",
    "pprint(list(result))"
   ]
  },
  {
   "cell_type": "code",
   "execution_count": 7,
   "metadata": {},
   "outputs": [],
   "source": [
    "client.close()"
   ]
  }
 ],
 "metadata": {
  "kernelspec": {
   "display_name": "Python 3",
   "language": "python",
   "name": "python3"
  },
  "language_info": {
   "codemirror_mode": {
    "name": "ipython",
    "version": 3
   },
   "file_extension": ".py",
   "mimetype": "text/x-python",
   "name": "python",
   "nbconvert_exporter": "python",
   "pygments_lexer": "ipython3",
   "version": "3.7.3"
  }
 },
 "nbformat": 4,
 "nbformat_minor": 2
}
