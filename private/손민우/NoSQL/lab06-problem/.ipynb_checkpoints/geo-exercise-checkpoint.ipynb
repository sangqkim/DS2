{
 "cells": [
  {
   "cell_type": "code",
   "execution_count": 2,
   "metadata": {},
   "outputs": [],
   "source": [
    "from pymongo import MongoClient, GEOSPHERE\n",
    "from pprint import pprint\n",
    "\n",
    "client = MongoClient()\n",
    "db = client.geo\n",
    "states = db.states\n",
    "airports = db.airports\n",
    "restaurants = db.restaurants\n",
    "zips=db.small_zips"
   ]
  },
  {
   "cell_type": "markdown",
   "metadata": {},
   "source": [
    "# Exercise 1"
   ]
  },
  {
   "cell_type": "code",
   "execution_count": null,
   "metadata": {},
   "outputs": [],
   "source": [
    "# create 2dsphere index\n",
    "restaurants.create_index([(\"address.coord\", GEOSPHERE)])"
   ]
  },
  {
   "cell_type": "code",
   "execution_count": 4,
   "metadata": {
    "scrolled": false
   },
   "outputs": [
    {
     "name": "stdout",
     "output_type": "stream",
     "text": [
      "[{'_id': ObjectId('5c8626729f44c9f6767fe0af'),\n",
      "  'address': {'building': '0',\n",
      "              'coord': [-73.7822056, 40.6434612],\n",
      "              'street': 'Jfk International Airpor',\n",
      "              'zipcode': '11430'},\n",
      "  'borough': 'Queens',\n",
      "  'cuisine': 'Korean',\n",
      "  'grades': [{'date': datetime.datetime(2014, 6, 18, 0, 0),\n",
      "              'grade': 'A',\n",
      "              'score': 2},\n",
      "             {'date': datetime.datetime(2014, 1, 14, 0, 0),\n",
      "              'grade': 'A',\n",
      "              'score': 12},\n",
      "             {'date': datetime.datetime(2013, 1, 4, 0, 0),\n",
      "              'grade': 'A',\n",
      "              'score': 11},\n",
      "             {'date': datetime.datetime(2012, 4, 25, 0, 0),\n",
      "              'grade': 'A',\n",
      "              'score': 13}],\n",
      "  'name': 'Korean Lounge',\n",
      "  'restaurant_id': '40625198'}]\n"
     ]
    }
   ],
   "source": [
    "# find international airports\n",
    "area = airports.find({\"type\":\"International\"})\n",
    "\n",
    "# TODO : find korean restaurants which are located \n",
    "#       at less 2km from international airports ($near)\n",
    "for airport in area:\n",
    "    cur = restaurants.find(...)\n",
    "    li = list(cur)\n",
    "    if(len(li)>0):\n",
    "        pprint(li)"
   ]
  },
  {
   "cell_type": "markdown",
   "metadata": {},
   "source": [
    "# Exercise 2"
   ]
  },
  {
   "cell_type": "code",
   "execution_count": 5,
   "metadata": {
    "collapsed": true
   },
   "outputs": [
    {
     "name": "stdout",
     "output_type": "stream",
     "text": [
      "{'_id': ObjectId('5c8626729f44c9f6767fd637'),\n",
      " 'code': 'LAX',\n",
      " 'loc': {'coordinates': [-118.408084, 33.942537], 'type': 'Point'},\n",
      " 'name': 'Los Angeles Intl',\n",
      " 'type': 'International'}\n",
      "{'_id': ObjectId('5c8626729f44c9f6767fd564'),\n",
      " 'code': 'DTW',\n",
      " 'loc': {'coordinates': [-83.348836, 42.212052], 'type': 'Point'},\n",
      " 'name': 'Detroit Metropolitan - Wayne County',\n",
      " 'type': 'International'}\n"
     ]
    }
   ],
   "source": [
    "# find the two coordinates (LAX, DTW)\n",
    "lax = airports.find_one({'code': 'LAX'})\n",
    "dtw = airports.find_one({'code': 'LAX'})\n",
    "\n",
    "pprint(lax)\n",
    "pprint(dtw)"
   ]
  },
  {
   "cell_type": "code",
   "execution_count": 6,
   "metadata": {},
   "outputs": [
    {
     "name": "stdout",
     "output_type": "stream",
     "text": [
      "[{'name': 'Arizona'},\n",
      " {'name': 'California'},\n",
      " {'name': 'Colorado'},\n",
      " {'name': 'Illinois'},\n",
      " {'name': 'Iowa'},\n",
      " {'name': 'Kansas'},\n",
      " {'name': 'Michigan'},\n",
      " {'name': 'Nebraska'},\n",
      " {'name': 'Nevada'},\n",
      " {'name': 'Utah'}]\n"
     ]
    }
   ],
   "source": [
    "# make geojson format whose type is LineString (lax, dtw)\n",
    "geojson = {\n",
    "    'type': 'LineString',\n",
    "    'coordinates': [lax['loc']['coordinates'],\n",
    "                    dtw['loc']['coordinates']]\n",
    "}\n",
    "\n",
    "# TODO : find states that are intersect to the flight path\n",
    "#       use $geoIntersects\n",
    "result = states.find(...)\n",
    "\n",
    "pprint(list(result))"
   ]
  },
  {
   "cell_type": "code",
   "execution_count": 7,
   "metadata": {},
   "outputs": [],
   "source": [
    "client.close()"
   ]
  }
 ],
 "metadata": {
  "kernelspec": {
   "display_name": "Python 3",
   "language": "python",
   "name": "python3"
  },
  "language_info": {
   "codemirror_mode": {
    "name": "ipython",
    "version": 3
   },
   "file_extension": ".py",
   "mimetype": "text/x-python",
   "name": "python",
   "nbconvert_exporter": "python",
   "pygments_lexer": "ipython3",
   "version": "3.7.3"
  }
 },
 "nbformat": 4,
 "nbformat_minor": 2
}
