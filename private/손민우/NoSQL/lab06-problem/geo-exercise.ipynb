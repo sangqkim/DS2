{
 "cells": [
  {
   "cell_type": "code",
   "execution_count": 1,
   "metadata": {},
   "outputs": [
    {
     "name": "stderr",
     "output_type": "stream",
     "text": [
      "2019-09-02T11:50:21.041+0900\tconnected to: mongodb://localhost/\n",
      "2019-09-02T11:50:21.160+0900\t50 document(s) imported successfully. 0 document(s) failed to import.\n",
      "2019-09-02T11:50:22.156+0900\tconnected to: mongodb://localhost/\n",
      "2019-09-02T11:50:22.268+0900\t880 document(s) imported successfully. 0 document(s) failed to import.\n",
      "2019-09-02T11:50:23.249+0900\tconnected to: mongodb://localhost/\n",
      "2019-09-02T11:50:24.598+0900\t25359 document(s) imported successfully. 0 document(s) failed to import.\n"
     ]
    }
   ],
   "source": [
    "!mongoimport /d geo /c state ../datasets-master/states.json\n",
    "!mongoimport /d geo /c airports ../datasets-master/airports.json\n",
    "!mongoimport /d geo /c restaurants ../datasets-master/restaurants.json"
   ]
  },
  {
   "cell_type": "code",
   "execution_count": 2,
   "metadata": {},
   "outputs": [
    {
     "name": "stderr",
     "output_type": "stream",
     "text": [
      "2019-09-02T11:50:58.958+0900\tconnected to: mongodb://localhost/\n",
      "2019-09-02T11:50:59.051+0900\t200 document(s) imported successfully. 0 document(s) failed to import.\n"
     ]
    }
   ],
   "source": [
    "!mongoimport /d geo /c small_zips ../datasets-master/small_zips.json"
   ]
  },
  {
   "cell_type": "code",
   "execution_count": 18,
   "metadata": {},
   "outputs": [],
   "source": [
    "from pymongo import MongoClient, GEOSPHERE\n",
    "from pprint import pprint\n",
    "\n",
    "client = MongoClient()\n",
    "db = client.geo\n",
    "states = db.states\n",
    "airports = db.airports\n",
    "restaurants = db.restaurants\n",
    "zips=db.small_zips"
   ]
  },
  {
   "cell_type": "markdown",
   "metadata": {},
   "source": [
    "# Exercise 1"
   ]
  },
  {
   "cell_type": "code",
   "execution_count": 6,
   "metadata": {},
   "outputs": [
    {
     "data": {
      "text/plain": [
       "'address.coord_2dsphere'"
      ]
     },
     "execution_count": 6,
     "metadata": {},
     "output_type": "execute_result"
    }
   ],
   "source": [
    "# create 2dsphere index\n",
    "restaurants.create_index([(\"address.coord\", GEOSPHERE)])"
   ]
  },
  {
   "cell_type": "code",
   "execution_count": 19,
   "metadata": {
    "scrolled": false
   },
   "outputs": [],
   "source": [
    "# find international airports\n",
    "area = airports.find({\"type\":\"International\"})\n",
    "\n",
    "# TODO : find korean restaurants which are located \n",
    "#       at less 2km from international airports ($near)\n",
    "for airport in area:\n",
    "    cur = restaurants.find({'cusine':'Korean', 'address.coord':{'$near':{'$geometry':airport['loc'], '$maxDistance':2000}}})\n",
    "    li = list(cur)\n",
    "    if(len(li)>0):\n",
    "        pprint(li)"
   ]
  },
  {
   "cell_type": "markdown",
   "metadata": {},
   "source": [
    "# Exercise 2"
   ]
  },
  {
   "cell_type": "code",
   "execution_count": 12,
   "metadata": {},
   "outputs": [
    {
     "name": "stdout",
     "output_type": "stream",
     "text": [
      "{'_id': ObjectId('5d6c836e33b08211f1f1030d'),\n",
      " 'code': 'LAX',\n",
      " 'loc': {'coordinates': [-118.408084, 33.942537], 'type': 'Point'},\n",
      " 'name': 'Los Angeles Intl',\n",
      " 'type': 'International'}\n",
      "{'_id': ObjectId('5d6c836e33b08211f1f1023f'),\n",
      " 'code': 'DTW',\n",
      " 'loc': {'coordinates': [-83.348836, 42.212052], 'type': 'Point'},\n",
      " 'name': 'Detroit Metropolitan - Wayne County',\n",
      " 'type': 'International'}\n"
     ]
    }
   ],
   "source": [
    "# find the two coordinates (LAX, DTW)\n",
    "lax = airports.find_one({'code': 'LAX'})\n",
    "dtw = airports.find_one({'code': 'DTW'})\n",
    "\n",
    "pprint(lax)\n",
    "pprint(dtw)"
   ]
  },
  {
   "cell_type": "code",
   "execution_count": 20,
   "metadata": {},
   "outputs": [
    {
     "name": "stdout",
     "output_type": "stream",
     "text": [
      "[]\n"
     ]
    }
   ],
   "source": [
    "# make geojson format whose type is LineString (lax, dtw)\n",
    "geojson = {\n",
    "    'type': 'LineString',\n",
    "    'coordinates': [lax['loc']['coordinates'],\n",
    "                    dtw['loc']['coordinates']]\n",
    "}\n",
    "\n",
    "# TODO : find states that are intersect to the flight path\n",
    "#       use $geoIntersects\n",
    "result = states.find({\n",
    "    'loc':{\n",
    "        '$geoIntersects':{\n",
    "            '$geometry': geojson\n",
    "        }\n",
    "    }\n",
    "    \n",
    "}, {'_id':0, 'name':1}).sort([('name', 1)])\n",
    "\n",
    "pprint(list(result))"
   ]
  },
  {
   "cell_type": "code",
   "execution_count": 7,
   "metadata": {},
   "outputs": [],
   "source": [
    "client.close()"
   ]
  }
 ],
 "metadata": {
  "kernelspec": {
   "display_name": "Python 3",
   "language": "python",
   "name": "python3"
  },
  "language_info": {
   "codemirror_mode": {
    "name": "ipython",
    "version": 3
   },
   "file_extension": ".py",
   "mimetype": "text/x-python",
   "name": "python",
   "nbconvert_exporter": "python",
   "pygments_lexer": "ipython3",
   "version": "3.7.3"
  }
 },
 "nbformat": 4,
 "nbformat_minor": 2
}
