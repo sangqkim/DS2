{
 "cells": [
  {
   "cell_type": "markdown",
   "metadata": {},
   "source": [
    "# grade"
   ]
  },
  {
   "cell_type": "markdown",
   "metadata": {},
   "source": [
    "prerequisites"
   ]
  },
  {
   "cell_type": "code",
   "execution_count": 1,
   "metadata": {},
   "outputs": [],
   "source": [
    "from pymongo import MongoClient\n",
    "\n",
    "client = MongoClient()\n",
    "db = client.lab4\n",
    "col = db.grade"
   ]
  },
  {
   "cell_type": "markdown",
   "metadata": {},
   "source": [
    "skeleton"
   ]
  },
  {
   "cell_type": "code",
   "execution_count": 9,
   "metadata": {},
   "outputs": [
    {
     "name": "stdout",
     "output_type": "stream",
     "text": [
      "search >quiz 41\n",
      "sid\tquiz\n",
      "27\t41\n",
      "31\t41\n",
      "98\t41\n"
     ]
    }
   ],
   "source": [
    "raw_input = input('search >')\n",
    "\n",
    "params = raw_input.split()\n",
    "\n",
    "target_1, target_2 = None, None\n",
    "try:\n",
    "    target_1 = int(params[1])\n",
    "except:\n",
    "    split_result = params[1].split('-')\n",
    "    target_1, target_2 = int(split_result[0]), int(split_result[1])\n",
    "\n",
    "# query 부분\n",
    "# result_cursor = ...\n",
    "if target_2 is None:\n",
    "    result_cursor = col.find({'type':params[0], 'score':target_1})\n",
    "else:\n",
    "    result_cursor = col.find({'type':params[0], 'score':{'$gte': target_1, '$lte': target_2}})\n",
    "#TODO\n",
    "\n",
    "print('sid\\t{}'.format(params[0]))\n",
    "for item in result_cursor:\n",
    "    print('{}\\t{}'.format(item['sid'], item['score']))"
   ]
  },
  {
   "cell_type": "markdown",
   "metadata": {},
   "source": [
    "Close"
   ]
  },
  {
   "cell_type": "code",
   "execution_count": null,
   "metadata": {},
   "outputs": [],
   "source": [
    "client.close()"
   ]
  }
 ],
 "metadata": {
  "kernelspec": {
   "display_name": "Python 3",
   "language": "python",
   "name": "python3"
  },
  "language_info": {
   "codemirror_mode": {
    "name": "ipython",
    "version": 3
   },
   "file_extension": ".py",
   "mimetype": "text/x-python",
   "name": "python",
   "nbconvert_exporter": "python",
   "pygments_lexer": "ipython3",
   "version": "3.7.3"
  }
 },
 "nbformat": 4,
 "nbformat_minor": 2
}
