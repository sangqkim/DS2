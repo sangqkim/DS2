{
 "cells": [
  {
   "cell_type": "code",
   "execution_count": 37,
   "metadata": {},
   "outputs": [],
   "source": [
    "from pymongo import MongoClient, DESCENDING, ASCENDING\n",
    "import pprint"
   ]
  },
  {
   "cell_type": "code",
   "execution_count": 2,
   "metadata": {},
   "outputs": [],
   "source": [
    "client = MongoClient()"
   ]
  },
  {
   "cell_type": "code",
   "execution_count": 3,
   "metadata": {},
   "outputs": [
    {
     "data": {
      "text/plain": [
       "['admin', 'config', 'db', 'lab03', 'lab2', 'lab4', 'local', 'mydb', 'test']"
      ]
     },
     "execution_count": 3,
     "metadata": {},
     "output_type": "execute_result"
    }
   ],
   "source": [
    "client.list_database_names()"
   ]
  },
  {
   "cell_type": "code",
   "execution_count": 5,
   "metadata": {},
   "outputs": [],
   "source": [
    "db = client.test"
   ]
  },
  {
   "cell_type": "code",
   "execution_count": 6,
   "metadata": {},
   "outputs": [
    {
     "data": {
      "text/plain": [
       "['people', 'users', 'foo']"
      ]
     },
     "execution_count": 6,
     "metadata": {},
     "output_type": "execute_result"
    }
   ],
   "source": [
    "db.list_collection_names()"
   ]
  },
  {
   "cell_type": "code",
   "execution_count": 7,
   "metadata": {},
   "outputs": [
    {
     "name": "stderr",
     "output_type": "stream",
     "text": [
      "2019-08-28T11:28:26.219+0900\tconnected to: mongodb://localhost/\n",
      "2019-08-28T11:28:26.313+0900\t4 document(s) imported successfully. 0 document(s) failed to import.\n"
     ]
    }
   ],
   "source": [
    "!mongoimport -d test -c blog datasets-master/blog.json"
   ]
  },
  {
   "cell_type": "code",
   "execution_count": 8,
   "metadata": {},
   "outputs": [],
   "source": [
    "col = db.blog"
   ]
  },
  {
   "cell_type": "code",
   "execution_count": 12,
   "metadata": {},
   "outputs": [
    {
     "data": {
      "text/plain": [
       "{'executionSuccess': True,\n",
       " 'nReturned': 1,\n",
       " 'executionTimeMillis': 0,\n",
       " 'totalKeysExamined': 0,\n",
       " 'totalDocsExamined': 4,\n",
       " 'executionStages': {'stage': 'COLLSCAN',\n",
       "  'filter': {'writer': {'$eq': 'Kim'}},\n",
       "  'nReturned': 1,\n",
       "  'executionTimeMillisEstimate': 0,\n",
       "  'works': 6,\n",
       "  'advanced': 1,\n",
       "  'needTime': 4,\n",
       "  'needYield': 0,\n",
       "  'saveState': 0,\n",
       "  'restoreState': 0,\n",
       "  'isEOF': 1,\n",
       "  'direction': 'forward',\n",
       "  'docsExamined': 4},\n",
       " 'allPlansExecution': []}"
      ]
     },
     "execution_count": 12,
     "metadata": {},
     "output_type": "execute_result"
    }
   ],
   "source": [
    "col.find({'writer':'Kim'}).explain()['executionStats']"
   ]
  },
  {
   "cell_type": "code",
   "execution_count": 13,
   "metadata": {},
   "outputs": [
    {
     "data": {
      "text/plain": [
       "'writer_1'"
      ]
     },
     "execution_count": 13,
     "metadata": {},
     "output_type": "execute_result"
    }
   ],
   "source": [
    "col.create_index([('writer', ASCENDING)])"
   ]
  },
  {
   "cell_type": "code",
   "execution_count": 14,
   "metadata": {},
   "outputs": [
    {
     "data": {
      "text/plain": [
       "{'_id_': {'v': 2, 'key': [('_id', 1)], 'ns': 'test.blog'},\n",
       " 'writer_1': {'v': 2, 'key': [('writer', 1)], 'ns': 'test.blog'}}"
      ]
     },
     "execution_count": 14,
     "metadata": {},
     "output_type": "execute_result"
    }
   ],
   "source": [
    "col.index_information()"
   ]
  },
  {
   "cell_type": "code",
   "execution_count": 15,
   "metadata": {},
   "outputs": [
    {
     "data": {
      "text/plain": [
       "{'executionSuccess': True,\n",
       " 'nReturned': 1,\n",
       " 'executionTimeMillis': 3,\n",
       " 'totalKeysExamined': 1,\n",
       " 'totalDocsExamined': 1,\n",
       " 'executionStages': {'stage': 'FETCH',\n",
       "  'nReturned': 1,\n",
       "  'executionTimeMillisEstimate': 0,\n",
       "  'works': 2,\n",
       "  'advanced': 1,\n",
       "  'needTime': 0,\n",
       "  'needYield': 0,\n",
       "  'saveState': 0,\n",
       "  'restoreState': 0,\n",
       "  'isEOF': 1,\n",
       "  'docsExamined': 1,\n",
       "  'alreadyHasObj': 0,\n",
       "  'inputStage': {'stage': 'IXSCAN',\n",
       "   'nReturned': 1,\n",
       "   'executionTimeMillisEstimate': 0,\n",
       "   'works': 2,\n",
       "   'advanced': 1,\n",
       "   'needTime': 0,\n",
       "   'needYield': 0,\n",
       "   'saveState': 0,\n",
       "   'restoreState': 0,\n",
       "   'isEOF': 1,\n",
       "   'keyPattern': {'writer': 1},\n",
       "   'indexName': 'writer_1',\n",
       "   'isMultiKey': False,\n",
       "   'multiKeyPaths': {'writer': []},\n",
       "   'isUnique': False,\n",
       "   'isSparse': False,\n",
       "   'isPartial': False,\n",
       "   'indexVersion': 2,\n",
       "   'direction': 'forward',\n",
       "   'indexBounds': {'writer': ['[\"Kim\", \"Kim\"]']},\n",
       "   'keysExamined': 1,\n",
       "   'seeks': 1,\n",
       "   'dupsTested': 0,\n",
       "   'dupsDropped': 0}},\n",
       " 'allPlansExecution': []}"
      ]
     },
     "execution_count": 15,
     "metadata": {},
     "output_type": "execute_result"
    }
   ],
   "source": [
    "col.find({'writer':'Kim'}).explain()['executionStats']"
   ]
  },
  {
   "cell_type": "code",
   "execution_count": 17,
   "metadata": {},
   "outputs": [
    {
     "data": {
      "text/plain": [
       "'id_-1_writer_1'"
      ]
     },
     "execution_count": 17,
     "metadata": {},
     "output_type": "execute_result"
    }
   ],
   "source": [
    "col.create_index([('id', DESCENDING), ('writer', ASCENDING)])"
   ]
  },
  {
   "cell_type": "code",
   "execution_count": 18,
   "metadata": {},
   "outputs": [
    {
     "data": {
      "text/plain": [
       "{'_id_': {'v': 2, 'key': [('_id', 1)], 'ns': 'test.blog'},\n",
       " 'writer_1': {'v': 2, 'key': [('writer', 1)], 'ns': 'test.blog'},\n",
       " 'id_-1_writer_1': {'v': 2,\n",
       "  'key': [('id', -1), ('writer', 1)],\n",
       "  'ns': 'test.blog'}}"
      ]
     },
     "execution_count": 18,
     "metadata": {},
     "output_type": "execute_result"
    }
   ],
   "source": [
    "col.index_information()"
   ]
  },
  {
   "cell_type": "code",
   "execution_count": 19,
   "metadata": {},
   "outputs": [],
   "source": [
    "col.drop_indexes()"
   ]
  },
  {
   "cell_type": "code",
   "execution_count": 20,
   "metadata": {},
   "outputs": [
    {
     "data": {
      "text/plain": [
       "{'_id_': {'v': 2, 'key': [('_id', 1)], 'ns': 'test.blog'}}"
      ]
     },
     "execution_count": 20,
     "metadata": {},
     "output_type": "execute_result"
    }
   ],
   "source": [
    "col.index_information()"
   ]
  },
  {
   "cell_type": "code",
   "execution_count": 23,
   "metadata": {},
   "outputs": [
    {
     "name": "stderr",
     "output_type": "stream",
     "text": [
      "2019-08-28T11:53:07.966+0900\tconnected to: mongodb://localhost/\n",
      "2019-08-28T11:53:10.966+0900\t[################........] test.metro\t22.9MB/32.5MB (70.6%)\n",
      "2019-08-28T11:53:12.176+0900\t[########################] test.metro\t32.5MB/32.5MB (100.0%)\n",
      "2019-08-28T11:53:12.176+0900\t186024 document(s) imported successfully. 0 document(s) failed to import.\n"
     ]
    }
   ],
   "source": [
    "!mongoimport -d test -c metro datasets-master/metro.json"
   ]
  },
  {
   "cell_type": "code",
   "execution_count": 27,
   "metadata": {},
   "outputs": [],
   "source": [
    "col = db.metro"
   ]
  },
  {
   "cell_type": "code",
   "execution_count": 28,
   "metadata": {},
   "outputs": [
    {
     "data": {
      "text/plain": [
       "{'_id': ObjectId('5bbe37b8f0445ad8d81da186'),\n",
       " 'use_dt': '20180801',\n",
       " 'line_num': '7호선',\n",
       " 'sub_sta_nm': '뚝섬유원지',\n",
       " 'ride_pasgr_num': 8585,\n",
       " 'alight_pasgr_num': 8247,\n",
       " 'doc_id': 3}"
      ]
     },
     "execution_count": 28,
     "metadata": {},
     "output_type": "execute_result"
    }
   ],
   "source": [
    "col.find_one()"
   ]
  },
  {
   "cell_type": "code",
   "execution_count": 30,
   "metadata": {},
   "outputs": [
    {
     "data": {
      "text/plain": [
       "'doc_id_1'"
      ]
     },
     "execution_count": 30,
     "metadata": {},
     "output_type": "execute_result"
    }
   ],
   "source": [
    "col.create_index([('doc_id', ASCENDING)], unique = True)"
   ]
  },
  {
   "cell_type": "code",
   "execution_count": 33,
   "metadata": {},
   "outputs": [
    {
     "data": {
      "text/plain": [
       "'intersect_1'"
      ]
     },
     "execution_count": 33,
     "metadata": {},
     "output_type": "execute_result"
    }
   ],
   "source": [
    "col.create_index([('intersect', ASCENDING)], sparse=True)"
   ]
  },
  {
   "cell_type": "code",
   "execution_count": 35,
   "metadata": {},
   "outputs": [
    {
     "data": {
      "text/plain": [
       "'intersect_id_1'"
      ]
     },
     "execution_count": 35,
     "metadata": {},
     "output_type": "execute_result"
    }
   ],
   "source": [
    "col.create_index([('intersect_id', ASCENDING)], unique=True, sparse=True)"
   ]
  },
  {
   "cell_type": "code",
   "execution_count": 39,
   "metadata": {},
   "outputs": [
    {
     "data": {
      "text/plain": [
       "{'_id_': {'v': 2, 'key': [('_id', 1)], 'ns': 'test.metro'},\n",
       " 'doc_id_1': {'v': 2,\n",
       "  'unique': True,\n",
       "  'key': [('doc_id', 1)],\n",
       "  'ns': 'test.metro'},\n",
       " 'intersect_1': {'v': 2,\n",
       "  'key': [('intersect', 1)],\n",
       "  'ns': 'test.metro',\n",
       "  'sparse': True},\n",
       " 'intersect_id_1': {'v': 2,\n",
       "  'unique': True,\n",
       "  'key': [('intersect_id', 1)],\n",
       "  'ns': 'test.metro',\n",
       "  'sparse': True}}"
      ]
     },
     "execution_count": 39,
     "metadata": {},
     "output_type": "execute_result"
    }
   ],
   "source": [
    "col.index_information()"
   ]
  },
  {
   "cell_type": "code",
   "execution_count": 44,
   "metadata": {},
   "outputs": [
    {
     "data": {
      "text/plain": [
       "{'executionSuccess': True,\n",
       " 'nReturned': 2,\n",
       " 'executionTimeMillis': 1,\n",
       " 'totalKeysExamined': 2,\n",
       " 'totalDocsExamined': 2,\n",
       " 'executionStages': {'stage': 'LIMIT',\n",
       "  'nReturned': 2,\n",
       "  'executionTimeMillisEstimate': 0,\n",
       "  'works': 3,\n",
       "  'advanced': 2,\n",
       "  'needTime': 0,\n",
       "  'needYield': 0,\n",
       "  'saveState': 0,\n",
       "  'restoreState': 0,\n",
       "  'isEOF': 1,\n",
       "  'limitAmount': 2,\n",
       "  'inputStage': {'stage': 'FETCH',\n",
       "   'nReturned': 2,\n",
       "   'executionTimeMillisEstimate': 0,\n",
       "   'works': 2,\n",
       "   'advanced': 2,\n",
       "   'needTime': 0,\n",
       "   'needYield': 0,\n",
       "   'saveState': 0,\n",
       "   'restoreState': 0,\n",
       "   'isEOF': 0,\n",
       "   'docsExamined': 2,\n",
       "   'alreadyHasObj': 0,\n",
       "   'inputStage': {'stage': 'IXSCAN',\n",
       "    'nReturned': 2,\n",
       "    'executionTimeMillisEstimate': 0,\n",
       "    'works': 2,\n",
       "    'advanced': 2,\n",
       "    'needTime': 0,\n",
       "    'needYield': 0,\n",
       "    'saveState': 0,\n",
       "    'restoreState': 0,\n",
       "    'isEOF': 0,\n",
       "    'keyPattern': {'doc_id': 1},\n",
       "    'indexName': 'doc_id_1',\n",
       "    'isMultiKey': False,\n",
       "    'multiKeyPaths': {'doc_id': []},\n",
       "    'isUnique': True,\n",
       "    'isSparse': False,\n",
       "    'isPartial': False,\n",
       "    'indexVersion': 2,\n",
       "    'direction': 'forward',\n",
       "    'indexBounds': {'doc_id': ['[MinKey, MaxKey]']},\n",
       "    'keysExamined': 2,\n",
       "    'seeks': 1,\n",
       "    'dupsTested': 0,\n",
       "    'dupsDropped': 0}}},\n",
       " 'allPlansExecution': []}"
      ]
     },
     "execution_count": 44,
     "metadata": {},
     "output_type": "execute_result"
    }
   ],
   "source": [
    "col.find().sort([('doc_id', ASCENDING)]).limit(2).explain()['executionStats']"
   ]
  },
  {
   "cell_type": "code",
   "execution_count": 46,
   "metadata": {},
   "outputs": [
    {
     "data": {
      "text/plain": [
       "{'executionSuccess': True,\n",
       " 'nReturned': 2,\n",
       " 'executionTimeMillis': 170,\n",
       " 'totalKeysExamined': 45248,\n",
       " 'totalDocsExamined': 45248,\n",
       " 'executionStages': {'stage': 'SORT',\n",
       "  'nReturned': 2,\n",
       "  'executionTimeMillisEstimate': 9,\n",
       "  'works': 45253,\n",
       "  'advanced': 2,\n",
       "  'needTime': 45250,\n",
       "  'needYield': 0,\n",
       "  'saveState': 353,\n",
       "  'restoreState': 353,\n",
       "  'isEOF': 1,\n",
       "  'sortPattern': {'doc_id': 1},\n",
       "  'memUsage': 381,\n",
       "  'memLimit': 33554432,\n",
       "  'limitAmount': 2,\n",
       "  'inputStage': {'stage': 'SORT_KEY_GENERATOR',\n",
       "   'nReturned': 45248,\n",
       "   'executionTimeMillisEstimate': 8,\n",
       "   'works': 45250,\n",
       "   'advanced': 45248,\n",
       "   'needTime': 1,\n",
       "   'needYield': 0,\n",
       "   'saveState': 353,\n",
       "   'restoreState': 353,\n",
       "   'isEOF': 1,\n",
       "   'inputStage': {'stage': 'FETCH',\n",
       "    'nReturned': 45248,\n",
       "    'executionTimeMillisEstimate': 5,\n",
       "    'works': 45249,\n",
       "    'advanced': 45248,\n",
       "    'needTime': 0,\n",
       "    'needYield': 0,\n",
       "    'saveState': 353,\n",
       "    'restoreState': 353,\n",
       "    'isEOF': 1,\n",
       "    'docsExamined': 45248,\n",
       "    'alreadyHasObj': 0,\n",
       "    'inputStage': {'stage': 'IXSCAN',\n",
       "     'nReturned': 45248,\n",
       "     'executionTimeMillisEstimate': 2,\n",
       "     'works': 45249,\n",
       "     'advanced': 45248,\n",
       "     'needTime': 0,\n",
       "     'needYield': 0,\n",
       "     'saveState': 353,\n",
       "     'restoreState': 353,\n",
       "     'isEOF': 1,\n",
       "     'keyPattern': {'intersect': 1},\n",
       "     'indexName': 'intersect_1',\n",
       "     'isMultiKey': False,\n",
       "     'multiKeyPaths': {'intersect': []},\n",
       "     'isUnique': False,\n",
       "     'isSparse': True,\n",
       "     'isPartial': False,\n",
       "     'indexVersion': 2,\n",
       "     'direction': 'forward',\n",
       "     'indexBounds': {'intersect': ['[MinKey, MaxKey]']},\n",
       "     'keysExamined': 45248,\n",
       "     'seeks': 1,\n",
       "     'dupsTested': 0,\n",
       "     'dupsDropped': 0}}}},\n",
       " 'allPlansExecution': []}"
      ]
     },
     "execution_count": 46,
     "metadata": {},
     "output_type": "execute_result"
    }
   ],
   "source": [
    "col.find().sort([('doc_id', ASCENDING)]).hint([('intersect', 1)]).limit(2).explain()['executionStats']\n",
    "# hint를 사용하면 해당 index를 사용하겠다는 것!!"
   ]
  },
  {
   "cell_type": "code",
   "execution_count": 47,
   "metadata": {},
   "outputs": [],
   "source": [
    "col.drop_indexes()"
   ]
  },
  {
   "cell_type": "markdown",
   "metadata": {},
   "source": [
    "## Geospatial"
   ]
  },
  {
   "cell_type": "code",
   "execution_count": 48,
   "metadata": {},
   "outputs": [
    {
     "name": "stderr",
     "output_type": "stream",
     "text": [
      "2019-08-28T16:45:16.920+0900\tconnected to: mongodb://localhost/\n",
      "2019-08-28T16:45:17.042+0900\t50 document(s) imported successfully. 0 document(s) failed to import.\n"
     ]
    }
   ],
   "source": [
    "!mongoimport /d lab5 /c states datasets-master/states.json"
   ]
  },
  {
   "cell_type": "code",
   "execution_count": 49,
   "metadata": {},
   "outputs": [
    {
     "name": "stderr",
     "output_type": "stream",
     "text": [
      "2019-08-28T16:46:21.894+0900\tconnected to: mongodb://localhost/\n",
      "2019-08-28T16:46:21.986+0900\t200 document(s) imported successfully. 0 document(s) failed to import.\n"
     ]
    }
   ],
   "source": [
    "!mongoimport /d lab5 /c small_zips datasets-master/small_zips.json"
   ]
  },
  {
   "cell_type": "code",
   "execution_count": null,
   "metadata": {},
   "outputs": [],
   "source": []
  }
 ],
 "metadata": {
  "kernelspec": {
   "display_name": "Python 3",
   "language": "python",
   "name": "python3"
  },
  "language_info": {
   "codemirror_mode": {
    "name": "ipython",
    "version": 3
   },
   "file_extension": ".py",
   "mimetype": "text/x-python",
   "name": "python",
   "nbconvert_exporter": "python",
   "pygments_lexer": "ipython3",
   "version": "3.7.3"
  }
 },
 "nbformat": 4,
 "nbformat_minor": 2
}
