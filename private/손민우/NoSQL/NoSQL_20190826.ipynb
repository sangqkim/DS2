{
 "cells": [
  {
   "cell_type": "code",
   "execution_count": 2,
   "metadata": {},
   "outputs": [],
   "source": [
    "from pymongo import MongoClient"
   ]
  },
  {
   "cell_type": "code",
   "execution_count": 1,
   "metadata": {},
   "outputs": [
    {
     "name": "stderr",
     "output_type": "stream",
     "text": [
      "2019-08-26T11:52:46.689+0900\tconnected to: mongodb://localhost/\n",
      "2019-08-26T11:52:46.780+0900\t16 document(s) imported successfully. 0 document(s) failed to import.\n"
     ]
    }
   ],
   "source": [
    "!mongoimport /d lab03 /c imdb datasets-master/imdb.json"
   ]
  },
  {
   "cell_type": "code",
   "execution_count": 3,
   "metadata": {},
   "outputs": [],
   "source": [
    "client = MongoClient()"
   ]
  },
  {
   "cell_type": "code",
   "execution_count": 5,
   "metadata": {},
   "outputs": [
    {
     "data": {
      "text/plain": [
       "['admin', 'config', 'lab03', 'lab2', 'local', 'test']"
      ]
     },
     "execution_count": 5,
     "metadata": {},
     "output_type": "execute_result"
    }
   ],
   "source": [
    "client.list_database_names()"
   ]
  },
  {
   "cell_type": "code",
   "execution_count": 6,
   "metadata": {},
   "outputs": [],
   "source": [
    "db = client.lab03"
   ]
  },
  {
   "cell_type": "code",
   "execution_count": 7,
   "metadata": {},
   "outputs": [
    {
     "data": {
      "text/plain": [
       "['imdb']"
      ]
     },
     "execution_count": 7,
     "metadata": {},
     "output_type": "execute_result"
    }
   ],
   "source": [
    "db.list_collection_names()"
   ]
  },
  {
   "cell_type": "code",
   "execution_count": 8,
   "metadata": {},
   "outputs": [],
   "source": [
    "coll = db.imdb"
   ]
  },
  {
   "cell_type": "code",
   "execution_count": 9,
   "metadata": {},
   "outputs": [
    {
     "data": {
      "text/plain": [
       "Collection(Database(MongoClient(host=['localhost:27017'], document_class=dict, tz_aware=False, connect=True), 'lab03'), 'imdb')"
      ]
     },
     "execution_count": 9,
     "metadata": {},
     "output_type": "execute_result"
    }
   ],
   "source": [
    "coll"
   ]
  },
  {
   "cell_type": "code",
   "execution_count": 10,
   "metadata": {},
   "outputs": [
    {
     "data": {
      "text/plain": [
       "<pymongo.cursor.Cursor at 0x74ef850>"
      ]
     },
     "execution_count": 10,
     "metadata": {},
     "output_type": "execute_result"
    }
   ],
   "source": [
    "coll.find()"
   ]
  },
  {
   "cell_type": "code",
   "execution_count": 11,
   "metadata": {},
   "outputs": [],
   "source": [
    "from pprint import pprint"
   ]
  },
  {
   "cell_type": "code",
   "execution_count": 34,
   "metadata": {},
   "outputs": [
    {
     "data": {
      "text/plain": [
       "[{'_id': ObjectId('5d63497e06b488e0b53b4993'),\n",
       "  'title': 'Interstellar',\n",
       "  'director': 'Christopher Nolan',\n",
       "  'genre': ['Drama', 'Adventure', 'Sci-Fi'],\n",
       "  'score': 10.6},\n",
       " {'_id': ObjectId('5d63497e06b488e0b53b4994'),\n",
       "  'title': 'Train to Busan',\n",
       "  'director': 'Sang-ho Yeon',\n",
       "  'genre': ['Action', 'Horror', 'Thriller'],\n",
       "  'score': 7.5},\n",
       " {'_id': ObjectId('5d63497e06b488e0b53b4995'),\n",
       "  'title': 'Frozen',\n",
       "  'director': 'Chris Buck and Jennifer Lee',\n",
       "  'genre': ['Animation', 'Adventure', 'Comedy'],\n",
       "  'score': 7.5},\n",
       " {'_id': ObjectId('5d63497e06b488e0b53b4996'),\n",
       "  'title': 'Inception',\n",
       "  'director': 'Christopher Nolan',\n",
       "  'genre': ['Action', 'Adventure', 'Sci-Fi'],\n",
       "  'score': 10.8},\n",
       " {'_id': ObjectId('5d63497e06b488e0b53b4997'),\n",
       "  'title': 'House of the Dead',\n",
       "  'director': 'Uwe Boll',\n",
       "  'genre': ['Action', 'Adventure', 'Horror'],\n",
       "  'score': 2.0},\n",
       " {'_id': ObjectId('5d63497e06b488e0b53b4998'),\n",
       "  'title': '2001: A Space Odyssey',\n",
       "  'director': 'Stanley Kubrick',\n",
       "  'genre': ['Adventure', 'Sci-Fi'],\n",
       "  'score': 10.3},\n",
       " {'_id': ObjectId('5d63497e06b488e0b53b4999'),\n",
       "  'title': 'District 9',\n",
       "  'director': 'Neill Blomkamp',\n",
       "  'genre': ['Sci-Fi', 'Thriller'],\n",
       "  'score': 9.9},\n",
       " {'_id': ObjectId('5d63497e06b488e0b53b499a'),\n",
       "  'title': 'Manos: The Hands of Fate',\n",
       "  'director': 'Harold P. Warren',\n",
       "  'genre': ['Horror'],\n",
       "  'score': 1.9},\n",
       " {'_id': ObjectId('5d63497e06b488e0b53b499b'),\n",
       "  'title': 'Battlefield Earth',\n",
       "  'director': 'Roger Christian',\n",
       "  'genre': ['Action', 'Adventure', 'Sci-Fi'],\n",
       "  'score': 4.4},\n",
       " {'_id': ObjectId('5d63497e06b488e0b53b499c'),\n",
       "  'title': 'Memento',\n",
       "  'director': 'Christopher Nolan',\n",
       "  'genre': ['Mystery', 'Thriller'],\n",
       "  'score': 8.5},\n",
       " {'_id': ObjectId('5d63497e06b488e0b53b499d'),\n",
       "  'title': 'Birdemic: Shock and Terror',\n",
       "  'director': 'James Nguyen',\n",
       "  'genre': ['Horror', 'Romance', 'Thriller'],\n",
       "  'score': 1.8},\n",
       " {'_id': ObjectId('5d63497e06b488e0b53b499e'),\n",
       "  'title': 'Along With the Gods: The Last 49 Days',\n",
       "  'director': 'Yong-hwa Kim',\n",
       "  'genre': ['Action', 'Drama', 'Fantasy'],\n",
       "  'score': 6.9},\n",
       " {'_id': ObjectId('5d63497e06b488e0b53b499f'),\n",
       "  'title': 'Along With the Gods: The Two Worlds',\n",
       "  'director': 'Yong-hwa Kim',\n",
       "  'genre': ['Action', 'Drama', 'Fantasy'],\n",
       "  'score': 7.3},\n",
       " {'_id': ObjectId('5d63497e06b488e0b53b49a0'),\n",
       "  'title': 'Ant-Man and the Wasp',\n",
       "  'director': 'Peyton Reed',\n",
       "  'genre': ['Action', 'Adventure', 'Sci-Fi'],\n",
       "  'score': 9.4},\n",
       " {'_id': ObjectId('5d63497e06b488e0b53b49a1'),\n",
       "  'title': 'Alone in the Dark',\n",
       "  'director': 'Uwe Boll',\n",
       "  'genre': ['Action', 'Horror', 'Sci-Fi'],\n",
       "  'score': 4.3},\n",
       " {'_id': ObjectId('5d63497e06b488e0b53b49a2'),\n",
       "  'title': 'Ready Player One',\n",
       "  'director': 'Steven Spielberg',\n",
       "  'genre': ['Action', 'Adventure', 'Sci-Fi'],\n",
       "  'score': 9.6}]"
      ]
     },
     "execution_count": 34,
     "metadata": {},
     "output_type": "execute_result"
    }
   ],
   "source": [
    "list(coll.find())"
   ]
  },
  {
   "cell_type": "code",
   "execution_count": 33,
   "metadata": {},
   "outputs": [
    {
     "data": {
      "text/plain": [
       "<pymongo.results.UpdateResult at 0x71a60a8>"
      ]
     },
     "execution_count": 33,
     "metadata": {},
     "output_type": "execute_result"
    }
   ],
   "source": [
    "coll.update_many({'genre':'Sci-Fi'}, {'$inc':{'score':2}})\n",
    "        "
   ]
  },
  {
   "cell_type": "code",
   "execution_count": 30,
   "metadata": {},
   "outputs": [
    {
     "data": {
      "text/plain": [
       "[{'_id': ObjectId('5d63497e06b488e0b53b4993'),\n",
       "  'title': 'Interstellar',\n",
       "  'director': 'Christopher Nolan',\n",
       "  'genre': ['Drama', 'Adventure', 'Sci-Fi'],\n",
       "  'score': 8.6},\n",
       " {'_id': ObjectId('5d63497e06b488e0b53b4996'),\n",
       "  'title': 'Inception',\n",
       "  'director': 'Christopher Nolan',\n",
       "  'genre': ['Action', 'Adventure', 'Sci-Fi'],\n",
       "  'score': 8.8},\n",
       " {'_id': ObjectId('5d63497e06b488e0b53b4998'),\n",
       "  'title': '2001: A Space Odyssey',\n",
       "  'director': 'Stanley Kubrick',\n",
       "  'genre': ['Adventure', 'Sci-Fi'],\n",
       "  'score': 8.3},\n",
       " {'_id': ObjectId('5d63497e06b488e0b53b4999'),\n",
       "  'title': 'District 9',\n",
       "  'director': 'Neill Blomkamp',\n",
       "  'genre': ['Sci-Fi', 'Thriller'],\n",
       "  'score': 7.9},\n",
       " {'_id': ObjectId('5d63497e06b488e0b53b499b'),\n",
       "  'title': 'Battlefield Earth',\n",
       "  'director': 'Roger Christian',\n",
       "  'genre': ['Action', 'Adventure', 'Sci-Fi'],\n",
       "  'score': 2.4},\n",
       " {'_id': ObjectId('5d63497e06b488e0b53b49a0'),\n",
       "  'title': 'Ant-Man and the Wasp',\n",
       "  'director': 'Peyton Reed',\n",
       "  'genre': ['Action', 'Adventure', 'Sci-Fi'],\n",
       "  'score': 7.4},\n",
       " {'_id': ObjectId('5d63497e06b488e0b53b49a1'),\n",
       "  'title': 'Alone in the Dark',\n",
       "  'director': 'Uwe Boll',\n",
       "  'genre': ['Action', 'Horror', 'Sci-Fi'],\n",
       "  'score': 2.3},\n",
       " {'_id': ObjectId('5d63497e06b488e0b53b49a2'),\n",
       "  'title': 'Ready Player One',\n",
       "  'director': 'Steven Spielberg',\n",
       "  'genre': ['Action', 'Adventure', 'Sci-Fi'],\n",
       "  'score': 7.6}]"
      ]
     },
     "execution_count": 30,
     "metadata": {},
     "output_type": "execute_result"
    }
   ],
   "source": []
  },
  {
   "cell_type": "code",
   "execution_count": null,
   "metadata": {},
   "outputs": [],
   "source": []
  }
 ],
 "metadata": {
  "kernelspec": {
   "display_name": "Python 3",
   "language": "python",
   "name": "python3"
  },
  "language_info": {
   "codemirror_mode": {
    "name": "ipython",
    "version": 3
   },
   "file_extension": ".py",
   "mimetype": "text/x-python",
   "name": "python",
   "nbconvert_exporter": "python",
   "pygments_lexer": "ipython3",
   "version": "3.7.3"
  }
 },
 "nbformat": 4,
 "nbformat_minor": 2
}
