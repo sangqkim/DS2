{
 "cells": [
  {
   "cell_type": "markdown",
   "metadata": {},
   "source": [
    "Exercise 7\n",
    "\n",
    "b)\n",
    "\n",
    "db.sales.find().sort({amount:1, _id:-1})\n",
    "\n",
    "c)\n",
    "\n",
    "db.sales.find({amount:{$lt:40}}).limit(3)\n",
    "\n",
    "d)\n",
    "\n",
    "db.sales.find().skip(2).sort({amount:-1})\n",
    "\n",
    "e)\n",
    "\n",
    "db.sales.find({'item.category':'Home'}).count()\n",
    "= db.sales.count(({'item.category':'Home'})"
   ]
  },
  {
   "cell_type": "markdown",
   "metadata": {},
   "source": [
    "Exercise 9\n",
    "\n",
    "db.city.findOne()\n",
    "\n",
    "db.city.find({state:'NY', pop:{$gt:50000}}).sort({pop:1})\n"
   ]
  },
  {
   "cell_type": "markdown",
   "metadata": {},
   "source": [
    "Exercise 10\n",
    "다 해본거니까 알꺼래 ㅎㅎ"
   ]
  },
  {
   "cell_type": "code",
   "execution_count": null,
   "metadata": {},
   "outputs": [],
   "source": []
  }
 ],
 "metadata": {
  "kernelspec": {
   "display_name": "Python 3",
   "language": "python",
   "name": "python3"
  },
  "language_info": {
   "codemirror_mode": {
    "name": "ipython",
    "version": 3
   },
   "file_extension": ".py",
   "mimetype": "text/x-python",
   "name": "python",
   "nbconvert_exporter": "python",
   "pygments_lexer": "ipython3",
   "version": "3.7.3"
  }
 },
 "nbformat": 4,
 "nbformat_minor": 2
}
