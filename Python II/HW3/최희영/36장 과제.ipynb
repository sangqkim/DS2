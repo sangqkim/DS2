{
 "cells": [
  {
   "cell_type": "code",
   "execution_count": 2,
   "metadata": {},
   "outputs": [],
   "source": [
    "import warnings\n",
    "warnings.filterwarnings(\"ignore\")\n",
    "import numpy as np\n",
    "import pandas as pd\n",
    "import seaborn as sns\n",
    "import matplotlib.pyplot as plt\n",
    "from sklearn import datasets, preprocessing\n",
    "from sklearn.linear_model import LinearRegression\n",
    "from sklearn.model_selection import train_test_split"
   ]
  },
  {
   "cell_type": "code",
   "execution_count": 9,
   "metadata": {},
   "outputs": [
    {
     "data": {
      "text/plain": [
       "(array([[-0.2298477 ,  0.88346102],\n",
       "        [-0.52474482,  0.24078249],\n",
       "        [-0.81964194, -0.40189603]]),\n",
       " array([9.52551809, 0.51430058]),\n",
       " array([[-0.61962948, -0.78489445],\n",
       "        [-0.78489445,  0.61962948]]))"
      ]
     },
     "execution_count": 9,
     "metadata": {},
     "output_type": "execute_result"
    }
   ],
   "source": [
    "#Q1. eigen value와 eigen vector 구하는 문제\n",
    "import numpy.linalg as NL\n",
    "\n",
    "a1_1 = np.array([[1,2],[3,4]])\n",
    "a1_2 = np.array([[1,2],[3,4],[5,6]])\n",
    "\n",
    "NL.eig(a1_1) #eigen vector2개, eigen value 2개 return\n",
    "'''\n",
    "(array([-0.37228132,  5.37228132]), array([[-0.82456484, -0.41597356],\n",
    "        [ 0.56576746, -0.90937671]]))\n",
    "'''\n",
    "NL.eig(a1_2) #정사각행렬이 아니므로 에러발생\n",
    "\n",
    "NL.svd(a1_1, full_matrices=True) \n",
    "#첫번째 인자: 대상 매트릭스 , 두번째 인자: True로 하면 full matrix를 전부 사용 *두번째 인자: False로 하면 정사각행렬을 사용하지 않음\n",
    "'''\n",
    "(array([[-0.40455358, -0.9145143 ],\n",
    "        [-0.9145143 ,  0.40455358]]),\n",
    " array([5.4649857 , 0.36596619]),\n",
    " array([[-0.57604844, -0.81741556],\n",
    "        [ 0.81741556, -0.57604844]]))'''\n",
    "NL.svd(a1_1, full_matrices=False) \n",
    "#1번과 결과값 같음(full_matrices를 다른 값을 주었으나 사용된 input matrix가 정사각행렬)\n",
    "'''\n",
    "(array([[-0.40455358, -0.9145143 ],\n",
    "        [-0.9145143 ,  0.40455358]]),\n",
    " array([5.4649857 , 0.36596619]),\n",
    " array([[-0.57604844, -0.81741556],\n",
    "        [ 0.81741556, -0.57604844]]))\n",
    "'''\n",
    "NL.svd(a1_2, full_matrices=True)\n",
    "'''\n",
    "(array([[-0.2298477 ,  0.88346102,  0.40824829],\n",
    "        [-0.52474482,  0.24078249, -0.81649658],\n",
    "        [-0.81964194, -0.40189603,  0.40824829]]),\n",
    " array([9.52551809, 0.51430058]),\n",
    " array([[-0.61962948, -0.78489445],\n",
    "        [-0.78489445,  0.61962948]]))\n",
    "        '''\n",
    "NL.svd(a1_2, full_matrices=False)\n",
    "'''\n",
    "(array([[-0.2298477 ,  0.88346102],\n",
    "        [-0.52474482,  0.24078249],\n",
    "        [-0.81964194, -0.40189603]]),\n",
    " array([9.52551809, 0.51430058]),\n",
    " array([[-0.61962948, -0.78489445],\n",
    "        [-0.78489445,  0.61962948]]))\n",
    "        '''"
   ]
  },
  {
   "cell_type": "code",
   "execution_count": 11,
   "metadata": {},
   "outputs": [
    {
     "data": {
      "text/plain": [
       "(array([8., 6.]), array([[ 0.70710678, -0.70710678],\n",
       "        [ 0.70710678,  0.70710678]]))"
      ]
     },
     "execution_count": 11,
     "metadata": {},
     "output_type": "execute_result"
    }
   ],
   "source": [
    "#Q2. eigen value와 eigen vector의 관계 구하기\n",
    "a2=np.array([[7,1], [1,7]])\n",
    "x,y =NL.eig(a2)\n",
    "x,y\n",
    "\n",
    "#x는 a2 matrix의 eigen value이고\n",
    "#y는 a2 matrix의 eigen vector이다.\n"
   ]
  },
  {
   "cell_type": "code",
   "execution_count": 12,
   "metadata": {},
   "outputs": [
    {
     "data": {
      "text/plain": [
       "(array([[-1.37599126e-01,  2.36114514e-02,  1.08084718e-02,\n",
       "          9.90147543e-01, -1.26568534e-16],\n",
       "        [-4.12797378e-01,  7.08343543e-02,  3.24254153e-02,\n",
       "         -5.94088526e-02, -8.85034377e-01],\n",
       "        [-5.50396503e-01,  9.44458057e-02,  4.32338870e-02,\n",
       "         -7.92118034e-02,  4.24264069e-01],\n",
       "        [-6.87995629e-01,  1.18057257e-01,  5.40423588e-02,\n",
       "         -9.90147543e-02,  1.91609371e-01],\n",
       "        [-1.52775087e-01, -5.91100963e-01, -6.53650843e-01,\n",
       "         -9.73880310e-17,  4.77815907e-17],\n",
       "        [-7.22165140e-02, -7.31311857e-01,  6.78209218e-01,\n",
       "          4.93038066e-32, -7.10764783e-17],\n",
       "        [-7.63875433e-02, -2.95550482e-01, -3.26825421e-01,\n",
       "         -4.86940155e-17, -3.16203559e-17]]),\n",
       " array([1.24810147e+01, 9.50861406e+00, 1.34555971e+00, 1.84716760e-16,\n",
       "        9.74452038e-33]),\n",
       " array([[-5.62258405e-01, -5.92859901e-01, -5.62258405e-01,\n",
       "         -9.01335372e-02, -9.01335372e-02],\n",
       "        [ 1.26641382e-01, -2.87705846e-02,  1.26641382e-01,\n",
       "         -6.95376220e-01, -6.95376220e-01],\n",
       "        [ 4.09667482e-01, -8.04791520e-01,  4.09667482e-01,\n",
       "          9.12571001e-02,  9.12571001e-02],\n",
       "        [-7.07106781e-01,  3.72941547e-16,  7.07106781e-01,\n",
       "         -2.84242227e-17,  2.70869285e-17],\n",
       "        [-0.00000000e+00,  1.27687359e-16, -1.27687359e-16,\n",
       "          7.07106781e-01, -7.07106781e-01]]))"
      ]
     },
     "execution_count": 12,
     "metadata": {},
     "output_type": "execute_result"
    }
   ],
   "source": [
    "#Q3. \n",
    "a3=np.array([[1,1,1,0,0],[3,3,3,0,0], [4,4,4,0,0], [5,5,5,0,0],[0,2,0,4,4],[0,0,0,5,5],[0,1,0,2,2]])\n",
    "U,S,V = NL.svd(a3, full_matrices=False)\n",
    "U,S,V"
   ]
  },
  {
   "cell_type": "code",
   "execution_count": 12,
   "metadata": {},
   "outputs": [],
   "source": [
    "#Q4.\n",
    "a4= np.array([1,2,3,4,5,6,7,8,9,10,11,12,13,14,15,16,17,18])\n",
    "\n",
    "b=a4.reshape(3,2,3)"
   ]
  },
  {
   "cell_type": "code",
   "execution_count": 13,
   "metadata": {},
   "outputs": [
    {
     "name": "stdout",
     "output_type": "stream",
     "text": [
      "[1 2 3]\n",
      "----\n",
      "[4 5 6]\n",
      "----\n",
      "[7 8 9]\n",
      "----\n",
      "[10 11 12]\n",
      "----\n",
      "[13 14 15]\n",
      "----\n",
      "[16 17 18]\n",
      "----\n"
     ]
    }
   ],
   "source": [
    "for row in b:\n",
    "    for row in row:\n",
    "        print(row)\n",
    "        print(\"----\")"
   ]
  },
  {
   "cell_type": "code",
   "execution_count": null,
   "metadata": {},
   "outputs": [],
   "source": []
  }
 ],
 "metadata": {
  "kernelspec": {
   "display_name": "Python 3",
   "language": "python",
   "name": "python3"
  },
  "language_info": {
   "codemirror_mode": {
    "name": "ipython",
    "version": 3
   },
   "file_extension": ".py",
   "mimetype": "text/x-python",
   "name": "python",
   "nbconvert_exporter": "python",
   "pygments_lexer": "ipython3",
   "version": "3.7.3"
  }
 },
 "nbformat": 4,
 "nbformat_minor": 2
}
