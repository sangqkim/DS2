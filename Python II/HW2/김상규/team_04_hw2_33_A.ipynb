{
 "cells": [
  {
   "cell_type": "code",
   "execution_count": 1,
   "metadata": {},
   "outputs": [],
   "source": [
    "import numpy as np\n",
    "from scipy import stats\n",
    "from scipy import linalg\n",
    "import matplotlib.pyplot as plt\n",
    "import warnings\n",
    "warnings.filterwarnings(\"ignore\")"
   ]
  },
  {
   "cell_type": "markdown",
   "metadata": {},
   "source": [
    "#### 1. numpy 및 scipy 라이브러리를 사용하여 아래의 코드를 작성하시오."
   ]
  },
  {
   "cell_type": "code",
   "execution_count": 2,
   "metadata": {},
   "outputs": [],
   "source": [
    "# 1-(a)\n",
    "n = np.random.normal(size=500) # 정규분포 랜덤 500개"
   ]
  },
  {
   "cell_type": "code",
   "execution_count": 3,
   "metadata": {},
   "outputs": [
    {
     "data": {
      "text/plain": [
       "-0.0009721591178949375"
      ]
     },
     "execution_count": 3,
     "metadata": {},
     "output_type": "execute_result"
    }
   ],
   "source": [
    "# 1-(b)\n",
    "np.median(n) # 중앙값"
   ]
  },
  {
   "cell_type": "code",
   "execution_count": 4,
   "metadata": {},
   "outputs": [
    {
     "data": {
      "text/plain": [
       "0.9408665414674138"
      ]
     },
     "execution_count": 4,
     "metadata": {},
     "output_type": "execute_result"
    }
   ],
   "source": [
    "# 1-(c)\n",
    "np.std(n) # 표준편차"
   ]
  },
  {
   "cell_type": "code",
   "execution_count": 5,
   "metadata": {},
   "outputs": [
    {
     "data": {
      "text/plain": [
       "0.7989822330382719"
      ]
     },
     "execution_count": 5,
     "metadata": {},
     "output_type": "execute_result"
    }
   ],
   "source": [
    "# 1-(d)\n",
    "stats.scoreatpercentile(n, 80) # 상위 20% 값"
   ]
  },
  {
   "cell_type": "code",
   "execution_count": 6,
   "metadata": {},
   "outputs": [],
   "source": [
    "# 1-(e)\n",
    "loc, std = stats.norm.fit(n) #\n",
    "#np.mean(n)\n",
    "#np.std(n)"
   ]
  },
  {
   "cell_type": "markdown",
   "metadata": {},
   "source": [
    "#### 2. 주어진 행렬 arr 에 대하여 아래의 행렬 연산을 numpy 혹은 scipy 를 활용하여 구하시오."
   ]
  },
  {
   "cell_type": "code",
   "execution_count": 7,
   "metadata": {},
   "outputs": [],
   "source": [
    "# 2\n",
    "from scipy import linalg\n",
    "\n",
    "arr = np.array([[1,3,5],\n",
    "                 [2,4,6],\n",
    "                 [6,5,8]])"
   ]
  },
  {
   "cell_type": "code",
   "execution_count": 8,
   "metadata": {},
   "outputs": [
    {
     "data": {
      "text/plain": [
       "-7.999999999999992"
      ]
     },
     "execution_count": 8,
     "metadata": {},
     "output_type": "execute_result"
    }
   ],
   "source": [
    "# 2-(a)\n",
    "linalg.det(arr) # determinant"
   ]
  },
  {
   "cell_type": "code",
   "execution_count": 9,
   "metadata": {},
   "outputs": [
    {
     "data": {
      "text/plain": [
       "array([[-0.25 , -0.125,  0.25 ],\n",
       "       [-2.5  ,  2.75 , -0.5  ],\n",
       "       [ 1.75 , -1.625,  0.25 ]])"
      ]
     },
     "execution_count": 9,
     "metadata": {},
     "output_type": "execute_result"
    }
   ],
   "source": [
    "# 2-(b)\n",
    "linalg.inv(arr) # 역행렬"
   ]
  },
  {
   "cell_type": "markdown",
   "metadata": {},
   "source": [
    "#### 3. 주어진 행렬 arr2의 determinant를 구하시오 . 오류가 발생한다면, 그 원인을 서술하시오."
   ]
  },
  {
   "cell_type": "code",
   "execution_count": 10,
   "metadata": {},
   "outputs": [
    {
     "data": {
      "text/plain": [
       "'\\n에러가 발생함\\n이유는 square matrix가 아닌 matrix에서는 determinant를 구할 수 없다.\\n'"
      ]
     },
     "execution_count": 10,
     "metadata": {},
     "output_type": "execute_result"
    }
   ],
   "source": [
    "# 3\n",
    "arr2 = np.array([[1,2,3,4],\n",
    "                 [3,8,5,2],\n",
    "                 [4,3,6,2]])\n",
    "\n",
    "#print(linalg.det(arr2))\n",
    "'''\n",
    "에러가 발생함\n",
    "이유는 square matrix가 아닌 matrix에서는 determinant를 구할 수 없다.\n",
    "'''"
   ]
  },
  {
   "cell_type": "markdown",
   "metadata": {},
   "source": [
    "#### 4.다음의 행렬에 대해 scipy 를 사용하지 말고 , numpy 및 Gaussian 소거법을 사용하여 LU Decomposition 을 구하시오."
   ]
  },
  {
   "cell_type": "code",
   "execution_count": 12,
   "metadata": {},
   "outputs": [
    {
     "name": "stdout",
     "output_type": "stream",
     "text": [
      "U=\n",
      "[[ 2.  2.  2.]\n",
      " [ 4.  7.  7.]\n",
      " [ 6. 18. 22.]]\n"
     ]
    }
   ],
   "source": [
    "# 4\n",
    "A = np.array( [[2,2,2], [4,7,7], [6,18,22]])\n",
    "\n",
    "U = np.identity(3)\n",
    "np.copyto(U, A)\n",
    "print('U=\\n' + str(U))"
   ]
  },
  {
   "cell_type": "code",
   "execution_count": 13,
   "metadata": {},
   "outputs": [
    {
     "name": "stdout",
     "output_type": "stream",
     "text": [
      "L=\n",
      "[[ 1. -0.  0.]\n",
      " [ 2.  1.  0.]\n",
      " [ 3.  4.  1.]]\n",
      "U=\n",
      "[[2. 2. 2.]\n",
      " [0. 3. 3.]\n",
      " [0. 0. 4.]]\n",
      "A=LU\n",
      "[[ 2.  2.  2.]\n",
      " [ 4.  7.  7.]\n",
      " [ 6. 18. 22.]]\n"
     ]
    }
   ],
   "source": [
    "# step 1\n",
    "U[1] = U[1] + (-2)*U[0]\n",
    "E_21 = np.identity(3)\n",
    "E_21[1,0] = -2\n",
    "\n",
    "# step2\n",
    "U[2] = U[2] + (-3)*U[0]\n",
    "E_31 = np.identity(3)\n",
    "E_31[2,0] = -3\n",
    "\n",
    "# step 3\n",
    "U[2] = U[2] + (-4)*U[1]\n",
    "E_32 = np.identity(3)\n",
    "E_32[2,1] = -4\n",
    "\n",
    "L = linalg.inv(np.dot(E_32, np.dot(E_31, E_21)))\n",
    "\n",
    "print('L=\\n' + str(L))\n",
    "print('U=\\n' + str(U))\n",
    "print('A=LU\\n'+str(np.dot(L, U)))"
   ]
  },
  {
   "cell_type": "code",
   "execution_count": 19,
   "metadata": {},
   "outputs": [],
   "source": [
    "linalg.lu?"
   ]
  },
  {
   "cell_type": "code",
   "execution_count": 21,
   "metadata": {},
   "outputs": [
    {
     "name": "stdout",
     "output_type": "stream",
     "text": [
      "P=\n",
      "[[0. 0. 1.]\n",
      " [0. 1. 0.]\n",
      " [1. 0. 0.]]\n",
      "L=\n",
      "[[1.         0.         0.        ]\n",
      " [0.66666667 1.         0.        ]\n",
      " [0.33333333 0.8        1.        ]]\n",
      "U=\n",
      "[[ 6.         18.         22.        ]\n",
      " [ 0.         -5.         -7.66666667]\n",
      " [ 0.          0.          0.8       ]]\n",
      "PLU=\n",
      "[[ 2.  2.  2.]\n",
      " [ 4.  7.  7.]\n",
      " [ 6. 18. 22.]]\n"
     ]
    }
   ],
   "source": [
    "# 5\n",
    "A = np.array( [[2,2,2], [4,7,7], [6,18,22]])\n",
    "P, L, U = linalg.lu(A, permute_l=False)\n",
    "print('P=\\n' + str(P))\n",
    "print('L=\\n' + str(L))\n",
    "print('U=\\n' + str(U))\n",
    "print('PLU=\\n' + str(np.matmul(P, np.matmul(L,U))))"
   ]
  },
  {
   "cell_type": "markdown",
   "metadata": {},
   "source": [
    "#### 6. numpy 에 내장된 함수들을 사용하여 진폭이 4, 주기가 2인 cos 형태의 파동을 만들고, 정규분포를 따르는 noise를 추가하시오."
   ]
  },
  {
   "cell_type": "code",
   "execution_count": 22,
   "metadata": {},
   "outputs": [
    {
     "data": {
      "image/png": "[encoded data removed]",
      "text/plain": [
       "<Figure size 432x288 with 1 Axes>"
      ]
     },
     "metadata": {
      "needs_background": "light"
     },
     "output_type": "display_data"
    }
   ],
   "source": [
    "# 6\n",
    "np.random.seed(0)\n",
    "x_data = np.linspace(-5, 5, 50)\n",
    "y_data = 4*np.cos(2*x_data) + np.random.normal(size=50)\n",
    "plt.plot(x_data, y_data)\n",
    "plt.show()"
   ]
  },
  {
   "cell_type": "markdown",
   "metadata": {},
   "source": [
    "#### 7.실험 데이터로부터 위와 같은 모양의 파동 데이터 로그만을 수집했다고 가정하자. 해당 파동 데이터가 cos 함수로부터 생성됬을 때와 sin 함수로 생성됬을 때의 진폭과 주기를 각각 구해보시오."
   ]
  },
  {
   "cell_type": "code",
   "execution_count": 42,
   "metadata": {},
   "outputs": [],
   "source": [
    "# 7\n",
    "from scipy import optimize\n",
    "cos_parameter, cos_parameter_cov = optimize.curve_fit(lambda x, a, b: a*np.cos(b*x), x_data, y_data, p0=[2,2])\n",
    "sin_parameter, sin_parameter_cov = optimize.curve_fit(lambda x, a, b: a*np.sin(b*x), x_data, y_data, p0=[2,2])"
   ]
  },
  {
   "cell_type": "code",
   "execution_count": 53,
   "metadata": {},
   "outputs": [
    {
     "data": {
      "image/png": "[encoded data removed]",
      "text/plain": [
       "<Figure size 432x288 with 1 Axes>"
      ]
     },
     "metadata": {
      "needs_background": "light"
     },
     "output_type": "display_data"
    }
   ],
   "source": [
    "np.random.seed(0)\n",
    "x_data = np.linspace(-5, 5, 50)\n",
    "y_data = 4*np.cos(2*x_data) + np.random.normal(size=50)\n",
    "plt.plot(x_data, y_data)\n",
    "plt.plot(x_data, cos_parameter[0]*np.cos(cos_parameter[1]*x_data) + np.random.normal(size=50))\n",
    "plt.plot(x_data, sin_parameter[0]*np.sin(sin_parameter[1]*x_data) + np.random.normal(size=50))\n",
    "plt.show()\n"
   ]
  },
  {
   "cell_type": "markdown",
   "metadata": {},
   "source": [
    "#### 8. A 중학교 1학년 1반과 1학년 2반 학생들의 몸무게를 측정한 결과가 아래와 같다. 두 반의 몸무게 분포의 기댓값이 동일한지를 검정하시오"
   ]
  },
  {
   "cell_type": "code",
   "execution_count": 56,
   "metadata": {},
   "outputs": [],
   "source": [
    "class1 = [65.9, 53.6, 57.3, 59.3, 63.8, 59.2, 64.2, 75.0, 62.9]\n",
    "class2 = [76.3, 82.1, 73.3, 69.3, 59.9, 72.1, 59.1, 86.8, 78.1]"
   ]
  },
  {
   "cell_type": "code",
   "execution_count": 70,
   "metadata": {},
   "outputs": [
    {
     "data": {
      "text/plain": [
       "0.011074273265303296"
      ]
     },
     "execution_count": 70,
     "metadata": {},
     "output_type": "execute_result"
    }
   ],
   "source": [
    "t, p = stats.ttest_ind(class1, class2)\n",
    "p\n",
    "# p value < 0.05이므로 두 반의 몸무게 분포의 기댓값은 다르다. (유의수준 0.05 기준)"
   ]
  }
 ],
 "metadata": {
  "kernelspec": {
   "display_name": "Python 3",
   "language": "python",
   "name": "python3"
  },
  "language_info": {
   "codemirror_mode": {
    "name": "ipython",
    "version": 3
   },
   "file_extension": ".py",
   "mimetype": "text/x-python",
   "name": "python",
   "nbconvert_exporter": "python",
   "pygments_lexer": "ipython3",
   "version": "3.7.3"
  }
 },
 "nbformat": 4,
 "nbformat_minor": 2
}
