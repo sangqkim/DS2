{
 "cells": [
  {
   "cell_type": "code",
   "execution_count": 1,
   "metadata": {},
   "outputs": [],
   "source": [
    "import pandas as pd\n",
    "import matplotlib.pyplot as plt\n",
    "import seaborn as sns\n",
    "import numpy as np\n",
    "#import sklearn\n",
    "import sklearn.neural_network as nn\n",
    "import sklearn.svm as svm\n",
    "import sklearn.linear_model as lm\n",
    "import sklearn.neighbors as neighbors\n",
    "import sklearn.tree as tree\n",
    "%matplotlib inline\n",
    "import warnings\n",
    "warnings.filterwarnings(\"ignore\")"
   ]
  },
  {
   "cell_type": "markdown",
   "metadata": {},
   "source": [
    "### 1. 데이터 불러오기 및 데이터 파악"
   ]
  },
  {
   "cell_type": "code",
   "execution_count": 2,
   "metadata": {},
   "outputs": [
    {
     "data": {
      "text/html": [
       "<div>\n",
       "<style scoped>\n",
       "    .dataframe tbody tr th:only-of-type {\n",
       "        vertical-align: middle;\n",
       "    }\n",
       "\n",
       "    .dataframe tbody tr th {\n",
       "        vertical-align: top;\n",
       "    }\n",
       "\n",
       "    .dataframe thead th {\n",
       "        text-align: right;\n",
       "    }\n",
       "</style>\n",
       "<table border=\"1\" class=\"dataframe\">\n",
       "  <thead>\n",
       "    <tr style=\"text-align: right;\">\n",
       "      <th></th>\n",
       "      <th>Time</th>\n",
       "      <th>V1</th>\n",
       "      <th>V2</th>\n",
       "      <th>V3</th>\n",
       "      <th>V4</th>\n",
       "      <th>V5</th>\n",
       "      <th>V6</th>\n",
       "      <th>V7</th>\n",
       "      <th>V8</th>\n",
       "      <th>V9</th>\n",
       "      <th>...</th>\n",
       "      <th>V21</th>\n",
       "      <th>V22</th>\n",
       "      <th>V23</th>\n",
       "      <th>V24</th>\n",
       "      <th>V25</th>\n",
       "      <th>V26</th>\n",
       "      <th>V27</th>\n",
       "      <th>V28</th>\n",
       "      <th>Amount</th>\n",
       "      <th>Class</th>\n",
       "    </tr>\n",
       "  </thead>\n",
       "  <tbody>\n",
       "    <tr>\n",
       "      <th>0</th>\n",
       "      <td>0.0</td>\n",
       "      <td>-1.359807</td>\n",
       "      <td>-0.072781</td>\n",
       "      <td>2.536347</td>\n",
       "      <td>1.378155</td>\n",
       "      <td>-0.338321</td>\n",
       "      <td>0.462388</td>\n",
       "      <td>0.239599</td>\n",
       "      <td>0.098698</td>\n",
       "      <td>0.363787</td>\n",
       "      <td>...</td>\n",
       "      <td>-0.018307</td>\n",
       "      <td>0.277838</td>\n",
       "      <td>-0.110474</td>\n",
       "      <td>0.066928</td>\n",
       "      <td>0.128539</td>\n",
       "      <td>-0.189115</td>\n",
       "      <td>0.133558</td>\n",
       "      <td>-0.021053</td>\n",
       "      <td>149.62</td>\n",
       "      <td>0</td>\n",
       "    </tr>\n",
       "    <tr>\n",
       "      <th>1</th>\n",
       "      <td>0.0</td>\n",
       "      <td>1.191857</td>\n",
       "      <td>0.266151</td>\n",
       "      <td>0.166480</td>\n",
       "      <td>0.448154</td>\n",
       "      <td>0.060018</td>\n",
       "      <td>-0.082361</td>\n",
       "      <td>-0.078803</td>\n",
       "      <td>0.085102</td>\n",
       "      <td>-0.255425</td>\n",
       "      <td>...</td>\n",
       "      <td>-0.225775</td>\n",
       "      <td>-0.638672</td>\n",
       "      <td>0.101288</td>\n",
       "      <td>-0.339846</td>\n",
       "      <td>0.167170</td>\n",
       "      <td>0.125895</td>\n",
       "      <td>-0.008983</td>\n",
       "      <td>0.014724</td>\n",
       "      <td>2.69</td>\n",
       "      <td>0</td>\n",
       "    </tr>\n",
       "    <tr>\n",
       "      <th>2</th>\n",
       "      <td>1.0</td>\n",
       "      <td>-1.358354</td>\n",
       "      <td>-1.340163</td>\n",
       "      <td>1.773209</td>\n",
       "      <td>0.379780</td>\n",
       "      <td>-0.503198</td>\n",
       "      <td>1.800499</td>\n",
       "      <td>0.791461</td>\n",
       "      <td>0.247676</td>\n",
       "      <td>-1.514654</td>\n",
       "      <td>...</td>\n",
       "      <td>0.247998</td>\n",
       "      <td>0.771679</td>\n",
       "      <td>0.909412</td>\n",
       "      <td>-0.689281</td>\n",
       "      <td>-0.327642</td>\n",
       "      <td>-0.139097</td>\n",
       "      <td>-0.055353</td>\n",
       "      <td>-0.059752</td>\n",
       "      <td>378.66</td>\n",
       "      <td>0</td>\n",
       "    </tr>\n",
       "    <tr>\n",
       "      <th>3</th>\n",
       "      <td>1.0</td>\n",
       "      <td>-0.966272</td>\n",
       "      <td>-0.185226</td>\n",
       "      <td>1.792993</td>\n",
       "      <td>-0.863291</td>\n",
       "      <td>-0.010309</td>\n",
       "      <td>1.247203</td>\n",
       "      <td>0.237609</td>\n",
       "      <td>0.377436</td>\n",
       "      <td>-1.387024</td>\n",
       "      <td>...</td>\n",
       "      <td>-0.108300</td>\n",
       "      <td>0.005274</td>\n",
       "      <td>-0.190321</td>\n",
       "      <td>-1.175575</td>\n",
       "      <td>0.647376</td>\n",
       "      <td>-0.221929</td>\n",
       "      <td>0.062723</td>\n",
       "      <td>0.061458</td>\n",
       "      <td>123.50</td>\n",
       "      <td>0</td>\n",
       "    </tr>\n",
       "    <tr>\n",
       "      <th>4</th>\n",
       "      <td>2.0</td>\n",
       "      <td>-1.158233</td>\n",
       "      <td>0.877737</td>\n",
       "      <td>1.548718</td>\n",
       "      <td>0.403034</td>\n",
       "      <td>-0.407193</td>\n",
       "      <td>0.095921</td>\n",
       "      <td>0.592941</td>\n",
       "      <td>-0.270533</td>\n",
       "      <td>0.817739</td>\n",
       "      <td>...</td>\n",
       "      <td>-0.009431</td>\n",
       "      <td>0.798278</td>\n",
       "      <td>-0.137458</td>\n",
       "      <td>0.141267</td>\n",
       "      <td>-0.206010</td>\n",
       "      <td>0.502292</td>\n",
       "      <td>0.219422</td>\n",
       "      <td>0.215153</td>\n",
       "      <td>69.99</td>\n",
       "      <td>0</td>\n",
       "    </tr>\n",
       "  </tbody>\n",
       "</table>\n",
       "<p>5 rows × 31 columns</p>\n",
       "</div>"
      ],
      "text/plain": [
       "   Time        V1        V2        V3        V4        V5        V6        V7  \\\n",
       "0   0.0 -1.359807 -0.072781  2.536347  1.378155 -0.338321  0.462388  0.239599   \n",
       "1   0.0  1.191857  0.266151  0.166480  0.448154  0.060018 -0.082361 -0.078803   \n",
       "2   1.0 -1.358354 -1.340163  1.773209  0.379780 -0.503198  1.800499  0.791461   \n",
       "3   1.0 -0.966272 -0.185226  1.792993 -0.863291 -0.010309  1.247203  0.237609   \n",
       "4   2.0 -1.158233  0.877737  1.548718  0.403034 -0.407193  0.095921  0.592941   \n",
       "\n",
       "         V8        V9  ...       V21       V22       V23       V24       V25  \\\n",
       "0  0.098698  0.363787  ... -0.018307  0.277838 -0.110474  0.066928  0.128539   \n",
       "1  0.085102 -0.255425  ... -0.225775 -0.638672  0.101288 -0.339846  0.167170   \n",
       "2  0.247676 -1.514654  ...  0.247998  0.771679  0.909412 -0.689281 -0.327642   \n",
       "3  0.377436 -1.387024  ... -0.108300  0.005274 -0.190321 -1.175575  0.647376   \n",
       "4 -0.270533  0.817739  ... -0.009431  0.798278 -0.137458  0.141267 -0.206010   \n",
       "\n",
       "        V26       V27       V28  Amount  Class  \n",
       "0 -0.189115  0.133558 -0.021053  149.62      0  \n",
       "1  0.125895 -0.008983  0.014724    2.69      0  \n",
       "2 -0.139097 -0.055353 -0.059752  378.66      0  \n",
       "3 -0.221929  0.062723  0.061458  123.50      0  \n",
       "4  0.502292  0.219422  0.215153   69.99      0  \n",
       "\n",
       "[5 rows x 31 columns]"
      ]
     },
     "execution_count": 2,
     "metadata": {},
     "output_type": "execute_result"
    }
   ],
   "source": [
    "df = pd.read_csv('./sklearn_practice.csv.txt')\n",
    "df.head()"
   ]
  },
  {
   "cell_type": "markdown",
   "metadata": {},
   "source": [
    "#### null 포함 여부 체크\n",
    "- null 값은 가지고 있지 않음"
   ]
  },
  {
   "cell_type": "code",
   "execution_count": 3,
   "metadata": {},
   "outputs": [
    {
     "data": {
      "text/plain": [
       "0"
      ]
     },
     "execution_count": 3,
     "metadata": {},
     "output_type": "execute_result"
    }
   ],
   "source": [
    "df.isnull().sum().sum()"
   ]
  },
  {
   "cell_type": "code",
   "execution_count": 4,
   "metadata": {},
   "outputs": [
    {
     "name": "stdout",
     "output_type": "stream",
     "text": [
      "# of zeros: 284315, # of ones: 492, ones/zeros ratio: 0.001730%\n"
     ]
    }
   ],
   "source": [
    "class_zero = df[df['Class'] == 0]\n",
    "class_one = df[df['Class'] == 1]\n",
    "print('# of zeros: %d, # of ones: %d, ones/zeros ratio: %f%%' \n",
    "      %(len(class_zero), len(class_one), len(class_one)/len(class_zero)))"
   ]
  },
  {
   "cell_type": "markdown",
   "metadata": {},
   "source": [
    "### 2. Training/Test Data Split\n",
    "- class별 데이터가 불균형하므로 이를 위한 보완 방법 필요\n",
    " - 적은 수에 맞춰 under-sampling\n",
    " - 적은 수를 많은 수에 맞춰 수를 키워 분석"
   ]
  },
  {
   "cell_type": "code",
   "execution_count": null,
   "metadata": {},
   "outputs": [],
   "source": []
  },
  {
   "cell_type": "code",
   "execution_count": 16,
   "metadata": {},
   "outputs": [],
   "source": [
    "data = pd.concat([class_zero.sample(n=len(class_zero)), class_one.sample(n=len(class_one))]) # Return a random sample of items from an axis of object"
   ]
  },
  {
   "cell_type": "code",
   "execution_count": 43,
   "metadata": {},
   "outputs": [],
   "source": [
    "train_data = data.iloc[100:-100] # Class 0, 1에서 각각 100개씩 빼고 나머지\n",
    "test_data = pd.concat([data.iloc[:100], data.iloc[-100:]])"
   ]
  },
  {
   "cell_type": "code",
   "execution_count": 44,
   "metadata": {},
   "outputs": [],
   "source": [
    "x_train = train_data.loc[:, 'Time':'Amount']\n",
    "y_train = train_data.loc[:, 'Class']\n",
    "# test set\n",
    "x_test = test_data.loc[:, 'Time':'Amount']\n",
    "y_test = test_data.loc[:, 'Class']"
   ]
  },
  {
   "cell_type": "code",
   "execution_count": 45,
   "metadata": {},
   "outputs": [
    {
     "data": {
      "text/html": [
       "<div>\n",
       "<style scoped>\n",
       "    .dataframe tbody tr th:only-of-type {\n",
       "        vertical-align: middle;\n",
       "    }\n",
       "\n",
       "    .dataframe tbody tr th {\n",
       "        vertical-align: top;\n",
       "    }\n",
       "\n",
       "    .dataframe thead th {\n",
       "        text-align: right;\n",
       "    }\n",
       "</style>\n",
       "<table border=\"1\" class=\"dataframe\">\n",
       "  <thead>\n",
       "    <tr style=\"text-align: right;\">\n",
       "      <th></th>\n",
       "      <th>Time</th>\n",
       "      <th>V1</th>\n",
       "      <th>V2</th>\n",
       "      <th>V3</th>\n",
       "      <th>V4</th>\n",
       "      <th>V5</th>\n",
       "      <th>V6</th>\n",
       "      <th>V7</th>\n",
       "      <th>V8</th>\n",
       "      <th>V9</th>\n",
       "      <th>...</th>\n",
       "      <th>V20</th>\n",
       "      <th>V21</th>\n",
       "      <th>V22</th>\n",
       "      <th>V23</th>\n",
       "      <th>V24</th>\n",
       "      <th>V25</th>\n",
       "      <th>V26</th>\n",
       "      <th>V27</th>\n",
       "      <th>V28</th>\n",
       "      <th>Amount</th>\n",
       "    </tr>\n",
       "  </thead>\n",
       "  <tbody>\n",
       "    <tr>\n",
       "      <th>80934</th>\n",
       "      <td>58723.0</td>\n",
       "      <td>-3.761756</td>\n",
       "      <td>-2.973654</td>\n",
       "      <td>1.216834</td>\n",
       "      <td>1.004887</td>\n",
       "      <td>1.572242</td>\n",
       "      <td>-1.782237</td>\n",
       "      <td>-0.835267</td>\n",
       "      <td>0.687423</td>\n",
       "      <td>-0.577564</td>\n",
       "      <td>...</td>\n",
       "      <td>1.235996</td>\n",
       "      <td>0.227157</td>\n",
       "      <td>-1.103118</td>\n",
       "      <td>0.376861</td>\n",
       "      <td>0.043532</td>\n",
       "      <td>0.004370</td>\n",
       "      <td>0.059044</td>\n",
       "      <td>-0.100892</td>\n",
       "      <td>-0.522166</td>\n",
       "      <td>189.79</td>\n",
       "    </tr>\n",
       "    <tr>\n",
       "      <th>65628</th>\n",
       "      <td>51677.0</td>\n",
       "      <td>1.035767</td>\n",
       "      <td>0.102629</td>\n",
       "      <td>1.433879</td>\n",
       "      <td>2.489614</td>\n",
       "      <td>-0.629208</td>\n",
       "      <td>0.800582</td>\n",
       "      <td>-0.764639</td>\n",
       "      <td>0.484013</td>\n",
       "      <td>-0.121008</td>\n",
       "      <td>...</td>\n",
       "      <td>-0.240365</td>\n",
       "      <td>0.023277</td>\n",
       "      <td>0.083557</td>\n",
       "      <td>0.076245</td>\n",
       "      <td>-0.031513</td>\n",
       "      <td>0.123643</td>\n",
       "      <td>-0.032457</td>\n",
       "      <td>0.041449</td>\n",
       "      <td>0.021203</td>\n",
       "      <td>6.79</td>\n",
       "    </tr>\n",
       "    <tr>\n",
       "      <th>153030</th>\n",
       "      <td>97800.0</td>\n",
       "      <td>1.728189</td>\n",
       "      <td>-0.687066</td>\n",
       "      <td>-1.225441</td>\n",
       "      <td>0.408864</td>\n",
       "      <td>-0.072113</td>\n",
       "      <td>-0.227949</td>\n",
       "      <td>-0.039446</td>\n",
       "      <td>-0.165544</td>\n",
       "      <td>2.155010</td>\n",
       "      <td>...</td>\n",
       "      <td>0.046673</td>\n",
       "      <td>0.066237</td>\n",
       "      <td>0.353269</td>\n",
       "      <td>-0.055650</td>\n",
       "      <td>0.769426</td>\n",
       "      <td>0.103370</td>\n",
       "      <td>0.084447</td>\n",
       "      <td>-0.090353</td>\n",
       "      <td>-0.045875</td>\n",
       "      <td>153.50</td>\n",
       "    </tr>\n",
       "    <tr>\n",
       "      <th>185320</th>\n",
       "      <td>126620.0</td>\n",
       "      <td>1.986880</td>\n",
       "      <td>-0.924526</td>\n",
       "      <td>-0.316675</td>\n",
       "      <td>-0.044651</td>\n",
       "      <td>-1.209698</td>\n",
       "      <td>-0.694260</td>\n",
       "      <td>-0.727517</td>\n",
       "      <td>-0.150530</td>\n",
       "      <td>-0.113995</td>\n",
       "      <td>...</td>\n",
       "      <td>-0.476093</td>\n",
       "      <td>-0.573596</td>\n",
       "      <td>-1.198184</td>\n",
       "      <td>0.456756</td>\n",
       "      <td>-0.015628</td>\n",
       "      <td>-0.708762</td>\n",
       "      <td>-0.070974</td>\n",
       "      <td>-0.000396</td>\n",
       "      <td>-0.023134</td>\n",
       "      <td>68.00</td>\n",
       "    </tr>\n",
       "    <tr>\n",
       "      <th>50572</th>\n",
       "      <td>44549.0</td>\n",
       "      <td>-1.027973</td>\n",
       "      <td>0.557311</td>\n",
       "      <td>1.151761</td>\n",
       "      <td>0.792277</td>\n",
       "      <td>-0.275684</td>\n",
       "      <td>0.492160</td>\n",
       "      <td>1.361558</td>\n",
       "      <td>-0.068233</td>\n",
       "      <td>-0.510555</td>\n",
       "      <td>...</td>\n",
       "      <td>-0.220466</td>\n",
       "      <td>0.072639</td>\n",
       "      <td>0.469634</td>\n",
       "      <td>-0.056815</td>\n",
       "      <td>0.257526</td>\n",
       "      <td>-0.229502</td>\n",
       "      <td>-0.470184</td>\n",
       "      <td>-0.009044</td>\n",
       "      <td>0.194927</td>\n",
       "      <td>200.00</td>\n",
       "    </tr>\n",
       "  </tbody>\n",
       "</table>\n",
       "<p>5 rows × 30 columns</p>\n",
       "</div>"
      ],
      "text/plain": [
       "            Time        V1        V2        V3        V4        V5        V6  \\\n",
       "80934    58723.0 -3.761756 -2.973654  1.216834  1.004887  1.572242 -1.782237   \n",
       "65628    51677.0  1.035767  0.102629  1.433879  2.489614 -0.629208  0.800582   \n",
       "153030   97800.0  1.728189 -0.687066 -1.225441  0.408864 -0.072113 -0.227949   \n",
       "185320  126620.0  1.986880 -0.924526 -0.316675 -0.044651 -1.209698 -0.694260   \n",
       "50572    44549.0 -1.027973  0.557311  1.151761  0.792277 -0.275684  0.492160   \n",
       "\n",
       "              V7        V8        V9  ...       V20       V21       V22  \\\n",
       "80934  -0.835267  0.687423 -0.577564  ...  1.235996  0.227157 -1.103118   \n",
       "65628  -0.764639  0.484013 -0.121008  ... -0.240365  0.023277  0.083557   \n",
       "153030 -0.039446 -0.165544  2.155010  ...  0.046673  0.066237  0.353269   \n",
       "185320 -0.727517 -0.150530 -0.113995  ... -0.476093 -0.573596 -1.198184   \n",
       "50572   1.361558 -0.068233 -0.510555  ... -0.220466  0.072639  0.469634   \n",
       "\n",
       "             V23       V24       V25       V26       V27       V28  Amount  \n",
       "80934   0.376861  0.043532  0.004370  0.059044 -0.100892 -0.522166  189.79  \n",
       "65628   0.076245 -0.031513  0.123643 -0.032457  0.041449  0.021203    6.79  \n",
       "153030 -0.055650  0.769426  0.103370  0.084447 -0.090353 -0.045875  153.50  \n",
       "185320  0.456756 -0.015628 -0.708762 -0.070974 -0.000396 -0.023134   68.00  \n",
       "50572  -0.056815  0.257526 -0.229502 -0.470184 -0.009044  0.194927  200.00  \n",
       "\n",
       "[5 rows x 30 columns]"
      ]
     },
     "execution_count": 45,
     "metadata": {},
     "output_type": "execute_result"
    }
   ],
   "source": [
    "x_train.head()"
   ]
  },
  {
   "cell_type": "markdown",
   "metadata": {},
   "source": [
    "### 불필요 컬럼 제거"
   ]
  },
  {
   "cell_type": "code",
   "execution_count": 32,
   "metadata": {},
   "outputs": [],
   "source": [
    "# x_train = train_data.loc[:, 'V1':'V4']\n",
    "# x_test = test_data.loc[:, 'V1':'V4']\n",
    "# del x_train['V13']\n",
    "# del x_test['V13']\n",
    "# del x_train['V15']\n",
    "# del x_test['V15']\n",
    "del x_train['V20']\n",
    "del x_test['V20']"
   ]
  },
  {
   "cell_type": "code",
   "execution_count": 41,
   "metadata": {},
   "outputs": [
    {
     "data": {
      "text/html": [
       "<div>\n",
       "<style scoped>\n",
       "    .dataframe tbody tr th:only-of-type {\n",
       "        vertical-align: middle;\n",
       "    }\n",
       "\n",
       "    .dataframe tbody tr th {\n",
       "        vertical-align: top;\n",
       "    }\n",
       "\n",
       "    .dataframe thead th {\n",
       "        text-align: right;\n",
       "    }\n",
       "</style>\n",
       "<table border=\"1\" class=\"dataframe\">\n",
       "  <thead>\n",
       "    <tr style=\"text-align: right;\">\n",
       "      <th></th>\n",
       "      <th>Time</th>\n",
       "      <th>V1</th>\n",
       "      <th>V2</th>\n",
       "      <th>V3</th>\n",
       "      <th>V4</th>\n",
       "      <th>V5</th>\n",
       "      <th>V6</th>\n",
       "      <th>V7</th>\n",
       "      <th>V8</th>\n",
       "      <th>V9</th>\n",
       "      <th>...</th>\n",
       "      <th>V19</th>\n",
       "      <th>V21</th>\n",
       "      <th>V22</th>\n",
       "      <th>V23</th>\n",
       "      <th>V24</th>\n",
       "      <th>V25</th>\n",
       "      <th>V26</th>\n",
       "      <th>V27</th>\n",
       "      <th>V28</th>\n",
       "      <th>Amount</th>\n",
       "    </tr>\n",
       "  </thead>\n",
       "  <tbody>\n",
       "    <tr>\n",
       "      <th>80934</th>\n",
       "      <td>58723.0</td>\n",
       "      <td>-3.761756</td>\n",
       "      <td>-2.973654</td>\n",
       "      <td>1.216834</td>\n",
       "      <td>1.004887</td>\n",
       "      <td>1.572242</td>\n",
       "      <td>-1.782237</td>\n",
       "      <td>-0.835267</td>\n",
       "      <td>0.687423</td>\n",
       "      <td>-0.577564</td>\n",
       "      <td>...</td>\n",
       "      <td>-0.302898</td>\n",
       "      <td>0.227157</td>\n",
       "      <td>-1.103118</td>\n",
       "      <td>0.376861</td>\n",
       "      <td>0.043532</td>\n",
       "      <td>0.004370</td>\n",
       "      <td>0.059044</td>\n",
       "      <td>-0.100892</td>\n",
       "      <td>-0.522166</td>\n",
       "      <td>189.79</td>\n",
       "    </tr>\n",
       "    <tr>\n",
       "      <th>65628</th>\n",
       "      <td>51677.0</td>\n",
       "      <td>1.035767</td>\n",
       "      <td>0.102629</td>\n",
       "      <td>1.433879</td>\n",
       "      <td>2.489614</td>\n",
       "      <td>-0.629208</td>\n",
       "      <td>0.800582</td>\n",
       "      <td>-0.764639</td>\n",
       "      <td>0.484013</td>\n",
       "      <td>-0.121008</td>\n",
       "      <td>...</td>\n",
       "      <td>-1.041629</td>\n",
       "      <td>0.023277</td>\n",
       "      <td>0.083557</td>\n",
       "      <td>0.076245</td>\n",
       "      <td>-0.031513</td>\n",
       "      <td>0.123643</td>\n",
       "      <td>-0.032457</td>\n",
       "      <td>0.041449</td>\n",
       "      <td>0.021203</td>\n",
       "      <td>6.79</td>\n",
       "    </tr>\n",
       "    <tr>\n",
       "      <th>153030</th>\n",
       "      <td>97800.0</td>\n",
       "      <td>1.728189</td>\n",
       "      <td>-0.687066</td>\n",
       "      <td>-1.225441</td>\n",
       "      <td>0.408864</td>\n",
       "      <td>-0.072113</td>\n",
       "      <td>-0.227949</td>\n",
       "      <td>-0.039446</td>\n",
       "      <td>-0.165544</td>\n",
       "      <td>2.155010</td>\n",
       "      <td>...</td>\n",
       "      <td>0.310932</td>\n",
       "      <td>0.066237</td>\n",
       "      <td>0.353269</td>\n",
       "      <td>-0.055650</td>\n",
       "      <td>0.769426</td>\n",
       "      <td>0.103370</td>\n",
       "      <td>0.084447</td>\n",
       "      <td>-0.090353</td>\n",
       "      <td>-0.045875</td>\n",
       "      <td>153.50</td>\n",
       "    </tr>\n",
       "    <tr>\n",
       "      <th>185320</th>\n",
       "      <td>126620.0</td>\n",
       "      <td>1.986880</td>\n",
       "      <td>-0.924526</td>\n",
       "      <td>-0.316675</td>\n",
       "      <td>-0.044651</td>\n",
       "      <td>-1.209698</td>\n",
       "      <td>-0.694260</td>\n",
       "      <td>-0.727517</td>\n",
       "      <td>-0.150530</td>\n",
       "      <td>-0.113995</td>\n",
       "      <td>...</td>\n",
       "      <td>-0.915058</td>\n",
       "      <td>-0.573596</td>\n",
       "      <td>-1.198184</td>\n",
       "      <td>0.456756</td>\n",
       "      <td>-0.015628</td>\n",
       "      <td>-0.708762</td>\n",
       "      <td>-0.070974</td>\n",
       "      <td>-0.000396</td>\n",
       "      <td>-0.023134</td>\n",
       "      <td>68.00</td>\n",
       "    </tr>\n",
       "    <tr>\n",
       "      <th>50572</th>\n",
       "      <td>44549.0</td>\n",
       "      <td>-1.027973</td>\n",
       "      <td>0.557311</td>\n",
       "      <td>1.151761</td>\n",
       "      <td>0.792277</td>\n",
       "      <td>-0.275684</td>\n",
       "      <td>0.492160</td>\n",
       "      <td>1.361558</td>\n",
       "      <td>-0.068233</td>\n",
       "      <td>-0.510555</td>\n",
       "      <td>...</td>\n",
       "      <td>0.007896</td>\n",
       "      <td>0.072639</td>\n",
       "      <td>0.469634</td>\n",
       "      <td>-0.056815</td>\n",
       "      <td>0.257526</td>\n",
       "      <td>-0.229502</td>\n",
       "      <td>-0.470184</td>\n",
       "      <td>-0.009044</td>\n",
       "      <td>0.194927</td>\n",
       "      <td>200.00</td>\n",
       "    </tr>\n",
       "  </tbody>\n",
       "</table>\n",
       "<p>5 rows × 29 columns</p>\n",
       "</div>"
      ],
      "text/plain": [
       "            Time        V1        V2        V3        V4        V5        V6  \\\n",
       "80934    58723.0 -3.761756 -2.973654  1.216834  1.004887  1.572242 -1.782237   \n",
       "65628    51677.0  1.035767  0.102629  1.433879  2.489614 -0.629208  0.800582   \n",
       "153030   97800.0  1.728189 -0.687066 -1.225441  0.408864 -0.072113 -0.227949   \n",
       "185320  126620.0  1.986880 -0.924526 -0.316675 -0.044651 -1.209698 -0.694260   \n",
       "50572    44549.0 -1.027973  0.557311  1.151761  0.792277 -0.275684  0.492160   \n",
       "\n",
       "              V7        V8        V9  ...       V19       V21       V22  \\\n",
       "80934  -0.835267  0.687423 -0.577564  ... -0.302898  0.227157 -1.103118   \n",
       "65628  -0.764639  0.484013 -0.121008  ... -1.041629  0.023277  0.083557   \n",
       "153030 -0.039446 -0.165544  2.155010  ...  0.310932  0.066237  0.353269   \n",
       "185320 -0.727517 -0.150530 -0.113995  ... -0.915058 -0.573596 -1.198184   \n",
       "50572   1.361558 -0.068233 -0.510555  ...  0.007896  0.072639  0.469634   \n",
       "\n",
       "             V23       V24       V25       V26       V27       V28  Amount  \n",
       "80934   0.376861  0.043532  0.004370  0.059044 -0.100892 -0.522166  189.79  \n",
       "65628   0.076245 -0.031513  0.123643 -0.032457  0.041449  0.021203    6.79  \n",
       "153030 -0.055650  0.769426  0.103370  0.084447 -0.090353 -0.045875  153.50  \n",
       "185320  0.456756 -0.015628 -0.708762 -0.070974 -0.000396 -0.023134   68.00  \n",
       "50572  -0.056815  0.257526 -0.229502 -0.470184 -0.009044  0.194927  200.00  \n",
       "\n",
       "[5 rows x 29 columns]"
      ]
     },
     "execution_count": 41,
     "metadata": {},
     "output_type": "execute_result"
    }
   ],
   "source": [
    "x_train.head()"
   ]
  },
  {
   "cell_type": "markdown",
   "metadata": {},
   "source": [
    "### 3. Train and Validation depending machine learning algorithms"
   ]
  },
  {
   "cell_type": "markdown",
   "metadata": {},
   "source": [
    "#### 1) LogisticRegression()"
   ]
  },
  {
   "cell_type": "code",
   "execution_count": 46,
   "metadata": {
    "scrolled": true
   },
   "outputs": [
    {
     "name": "stdout",
     "output_type": "stream",
     "text": [
      "0.72\n"
     ]
    }
   ],
   "source": [
    "model = lm.LogisticRegression()\n",
    "model.fit(x_train, y_train)\n",
    "y_pred = model.predict(x_test)\n",
    "\n",
    "# performance\n",
    "cnt = 0\n",
    "for i in range(len(y_pred)):\n",
    "    if y_pred[i] == y_test.iloc[i]:\n",
    "        cnt += 1\n",
    "print(cnt/len(y_pred))"
   ]
  },
  {
   "cell_type": "markdown",
   "metadata": {},
   "source": [
    "#### 2) SVC"
   ]
  },
  {
   "cell_type": "code",
   "execution_count": 48,
   "metadata": {},
   "outputs": [
    {
     "name": "stdout",
     "output_type": "stream",
     "text": [
      "0.5\n"
     ]
    }
   ],
   "source": [
    "model = svm.SVC(gamma='scale')\n",
    "model.fit(x_train, y_train)\n",
    "y_pred = model.predict(x_test)\n",
    "\n",
    "# performance\n",
    "cnt = 0\n",
    "for i in range(len(y_pred)):\n",
    "    if y_pred[i] == y_test.iloc[i]:\n",
    "        cnt += 1\n",
    "print(cnt/len(y_pred))"
   ]
  },
  {
   "cell_type": "markdown",
   "metadata": {},
   "source": [
    "#### 3)KNN"
   ]
  },
  {
   "cell_type": "code",
   "execution_count": 49,
   "metadata": {},
   "outputs": [
    {
     "name": "stdout",
     "output_type": "stream",
     "text": [
      "0.51\n"
     ]
    }
   ],
   "source": [
    "model = neighbors.KNeighborsClassifier()\n",
    "model.fit(x_train, y_train)\n",
    "y_pred = model.predict(x_test)\n",
    "\n",
    "# performance\n",
    "cnt = 0\n",
    "for i in range(len(y_pred)):\n",
    "    if y_pred[i] == y_test.iloc[i]:\n",
    "        cnt += 1\n",
    "print(cnt/len(y_pred))"
   ]
  },
  {
   "cell_type": "markdown",
   "metadata": {},
   "source": [
    "#### 4) Neural network"
   ]
  },
  {
   "cell_type": "code",
   "execution_count": 50,
   "metadata": {},
   "outputs": [
    {
     "name": "stdout",
     "output_type": "stream",
     "text": [
      "0.5\n"
     ]
    }
   ],
   "source": [
    "model = nn.MLPClassifier(learning_rate_init=0.01)\n",
    "model.fit(x_train, y_train)\n",
    "y_pred = model.predict(x_test)\n",
    "\n",
    "# performance\n",
    "cnt = 0\n",
    "for i in range(len(y_pred)):\n",
    "    if y_pred[i] == y_test.iloc[i]:\n",
    "        cnt += 1\n",
    "print(cnt/len(y_pred))"
   ]
  },
  {
   "cell_type": "markdown",
   "metadata": {},
   "source": [
    "#### 5) Decision Tree"
   ]
  },
  {
   "cell_type": "code",
   "execution_count": 51,
   "metadata": {},
   "outputs": [
    {
     "name": "stdout",
     "output_type": "stream",
     "text": [
      "0.85\n"
     ]
    }
   ],
   "source": [
    "model = tree.DecisionTreeClassifier()\n",
    "model.fit(x_train, y_train)\n",
    "y_pred = model.predict(x_test)\n",
    "\n",
    "# performance\n",
    "cnt = 0\n",
    "for i in range(len(y_pred)):\n",
    "    if y_pred[i] == y_test.iloc[i]:\n",
    "        cnt += 1\n",
    "print(cnt/len(y_pred))"
   ]
  },
  {
   "cell_type": "markdown",
   "metadata": {},
   "source": [
    "#### 6) Bayesian Classification"
   ]
  },
  {
   "cell_type": "code",
   "execution_count": 52,
   "metadata": {},
   "outputs": [
    {
     "name": "stdout",
     "output_type": "stream",
     "text": [
      "0.77\n"
     ]
    }
   ],
   "source": [
    "from sklearn.naive_bayes import BernoulliNB\n",
    "model = BernoulliNB()\n",
    "model.fit(x_train, y_train)\n",
    "y_pred = model.predict(x_test)\n",
    "\n",
    "# performance\n",
    "cnt = 0\n",
    "for i in range(len(y_pred)):\n",
    "    if y_pred[i] == y_test.iloc[i]:\n",
    "        cnt += 1\n",
    "print(cnt/len(y_pred))"
   ]
  },
  {
   "cell_type": "code",
   "execution_count": null,
   "metadata": {},
   "outputs": [],
   "source": []
  },
  {
   "cell_type": "code",
   "execution_count": null,
   "metadata": {},
   "outputs": [],
   "source": []
  },
  {
   "cell_type": "code",
   "execution_count": null,
   "metadata": {},
   "outputs": [],
   "source": []
  }
 ],
 "metadata": {
  "kernelspec": {
   "display_name": "Python 3",
   "language": "python",
   "name": "python3"
  },
  "language_info": {
   "codemirror_mode": {
    "name": "ipython",
    "version": 3
   },
   "file_extension": ".py",
   "mimetype": "text/x-python",
   "name": "python",
   "nbconvert_exporter": "python",
   "pygments_lexer": "ipython3",
   "version": "3.7.3"
  }
 },
 "nbformat": 4,
 "nbformat_minor": 2
}
