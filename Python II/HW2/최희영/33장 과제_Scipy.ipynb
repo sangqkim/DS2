{
 "cells": [
  {
   "cell_type": "markdown",
   "metadata": {},
   "source": [
    "## 33장 과제 \n",
    "### 1번: numpy, scipy library 이용하여 코드 작성\n",
    "- 코드:python notebook"
   ]
  },
  {
   "cell_type": "code",
   "execution_count": 2,
   "metadata": {},
   "outputs": [],
   "source": [
    "import numpy as np\n",
    "from scipy import stats\n",
    "from scipy.stats import norm"
   ]
  },
  {
   "cell_type": "markdown",
   "metadata": {},
   "source": [
    "+ 정규분포를 따르는 랜덤 샘플 500개 "
   ]
  },
  {
   "cell_type": "code",
   "execution_count": 24,
   "metadata": {},
   "outputs": [],
   "source": [
    "np.random.seed(100)\n",
    "data = np.random.normal(size=500)"
   ]
  },
  {
   "cell_type": "markdown",
   "metadata": {},
   "source": [
    "+ 중앙값, 표준편차, 상위 20%값"
   ]
  },
  {
   "cell_type": "code",
   "execution_count": 23,
   "metadata": {},
   "outputs": [
    {
     "name": "stdout",
     "output_type": "stream",
     "text": [
      " '중앙값 : -0.126519 ' is almost '0'\n",
      " '표준편차 : 0.953732 ' is almost '1'\n",
      " '상위 20%' :  0.7911038684540467\n"
     ]
    }
   ],
   "source": [
    "# loc,std= stats.norm.fit(data)\n",
    "print(\" '중앙값 : %f ' is almost '0'\" %(np.median(data)))\n",
    "print(\" '표준편차 : %f ' is almost '1'\" %(np.std(data)))\n",
    "print(\" '상위 20%' : \", stats.scoreatpercentile(data,80))"
   ]
  },
  {
   "cell_type": "markdown",
   "metadata": {},
   "source": [
    "+ 정규분포로 추측, 평균&표준편차 구하기"
   ]
  },
  {
   "cell_type": "code",
   "execution_count": 27,
   "metadata": {},
   "outputs": [
    {
     "name": "stdout",
     "output_type": "stream",
     "text": [
      "평균 is -0.005418(almost 0) , 표준편차 is 1.032801(almost 1) \n"
     ]
    }
   ],
   "source": [
    "loc, std=stats.norm.fit(data)\n",
    "print('평균 is %f(almost 0) , 표준편차 is %f(almost 1) ' %(loc,std))"
   ]
  },
  {
   "cell_type": "markdown",
   "metadata": {},
   "source": [
    "### 2번: 행렬 연산\n",
    "- 코드:python notebook"
   ]
  },
  {
   "cell_type": "code",
   "execution_count": 43,
   "metadata": {},
   "outputs": [],
   "source": [
    "from scipy import linalg\n",
    "arr = np.array([[1,3,5],[2,4,6],[6,5,8]])"
   ]
  },
  {
   "cell_type": "code",
   "execution_count": 44,
   "metadata": {},
   "outputs": [
    {
     "name": "stdout",
     "output_type": "stream",
     "text": [
      "* determinant of arr : -7.999999999999991\n",
      "* inverse matrix of arr :\n",
      " [[-0.25  -0.125  0.25 ]\n",
      " [-2.5    2.75  -0.5  ]\n",
      " [ 1.75  -1.625  0.25 ]]\n"
     ]
    }
   ],
   "source": [
    "print('* determinant of arr :', linalg.det(arr))\n",
    "print('* inverse matrix of arr :\\n', linalg.inv(arr))"
   ]
  },
  {
   "cell_type": "markdown",
   "metadata": {},
   "source": [
    "### 3번: 행렬 연산\n",
    "- 코드:python notebook"
   ]
  },
  {
   "cell_type": "code",
   "execution_count": 45,
   "metadata": {},
   "outputs": [
    {
     "name": "stdout",
     "output_type": "stream",
     "text": [
      "에러가 발생한다.square matrix만 determinant를 구할 수 있음\n"
     ]
    },
    {
     "ename": "ValueError",
     "evalue": "expected square matrix",
     "output_type": "error",
     "traceback": [
      "\u001b[1;31m---------------------------------------------------------------------------\u001b[0m",
      "\u001b[1;31mValueError\u001b[0m                                Traceback (most recent call last)",
      "\u001b[1;32m<ipython-input-45-0a41afb132d1>\u001b[0m in \u001b[0;36m<module>\u001b[1;34m\u001b[0m\n\u001b[0;32m      2\u001b[0m \u001b[0marr2\u001b[0m \u001b[1;33m=\u001b[0m \u001b[0mnp\u001b[0m\u001b[1;33m.\u001b[0m\u001b[0marray\u001b[0m\u001b[1;33m(\u001b[0m\u001b[1;33m[\u001b[0m\u001b[1;33m[\u001b[0m\u001b[1;36m1\u001b[0m\u001b[1;33m,\u001b[0m\u001b[1;36m2\u001b[0m\u001b[1;33m,\u001b[0m\u001b[1;36m3\u001b[0m\u001b[1;33m,\u001b[0m\u001b[1;36m4\u001b[0m\u001b[1;33m]\u001b[0m\u001b[1;33m,\u001b[0m\u001b[1;33m[\u001b[0m\u001b[1;36m3\u001b[0m\u001b[1;33m,\u001b[0m\u001b[1;36m8\u001b[0m\u001b[1;33m,\u001b[0m\u001b[1;36m5\u001b[0m\u001b[1;33m,\u001b[0m\u001b[1;36m2\u001b[0m\u001b[1;33m]\u001b[0m\u001b[1;33m,\u001b[0m\u001b[1;33m[\u001b[0m\u001b[1;36m4\u001b[0m\u001b[1;33m,\u001b[0m\u001b[1;36m3\u001b[0m\u001b[1;33m,\u001b[0m\u001b[1;36m6\u001b[0m\u001b[1;33m,\u001b[0m\u001b[1;36m2\u001b[0m\u001b[1;33m]\u001b[0m\u001b[1;33m]\u001b[0m\u001b[1;33m)\u001b[0m\u001b[1;33m\u001b[0m\u001b[1;33m\u001b[0m\u001b[0m\n\u001b[0;32m      3\u001b[0m \u001b[0mprint\u001b[0m\u001b[1;33m(\u001b[0m\u001b[1;34m\"에러가 발생한다.square matrix만 determinant를 구할 수 있음\"\u001b[0m\u001b[1;33m)\u001b[0m\u001b[1;33m\u001b[0m\u001b[1;33m\u001b[0m\u001b[0m\n\u001b[1;32m----> 4\u001b[1;33m \u001b[0mprint\u001b[0m\u001b[1;33m(\u001b[0m\u001b[0mlinalg\u001b[0m\u001b[1;33m.\u001b[0m\u001b[0mdet\u001b[0m\u001b[1;33m(\u001b[0m\u001b[0marr2\u001b[0m\u001b[1;33m)\u001b[0m\u001b[1;33m)\u001b[0m\u001b[1;33m\u001b[0m\u001b[1;33m\u001b[0m\u001b[0m\n\u001b[0m",
      "\u001b[1;32m~\\Anaconda3\\lib\\site-packages\\scipy\\linalg\\basic.py\u001b[0m in \u001b[0;36mdet\u001b[1;34m(a, overwrite_a, check_finite)\u001b[0m\n\u001b[0;32m   1029\u001b[0m     \u001b[0ma1\u001b[0m \u001b[1;33m=\u001b[0m \u001b[0m_asarray_validated\u001b[0m\u001b[1;33m(\u001b[0m\u001b[0ma\u001b[0m\u001b[1;33m,\u001b[0m \u001b[0mcheck_finite\u001b[0m\u001b[1;33m=\u001b[0m\u001b[0mcheck_finite\u001b[0m\u001b[1;33m)\u001b[0m\u001b[1;33m\u001b[0m\u001b[1;33m\u001b[0m\u001b[0m\n\u001b[0;32m   1030\u001b[0m     \u001b[1;32mif\u001b[0m \u001b[0mlen\u001b[0m\u001b[1;33m(\u001b[0m\u001b[0ma1\u001b[0m\u001b[1;33m.\u001b[0m\u001b[0mshape\u001b[0m\u001b[1;33m)\u001b[0m \u001b[1;33m!=\u001b[0m \u001b[1;36m2\u001b[0m \u001b[1;32mor\u001b[0m \u001b[0ma1\u001b[0m\u001b[1;33m.\u001b[0m\u001b[0mshape\u001b[0m\u001b[1;33m[\u001b[0m\u001b[1;36m0\u001b[0m\u001b[1;33m]\u001b[0m \u001b[1;33m!=\u001b[0m \u001b[0ma1\u001b[0m\u001b[1;33m.\u001b[0m\u001b[0mshape\u001b[0m\u001b[1;33m[\u001b[0m\u001b[1;36m1\u001b[0m\u001b[1;33m]\u001b[0m\u001b[1;33m:\u001b[0m\u001b[1;33m\u001b[0m\u001b[1;33m\u001b[0m\u001b[0m\n\u001b[1;32m-> 1031\u001b[1;33m         \u001b[1;32mraise\u001b[0m \u001b[0mValueError\u001b[0m\u001b[1;33m(\u001b[0m\u001b[1;34m'expected square matrix'\u001b[0m\u001b[1;33m)\u001b[0m\u001b[1;33m\u001b[0m\u001b[1;33m\u001b[0m\u001b[0m\n\u001b[0m\u001b[0;32m   1032\u001b[0m     \u001b[0moverwrite_a\u001b[0m \u001b[1;33m=\u001b[0m \u001b[0moverwrite_a\u001b[0m \u001b[1;32mor\u001b[0m \u001b[0m_datacopied\u001b[0m\u001b[1;33m(\u001b[0m\u001b[0ma1\u001b[0m\u001b[1;33m,\u001b[0m \u001b[0ma\u001b[0m\u001b[1;33m)\u001b[0m\u001b[1;33m\u001b[0m\u001b[1;33m\u001b[0m\u001b[0m\n\u001b[0;32m   1033\u001b[0m     \u001b[0mfdet\u001b[0m\u001b[1;33m,\u001b[0m \u001b[1;33m=\u001b[0m \u001b[0mget_flinalg_funcs\u001b[0m\u001b[1;33m(\u001b[0m\u001b[1;33m(\u001b[0m\u001b[1;34m'det'\u001b[0m\u001b[1;33m,\u001b[0m\u001b[1;33m)\u001b[0m\u001b[1;33m,\u001b[0m \u001b[1;33m(\u001b[0m\u001b[0ma1\u001b[0m\u001b[1;33m,\u001b[0m\u001b[1;33m)\u001b[0m\u001b[1;33m)\u001b[0m\u001b[1;33m\u001b[0m\u001b[1;33m\u001b[0m\u001b[0m\n",
      "\u001b[1;31mValueError\u001b[0m: expected square matrix"
     ]
    }
   ],
   "source": [
    "from scipy import linalg\n",
    "arr2 = np.array([[1,2,3,4],[3,8,5,2],[4,3,6,2]])\n",
    "print(\"에러가 발생한다.square matrix만 determinant를 구할 수 있음\")\n",
    "print(linalg.det(arr2))\n"
   ]
  },
  {
   "cell_type": "markdown",
   "metadata": {},
   "source": [
    "### 4번: LU decomp 구하기\n",
    "- 코드:numpy 및 Gaussian 소거법을 이용"
   ]
  },
  {
   "cell_type": "code",
   "execution_count": 77,
   "metadata": {},
   "outputs": [],
   "source": [
    "A = np.array([[2,2,2],[4,7,7],[6,18,22]])\n",
    "U = np.identity(3)"
   ]
  },
  {
   "cell_type": "code",
   "execution_count": 78,
   "metadata": {},
   "outputs": [
    {
     "name": "stdout",
     "output_type": "stream",
     "text": [
      "step1 -------------------------\n",
      "U = \n",
      "[[ 2.  2.  2.]\n",
      " [ 0.  3.  3.]\n",
      " [ 6. 18. 22.]]\n",
      "E_21 = \n",
      "[[ 1.  0.  0.]\n",
      " [-2.  1.  0.]\n",
      " [ 0.  0.  1.]]\n",
      "step2 -------------------------\n",
      "U = \n",
      "[[ 2.  2.  2.]\n",
      " [ 0.  3.  3.]\n",
      " [ 0. 12. 16.]]\n",
      "E_31 = \n",
      "[[ 1.  0.  0.]\n",
      " [ 0.  1.  0.]\n",
      " [-3.  0.  1.]]\n",
      "step3 -------------------------\n",
      "U = \n",
      "[[2. 2. 2.]\n",
      " [0. 3. 3.]\n",
      " [0. 0. 4.]]\n",
      "E_32 = \n",
      "[[ 1.  0.  0.]\n",
      " [ 0.  1.  0.]\n",
      " [ 0. -4.  1.]]\n"
     ]
    }
   ],
   "source": [
    "np.copyto(U,A)\n",
    "U[1]=U[1]+(-2)*U[0]\n",
    "\n",
    "E_21 = np.identity(3)\n",
    "E_21[1,0] = -2\n",
    "print('step1 -------------------------')\n",
    "print('U = \\n' + str(U))\n",
    "print('E_21 = \\n' +str(E_21))\n",
    "\n",
    "print('step2 -------------------------')\n",
    "U[2]=U[2]+(-3)*U[0]\n",
    "E_31 = np.identity(3)\n",
    "E_31[2,0] = -3\n",
    "print('U = \\n' + str(U))\n",
    "print('E_31 = \\n' +str(E_31))\n",
    "\n",
    "print('step3 -------------------------')\n",
    "U[2]=U[2]+(-4)*U[1]\n",
    "E_32 = np.identity(3)\n",
    "E_32[2,1] = -4\n",
    "print('U = \\n' + str(U))\n",
    "print('E_32 = \\n' +str(E_32))"
   ]
  },
  {
   "cell_type": "code",
   "execution_count": 81,
   "metadata": {},
   "outputs": [
    {
     "name": "stdout",
     "output_type": "stream",
     "text": [
      "L = \n",
      "[[1. 0. 0.]\n",
      " [2. 1. 0.]\n",
      " [3. 4. 1.]]\n",
      "U = \n",
      "[[2. 2. 2.]\n",
      " [0. 3. 3.]\n",
      " [0. 0. 4.]]\n",
      "A = \n",
      "[[ 2.  2.  2.]\n",
      " [ 4.  7.  7.]\n",
      " [ 6. 18. 22.]]\n"
     ]
    }
   ],
   "source": [
    "E=np.matmul(np.matmul(E_32,E_31),E_21)\n",
    "L=np.linalg.inv(E)\n",
    "print('L = \\n' + str(L))\n",
    "print('U = \\n' + str(U))\n",
    "A=np.matmul(L,U)\n",
    "print('A = \\n' + str(A))\n",
    "#np.array_equal (np.matmul(L,U), A)"
   ]
  },
  {
   "cell_type": "markdown",
   "metadata": {},
   "source": [
    "### 5번: LU decomp 구하기\n",
    "- 코드: scipy.linalg 이용"
   ]
  },
  {
   "cell_type": "code",
   "execution_count": 98,
   "metadata": {},
   "outputs": [],
   "source": [
    "from scipy import linalg\n",
    "A = np.array([[2,2,2],[4,7,7],[6,18,22]])"
   ]
  },
  {
   "cell_type": "code",
   "execution_count": 102,
   "metadata": {},
   "outputs": [
    {
     "name": "stdout",
     "output_type": "stream",
     "text": [
      "L =  \n",
      "[[1.         0.         0.        ]\n",
      " [0.66666667 1.         0.        ]\n",
      " [0.33333333 0.8        1.        ]]\n",
      "U =  \n",
      "[[ 6.         18.         22.        ]\n",
      " [ 0.         -5.         -7.66666667]\n",
      " [ 0.          0.          0.8       ]]\n",
      "A =  \n",
      "[[ 2.  2.  2.]\n",
      " [ 4.  7.  7.]\n",
      " [ 6. 18. 22.]]\n"
     ]
    }
   ],
   "source": [
    "P,L,U = linalg.lu(A)\n",
    "print('L =  \\n' +str(L))\n",
    "print('U =  \\n' +str(U))\n",
    "print('A =  \\n' +str(np.matmul(P,np.matmul(L,U))))"
   ]
  },
  {
   "cell_type": "markdown",
   "metadata": {},
   "source": [
    "### 6번: cos - curved data\n",
    "- 코드: scipy.optimize이용"
   ]
  },
  {
   "cell_type": "code",
   "execution_count": 109,
   "metadata": {},
   "outputs": [
    {
     "data": {
      "text/plain": [
       "<matplotlib.collections.PathCollection at 0x1b2619efe10>"
      ]
     },
     "execution_count": 109,
     "metadata": {},
     "output_type": "execute_result"
    },
    {
     "data": {
      "image/png": "[encoded data removed]",
      "text/plain": [
       "<Figure size 432x288 with 1 Axes>"
      ]
     },
     "metadata": {
      "needs_background": "light"
     },
     "output_type": "display_data"
    }
   ],
   "source": [
    "import numpy as np\n",
    "np.random.seed(0)\n",
    "x_data = np.linspace(-5, 5, num=50)\n",
    "y_data = 4 * np.cos(2*x_data) + np.random.normal(size=50)\n",
    "\n",
    "import matplotlib.pyplot as plt\n",
    "plt.scatter(x_data, y_data)\n"
   ]
  },
  {
   "cell_type": "markdown",
   "metadata": {},
   "source": [
    "+ data에 대한 정보없을때 cos과 sin함수 추청"
   ]
  },
  {
   "cell_type": "code",
   "execution_count": 111,
   "metadata": {},
   "outputs": [
    {
     "name": "stdout",
     "output_type": "stream",
     "text": [
      "[3.93165348 2.00961284] [0.37696515 2.39071889]\n",
      "최초에 주어진 값 :진폭=4 , 주기=2 와 가까운 결과는 cos_params\n"
     ]
    }
   ],
   "source": [
    "from scipy import optimize\n",
    "cos_params, cos_params_covariance = optimize.curve_fit( lambda x, a, b : a* np.cos(b*x), x_data, y_data, p0 = [2,2] )\n",
    "sin_params, sin_params_covariance = optimize.curve_fit( lambda x, a, b : a* np.sin(b*x), x_data, y_data, p0 = [2,2] )\n",
    "\n",
    "print(cos_params, sin_params)\n",
    "print(\"최초에 주어진 값 :진폭=4 , 주기=2 와 가까운 결과는 cos_params\")"
   ]
  },
  {
   "cell_type": "markdown",
   "metadata": {},
   "source": [
    "### 7번: 분포의 기댓값"
   ]
  },
  {
   "cell_type": "code",
   "execution_count": 126,
   "metadata": {},
   "outputs": [
    {
     "name": "stdout",
     "output_type": "stream",
     "text": [
      "-------------scipy 이용\n",
      "Class1의 기댓값: 62.355556, 표준편차: 5\n",
      "Class2의 기댓값: 73.000000, 표준편차: 8\n",
      "-------------numpy 이용\n",
      "Class1의 기댓값: 62.355556, 표준편차: 5\n",
      "Class2의 기댓값: 73.000000, 표준편차: 8\n"
     ]
    }
   ],
   "source": [
    "import matplotlib.pyplot as plt\n",
    "from scipy import stats\n",
    "from scipy.stats import norm\n",
    "\n",
    "class1 = [65.9, 53.6, 57.3, 59.3, 63.8, 59.2, 64.2, 75.0, 62.9]\n",
    "class2 = [76.3, 82.1, 73.3, 69.3, 59.9, 72.1, 59.1, 86.8, 78.1]\n",
    "loc1, std1 =stats.norm.fit(class1)\n",
    "loc2, std2 =stats.norm.fit(class2)\n",
    "print('-------------scipy 이용')\n",
    "print(\"Class1의 기댓값: %f, 표준편차: %d\" %(loc1, std1))\n",
    "print(\"Class2의 기댓값: %f, 표준편차: %d\" %(loc2, std2))\n",
    "\n",
    "print('-------------numpy 이용')\n",
    "print(\"Class1의 기댓값: %f, 표준편차: %d\" %(np.mean(class1), np.std(class1)))\n",
    "print(\"Class2의 기댓값: %f, 표준편차: %d\" %(np.mean(class2), np.std(class2)))"
   ]
  },
  {
   "cell_type": "code",
   "execution_count": null,
   "metadata": {},
   "outputs": [],
   "source": []
  }
 ],
 "metadata": {
  "kernelspec": {
   "display_name": "Python 3",
   "language": "python",
   "name": "python3"
  },
  "language_info": {
   "codemirror_mode": {
    "name": "ipython",
    "version": 3
   },
   "file_extension": ".py",
   "mimetype": "text/x-python",
   "name": "python",
   "nbconvert_exporter": "python",
   "pygments_lexer": "ipython3",
   "version": "3.7.3"
  }
 },
 "nbformat": 4,
 "nbformat_minor": 2
}
