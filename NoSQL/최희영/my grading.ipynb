{
 "cells": [
  {
   "cell_type": "code",
   "execution_count": 1,
   "metadata": {},
   "outputs": [],
   "source": [
    "from pymongo import MongoClient, ASCENDING, DESCENDING\n",
    "from pprint import pprint"
   ]
  },
  {
   "cell_type": "code",
   "execution_count": null,
   "metadata": {},
   "outputs": [],
   "source": [
    "!mongoimport /d test /c grades C:\\Users\\DS\\Desktop\\2Q\\NoSQL\\dataset\\datasets-master\\grades.json"
   ]
  },
  {
   "cell_type": "code",
   "execution_count": 2,
   "metadata": {},
   "outputs": [],
   "source": [
    "client= MongoClient()\n",
    "db = client.test\n",
    "grades = db.grades"
   ]
  },
  {
   "cell_type": "code",
   "execution_count": 3,
   "metadata": {},
   "outputs": [
    {
     "name": "stdout",
     "output_type": "stream",
     "text": [
      "[{'_id': ObjectId('5d6c86b602ae8c2546e069f2'),\n",
      "  'grades': [{'score': 91, 'type': 'quiz'},\n",
      "             {'score': 13, 'type': 'homework'},\n",
      "             {'score': 76, 'type': 'exam'}],\n",
      "  'sid': 2},\n",
      " {'_id': ObjectId('5d6c86b602ae8c2546e069f3'),\n",
      "  'grades': [{'score': 69, 'type': 'homework'},\n",
      "             {'score': 86, 'type': 'exam'},\n",
      "             {'score': 29, 'type': 'quiz'}],\n",
      "  'sid': 0}]\n"
     ]
    }
   ],
   "source": [
    "pprint(list(grades.find().limit(2)))"
   ]
  },
  {
   "cell_type": "code",
   "execution_count": 45,
   "metadata": {},
   "outputs": [],
   "source": [
    "cursor= grades.find().sort([('sid',1)])\n",
    "for item in cursor:\n",
    "    for i in range(len(item['grades'])):\n",
    "        if item['grades'][i]['type'] == 'homework':\n",
    "            homework_score = item['grades'][i]['score']\n",
    "        elif item['grades'][i]['type'] == 'quiz':\n",
    "            quiz_score = item['grades'][i]['score']\n",
    "        else:\n",
    "            exam_score = item['grades'][i]['score']\n",
    "    \n",
    "                \n",
    "        total = quiz_score*0.2 + homework_score*0.3 +exam_score *0.5 \n",
    "        \n",
    "        if total >= 90:\n",
    "            letter = 'A'\n",
    "        elif total >= 80:\n",
    "            letter = 'B'\n",
    "        elif total >= 70:\n",
    "            letter = 'C'\n",
    "        elif total >= 60:\n",
    "            letter = 'D'\n",
    "        else:\n",
    "            letter = 'F'\n",
    "\n",
    "            \n",
    "    grades.update_one({'sid':item['sid']},{'$set':{'letter':[{'letter':letter, 'sid':item['sid'], 'total':total}]}})\n"
   ]
  },
  {
   "cell_type": "code",
   "execution_count": 74,
   "metadata": {},
   "outputs": [
    {
     "name": "stdout",
     "output_type": "stream",
     "text": [
      "{'letter': 'A', 'sid': 54, 'total': 91.2}\n",
      "{'letter': 'B', 'sid': 16, 'total': 88.8}\n",
      "{'letter': 'B', 'sid': 5, 'total': 87.5}\n",
      "{'letter': 'B', 'sid': 99, 'total': 87.1}\n",
      "{'letter': 'B', 'sid': 72, 'total': 86.6}\n",
      "{'letter': 'B', 'sid': 93, 'total': 85.4}\n",
      "{'letter': 'B', 'sid': 63, 'total': 84.9}\n",
      "{'letter': 'B', 'sid': 23, 'total': 83.2}\n",
      "{'letter': 'B', 'sid': 44, 'total': 82.9}\n",
      "{'letter': 'B', 'sid': 52, 'total': 82.6}\n",
      "{'letter': 'B', 'sid': 95, 'total': 81.7}\n",
      "{'letter': 'B', 'sid': 57, 'total': 81.3}\n",
      "{'letter': 'B', 'sid': 22, 'total': 81.2}\n",
      "{'letter': 'C', 'sid': 8, 'total': 79.2}\n",
      "{'letter': 'C', 'sid': 3, 'total': 79.1}\n",
      "{'letter': 'C', 'sid': 68, 'total': 78.8}\n",
      "{'letter': 'C', 'sid': 71, 'total': 78.2}\n",
      "{'letter': 'C', 'sid': 20, 'total': 77.5}\n",
      "{'letter': 'C', 'sid': 49, 'total': 77.3}\n",
      "{'letter': 'C', 'sid': 88, 'total': 76.9}\n",
      "{'letter': 'C', 'sid': 92, 'total': 74.6}\n",
      "{'letter': 'C', 'sid': 94, 'total': 74.3}\n",
      "{'letter': 'C', 'sid': 61, 'total': 74.2}\n",
      "{'letter': 'C', 'sid': 65, 'total': 74.2}\n",
      "{'letter': 'C', 'sid': 21, 'total': 74.1}\n",
      "{'letter': 'C', 'sid': 28, 'total': 73.6}\n",
      "{'letter': 'C', 'sid': 55, 'total': 72.2}\n",
      "{'letter': 'C', 'sid': 4, 'total': 72.1}\n",
      "{'letter': 'C', 'sid': 50, 'total': 71.9}\n",
      "{'letter': 'C', 'sid': 64, 'total': 71.9}\n",
      "{'letter': 'C', 'sid': 89, 'total': 71.9}\n",
      "{'letter': 'C', 'sid': 17, 'total': 71.8}\n",
      "{'letter': 'C', 'sid': 6, 'total': 71.6}\n",
      "{'letter': 'C', 'sid': 58, 'total': 71.5}\n",
      "{'letter': 'C', 'sid': 62, 'total': 70.8}\n",
      "{'letter': 'C', 'sid': 47, 'total': 70.4}\n",
      "{'letter': 'D', 'sid': 31, 'total': 69.7}\n",
      "{'letter': 'D', 'sid': 0, 'total': 69.5}\n",
      "{'letter': 'D', 'sid': 84, 'total': 69.5}\n",
      "{'letter': 'D', 'sid': 76, 'total': 69.3}\n",
      "{'letter': 'D', 'sid': 37, 'total': 68.80000000000001}\n",
      "{'letter': 'D', 'sid': 27, 'total': 68.7}\n",
      "{'letter': 'D', 'sid': 79, 'total': 68.4}\n",
      "{'letter': 'D', 'sid': 56, 'total': 68.3}\n",
      "{'letter': 'D', 'sid': 97, 'total': 67.9}\n",
      "{'letter': 'D', 'sid': 91, 'total': 67.7}\n",
      "{'letter': 'D', 'sid': 59, 'total': 67.6}\n",
      "{'letter': 'D', 'sid': 46, 'total': 67.4}\n",
      "{'letter': 'D', 'sid': 18, 'total': 67.3}\n",
      "{'letter': 'D', 'sid': 29, 'total': 67.3}\n",
      "{'letter': 'D', 'sid': 53, 'total': 67.3}\n",
      "{'letter': 'D', 'sid': 15, 'total': 67.1}\n",
      "{'letter': 'D', 'sid': 83, 'total': 66.8}\n",
      "{'letter': 'D', 'sid': 33, 'total': 66.4}\n",
      "{'letter': 'D', 'sid': 19, 'total': 66.1}\n",
      "{'letter': 'D', 'sid': 85, 'total': 65.3}\n",
      "{'letter': 'D', 'sid': 86, 'total': 64.8}\n",
      "{'letter': 'D', 'sid': 41, 'total': 64.7}\n",
      "{'letter': 'D', 'sid': 60, 'total': 63.9}\n",
      "{'letter': 'D', 'sid': 43, 'total': 63.599999999999994}\n",
      "{'letter': 'D', 'sid': 36, 'total': 63.5}\n",
      "{'letter': 'D', 'sid': 48, 'total': 62.6}\n",
      "{'letter': 'D', 'sid': 45, 'total': 62.0}\n",
      "{'letter': 'D', 'sid': 26, 'total': 61.8}\n",
      "{'letter': 'D', 'sid': 81, 'total': 61.8}\n",
      "{'letter': 'D', 'sid': 10, 'total': 61.4}\n",
      "{'letter': 'D', 'sid': 90, 'total': 61.0}\n",
      "{'letter': 'D', 'sid': 73, 'total': 60.3}\n",
      "{'letter': 'D', 'sid': 2, 'total': 60.099999999999994}\n",
      "{'letter': 'F', 'sid': 42, 'total': 59.9}\n",
      "{'letter': 'F', 'sid': 14, 'total': 59.7}\n",
      "{'letter': 'F', 'sid': 67, 'total': 59.4}\n",
      "{'letter': 'F', 'sid': 39, 'total': 58.4}\n",
      "{'letter': 'F', 'sid': 34, 'total': 58.2}\n",
      "{'letter': 'F', 'sid': 13, 'total': 57.5}\n",
      "{'letter': 'F', 'sid': 98, 'total': 57.5}\n",
      "{'letter': 'F', 'sid': 30, 'total': 57.3}\n",
      "{'letter': 'F', 'sid': 35, 'total': 56.6}\n",
      "{'letter': 'F', 'sid': 24, 'total': 55.7}\n",
      "{'letter': 'F', 'sid': 87, 'total': 55.6}\n",
      "{'letter': 'F', 'sid': 12, 'total': 55.4}\n",
      "{'letter': 'F', 'sid': 7, 'total': 55.2}\n",
      "{'letter': 'F', 'sid': 66, 'total': 54.4}\n",
      "{'letter': 'F', 'sid': 78, 'total': 54.0}\n",
      "{'letter': 'F', 'sid': 82, 'total': 52.6}\n",
      "{'letter': 'F', 'sid': 70, 'total': 51.7}\n",
      "{'letter': 'F', 'sid': 11, 'total': 50.3}\n",
      "{'letter': 'F', 'sid': 9, 'total': 48.7}\n",
      "{'letter': 'F', 'sid': 38, 'total': 48.7}\n",
      "{'letter': 'F', 'sid': 96, 'total': 48.5}\n",
      "{'letter': 'F', 'sid': 25, 'total': 48.1}\n",
      "{'letter': 'F', 'sid': 77, 'total': 48.1}\n",
      "{'letter': 'F', 'sid': 40, 'total': 43.9}\n",
      "{'letter': 'F', 'sid': 80, 'total': 42.5}\n",
      "{'letter': 'F', 'sid': 32, 'total': 41.6}\n",
      "{'letter': 'F', 'sid': 51, 'total': 40.6}\n",
      "{'letter': 'F', 'sid': 69, 'total': 38.800000000000004}\n",
      "{'letter': 'F', 'sid': 1, 'total': 35.3}\n",
      "{'letter': 'F', 'sid': 74, 'total': 34.4}\n",
      "{'letter': 'F', 'sid': 75, 'total': 26.9}\n"
     ]
    }
   ],
   "source": [
    "    result = grades.find().sort([('letter.total', -1)])\n",
    "\n",
    "    for item in result:\n",
    "        print(item['letter'][0])"
   ]
  },
  {
   "cell_type": "code",
   "execution_count": 41,
   "metadata": {},
   "outputs": [],
   "source": [
    "def pagination():\n",
    "    result = grades.find({},{'_id':0, 'grades':1, 'sid':1}).sort([('sid',1)]).skip(10).limit(10)\n",
    "\n",
    "    for item in result:\n",
    "        print('{ ', end='')\n",
    "        for (k, v) in sorted(item.items()):\n",
    "            print('{}:{}'.format(k, v), end=', ')\n",
    "        print('\\b\\b }')"
   ]
  },
  {
   "cell_type": "code",
   "execution_count": 42,
   "metadata": {},
   "outputs": [
    {
     "name": "stdout",
     "output_type": "stream",
     "text": [
      "{ grades:[{'type': 'quiz', 'score': 46}, {'type': 'exam', 'score': 81}, {'type': 'homework', 'score': 39}], sid:10, \b\b }\n",
      "{ grades:[{'type': 'homework', 'score': 11}, {'type': 'exam', 'score': 92}, {'type': 'quiz', 'score': 5}], sid:11, \b\b }\n",
      "{ grades:[{'type': 'homework', 'score': 47}, {'type': 'quiz', 'score': 79}, {'type': 'exam', 'score': 51}], sid:12, \b\b }\n",
      "{ grades:[{'type': 'homework', 'score': 31}, {'type': 'quiz', 'score': 66}, {'type': 'exam', 'score': 70}], sid:13, \b\b }\n",
      "{ grades:[{'type': 'homework', 'score': 53}, {'type': 'quiz', 'score': 9}, {'type': 'exam', 'score': 84}], sid:14, \b\b }\n",
      "{ grades:[{'type': 'homework', 'score': 78}, {'type': 'exam', 'score': 75}, {'type': 'quiz', 'score': 31}], sid:15, \b\b }\n",
      "{ grades:[{'type': 'homework', 'score': 81}, {'type': 'exam', 'score': 97}, {'type': 'quiz', 'score': 80}], sid:16, \b\b }\n",
      "{ grades:[{'type': 'homework', 'score': 54}, {'type': 'exam', 'score': 92}, {'type': 'quiz', 'score': 48}], sid:17, \b\b }\n",
      "{ grades:[{'type': 'homework', 'score': 61}, {'type': 'exam', 'score': 66}, {'type': 'quiz', 'score': 80}], sid:18, \b\b }\n",
      "{ grades:[{'type': 'quiz', 'score': 44}, {'type': 'homework', 'score': 81}, {'type': 'exam', 'score': 66}], sid:19, \b\b }\n"
     ]
    }
   ],
   "source": [
    "pagination()"
   ]
  },
  {
   "cell_type": "code",
   "execution_count": 77,
   "metadata": {},
   "outputs": [
    {
     "name": "stdout",
     "output_type": "stream",
     "text": [
      "[{'_id': ObjectId('5d6c86b602ae8c2546e069fb'),\n",
      "  'grades': [{'score': 46, 'type': 'quiz'},\n",
      "             {'score': 81, 'type': 'exam'},\n",
      "             {'score': 39, 'type': 'homework'}],\n",
      "  'letter': [{'letter': 'D', 'sid': 10, 'total': 61.4}],\n",
      "  'note': 'great',\n",
      "  'sid': 10},\n",
      " {'_id': ObjectId('5d6c86b602ae8c2546e06a03'),\n",
      "  'grades': [{'score': 81, 'type': 'homework'},\n",
      "             {'score': 97, 'type': 'exam'},\n",
      "             {'score': 80, 'type': 'quiz'}],\n",
      "  'letter': [{'letter': 'B', 'sid': 16, 'total': 88.8}],\n",
      "  'note': 'good answers',\n",
      "  'sid': 16}]\n"
     ]
    }
   ],
   "source": [
    "pprint(list(grades.find({'note':{'$exists':'true'}}).limit(2)))"
   ]
  },
  {
   "cell_type": "code",
   "execution_count": 86,
   "metadata": {},
   "outputs": [],
   "source": [
    "cursor= grades.find().sort([('sid',1)])\n",
    "for item in cursor:\n",
    "    for i in range(len(item['grades'])):\n",
    "        if item['grades'][i]['type'] == 'homework':\n",
    "            homework_score = item['grades'][i]['score']\n",
    "        elif item['grades'][i]['type'] == 'quiz':\n",
    "            quiz_score = item['grades'][i]['score']\n",
    "        else:\n",
    "            exam_score = item['grades'][i]['score']\n",
    "    \n",
    "                \n",
    "        total = quiz_score*0.2 + homework_score*0.3 +exam_score *0.5 \n",
    "        \n",
    "    grades.update_one({'sid':item['sid']},{'$set':{'relative':[{'total':total,'sid':item['sid']}]}})  \n",
    "  \n"
   ]
  },
  {
   "cell_type": "code",
   "execution_count": 88,
   "metadata": {},
   "outputs": [
    {
     "name": "stdout",
     "output_type": "stream",
     "text": [
      "[{'_id': ObjectId('5d6c86b602ae8c2546e069f2'),\n",
      "  'grades': [{'score': 91, 'type': 'quiz'},\n",
      "             {'score': 13, 'type': 'homework'},\n",
      "             {'score': 76, 'type': 'exam'}],\n",
      "  'letter': [{'letter': 'D', 'sid': 2, 'total': 60.099999999999994}],\n",
      "  'relative': [{'sid': 2, 'total': 60.099999999999994}],\n",
      "  'sid': 2},\n",
      " {'_id': ObjectId('5d6c86b602ae8c2546e069f3'),\n",
      "  'grades': [{'score': 69, 'type': 'homework'},\n",
      "             {'score': 86, 'type': 'exam'},\n",
      "             {'score': 29, 'type': 'quiz'}],\n",
      "  'letter': [{'letter': 'D', 'sid': 0, 'total': 69.5}],\n",
      "  'relative': [{'sid': 0, 'total': 69.5}],\n",
      "  'sid': 0}]\n"
     ]
    }
   ],
   "source": [
    "pprint(list(grades.find().limit(2)))"
   ]
  },
  {
   "cell_type": "code",
   "execution_count": 140,
   "metadata": {},
   "outputs": [],
   "source": [
    "cursor= grades.find().sort([('sid',1)])"
   ]
  },
  {
   "cell_type": "code",
   "execution_count": 128,
   "metadata": {},
   "outputs": [
    {
     "name": "stdout",
     "output_type": "stream",
     "text": [
      "100\n"
     ]
    }
   ],
   "source": [
    "print(len(list(cursor)))"
   ]
  },
  {
   "cell_type": "code",
   "execution_count": null,
   "metadata": {},
   "outputs": [],
   "source": [
    "success_count, too_high, too_low = 0, 0, 0\n",
    "for item in collection.find():\n",
    "    have_horror = False\n",
    "    # TODO: 아래의 current_score 계산하기\n",
    "    current_score = item['score']\n",
    "\n",
    "    if 'Sci-Fi' in item['genre']:\n",
    "        current_score = current_score + 2 \n",
    "    \n",
    "    else: current_score\n",
    "    \n",
    "    if 'Horror' in item['genre']:\n",
    "        current_score = current_score - 3\n",
    "        have_horror = True\n",
    "    \n",
    "    if current_score >= 10:\n",
    "        # TODO: too_high 계산하기\n",
    "        too_high += 1\n",
    "    elif current_score <= 0:\n",
    "        # TODO: too_low 계산하기\n",
    "        too_low += 1\n",
    "    else:\n",
    "        # TODO: query를 위한 update_query 완성하기\n",
    "        update_query = {'$set': {'score': current_score} }\n",
    "        \n",
    "        if have_horror:\n",
    "            update_query['$pull'] = {'genre': 'Horror'}\n",
    "\n",
    "        try:\n",
    "            # TODO: 여기서 update 수행 및 success_count 계산\n",
    "            collection.update_one({'title': item['title']}, update_query)\n",
    "            success_count += 1\n",
    "        except Exception as e:\n",
    "            print('[INFO] Error occurred: {}'.format(e))\n",
    "                \n",
    "\n",
    "total = success_count + too_high + too_low\n",
    "print('[INFO] Success ({}/{})'.format(success_count, total))\n",
    "print('[INFO] Failed because too high score ({}/{})'.format(too_high, total))\n",
    "print('[INFO] Failed because too low score ({}/{})'.format(too_low, total))"
   ]
  },
  {
   "cell_type": "code",
   "execution_count": 141,
   "metadata": {},
   "outputs": [
    {
     "ename": "WriteError",
     "evalue": "Cannot increment with non-numeric argument: {relative: { total: 10 }}",
     "output_type": "error",
     "traceback": [
      "\u001b[1;31m---------------------------------------------------------------------------\u001b[0m",
      "\u001b[1;31mWriteError\u001b[0m                                Traceback (most recent call last)",
      "\u001b[1;32m<ipython-input-141-4735fdd24779>\u001b[0m in \u001b[0;36m<module>\u001b[1;34m\u001b[0m\n\u001b[0;32m      5\u001b[0m             \u001b[1;32mif\u001b[0m \u001b[0mexam_score\u001b[0m \u001b[1;33m==\u001b[0m \u001b[1;36m100\u001b[0m\u001b[1;33m:\u001b[0m\u001b[1;33m\u001b[0m\u001b[1;33m\u001b[0m\u001b[0m\n\u001b[0;32m      6\u001b[0m \u001b[1;33m\u001b[0m\u001b[0m\n\u001b[1;32m----> 7\u001b[1;33m                 \u001b[0mgrades\u001b[0m\u001b[1;33m.\u001b[0m\u001b[0mupdate_many\u001b[0m\u001b[1;33m(\u001b[0m\u001b[1;33m{\u001b[0m\u001b[1;33m}\u001b[0m\u001b[1;33m,\u001b[0m \u001b[1;33m{\u001b[0m\u001b[1;34m'$inc'\u001b[0m\u001b[1;33m:\u001b[0m\u001b[1;33m{\u001b[0m\u001b[1;34m'relative'\u001b[0m\u001b[1;33m:\u001b[0m\u001b[1;33m{\u001b[0m\u001b[1;34m'total'\u001b[0m\u001b[1;33m:\u001b[0m\u001b[1;36m10\u001b[0m\u001b[1;33m}\u001b[0m\u001b[1;33m}\u001b[0m\u001b[1;33m}\u001b[0m\u001b[1;33m)\u001b[0m\u001b[1;33m\u001b[0m\u001b[1;33m\u001b[0m\u001b[0m\n\u001b[0m",
      "\u001b[1;32m~\\Anaconda3\\lib\\site-packages\\pymongo\\collection.py\u001b[0m in \u001b[0;36mupdate_many\u001b[1;34m(self, filter, update, upsert, array_filters, bypass_document_validation, collation, session)\u001b[0m\n\u001b[0;32m   1070\u001b[0m                 \u001b[0mbypass_doc_val\u001b[0m\u001b[1;33m=\u001b[0m\u001b[0mbypass_document_validation\u001b[0m\u001b[1;33m,\u001b[0m\u001b[1;33m\u001b[0m\u001b[1;33m\u001b[0m\u001b[0m\n\u001b[0;32m   1071\u001b[0m                 \u001b[0mcollation\u001b[0m\u001b[1;33m=\u001b[0m\u001b[0mcollation\u001b[0m\u001b[1;33m,\u001b[0m \u001b[0marray_filters\u001b[0m\u001b[1;33m=\u001b[0m\u001b[0marray_filters\u001b[0m\u001b[1;33m,\u001b[0m\u001b[1;33m\u001b[0m\u001b[1;33m\u001b[0m\u001b[0m\n\u001b[1;32m-> 1072\u001b[1;33m                 session=session),\n\u001b[0m\u001b[0;32m   1073\u001b[0m             write_concern.acknowledged)\n\u001b[0;32m   1074\u001b[0m \u001b[1;33m\u001b[0m\u001b[0m\n",
      "\u001b[1;32m~\\Anaconda3\\lib\\site-packages\\pymongo\\collection.py\u001b[0m in \u001b[0;36m_update_retryable\u001b[1;34m(self, criteria, document, upsert, check_keys, multi, manipulate, write_concern, op_id, ordered, bypass_doc_val, collation, array_filters, session)\u001b[0m\n\u001b[0;32m    856\u001b[0m         return self.__database.client._retryable_write(\n\u001b[0;32m    857\u001b[0m             \u001b[1;33m(\u001b[0m\u001b[0mwrite_concern\u001b[0m \u001b[1;32mor\u001b[0m \u001b[0mself\u001b[0m\u001b[1;33m.\u001b[0m\u001b[0mwrite_concern\u001b[0m\u001b[1;33m)\u001b[0m\u001b[1;33m.\u001b[0m\u001b[0macknowledged\u001b[0m \u001b[1;32mand\u001b[0m \u001b[1;32mnot\u001b[0m \u001b[0mmulti\u001b[0m\u001b[1;33m,\u001b[0m\u001b[1;33m\u001b[0m\u001b[1;33m\u001b[0m\u001b[0m\n\u001b[1;32m--> 858\u001b[1;33m             _update, session)\n\u001b[0m\u001b[0;32m    859\u001b[0m \u001b[1;33m\u001b[0m\u001b[0m\n\u001b[0;32m    860\u001b[0m     def replace_one(self, filter, replacement, upsert=False,\n",
      "\u001b[1;32m~\\Anaconda3\\lib\\site-packages\\pymongo\\mongo_client.py\u001b[0m in \u001b[0;36m_retryable_write\u001b[1;34m(self, retryable, func, session)\u001b[0m\n\u001b[0;32m   1278\u001b[0m         \u001b[1;34m\"\"\"Internal retryable write helper.\"\"\"\u001b[0m\u001b[1;33m\u001b[0m\u001b[1;33m\u001b[0m\u001b[0m\n\u001b[0;32m   1279\u001b[0m         \u001b[1;32mwith\u001b[0m \u001b[0mself\u001b[0m\u001b[1;33m.\u001b[0m\u001b[0m_tmp_session\u001b[0m\u001b[1;33m(\u001b[0m\u001b[0msession\u001b[0m\u001b[1;33m)\u001b[0m \u001b[1;32mas\u001b[0m \u001b[0ms\u001b[0m\u001b[1;33m:\u001b[0m\u001b[1;33m\u001b[0m\u001b[1;33m\u001b[0m\u001b[0m\n\u001b[1;32m-> 1280\u001b[1;33m             \u001b[1;32mreturn\u001b[0m \u001b[0mself\u001b[0m\u001b[1;33m.\u001b[0m\u001b[0m_retry_with_session\u001b[0m\u001b[1;33m(\u001b[0m\u001b[0mretryable\u001b[0m\u001b[1;33m,\u001b[0m \u001b[0mfunc\u001b[0m\u001b[1;33m,\u001b[0m \u001b[0ms\u001b[0m\u001b[1;33m,\u001b[0m \u001b[1;32mNone\u001b[0m\u001b[1;33m)\u001b[0m\u001b[1;33m\u001b[0m\u001b[1;33m\u001b[0m\u001b[0m\n\u001b[0m\u001b[0;32m   1281\u001b[0m \u001b[1;33m\u001b[0m\u001b[0m\n\u001b[0;32m   1282\u001b[0m     \u001b[1;32mdef\u001b[0m \u001b[0m__reset_server\u001b[0m\u001b[1;33m(\u001b[0m\u001b[0mself\u001b[0m\u001b[1;33m,\u001b[0m \u001b[0maddress\u001b[0m\u001b[1;33m)\u001b[0m\u001b[1;33m:\u001b[0m\u001b[1;33m\u001b[0m\u001b[1;33m\u001b[0m\u001b[0m\n",
      "\u001b[1;32m~\\Anaconda3\\lib\\site-packages\\pymongo\\mongo_client.py\u001b[0m in \u001b[0;36m_retry_with_session\u001b[1;34m(self, retryable, func, session, bulk)\u001b[0m\n\u001b[0;32m   1231\u001b[0m                             \u001b[1;32mraise\u001b[0m \u001b[0mlast_error\u001b[0m\u001b[1;33m\u001b[0m\u001b[1;33m\u001b[0m\u001b[0m\n\u001b[0;32m   1232\u001b[0m                         \u001b[0mretryable\u001b[0m \u001b[1;33m=\u001b[0m \u001b[1;32mFalse\u001b[0m\u001b[1;33m\u001b[0m\u001b[1;33m\u001b[0m\u001b[0m\n\u001b[1;32m-> 1233\u001b[1;33m                     \u001b[1;32mreturn\u001b[0m \u001b[0mfunc\u001b[0m\u001b[1;33m(\u001b[0m\u001b[0msession\u001b[0m\u001b[1;33m,\u001b[0m \u001b[0msock_info\u001b[0m\u001b[1;33m,\u001b[0m \u001b[0mretryable\u001b[0m\u001b[1;33m)\u001b[0m\u001b[1;33m\u001b[0m\u001b[1;33m\u001b[0m\u001b[0m\n\u001b[0m\u001b[0;32m   1234\u001b[0m             \u001b[1;32mexcept\u001b[0m \u001b[0mServerSelectionTimeoutError\u001b[0m\u001b[1;33m:\u001b[0m\u001b[1;33m\u001b[0m\u001b[1;33m\u001b[0m\u001b[0m\n\u001b[0;32m   1235\u001b[0m                 \u001b[1;32mif\u001b[0m \u001b[0mis_retrying\u001b[0m\u001b[1;33m(\u001b[0m\u001b[1;33m)\u001b[0m\u001b[1;33m:\u001b[0m\u001b[1;33m\u001b[0m\u001b[1;33m\u001b[0m\u001b[0m\n",
      "\u001b[1;32m~\\Anaconda3\\lib\\site-packages\\pymongo\\collection.py\u001b[0m in \u001b[0;36m_update\u001b[1;34m(session, sock_info, retryable_write)\u001b[0m\n\u001b[0;32m    852\u001b[0m                 \u001b[0mbypass_doc_val\u001b[0m\u001b[1;33m=\u001b[0m\u001b[0mbypass_doc_val\u001b[0m\u001b[1;33m,\u001b[0m \u001b[0mcollation\u001b[0m\u001b[1;33m=\u001b[0m\u001b[0mcollation\u001b[0m\u001b[1;33m,\u001b[0m\u001b[1;33m\u001b[0m\u001b[1;33m\u001b[0m\u001b[0m\n\u001b[0;32m    853\u001b[0m                 \u001b[0marray_filters\u001b[0m\u001b[1;33m=\u001b[0m\u001b[0marray_filters\u001b[0m\u001b[1;33m,\u001b[0m \u001b[0msession\u001b[0m\u001b[1;33m=\u001b[0m\u001b[0msession\u001b[0m\u001b[1;33m,\u001b[0m\u001b[1;33m\u001b[0m\u001b[1;33m\u001b[0m\u001b[0m\n\u001b[1;32m--> 854\u001b[1;33m                 retryable_write=retryable_write)\n\u001b[0m\u001b[0;32m    855\u001b[0m \u001b[1;33m\u001b[0m\u001b[0m\n\u001b[0;32m    856\u001b[0m         return self.__database.client._retryable_write(\n",
      "\u001b[1;32m~\\Anaconda3\\lib\\site-packages\\pymongo\\collection.py\u001b[0m in \u001b[0;36m_update\u001b[1;34m(self, sock_info, criteria, document, upsert, check_keys, multi, manipulate, write_concern, op_id, ordered, bypass_doc_val, collation, array_filters, session, retryable_write)\u001b[0m\n\u001b[0;32m    823\u001b[0m             \u001b[0mclient\u001b[0m\u001b[1;33m=\u001b[0m\u001b[0mself\u001b[0m\u001b[1;33m.\u001b[0m\u001b[0m__database\u001b[0m\u001b[1;33m.\u001b[0m\u001b[0mclient\u001b[0m\u001b[1;33m,\u001b[0m\u001b[1;33m\u001b[0m\u001b[1;33m\u001b[0m\u001b[0m\n\u001b[0;32m    824\u001b[0m             retryable_write=retryable_write).copy()\n\u001b[1;32m--> 825\u001b[1;33m         \u001b[0m_check_write_command_response\u001b[0m\u001b[1;33m(\u001b[0m\u001b[0mresult\u001b[0m\u001b[1;33m)\u001b[0m\u001b[1;33m\u001b[0m\u001b[1;33m\u001b[0m\u001b[0m\n\u001b[0m\u001b[0;32m    826\u001b[0m         \u001b[1;31m# Add the updatedExisting field for compatibility.\u001b[0m\u001b[1;33m\u001b[0m\u001b[1;33m\u001b[0m\u001b[1;33m\u001b[0m\u001b[0m\n\u001b[0;32m    827\u001b[0m         \u001b[1;32mif\u001b[0m \u001b[0mresult\u001b[0m\u001b[1;33m.\u001b[0m\u001b[0mget\u001b[0m\u001b[1;33m(\u001b[0m\u001b[1;34m'n'\u001b[0m\u001b[1;33m)\u001b[0m \u001b[1;32mand\u001b[0m \u001b[1;34m'upserted'\u001b[0m \u001b[1;32mnot\u001b[0m \u001b[1;32min\u001b[0m \u001b[0mresult\u001b[0m\u001b[1;33m:\u001b[0m\u001b[1;33m\u001b[0m\u001b[1;33m\u001b[0m\u001b[0m\n",
      "\u001b[1;32m~\\Anaconda3\\lib\\site-packages\\pymongo\\helpers.py\u001b[0m in \u001b[0;36m_check_write_command_response\u001b[1;34m(result)\u001b[0m\n\u001b[0;32m    215\u001b[0m     \u001b[0mwrite_errors\u001b[0m \u001b[1;33m=\u001b[0m \u001b[0mresult\u001b[0m\u001b[1;33m.\u001b[0m\u001b[0mget\u001b[0m\u001b[1;33m(\u001b[0m\u001b[1;34m\"writeErrors\"\u001b[0m\u001b[1;33m)\u001b[0m\u001b[1;33m\u001b[0m\u001b[1;33m\u001b[0m\u001b[0m\n\u001b[0;32m    216\u001b[0m     \u001b[1;32mif\u001b[0m \u001b[0mwrite_errors\u001b[0m\u001b[1;33m:\u001b[0m\u001b[1;33m\u001b[0m\u001b[1;33m\u001b[0m\u001b[0m\n\u001b[1;32m--> 217\u001b[1;33m         \u001b[0m_raise_last_write_error\u001b[0m\u001b[1;33m(\u001b[0m\u001b[0mwrite_errors\u001b[0m\u001b[1;33m)\u001b[0m\u001b[1;33m\u001b[0m\u001b[1;33m\u001b[0m\u001b[0m\n\u001b[0m\u001b[0;32m    218\u001b[0m \u001b[1;33m\u001b[0m\u001b[0m\n\u001b[0;32m    219\u001b[0m     \u001b[0merror\u001b[0m \u001b[1;33m=\u001b[0m \u001b[0mresult\u001b[0m\u001b[1;33m.\u001b[0m\u001b[0mget\u001b[0m\u001b[1;33m(\u001b[0m\u001b[1;34m\"writeConcernError\"\u001b[0m\u001b[1;33m)\u001b[0m\u001b[1;33m\u001b[0m\u001b[1;33m\u001b[0m\u001b[0m\n",
      "\u001b[1;32m~\\Anaconda3\\lib\\site-packages\\pymongo\\helpers.py\u001b[0m in \u001b[0;36m_raise_last_write_error\u001b[1;34m(write_errors)\u001b[0m\n\u001b[0;32m    197\u001b[0m     \u001b[1;32mif\u001b[0m \u001b[0merror\u001b[0m\u001b[1;33m.\u001b[0m\u001b[0mget\u001b[0m\u001b[1;33m(\u001b[0m\u001b[1;34m\"code\"\u001b[0m\u001b[1;33m)\u001b[0m \u001b[1;33m==\u001b[0m \u001b[1;36m11000\u001b[0m\u001b[1;33m:\u001b[0m\u001b[1;33m\u001b[0m\u001b[1;33m\u001b[0m\u001b[0m\n\u001b[0;32m    198\u001b[0m         \u001b[1;32mraise\u001b[0m \u001b[0mDuplicateKeyError\u001b[0m\u001b[1;33m(\u001b[0m\u001b[0merror\u001b[0m\u001b[1;33m.\u001b[0m\u001b[0mget\u001b[0m\u001b[1;33m(\u001b[0m\u001b[1;34m\"errmsg\"\u001b[0m\u001b[1;33m)\u001b[0m\u001b[1;33m,\u001b[0m \u001b[1;36m11000\u001b[0m\u001b[1;33m,\u001b[0m \u001b[0merror\u001b[0m\u001b[1;33m)\u001b[0m\u001b[1;33m\u001b[0m\u001b[1;33m\u001b[0m\u001b[0m\n\u001b[1;32m--> 199\u001b[1;33m     \u001b[1;32mraise\u001b[0m \u001b[0mWriteError\u001b[0m\u001b[1;33m(\u001b[0m\u001b[0merror\u001b[0m\u001b[1;33m.\u001b[0m\u001b[0mget\u001b[0m\u001b[1;33m(\u001b[0m\u001b[1;34m\"errmsg\"\u001b[0m\u001b[1;33m)\u001b[0m\u001b[1;33m,\u001b[0m \u001b[0merror\u001b[0m\u001b[1;33m.\u001b[0m\u001b[0mget\u001b[0m\u001b[1;33m(\u001b[0m\u001b[1;34m\"code\"\u001b[0m\u001b[1;33m)\u001b[0m\u001b[1;33m,\u001b[0m \u001b[0merror\u001b[0m\u001b[1;33m)\u001b[0m\u001b[1;33m\u001b[0m\u001b[1;33m\u001b[0m\u001b[0m\n\u001b[0m\u001b[0;32m    200\u001b[0m \u001b[1;33m\u001b[0m\u001b[0m\n\u001b[0;32m    201\u001b[0m \u001b[1;33m\u001b[0m\u001b[0m\n",
      "\u001b[1;31mWriteError\u001b[0m: Cannot increment with non-numeric argument: {relative: { total: 10 }}"
     ]
    }
   ],
   "source": [
    "for item in cursor:\n",
    "    for i in range(len(item['grades'])):\n",
    "        if item['grades'][i]['type'] == 'exam':\n",
    "            exam_score = item['grades'][i]['score']\n",
    "            if exam_score == 100:\n",
    "                \n",
    "                grades.update_many({}, {'$inc':{'relative':{'total':10}}})"
   ]
  },
  {
   "cell_type": "code",
   "execution_count": null,
   "metadata": {},
   "outputs": [],
   "source": [
    "\n",
    "   \n",
    " pprint(list(people.find({'$or':[{'name':'Lee'},{'name':'Park'}]})))   \n",
    "    \n",
    "        if total >= 90:\n",
    "            letter = 'A'\n",
    "        elif total >= 80:\n",
    "            letter = 'B'\n",
    "        elif total >= 70:\n",
    "            letter = 'C'\n",
    "        elif total >= 60:\n",
    "            letter = 'D'\n",
    "        else:\n",
    "            letter = 'F'"
   ]
  }
 ],
 "metadata": {
  "kernelspec": {
   "display_name": "Python 3",
   "language": "python",
   "name": "python3"
  },
  "language_info": {
   "codemirror_mode": {
    "name": "ipython",
    "version": 3
   },
   "file_extension": ".py",
   "mimetype": "text/x-python",
   "name": "python",
   "nbconvert_exporter": "python",
   "pygments_lexer": "ipython3",
   "version": "3.7.3"
  }
 },
 "nbformat": 4,
 "nbformat_minor": 2
}
